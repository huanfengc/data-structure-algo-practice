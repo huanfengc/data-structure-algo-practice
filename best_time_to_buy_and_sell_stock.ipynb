{
 "cells": [
  {
   "cell_type": "markdown",
   "id": "e0ba9e53",
   "metadata": {},
   "source": [
    "## Best Time to Buy and Sell Stock\n",
    "\n",
    "You are given an array ```prices``` where ```prices[i]``` is the price of a given stock on the ```ith``` day.\n",
    "\n",
    "You want to maximize your profit by choosing a **single day** to buy one stock and choosing a **different day in the future** to sell that stock.\n",
    "\n",
    "Return the maximum profit you can achieve from this transaction. If you cannot achieve any profit, return 0."
   ]
  }
 ],
 "metadata": {
  "kernelspec": {
   "display_name": "Python 3 (ipykernel)",
   "language": "python",
   "name": "python3"
  },
  "language_info": {
   "codemirror_mode": {
    "name": "ipython",
    "version": 3
   },
   "file_extension": ".py",
   "mimetype": "text/x-python",
   "name": "python",
   "nbconvert_exporter": "python",
   "pygments_lexer": "ipython3",
   "version": "3.7.3"
  }
 },
 "nbformat": 4,
 "nbformat_minor": 5
}
