{
 "cells": [
  {
   "cell_type": "markdown",
   "id": "95fb1b09",
   "metadata": {},
   "source": [
    "## 01 Matrix [problem](https://leetcode.com/problems/01-matrix/)\n",
    "\n",
    "Given an ```m x n``` binary matrix ```mat```, return the distance of the nearest ```0``` for each cell.\n",
    "\n",
    "The distance between two adjacent cells is ```1```.\n",
    "\n",
    "**Constraints:**\n",
    "\n",
    "* ```m == mat.length```\n",
    "* ```n == mat[i].length```\n",
    "* ```1 <= m, n <= 10^4```\n",
    "* ```1 <= m * n <= 10^4```\n",
    "* ```mat[i][j]``` is either ```0``` or ```1```.\n",
    "* There is at least one ```0``` in mat."
   ]
  },
  {
   "cell_type": "markdown",
   "id": "33006d26",
   "metadata": {},
   "source": [
    "### 1. BFS (start from all 0s)\n",
    "time complexity: $O(M\\times N)$, nested ```for```-loop and BFS for each element in ```queue```; space complexity: $O(M\\times N)$ for ```queue```. Here, $M$ and $N$ are numbers of rows and columns of matrix."
   ]
  },
  {
   "cell_type": "code",
   "execution_count": 1,
   "id": "6f1b7db3",
   "metadata": {},
   "outputs": [],
   "source": [
    "def updateMatrix(mat):\n",
    "    \"\"\"\n",
    "    input:\n",
    "    mat: list[list[int]]\n",
    "    \n",
    "    return:\n",
    "    dist: list[list[int]] (distance to 0 of each node)\n",
    "    \"\"\"\n",
    "\n",
    "    m, n = len(mat), len(mat[0])\n",
    "    queue = deque()\n",
    "    dist = []\n",
    "    directions = ((1,0), (-1,0), (0,1), (0,-1))\n",
    "\n",
    "    for i in range(m):\n",
    "        dist.append([])\n",
    "        for j in range(n):\n",
    "            if mat[i][j] == 0:\n",
    "                dist[i].append(0)\n",
    "                queue.append((i, j))\n",
    "            elif mat[i][j] == 1:\n",
    "                dist[i].append(float('inf'))\n",
    "\n",
    "    while queue:\n",
    "        x, y = queue.popleft()\n",
    "        for dx, dy in directions:\n",
    "            row = x + dx\n",
    "            col = y + dy\n",
    "            if 0 <= row < m and 0 <= col < n and mat[row][col] == 1:\n",
    "                if dist[row][col] > dist[x][y] + 1:\n",
    "                    dist[row][col] = dist[x][y] + 1\n",
    "                    queue.append((row,col))\n",
    "\n",
    "    return dist"
   ]
  }
 ],
 "metadata": {
  "kernelspec": {
   "display_name": "Python 3 (ipykernel)",
   "language": "python",
   "name": "python3"
  },
  "language_info": {
   "codemirror_mode": {
    "name": "ipython",
    "version": 3
   },
   "file_extension": ".py",
   "mimetype": "text/x-python",
   "name": "python",
   "nbconvert_exporter": "python",
   "pygments_lexer": "ipython3",
   "version": "3.7.3"
  }
 },
 "nbformat": 4,
 "nbformat_minor": 5
}
