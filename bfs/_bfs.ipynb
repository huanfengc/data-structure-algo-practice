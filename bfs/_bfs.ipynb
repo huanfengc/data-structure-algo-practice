{
 "cells": [
  {
   "cell_type": "markdown",
   "id": "cd947402",
   "metadata": {},
   "source": [
    "## Breadth First Search\n",
    "\n",
    "### Using Queue [example](https://leetcode.com/explore/learn/card/queue-stack/231/practical-application-queue/1372/)"
   ]
  },
  {
   "cell_type": "code",
   "execution_count": null,
   "id": "8587f4b3",
   "metadata": {},
   "outputs": [],
   "source": []
  }
 ],
 "metadata": {
  "kernelspec": {
   "display_name": "Python 3 (ipykernel)",
   "language": "python",
   "name": "python3"
  },
  "language_info": {
   "codemirror_mode": {
    "name": "ipython",
    "version": 3
   },
   "file_extension": ".py",
   "mimetype": "text/x-python",
   "name": "python",
   "nbconvert_exporter": "python",
   "pygments_lexer": "ipython3",
   "version": "3.7.3"
  }
 },
 "nbformat": 4,
 "nbformat_minor": 5
}
