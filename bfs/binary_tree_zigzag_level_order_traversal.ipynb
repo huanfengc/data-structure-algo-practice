{
 "cells": [
  {
   "cell_type": "markdown",
   "id": "aa7ad997",
   "metadata": {},
   "source": [
    "## Binary Tree Zigzag Level Order Traversal [problem](https://leetcode.com/problems/binary-tree-zigzag-level-order-traversal/)\n",
    "\n",
    "**Very similar with [#102](https://leetcode.com/problems/binary-tree-level-order-traversal/), except that the tracersing (actually not traversing, but storing the result) order is different**\n",
    "\n",
    "Given the ```root``` of a binary tree, return the zigzag level order traversal of its nodes' values. (i.e., from left to right, then right to left for the next level and alternate between).\n",
    "\n",
    "**Constraints:**\n",
    "\n",
    "* The number of nodes in the tree is in the range ```[0, 2000]```.\n",
    "* ```-100 <= Node.val <= 100```"
   ]
  },
  {
   "cell_type": "markdown",
   "id": "077a5a54",
   "metadata": {},
   "source": [
    "### 1. BFS (using two deques)\n",
    "time complexity: $O(N)$; space complexity: $O(N)$, the worst case is to store all leaf nodes into a deque where the total number is approximately $N/2$."
   ]
  },
  {
   "cell_type": "code",
   "execution_count": 1,
   "id": "6c36cb9f",
   "metadata": {},
   "outputs": [],
   "source": [
    "# Definition for a binary tree node.\n",
    "# class TreeNode:\n",
    "#     def __init__(self, val=0, left=None, right=None):\n",
    "#         self.val = val\n",
    "#         self.left = left\n",
    "#         self.right = right\n",
    "\n",
    "def zigzagLevelOrder(root) -> list:\n",
    "    levels = []\n",
    "    if not root:\n",
    "        return levels\n",
    "\n",
    "    queue = deque()\n",
    "    queue.append(root)\n",
    "    is_left_order = True\n",
    "\n",
    "    while queue:\n",
    "        # using deque to store the result of one level\n",
    "        level_list = deque()\n",
    "        capacity = len(queue)\n",
    "\n",
    "        while capacity > 0:\n",
    "            curr = queue.popleft()\n",
    "            if is_left_order:\n",
    "                level_list.append(curr.val)\n",
    "            else:\n",
    "                level_list.appendleft(curr.val)\n",
    "\n",
    "            if curr.left:\n",
    "                queue.append(curr.left)\n",
    "            if curr.right:\n",
    "                queue.append(curr.right)\n",
    "            capacity -= 1\n",
    "\n",
    "        # after finishing one level, store the result of that level and change the order marker\n",
    "        levels.append(level_list)\n",
    "        is_left_order = not is_left_order\n",
    "\n",
    "    return levels"
   ]
  },
  {
   "cell_type": "markdown",
   "id": "a923909c",
   "metadata": {},
   "source": [
    "### 2. DFS"
   ]
  },
  {
   "cell_type": "code",
   "execution_count": null,
   "id": "547ad69d",
   "metadata": {},
   "outputs": [],
   "source": []
  }
 ],
 "metadata": {
  "kernelspec": {
   "display_name": "Python 3 (ipykernel)",
   "language": "python",
   "name": "python3"
  },
  "language_info": {
   "codemirror_mode": {
    "name": "ipython",
    "version": 3
   },
   "file_extension": ".py",
   "mimetype": "text/x-python",
   "name": "python",
   "nbconvert_exporter": "python",
   "pygments_lexer": "ipython3",
   "version": "3.7.3"
  }
 },
 "nbformat": 4,
 "nbformat_minor": 5
}
