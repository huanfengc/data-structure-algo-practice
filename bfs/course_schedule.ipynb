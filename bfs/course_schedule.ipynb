{
 "cells": [
  {
   "cell_type": "markdown",
   "id": "4a7272a3",
   "metadata": {},
   "source": [
    "## 207. Course Schedule [problem](https://leetcode.com/problems/course-schedule/)\n",
    "\n",
    "There are a total of ```numCourses``` courses you have to take, labeled from ```0``` to ```numCourses - 1```. You are given an array prerequisites where ```prerequisites[i] = [ai, bi]``` indicates that you must take course ```bi``` first if you want to take course ```ai```.\n",
    "\n",
    "* For example, the pair ```[0, 1]```, indicates that to take course ```0``` you have to first take course ```1```.\n",
    "\n",
    "Return ```true``` if you can finish all courses. Otherwise, return ```false```.\n",
    "\n",
    "---\n",
    "\n",
    "**Constraints:**\n",
    "\n",
    "* ```1 <= numCourses <= 2000```\n",
    "* ```0 <= prerequisites.length <= 5000```\n",
    "* ```prerequisites[i].length == 2```\n",
    "* ```0 <= ai, bi < numCourses```\n",
    "* All the pairs ```prerequisites[i]``` are unique."
   ]
  },
  {
   "cell_type": "markdown",
   "id": "fd56dad4",
   "metadata": {},
   "source": [
    "### 1. Topological sort\n",
    "* Time complexity: $O(V+E)$, $V$ and $E$ are numbers of vertex and edges.\n",
    "* Space complexity: $O(V+E)$"
   ]
  },
  {
   "cell_type": "code",
   "execution_count": 1,
   "id": "0b0e6254",
   "metadata": {},
   "outputs": [],
   "source": [
    "from typing import List\n",
    "\n",
    "class courseNode:\n",
    "    \"\"\"\n",
    "    class of course in the course map (vertex in the graph)\n",
    "        indegree: number of prerequisites\n",
    "        outnodes: a list of next courses whose prerequisites include current course\n",
    "    \"\"\"\n",
    "    \n",
    "    def __init__(self):\n",
    "        self.indegree = 0\n",
    "        self.outnodes = []\n",
    "\n",
    "        \n",
    "class Solution1:\n",
    "    def canFinish1(self, numCourses: int, prerequisites: List[List[int]]) -> bool:\n",
    "        \"\"\"\n",
    "        Args:\n",
    "            numCourses: number of courses\n",
    "            prereuisites: a list of lists [ai, bi] where bi is prerequisite of ai\n",
    "            \n",
    "        Return:\n",
    "            True if can finish all courses, otherwise, False\n",
    "        \"\"\"\n",
    "        \n",
    "        total_dependence = len(prerequisites)\n",
    "        # key: index (course id), value: courseNode\n",
    "        course_map = defaultdict(courseNode) \n",
    "        for nextcourse, prevcourse in prerequisites: # O(E)\n",
    "            course_map[nextcourse].indegree += 1\n",
    "            course_map[prevcourse].outnodes.append(nextcourse)\n",
    "        \n",
    "        queue = deque()\n",
    "        # start from all the courses without prerequisites\n",
    "        for course_id, course_node in course_map.items(): # O(E)\n",
    "            if course_node.indegree == 0:\n",
    "                queue.append(course_id)\n",
    "        \n",
    "        removed_dependence = 0\n",
    "        while queue:\n",
    "            course = queue.popleft()\n",
    "            for nextcourse in course_map[course].outnodes: # O(V+E)\n",
    "                course_map[nextcourse].indegree -= 1 # remove the edges in the graph\n",
    "                removed_dependence += 1 # count the number of removed edges\n",
    "                if course_map[nextcourse].indegree == 0: # restart from other courses without prerequisites\n",
    "                    queue.append(nextcourse)\n",
    "        \n",
    "        return True if total_dependence == removed_dependence else False"
   ]
  },
  {
   "cell_type": "markdown",
   "id": "dffcabeb",
   "metadata": {},
   "source": [
    "### 2. Postorder DFS\n",
    "* Time complexity:\n",
    "* Space complexity:"
   ]
  },
  {
   "cell_type": "code",
   "execution_count": null,
   "id": "19e35e44",
   "metadata": {},
   "outputs": [],
   "source": []
  }
 ],
 "metadata": {
  "kernelspec": {
   "display_name": "Python 3 (ipykernel)",
   "language": "python",
   "name": "python3"
  },
  "language_info": {
   "codemirror_mode": {
    "name": "ipython",
    "version": 3
   },
   "file_extension": ".py",
   "mimetype": "text/x-python",
   "name": "python",
   "nbconvert_exporter": "python",
   "pygments_lexer": "ipython3",
   "version": "3.7.3"
  }
 },
 "nbformat": 4,
 "nbformat_minor": 5
}
