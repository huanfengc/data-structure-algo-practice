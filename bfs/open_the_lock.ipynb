{
 "cells": [
  {
   "cell_type": "markdown",
   "id": "914ebe87",
   "metadata": {},
   "source": [
    "## Open the Lock [problem](https://leetcode.com/problems/open-the-lock/)\n",
    "\n",
    "You have a lock in front of you with ```4``` circular wheels. Each wheel has 10 slots: ```'0', '1', '2', '3', '4', '5', '6', '7', '8', '9'```. The wheels can rotate freely and wrap around: for example we can turn ```'9'``` to be ```'0'```, or ```'0'``` to be ```'9'```. Each move consists of turning one wheel one slot.\n",
    "\n",
    "The lock initially starts at ```'0000'```, a string representing the state of the ```4``` wheels.\n",
    "\n",
    "You are given a list of deadends dead ends, meaning if the lock displays any of these codes, the wheels of the lock will stop turning and you will be unable to open it.\n",
    "\n",
    "Given a ```target``` representing the value of the wheels that will unlock the lock, return the minimum total number of turns required to open the lock, or ```-1``` if it is impossible.\n",
    "\n",
    "\n",
    "**Constraints:**\n",
    "\n",
    "* ```1 <= deadends.length <= 500```\n",
    "* ```deadends[i].length == 4```\n",
    "* ```target.length == 4```\n",
    "* ```target``` will not be in the list deadends.\n",
    "* ```target``` and ```deadends[i]``` consist of digits only."
   ]
  },
  {
   "cell_type": "markdown",
   "id": "232142aa",
   "metadata": {},
   "source": [
    "### 1. BFS and Hashset\n",
    "time complexity: $O(N^2 \\times A^N+D)$, $D$ is number of deadends, the others see the comments in the code; space complexity: $O(A^N+D)$, for ```queue``` and ```dead```.\n",
    "\n",
    "**```neighbors``` is a function returning a [generator](https://stackoverflow.com/questions/10617045/how-to-create-a-fix-size-list-in-python).**"
   ]
  },
  {
   "cell_type": "code",
   "execution_count": 1,
   "id": "661309fe",
   "metadata": {},
   "outputs": [],
   "source": [
    "def openLock(deadends: list, target: str) -> int:\n",
    "\n",
    "    # O(N^2), N is number of circular wheels.\n",
    "    def neighbors(node): \n",
    "        for i in range(4):\n",
    "            x = int(node[i])\n",
    "            for j in (-1, 1):\n",
    "                y = (x+j) % 10\n",
    "                # use generator\n",
    "                # substring operator takes O(N).\n",
    "                yield node[:i] + str(y) + node[i+1:]\n",
    "                \n",
    "\n",
    "    queue = deque()\n",
    "    queue.append(('0000', 0)) # tuple to store number and depth\n",
    "    seen = {'0000'} # hashset to store visited node (number)\n",
    "    dead = set(deadends) # set of deadends\n",
    "\n",
    "    # total number of combinations of dials is A^N, \n",
    "    # A is number of alphabet (here is 10).\n",
    "    while queue: \n",
    "        num, depth = queue.popleft()\n",
    "        if num == target:\n",
    "            return depth\n",
    "        if num in dead:\n",
    "            continue\n",
    "        for n in neighbors(num): # neighbors is a function returning a generator\n",
    "            if n not in seen:\n",
    "                seen.add(n)\n",
    "                queue.append((n, depth+1))\n",
    "    return -1"
   ]
  }
 ],
 "metadata": {
  "kernelspec": {
   "display_name": "Python 3 (ipykernel)",
   "language": "python",
   "name": "python3"
  },
  "language_info": {
   "codemirror_mode": {
    "name": "ipython",
    "version": 3
   },
   "file_extension": ".py",
   "mimetype": "text/x-python",
   "name": "python",
   "nbconvert_exporter": "python",
   "pygments_lexer": "ipython3",
   "version": "3.7.3"
  }
 },
 "nbformat": 4,
 "nbformat_minor": 5
}
