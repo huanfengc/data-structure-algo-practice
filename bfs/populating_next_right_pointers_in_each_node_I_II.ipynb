{
 "cells": [
  {
   "cell_type": "markdown",
   "id": "19a3137f",
   "metadata": {},
   "source": [
    "## 116. Populating Next Right Pointers in Each Node [problem](https://leetcode.com/problems/populating-next-right-pointers-in-each-node/)\n",
    "\n",
    "**Similar problems: [117. Populating Next Right Pointers in Each Node II](https://leetcode.com/problems/populating-next-right-pointers-in-each-node-ii/), difference is that in No.117 the binary tree is not necessarily a perfect binary tree.**\n",
    "\n",
    "---\n",
    "\n",
    "You are given a perfect binary tree where all leaves are on the same level, and every parent has two children. The binary tree has the following definition:\n",
    "\n",
    "```\n",
    "  struct Node {\n",
    "  int val;\n",
    "  Node *left;\n",
    "  Node *right;\n",
    "  Node *next;\n",
    "}\n",
    "```\n",
    "\n",
    "Populate each next pointer to point to its next right node. If there is no next right node, the next pointer should be set to ```NULL```.\n",
    "\n",
    "Initially, all next pointers are set to ```NULL```.\n",
    "\n",
    "---\n",
    "\n",
    "**Constraints:**\n",
    "\n",
    "* The number of nodes in the tree is in the range ```[0, 212 - 1]```.\n",
    "* ```-1000 <= Node.val <= 1000```\n",
    "\n",
    "---\n",
    "\n",
    "**Follow-up:**\n",
    "\n",
    "* **You may only use constant extra space.**\n",
    "* The recursive approach is fine. You may assume implicit stack space does not count as extra space for this problem.\n",
    "\n",
    "---"
   ]
  },
  {
   "cell_type": "markdown",
   "id": "e8cec498",
   "metadata": {},
   "source": [
    "### 1. BFS (level-by-level traversal)\n",
    "* Time complexity: $O(N)$, $N$ is the number of nodes in the tree.\n",
    "* Space complexity: $O(N)$, the last level has $N/2$ nodes due to the condition that it is a perfect BT."
   ]
  },
  {
   "cell_type": "code",
   "execution_count": 1,
   "id": "cda732c4",
   "metadata": {},
   "outputs": [],
   "source": [
    "\"\"\"\n",
    "# Definition for a Node.\n",
    "class Node:\n",
    "    def __init__(self, val: int = 0, left: 'Node' = None, right: 'Node' = None, next: 'Node' = None):\n",
    "        self.val = val\n",
    "        self.left = left\n",
    "        self.right = right\n",
    "        self.next = next\n",
    "\"\"\"\n",
    "\n",
    "class Solution1:\n",
    "    def connect(self, root: 'Optional[Node]') -> 'Optional[Node]':\n",
    "        \"\"\"\n",
    "        Args:\n",
    "            root: a node of binary tree\n",
    "        \n",
    "        Return:\n",
    "            the same tree but all nodes have their next pointers connected accordingly\n",
    "        \"\"\"\n",
    "        \n",
    "        if not root:\n",
    "            return None\n",
    "        \n",
    "        queue = deque()\n",
    "        queue.append(root)\n",
    "        \n",
    "        while queue:\n",
    "            n = len(queue)\n",
    "            \n",
    "            # manipulate right pointers of the nodes at the same level at the same time\n",
    "            for i in range(n):\n",
    "                node = queue.popleft()\n",
    "                if i < n - 1:\n",
    "                    node.next = queue[0]\n",
    "                if node.left:\n",
    "                    queue.append(node.left)\n",
    "                if node.right:\n",
    "                    queue.append(node.right)\n",
    "        return root"
   ]
  },
  {
   "cell_type": "markdown",
   "id": "9e4a2472",
   "metadata": {},
   "source": [
    "### 2. Method using constant extra space\n",
    "* Time complexity: $O(N)$\n",
    "* Space complexity: $O(1)$\n",
    "\n",
    "**Key point: treat each level as a linked list whose head is the leftmost node.**"
   ]
  },
  {
   "cell_type": "code",
   "execution_count": 2,
   "id": "c6671c42",
   "metadata": {},
   "outputs": [],
   "source": [
    "class Solution2:\n",
    "    def connect(self, root: 'Optional[Node]') -> 'Optional[Node]':\n",
    "        \n",
    "        if not root:\n",
    "            return root\n",
    "        \n",
    "        leftmost = root\n",
    "        \n",
    "        while leftmost.left:\n",
    "            head = leftmost\n",
    "            while head:\n",
    "                head.left.next = head.right\n",
    "                if head.next:\n",
    "                    head.right.next = head.next.left\n",
    "                head = head.next\n",
    "            leftmost = leftmost.left\n",
    "        return root"
   ]
  },
  {
   "cell_type": "markdown",
   "id": "df3703e4",
   "metadata": {},
   "source": [
    "### 3. How about it is not a perfect binary tree? How to adjust method 2 to still only use constance space?\n",
    "* Time complexity: $O(N)$\n",
    "* Space complexity: $O(1)$\n",
    "\n",
    "[use previously established next pointers](https://leetcode.com/problems/populating-next-right-pointers-in-each-node-ii/solution/)"
   ]
  },
  {
   "cell_type": "code",
   "execution_count": null,
   "id": "ce6f12da",
   "metadata": {},
   "outputs": [],
   "source": []
  }
 ],
 "metadata": {
  "kernelspec": {
   "display_name": "Python 3 (ipykernel)",
   "language": "python",
   "name": "python3"
  },
  "language_info": {
   "codemirror_mode": {
    "name": "ipython",
    "version": 3
   },
   "file_extension": ".py",
   "mimetype": "text/x-python",
   "name": "python",
   "nbconvert_exporter": "python",
   "pygments_lexer": "ipython3",
   "version": "3.7.3"
  }
 },
 "nbformat": 4,
 "nbformat_minor": 5
}
