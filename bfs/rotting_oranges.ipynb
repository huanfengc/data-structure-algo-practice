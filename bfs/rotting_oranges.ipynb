{
 "cells": [
  {
   "cell_type": "markdown",
   "id": "1a1b7172",
   "metadata": {},
   "source": [
    "## 994. Rotting Oranges [problem](https://leetcode.com/problems/rotting-oranges/)\n",
    "\n",
    "You are given an ```m x n``` grid where each cell can have one of three values:\n",
    "\n",
    "* ```0``` representing an empty cell,\n",
    "* ```1``` representing a fresh orange, or\n",
    "* ```2``` representing a rotten orange.\n",
    "\n",
    "Every minute, any fresh orange that is ```4```-directionally adjacent to a rotten orange becomes rotten.\n",
    "\n",
    "Return the minimum number of minutes that must elapse until no cell has a fresh orange. If this is impossible, return ```-1```.\n",
    "\n",
    "---\n",
    "\n",
    "**Constraints:**\n",
    "\n",
    "* ```m == grid.length```\n",
    "* ```n == grid[i].length```\n",
    "* ```1 <= m, n <= 10```\n",
    "* ```grid[i][j]``` is ```0```, ```1```, or ```2```."
   ]
  },
  {
   "cell_type": "markdown",
   "id": "c1d0cdf6",
   "metadata": {},
   "source": [
    "### 1. BFS (use queue)\n",
    "* Time complexity: $O(M\\times N)$, $M$ and $N$ are numbers of rows and columns of grid.\n",
    "* Space complexity: $O(M\\times N)$ (the worst case if that grid is full of rotten oranges). \n",
    "\n",
    "**Typically, when dealing with a tree (instead of the case here), BFS takes space complexity depending on the width of tree, since at most two layers of tree would be in the queue.**"
   ]
  },
  {
   "cell_type": "code",
   "execution_count": 1,
   "id": "3d60c577",
   "metadata": {},
   "outputs": [],
   "source": [
    "from typing import List\n",
    "\n",
    "def orangesRotting(self, grid: List[List[int]]) -> int:\n",
    "    \"\"\"\n",
    "    Args:\n",
    "        grid: a matrix whose elements can be 0, 1 or 2\n",
    "    \n",
    "    Return:\n",
    "        elapsed time needed for all 1s turning 2s (oranges are all rotten)\n",
    "    \"\"\"\n",
    "\n",
    "    rows, cols = len(grid), len(grid[0])\n",
    "    queue = deque()\n",
    "    fresh = 0\n",
    "\n",
    "    for i in range(rows):\n",
    "        for j in range(cols):\n",
    "            if grid[i][j] == 2:\n",
    "                queue.append((i, j))\n",
    "            if grid[i][j] == 1:\n",
    "                fresh += 1\n",
    "\n",
    "    time = -1 # since in the while-loop we need to deque at first\n",
    "    queue.append((-1, -1)) # mark a round of being rotten\n",
    "    directions = {(1, 0), (-1, 0), (0,  1), (0, -1)}\n",
    "\n",
    "    while queue:\n",
    "        x, y = queue.popleft()\n",
    "        if x == -1:\n",
    "            time += 1\n",
    "            if queue:\n",
    "                queue.append((-1, -1))\n",
    "        else:\n",
    "            for dx, dy in directions:\n",
    "                cx, cy = x + dx, y + dy\n",
    "                if 0 <= cx < rows and 0 <= cy < cols:\n",
    "                    if grid[cx][cy] == 1:\n",
    "                        grid[cx][cy] = 2 # be careful, assignment is '='\n",
    "                        fresh -= 1\n",
    "                        queue.append((cx, cy))    \n",
    "                        \n",
    "    return time if fresh == 0 else -1"
   ]
  }
 ],
 "metadata": {
  "kernelspec": {
   "display_name": "Python 3 (ipykernel)",
   "language": "python",
   "name": "python3"
  },
  "language_info": {
   "codemirror_mode": {
    "name": "ipython",
    "version": 3
   },
   "file_extension": ".py",
   "mimetype": "text/x-python",
   "name": "python",
   "nbconvert_exporter": "python",
   "pygments_lexer": "ipython3",
   "version": "3.7.3"
  }
 },
 "nbformat": 4,
 "nbformat_minor": 5
}
