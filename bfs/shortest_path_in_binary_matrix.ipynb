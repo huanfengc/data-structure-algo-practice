{
 "cells": [
  {
   "cell_type": "markdown",
   "id": "8436403e",
   "metadata": {},
   "source": [
    "## Shortest Path in Binary Matrix [problem](https://leetcode.com/problems/shortest-path-in-binary-matrix/)\n",
    "\n",
    "Given an ```n x n``` binary matrix grid, return the length of the shortest clear path in the matrix. If there is no clear path, return ```-1```.\n",
    "\n",
    "A clear path in a binary matrix is a path from the top-left cell (i.e., ```(0, 0)```) to the bottom-right cell (i.e., ```(n - 1, n - 1)```) such that:\n",
    "\n",
    "* All the visited cells of the path are ```0```.\n",
    "* All the adjacent cells of the path are ```8```-directionally connected (i.e., they are different and they share an edge or a corner).\n",
    "\n",
    "The length of a clear path is the number of visited cells of this path.\n",
    "\n",
    "**Constraints:**\n",
    "\n",
    "* ```n == grid.length```\n",
    "* ```n == grid[i].length```\n",
    "* ```1 <= n <= 100```\n",
    "* ```grid[i][j]``` is ```0``` or ```1```"
   ]
  },
  {
   "cell_type": "markdown",
   "id": "c1d152b2",
   "metadata": {},
   "source": [
    "### 1. BFS\n",
    "time complexity: $O(N)$; space complexity: $O(N)$, where $N$ is the number of cells in grid. Do not confuse with $n$, the dimension of the grid, ie. $N=n^2$."
   ]
  },
  {
   "cell_type": "code",
   "execution_count": 1,
   "id": "5ef5ac19",
   "metadata": {},
   "outputs": [],
   "source": [
    "def shortestPathBinaryMatrix(grid: list) -> int:\n",
    "\n",
    "    n = len(grid)\n",
    "    if grid[0][0] == 1 or grid[n-1][n-1] == 1:\n",
    "        return -1\n",
    "\n",
    "    directions = ((1,0),(-1,0),(0,1),(0,-1),(1,1),(1,-1),(-1,1),(-1,-1))\n",
    "    target = [n-1, n-1]\n",
    "    queue = deque()\n",
    "    queue.append([0, 0])\n",
    "    grid[0][0] = 1\n",
    "\n",
    "    while queue:\n",
    "        x, y = queue.popleft()\n",
    "        # current length = current node value\n",
    "        length = grid[x][y]           \n",
    "\n",
    "        if [x, y] == target:\n",
    "            return length\n",
    "        for dx, dy in directions:\n",
    "            row = x + dx\n",
    "            col = y + dy\n",
    "            if 0 <= row < n and 0 <= col < n and grid[row][col] == 0:\n",
    "                queue.append([row, col])\n",
    "                # overwrite the neightbor node with current path length + 1.\n",
    "                grid[row][col] = length + 1\n",
    "\n",
    "    return -1"
   ]
  },
  {
   "cell_type": "markdown",
   "id": "2e5740f8",
   "metadata": {},
   "source": [
    "### 2. A* Algorithm [explanation](https://leetcode.com/problems/shortest-path-in-binary-matrix/solution/) and [Wiki](https://en.wikipedia.org/wiki/A*_search_algorithm)"
   ]
  },
  {
   "cell_type": "code",
   "execution_count": null,
   "id": "9ea6c783",
   "metadata": {},
   "outputs": [],
   "source": []
  }
 ],
 "metadata": {
  "kernelspec": {
   "display_name": "Python 3 (ipykernel)",
   "language": "python",
   "name": "python3"
  },
  "language_info": {
   "codemirror_mode": {
    "name": "ipython",
    "version": 3
   },
   "file_extension": ".py",
   "mimetype": "text/x-python",
   "name": "python",
   "nbconvert_exporter": "python",
   "pygments_lexer": "ipython3",
   "version": "3.7.3"
  }
 },
 "nbformat": 4,
 "nbformat_minor": 5
}
