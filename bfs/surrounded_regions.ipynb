{
 "cells": [
  {
   "cell_type": "markdown",
   "id": "8062b2f5",
   "metadata": {},
   "source": [
    "## Surrounded Regions [problem](https://leetcode.com/problems/surrounded-regions/)\n",
    "\n",
    "Given an ```m x n``` matrix board containing ```'X'``` and ```'O'```, capture all regions that are 4-directionally surrounded by ```'X'```.\n",
    "\n",
    "A region is captured by flipping all ```'O'```s into ```'X'```s in that surrounded region.\n",
    "\n",
    "**Constraints:**\n",
    "\n",
    "* ```m == board.length```\n",
    "* ```n == board[i].length```\n",
    "* ```1 <= m, n <= 200```\n",
    "* ```board[i][j]``` is ```'X'``` or ```'O'```."
   ]
  },
  {
   "cell_type": "markdown",
   "id": "33894f56",
   "metadata": {},
   "source": [
    "### 1. BFS"
   ]
  },
  {
   "cell_type": "code",
   "execution_count": null,
   "id": "802f5c18",
   "metadata": {},
   "outputs": [],
   "source": []
  },
  {
   "cell_type": "markdown",
   "id": "8fbf760c",
   "metadata": {},
   "source": [
    "### 2. DFS\n",
    "time complexity: $O(N)$, where $N$ is the number of 'O's on the border; space complexity: $O(N)$, where $N$ is the memory consumed by function call stack when ```dfs``` being called recursively.\n",
    "\n",
    "**key points: starting DFS from the 'O's on the border; marked visited 'O' as 'E' in place.**"
   ]
  },
  {
   "cell_type": "code",
   "execution_count": 1,
   "id": "7c75c2de",
   "metadata": {},
   "outputs": [],
   "source": [
    "class Solution:\n",
    "    def solve(self, board: list) -> None:\n",
    "#        if not board or not board[0]:\n",
    "#            return\n",
    "            \n",
    "        self.m = len(board)\n",
    "        self.n = len(board[0])\n",
    "\n",
    "        # traverse from the border cells\n",
    "        for row in range(self.m):\n",
    "            self.dfs(board, row, 0)\n",
    "            self.dfs(board, row, self.n-1)\n",
    "        for col in range(self.n):\n",
    "            self.dfs(board, 0, col)\n",
    "            self.dfs(board, self.m-1, col)\n",
    "            \n",
    "        for row in range(self.m):\n",
    "            for col in range(self.n):\n",
    "                if board[row][col] == 'E': board[row][col] = 'O'\n",
    "                elif board[row][col] == 'O': board[row][col] = 'X'\n",
    "        \n",
    "# DFS\n",
    "    def dfs(self, board, r, c):\n",
    "        if board[r][c] != 'O':\n",
    "            return\n",
    "        # all the 'O's connecting with border 'O' escape from capture. \n",
    "        board[r][c] = 'E'\n",
    "            \n",
    "        if r > 0: self.dfs(board, r - 1, c)\n",
    "        if c > 0: self.dfs(board, r, c - 1)\n",
    "        if r < self.m - 1: self.dfs(board, r + 1, c)\n",
    "        if c < self.n - 1: self.dfs(board, r, c + 1)"
   ]
  }
 ],
 "metadata": {
  "kernelspec": {
   "display_name": "Python 3 (ipykernel)",
   "language": "python",
   "name": "python3"
  },
  "language_info": {
   "codemirror_mode": {
    "name": "ipython",
    "version": 3
   },
   "file_extension": ".py",
   "mimetype": "text/x-python",
   "name": "python",
   "nbconvert_exporter": "python",
   "pygments_lexer": "ipython3",
   "version": "3.7.3"
  }
 },
 "nbformat": 4,
 "nbformat_minor": 5
}
