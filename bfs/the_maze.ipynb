{
 "cells": [
  {
   "cell_type": "markdown",
   "id": "b2afe087",
   "metadata": {},
   "source": [
    "## The Maze [problem](https://leetcode.com/problems/the-maze/)\n",
    "\n",
    "There is a ball in a ```maze``` with empty spaces (represented as ```0```) and walls (represented as ```1```). The ball can go through the empty spaces by rolling up, down, left or right, but it won't stop rolling until hitting a wall. When the ball stops, it could choose the next direction.\n",
    "\n",
    "Given the ```m x n``` maze, the ball's start position and the destination, where ```start = [startrow, startcol]``` and ```destination = [destinationrow, destinationcol]```, return ```true``` if the ball can stop at the destination, otherwise return ```false```.\n",
    "\n",
    "You may assume that the borders of the maze are all walls (see examples).\n",
    "\n",
    "**Constraints:**\n",
    "\n",
    "* ```m == maze.length```\n",
    "* ```n == maze[i].length```\n",
    "* ```1 <= m, n <= 100```\n",
    "* ```maze[i][j]``` is ```0``` or ```1```.\n",
    "* ```start.length == 2```\n",
    "* ```destination.length == 2```\n",
    "* ```0 <= startrow, destinationrow <= m```\n",
    "* ```0 <= startcol, destinationcol <= n```\n",
    "* Both the ball and the destination exist in an empty space, and they will not be in the same position initially.\n",
    "* The maze contains at least 2 empty spaces."
   ]
  },
  {
   "cell_type": "markdown",
   "id": "89562eef",
   "metadata": {},
   "source": [
    "### 1. BFS\n",
    "time complexity: $O(M\\times N)$, since in the worst case all the nodes have been traversed once; space complexity: $O(M\\times N)$."
   ]
  },
  {
   "cell_type": "code",
   "execution_count": 1,
   "id": "de25d15c",
   "metadata": {},
   "outputs": [],
   "source": [
    "def hasPath(maze: list, start: list, destination: list) -> bool:\n",
    "\n",
    "    xbound = len(maze)\n",
    "    ybound = len(maze[0])\n",
    "    queue = deque()\n",
    "#        visited = set()\n",
    "#        visited.add(start)\n",
    "#    directions = [[1,0], [-1,0], [0,1], [0,-1]]\n",
    "    directions = ((1,0), (-1,0), (0,1), (0,-1))\n",
    "\n",
    "    queue.append(start)\n",
    "    # '-1' means visited.\n",
    "    maze[start[0]][start[1]] = -1\n",
    "\n",
    "    while queue:\n",
    "        x, y = queue.popleft()            \n",
    "        if [x, y] == destination:\n",
    "            return True\n",
    "\n",
    "        for dx, dy in directions:\n",
    "            # can not use eg. x += dx, since x has to be preserved as start.\n",
    "            row = x + dx\n",
    "            col = y + dy                \n",
    "            while 0 <= row < xbound and 0 <= col < ybound and maze[row][col] != 1:\n",
    "                row += dx\n",
    "                col += dy                    \n",
    "            row -= dx\n",
    "            col -= dy\n",
    "\n",
    "            if maze[row][col] == 0:\n",
    "                queue.append([row, col])\n",
    "            # mark as visited after enqueue.\n",
    "            maze[row][col] = -1\n",
    "\n",
    "    return False"
   ]
  }
 ],
 "metadata": {
  "kernelspec": {
   "display_name": "Python 3 (ipykernel)",
   "language": "python",
   "name": "python3"
  },
  "language_info": {
   "codemirror_mode": {
    "name": "ipython",
    "version": 3
   },
   "file_extension": ".py",
   "mimetype": "text/x-python",
   "name": "python",
   "nbconvert_exporter": "python",
   "pygments_lexer": "ipython3",
   "version": "3.7.3"
  }
 },
 "nbformat": 4,
 "nbformat_minor": 5
}
