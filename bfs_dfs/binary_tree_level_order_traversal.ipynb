{
 "cells": [
  {
   "cell_type": "markdown",
   "id": "771bcc93",
   "metadata": {},
   "source": [
    "## Binary Tree Level Order Traversal [problem](https://leetcode.com/problems/binary-tree-level-order-traversal/)\n",
    "\n",
    "Given the ```root``` of a binary tree, return the level order traversal of its nodes' values. (i.e., from left to right, level by level).\n",
    "\n",
    "**Constraints:**\n",
    "\n",
    "* The number of nodes in the tree is in the range ```[0, 2000]```.\n",
    "* ```-1000 <= Node.val <= 1000```"
   ]
  },
  {
   "cell_type": "markdown",
   "id": "abe4e130",
   "metadata": {},
   "source": [
    "### 1. Recursion (design a 'helper' function)\n",
    "time complexity: $O(N)$; space complexity: $O(N)$.\n",
    "\n",
    "**A bit confusion with the recursive method:** [discussion](https://leetcode.com/problems/binary-tree-level-order-traversal/solution/)\n",
    "\n",
    "* 'DFS and BFS is not about problem, but traverse type. It doesn't matter that we keep levels variable, but order of nodes processed. So recursive solution uses DFS. Also it's preorder one, though all (preorder, postorder, inorder) would work here. The only thing that matter is that we should process left subtree before right one.'\n",
    "\n",
    "* 'That's correct. Visit order is DFS, only the write order is BFS. I would also like to believe that the solution should lie in the 'visit order' being BFS.'"
   ]
  },
  {
   "cell_type": "code",
   "execution_count": 1,
   "id": "ed2e5959",
   "metadata": {},
   "outputs": [],
   "source": [
    "# Definition for a binary tree node.\n",
    "# class TreeNode:\n",
    "#     def __init__(self, val=0, left=None, right=None):\n",
    "#         self.val = val\n",
    "#         self.left = left\n",
    "#         self.right = right\n",
    "\n",
    "def levelOrder(root) -> list:\n",
    "\n",
    "    levels = []\n",
    "    if not root:\n",
    "        return levels\n",
    "\n",
    "    # It seems if it is a balanced tree, all levels will be created first (when traversing the left),\n",
    "    # so it is a DFS-type visiting.\n",
    "    # But the returned result is BFS-type (by design, a bit subtle).\n",
    "    def helper(node, level):\n",
    "        if len(levels) == level:\n",
    "            levels.append([])\n",
    "\n",
    "        levels[level].append(node.val)\n",
    "\n",
    "        if node.left:\n",
    "            helper(node.left, level+1)\n",
    "        if node.right:\n",
    "            helper(node.right, level+1)\n",
    "\n",
    "    helper(root, 0)\n",
    "    return levels\n",
    "        "
   ]
  },
  {
   "cell_type": "markdown",
   "id": "09a93ab4",
   "metadata": {},
   "source": [
    "### 2. Iteration (using queue)\n",
    "time complexity: $O(N)$; space complexity: $O(N)$ for ```queue```."
   ]
  },
  {
   "cell_type": "code",
   "execution_count": 2,
   "id": "87a27b7a",
   "metadata": {},
   "outputs": [],
   "source": [
    "# Definition for a binary tree node.\n",
    "# class TreeNode:\n",
    "#     def __init__(self, val=0, left=None, right=None):\n",
    "#         self.val = val\n",
    "#         self.left = left\n",
    "#         self.right = right\n",
    "\n",
    "\n",
    "def levelOrder(root) -> list:\n",
    "\n",
    "    levels = []\n",
    "    if not root:\n",
    "        return levels\n",
    "\n",
    "    queue = deque()\n",
    "    queue.append(root)\n",
    "\n",
    "    while queue:\n",
    "        levels.append([])\n",
    "        capacity = len(queue)\n",
    "        while capacity > 0:\n",
    "            curr = queue.popleft()\n",
    "            levels[-1].append(curr.val)\n",
    "            if curr.left:\n",
    "                queue.append(curr.left)\n",
    "            if curr.right:\n",
    "                queue.append(curr.right)\n",
    "            capacity -= 1\n",
    "    return levels"
   ]
  }
 ],
 "metadata": {
  "kernelspec": {
   "display_name": "Python 3 (ipykernel)",
   "language": "python",
   "name": "python3"
  },
  "language_info": {
   "codemirror_mode": {
    "name": "ipython",
    "version": 3
   },
   "file_extension": ".py",
   "mimetype": "text/x-python",
   "name": "python",
   "nbconvert_exporter": "python",
   "pygments_lexer": "ipython3",
   "version": "3.7.3"
  }
 },
 "nbformat": 4,
 "nbformat_minor": 5
}
