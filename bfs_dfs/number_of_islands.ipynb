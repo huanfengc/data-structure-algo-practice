{
 "cells": [
  {
   "cell_type": "markdown",
   "id": "3b406a54",
   "metadata": {},
   "source": [
    "## Number of Islands [problem](https://leetcode.com/problems/number-of-islands/)\n",
    "\n",
    "Given an ```m x n``` 2D binary grid grid which represents a map of '```1```'s (land) and '```0```'s (water), return the number of islands.\n",
    "\n",
    "An **island** is surrounded by water and is formed by connecting adjacent lands horizontally or vertically. You may assume all four edges of the grid are all surrounded by water.\n",
    "\n",
    "**Constraints:**\n",
    "\n",
    "* ```m == grid.length```\n",
    "* ```n == grid[i].length```\n",
    "* ```1 <= m, n <= 300```\n",
    "* ```grid[i][j] is '0' or '1'.```"
   ]
  },
  {
   "cell_type": "markdown",
   "id": "f968883e",
   "metadata": {},
   "source": [
    "### 1. DFS (recursive?)\n",
    "time complexity: $O(M\\times N)$; space complexity: $O(M\\times N)$ (the worst case corresponds to the grid is fill ed with all islands)."
   ]
  },
  {
   "cell_type": "code",
   "execution_count": 1,
   "id": "c4b9a090",
   "metadata": {},
   "outputs": [],
   "source": [
    "def numIslands1(grid) -> int:\n",
    "\n",
    "    def dfs(grid, i, j):\n",
    "        if i < 0 or j < 0 or i > len(grid) - 1 or j > len(grid[0]) - 1:\n",
    "            return\n",
    "        if grid[i][j] != \"1\":\n",
    "            return\n",
    "        grid[i][j] = 0\n",
    "        dfs(grid, i-1, j)\n",
    "        dfs(grid, i+1, j)\n",
    "        dfs(grid, i, j+1)\n",
    "        dfs(grid, i, j-1)\n",
    "\n",
    "\n",
    "    if not grid:\n",
    "        return 0\n",
    "\n",
    "    count = 0\n",
    "    for i in range(len(grid)):\n",
    "        for j in range(len(grid[0])):\n",
    "            if grid[i][j] == \"1\":\n",
    "                dfs(grid, i, j)\n",
    "                count += 1\n",
    "    return count"
   ]
  },
  {
   "cell_type": "markdown",
   "id": "c0fea749",
   "metadata": {},
   "source": [
    "### 2. BFS (using deque)"
   ]
  },
  {
   "cell_type": "code",
   "execution_count": null,
   "id": "1ad0e06d",
   "metadata": {},
   "outputs": [],
   "source": []
  }
 ],
 "metadata": {
  "kernelspec": {
   "display_name": "Python 3 (ipykernel)",
   "language": "python",
   "name": "python3"
  },
  "language_info": {
   "codemirror_mode": {
    "name": "ipython",
    "version": 3
   },
   "file_extension": ".py",
   "mimetype": "text/x-python",
   "name": "python",
   "nbconvert_exporter": "python",
   "pygments_lexer": "ipython3",
   "version": "3.7.3"
  }
 },
 "nbformat": 4,
 "nbformat_minor": 5
}
