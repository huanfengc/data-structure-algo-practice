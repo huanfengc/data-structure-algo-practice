{
 "cells": [
  {
   "cell_type": "markdown",
   "id": "c500a17e",
   "metadata": {},
   "source": [
    "## Binary Search"
   ]
  },
  {
   "cell_type": "markdown",
   "id": "ab31c89f",
   "metadata": {},
   "source": [
    "### [Template](https://leetcode.com/discuss/general-discussion/786126/Python-Powerful-Ultimate-Binary-Search-Template.-Solved-many-problems)\n",
    "1. initialize boundary variables ```left``` and ```right``` properly.\n",
    "2. determine the return value properly.\n",
    "3. design the condition function properly."
   ]
  },
  {
   "cell_type": "code",
   "execution_count": 1,
   "id": "6ae16140",
   "metadata": {},
   "outputs": [],
   "source": [
    "def binarySearch(nums, target):\n",
    "    left, right = lower_bound, upper_bound # 1. including all possible elements.\n",
    "    while left < right:\n",
    "        mid = left + (right - left) // 2\n",
    "        if condition(mid): # 3. if condition is satisfied.\n",
    "            right = mid\n",
    "        else:\n",
    "            left = mid + 1\n",
    "    return # 2. left is the minimum value satisfying the condition."
   ]
  }
 ],
 "metadata": {
  "kernelspec": {
   "display_name": "Python 3 (ipykernel)",
   "language": "python",
   "name": "python3"
  },
  "language_info": {
   "codemirror_mode": {
    "name": "ipython",
    "version": 3
   },
   "file_extension": ".py",
   "mimetype": "text/x-python",
   "name": "python",
   "nbconvert_exporter": "python",
   "pygments_lexer": "ipython3",
   "version": "3.7.3"
  }
 },
 "nbformat": 4,
 "nbformat_minor": 5
}
