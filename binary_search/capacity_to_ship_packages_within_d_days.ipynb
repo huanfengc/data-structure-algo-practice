{
 "cells": [
  {
   "cell_type": "markdown",
   "id": "71ca02a0",
   "metadata": {},
   "source": [
    "## Capacity To Ship Packages Within D Days [problem](https://leetcode.com/problems/capacity-to-ship-packages-within-d-days/)\n",
    "\n",
    "A conveyor belt has packages that must be shipped from one port to another within ```days``` days.\n",
    "\n",
    "The ```ith``` package on the conveyor belt has a weight of ```weights[i]```. Each day, we load the ship with packages on the conveyor belt (in the order given by ```weights```). We may not load more weight than the maximum weight capacity of the ship.\n",
    "\n",
    "Return the least weight capacity of the ship that will result in all the packages on the conveyor belt being shipped within ```days``` days.\n",
    "\n",
    "**Constraints:**\n",
    "\n",
    "* ```1 <= days <= weights.length <= 5 * 10^4```\n",
    "* ```1 <= weights[i] <= 500```"
   ]
  },
  {
   "cell_type": "markdown",
   "id": "480575ba",
   "metadata": {},
   "source": [
    "### 1. Binary Search\n",
    "time complexity: $O(NlogS)$, space complexity: $O(1)$."
   ]
  },
  {
   "cell_type": "code",
   "execution_count": 1,
   "id": "204d0a1e",
   "metadata": {},
   "outputs": [],
   "source": [
    "def shipWithinDays(weights, days):\n",
    "        \n",
    "    left, right = max(weights), sum(weights)\n",
    "\n",
    "    while left < right:\n",
    "        mid = left + (right - left) // 2\n",
    "        if self.isWithin(mid, weights, days):\n",
    "            right = mid\n",
    "        else:\n",
    "            left = mid + 1\n",
    "    return left\n",
    "\n",
    "def isWithin(m, w, d):\n",
    "    count = 1\n",
    "    capacity = m\n",
    "\n",
    "    for i in range(len(w)):\n",
    "        if capacity - w[i] >= 0:\n",
    "            capacity = capacity - w[i]\n",
    "        else:\n",
    "            count += 1\n",
    "            capacity = m - w[i]\n",
    "    return True if count <= d else False"
   ]
  }
 ],
 "metadata": {
  "kernelspec": {
   "display_name": "Python 3 (ipykernel)",
   "language": "python",
   "name": "python3"
  },
  "language_info": {
   "codemirror_mode": {
    "name": "ipython",
    "version": 3
   },
   "file_extension": ".py",
   "mimetype": "text/x-python",
   "name": "python",
   "nbconvert_exporter": "python",
   "pygments_lexer": "ipython3",
   "version": "3.7.3"
  }
 },
 "nbformat": 4,
 "nbformat_minor": 5
}
