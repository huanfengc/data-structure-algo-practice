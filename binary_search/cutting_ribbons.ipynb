{
 "cells": [
  {
   "cell_type": "markdown",
   "id": "ca846e5f",
   "metadata": {},
   "source": [
    "## Cutting Ribbons [problem](https://leetcode.com/problems/cutting-ribbons/)\n",
    "\n",
    "You are given an integer array ```ribbons```, where ```ribbons[i]``` represents the length of the ```ith``` ribbon, and an integer ```k```. You may cut any of the ribbons into any number of segments of positive integer lengths, or perform no cuts at all.\n",
    "\n",
    "For example, if you have a ribbon of length ```4```, you can:\n",
    "\n",
    "    * Keep the ribbon of length ```4```,\n",
    "    * Cut it into one ribbon of length ```3``` and one ribbon of length ```1```,\n",
    "    * Cut it into two ribbons of length ```2```,\n",
    "    * Cut it into one ribbon of length ```2``` and two ribbons of length ```1```, or\n",
    "    * Cut it into four ribbons of length ```1```.\n",
    "\n",
    "Your goal is to obtain ```k``` ribbons of all the same positive integer length. You are allowed to throw away any excess ribbon as a result of cutting.\n",
    "\n",
    "Return the maximum possible positive integer length that you can obtain ```k``` ribbons of, or ```0``` if you cannot obtain ```k``` ribbons of the same length.\n",
    "\n",
    "**Constraints:**\n",
    "\n",
    "* ```1 <= ribbons.length <= 10^5```\n",
    "* ```1 <= ribbons[i] <= 10^5```\n",
    "* ```1 <= k <= 10^9```"
   ]
  },
  {
   "cell_type": "markdown",
   "id": "1c894bb1",
   "metadata": {},
   "source": [
    "### 1. Binary Search\n",
    "times complexity: $O(Nlog(S/k))$, space complexity: $O(1)$.\n",
    "\n",
    "The upper bound ```right``` should be initialized as ```sum(ribbons) // k + 1```, because the condition function will find the minimum length making ```k``` segments **infeasible**, ```+1``` will include the minimum upper bound that is impossible to reach. (In other words, ```+1``` will rescue some round-off error)."
   ]
  },
  {
   "cell_type": "code",
   "execution_count": 1,
   "id": "e91fb887",
   "metadata": {},
   "outputs": [],
   "source": [
    "def maxLength(ribbons, k):\n",
    "    if sum(ribbons) < k:\n",
    "        return 0\n",
    "    # the upper bound need to add '1'. ***\n",
    "    left, right = 1, sum(ribbons) // k + 1\n",
    "\n",
    "    while left < right:\n",
    "        mid = left + (right - left) // 2\n",
    "        if self.infeasible(ribbons, mid, k):\n",
    "            right = mid\n",
    "        else:\n",
    "            left = mid + 1\n",
    "    return left - 1\n",
    "\n",
    "\n",
    "def infeasible(nums, mid, k):\n",
    "    count = 0\n",
    "\n",
    "    for num in nums:\n",
    "        if num >= mid:\n",
    "            count += num // mid\n",
    "\n",
    "    return True if count < k else False"
   ]
  }
 ],
 "metadata": {
  "kernelspec": {
   "display_name": "Python 3 (ipykernel)",
   "language": "python",
   "name": "python3"
  },
  "language_info": {
   "codemirror_mode": {
    "name": "ipython",
    "version": 3
   },
   "file_extension": ".py",
   "mimetype": "text/x-python",
   "name": "python",
   "nbconvert_exporter": "python",
   "pygments_lexer": "ipython3",
   "version": "3.7.3"
  }
 },
 "nbformat": 4,
 "nbformat_minor": 5
}
