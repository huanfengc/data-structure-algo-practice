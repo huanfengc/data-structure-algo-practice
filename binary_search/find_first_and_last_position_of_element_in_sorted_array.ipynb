{
 "cells": [
  {
   "cell_type": "markdown",
   "id": "2c0ba2dd",
   "metadata": {},
   "source": [
    "## Find First and Last Position of Element in Sorted Array [problem](https://leetcode.com/problems/find-first-and-last-position-of-element-in-sorted-array/)\n",
    "\n",
    "Given an array of integers nums sorted in non-decreasing order, find the starting and ending position of a given ```target``` value.\n",
    "\n",
    "If ```target``` is not found in the array, return ```[-1, -1]```.\n",
    "\n",
    "You must write an algorithm with $O(logN)$ runtime complexity.\n",
    "\n",
    "**Constraints:**\n",
    "\n",
    "* ```0 <= nums.length <= 10^5```\n",
    "* ```-10^9 <= nums[i] <= 10^9```\n",
    "* ```nums``` is a non-decreasing array.\n",
    "* ```-10^9 <= target <= 10^9```\n"
   ]
  },
  {
   "cell_type": "markdown",
   "id": "8a09eb14",
   "metadata": {},
   "source": [
    "### Brute Force\n",
    "time complexity: $O(N)$, space complexity: $O(1)$."
   ]
  },
  {
   "cell_type": "code",
   "execution_count": 1,
   "id": "8a6dbe72",
   "metadata": {},
   "outputs": [],
   "source": [
    "def searchRange(nums, target):\n",
    "        \n",
    "    if not nums:\n",
    "        return [-1, -1]\n",
    "    start = -1\n",
    "    count = 0\n",
    "    i = 0\n",
    "\n",
    "    while i <= len(nums) - 1:\n",
    "        if nums[i] == target:\n",
    "            start = i if count == 0 else start\n",
    "            count += 1\n",
    "        i += 1\n",
    "    end = -1 if count == 0 else start + count - 1\n",
    "    return [start, end]"
   ]
  }
 ],
 "metadata": {
  "kernelspec": {
   "display_name": "Python 3 (ipykernel)",
   "language": "python",
   "name": "python3"
  },
  "language_info": {
   "codemirror_mode": {
    "name": "ipython",
    "version": 3
   },
   "file_extension": ".py",
   "mimetype": "text/x-python",
   "name": "python",
   "nbconvert_exporter": "python",
   "pygments_lexer": "ipython3",
   "version": "3.7.3"
  }
 },
 "nbformat": 4,
 "nbformat_minor": 5
}
