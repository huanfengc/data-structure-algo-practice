{
 "cells": [
  {
   "cell_type": "markdown",
   "id": "2921b0a6",
   "metadata": {},
   "source": [
    "## Find Peak Element [problem](https://leetcode.com/problems/find-peak-element/)\n",
    "\n",
    "A peak element is an element that is strictly greater than its neighbors.\n",
    "\n",
    "Given an integer array ```nums```, find a peak element, and return its index. If the array contains multiple peaks, return the index to any of the peaks.\n",
    "\n",
    "You may imagine that ```nums[-1] = nums[n] = -∞``` (**?? do not understand what it means**).\n",
    "\n",
    "You must write an algorithm that runs in $O(log N)$ time.\n",
    "\n",
    "**Constraints:**\n",
    "\n",
    "* ```1 <= nums.length <= 1000```\n",
    "* ```-2^31 <= nums[i] <= 2^31 - 1```\n",
    "* ```nums[i] != nums[i + 1]``` for all valid ```i```.\n"
   ]
  },
  {
   "cell_type": "markdown",
   "id": "1dfa789e",
   "metadata": {},
   "source": [
    "### 1. Binary Search (Iterative)\n",
    "using ```while``` loop.\n",
    "time complexity: $O(log2 N)$, space complexity: $O(1)$."
   ]
  },
  {
   "cell_type": "code",
   "execution_count": 1,
   "id": "359b9117",
   "metadata": {},
   "outputs": [],
   "source": [
    "def findPeakElement1(nums):\n",
    "        \n",
    "    left, right = 0, len(nums) - 1\n",
    "\n",
    "    while left < right:\n",
    "        mid = int((left + right)/2)\n",
    "        l, m, r = nums[mid-1], nums[mid], nums[mid+1]\n",
    "\n",
    "        # have to compare with the right\n",
    "        # think about the base case: only two elements\n",
    "        # mid will never be updated if comparing with the left\n",
    "        if m > r:\n",
    "            right = mid\n",
    "        else:\n",
    "            left = mid + 1\n",
    "\n",
    "    return left"
   ]
  },
  {
   "cell_type": "markdown",
   "id": "2073211e",
   "metadata": {},
   "source": [
    "### Binary Search (Recursive)\n",
    "no need for ```while``` loop, but ```if``` statement for each recursion.\n",
    "time complexity: $O(log2 N)$, space complexity: $O(log2 N)$."
   ]
  },
  {
   "cell_type": "code",
   "execution_count": 2,
   "id": "6f0f1189",
   "metadata": {},
   "outputs": [],
   "source": [
    "def findPeakElement2(nums):\n",
    "    return self.searchPeak(0, len(nums)-1, nums)\n",
    "\n",
    "def searchPeak(left, right, nums):\n",
    "\n",
    "    # baseline case\n",
    "    if left == right:\n",
    "        return left\n",
    "\n",
    "    # 'if' instead of 'while'\n",
    "    mid = int((left + right) / 2)\n",
    "    if nums[mid] > nums[mid + 1]:\n",
    "        return searchPeak(left, mid, nums)\n",
    "    return searchPeak(mid + 1, right, nums)"
   ]
  },
  {
   "cell_type": "markdown",
   "id": "eb999f2c",
   "metadata": {},
   "source": [
    "### 3. Brute Force (One Scan)\n",
    "time complexity: $O(N)$, space complexity: $O(1)$."
   ]
  },
  {
   "cell_type": "code",
   "execution_count": 3,
   "id": "4d8cb91e",
   "metadata": {},
   "outputs": [],
   "source": [
    "def findPeakElement3(nums):\n",
    "\n",
    "    for i in range(1, len(nums)-1):\n",
    "        if nums[i] > nums[i-1] and nums[i] > nums[i+1]:\n",
    "            return i\n",
    "\n",
    "    return 0 if nums[0] > nums[-1] else len(nums)-1"
   ]
  }
 ],
 "metadata": {
  "kernelspec": {
   "display_name": "Python 3 (ipykernel)",
   "language": "python",
   "name": "python3"
  },
  "language_info": {
   "codemirror_mode": {
    "name": "ipython",
    "version": 3
   },
   "file_extension": ".py",
   "mimetype": "text/x-python",
   "name": "python",
   "nbconvert_exporter": "python",
   "pygments_lexer": "ipython3",
   "version": "3.7.3"
  }
 },
 "nbformat": 4,
 "nbformat_minor": 5
}
