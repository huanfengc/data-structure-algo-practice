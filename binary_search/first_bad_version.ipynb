{
 "cells": [
  {
   "cell_type": "markdown",
   "id": "82320e41",
   "metadata": {},
   "source": [
    "## First Bad Version [problem](https://leetcode.com/problems/first-bad-version/)\n",
    "\n",
    "You are a product manager and currently leading a team to develop a new product. Unfortunately, the latest version of your product fails the quality check. Since each version is developed based on the previous version, all the versions after a bad version are also bad.\n",
    "\n",
    "Suppose you have n versions ```[1, 2, ..., n]``` and you want to find out the first bad one, which causes all the following ones to be bad.\n",
    "\n",
    "You are given an API ```bool isBadVersion(version)``` which returns whether ```version``` is bad. Implement a function to find the first bad version. You should minimize the number of calls to the API.\n",
    "\n",
    "Constraints:\n",
    "\n",
    "* ```1 <= bad <= n <= 231 - 1```"
   ]
  },
  {
   "cell_type": "markdown",
   "id": "e3d482c0",
   "metadata": {},
   "source": [
    "### 1. Binary search\n",
    "time complexity: $O(logN)$, space complexity: $O(1)$."
   ]
  },
  {
   "cell_type": "code",
   "execution_count": 1,
   "id": "e31cb906",
   "metadata": {},
   "outputs": [],
   "source": [
    "def firstBadVersion(self, n: int) -> int:\n",
    "\n",
    "    left = 1\n",
    "    right = n\n",
    "    mid = 0\n",
    "\n",
    "    while left < right:\n",
    "        # be careful about the overflow\n",
    "        mid = int(left + (right - left) / 2) \n",
    "        if isBadVersion(mid):\n",
    "            right = mid\n",
    "        else:\n",
    "            left = mid + 1\n",
    "            \n",
    "    # return left bound, not mid.\n",
    "    return left "
   ]
  },
  {
   "cell_type": "markdown",
   "id": "02bb0146",
   "metadata": {},
   "source": [
    "### 2. Brute force\n",
    "time complexity: $O(N)$, space complexity; $O(1)$."
   ]
  },
  {
   "cell_type": "code",
   "execution_count": 2,
   "id": "8b435825",
   "metadata": {},
   "outputs": [],
   "source": [
    "def firstBadVersion(self, n: int) -> int:\n",
    "\n",
    "    for i in range(n):\n",
    "        if isBadVersion(i+1):\n",
    "            return i+1"
   ]
  }
 ],
 "metadata": {
  "kernelspec": {
   "display_name": "Python 3 (ipykernel)",
   "language": "python",
   "name": "python3"
  },
  "language_info": {
   "codemirror_mode": {
    "name": "ipython",
    "version": 3
   },
   "file_extension": ".py",
   "mimetype": "text/x-python",
   "name": "python",
   "nbconvert_exporter": "python",
   "pygments_lexer": "ipython3",
   "version": "3.7.3"
  }
 },
 "nbformat": 4,
 "nbformat_minor": 5
}
