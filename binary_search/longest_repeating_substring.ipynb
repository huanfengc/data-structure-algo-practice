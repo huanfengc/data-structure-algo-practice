{
 "cells": [
  {
   "cell_type": "markdown",
   "id": "89b5c5a1",
   "metadata": {},
   "source": [
    "## 1062. Longest Repeating Substring [problem](https://leetcode.com/problems/longest-repeating-substring/)\n",
    "\n",
    "Given a string ```s```, return the length of the longest repeating substrings. If no repeating substring exists, return ```0```.\n",
    "\n",
    "---\n",
    "\n",
    "**Constraints:**\n",
    "\n",
    "* ```1 <= s.length <= 2000```\n",
    "* ```s``` consists of lowercase English letters."
   ]
  },
  {
   "cell_type": "markdown",
   "id": "b0a2065f",
   "metadata": {},
   "source": [
    "### 1. Binary search, sliding window and Hash set\n",
    "* Time complexity: $O(NlogN)$ for the average cases ($L$ is small or close to $N$) and $O(N^2)$ for the worst cases when $L\\sim \\frac{N}{2}$. ($O(\\Sigma(N-L)L)$)\n",
    "* Space complexity: $O(N^2)$ for the hashset. (?). \n",
    "\n",
    "**Why using ```hash(substring)``` and storing into the Hashset can reduce the space complexity from $O(N^2)$ to $O(N)$?**"
   ]
  },
  {
   "cell_type": "code",
   "execution_count": 1,
   "id": "daf9b2de",
   "metadata": {},
   "outputs": [],
   "source": [
    "def longestRepeatingSubstring(s: str) -> int:\n",
    "    \"\"\"\n",
    "    Args:\n",
    "        s: a string\n",
    "    \n",
    "    Return:\n",
    "        the length of the longest repeating substrings, if not exist, return 0\n",
    "    \"\"\"\n",
    "\n",
    "    n = len(s)\n",
    "\n",
    "    # binary search for the length of substring, not index\n",
    "    left, right = 1, n\n",
    "    while left < right:\n",
    "        l = left + (right - left) // 2\n",
    "        if self.findDuplicate(s, l, n):\n",
    "            left = l + 1\n",
    "        else:\n",
    "            right = l\n",
    "    return left - 1\n",
    "\n",
    "\n",
    "def findDuplicate(s, l, n):\n",
    "    \"\"\"\n",
    "    Args:\n",
    "        s: a string\n",
    "        l: length of the sliding window\n",
    "        n: length of the string\n",
    "\n",
    "    Return:\n",
    "        True if there is a duplicate substring, otherwise, False\n",
    "    \"\"\"\n",
    "\n",
    "    seen = set()\n",
    "    for i in range(0, n - l + 1): # O(N-L)\n",
    "        substring = s[i:i + l] # O(L)\n",
    "        if substring in seen:\n",
    "            return 1\n",
    "        else:\n",
    "            seen.add(substring)\n",
    "    return 0"
   ]
  },
  {
   "cell_type": "markdown",
   "id": "120dfbdb",
   "metadata": {},
   "source": [
    "### 2. Binary search and Rabin-Karp algorithm\n",
    "* Time complexity: $O(NlogN)$\n",
    "* Space complexity: $O(N)$"
   ]
  },
  {
   "cell_type": "code",
   "execution_count": null,
   "id": "b8fc9244",
   "metadata": {},
   "outputs": [],
   "source": []
  }
 ],
 "metadata": {
  "kernelspec": {
   "display_name": "Python 3 (ipykernel)",
   "language": "python",
   "name": "python3"
  },
  "language_info": {
   "codemirror_mode": {
    "name": "ipython",
    "version": 3
   },
   "file_extension": ".py",
   "mimetype": "text/x-python",
   "name": "python",
   "nbconvert_exporter": "python",
   "pygments_lexer": "ipython3",
   "version": "3.7.3"
  }
 },
 "nbformat": 4,
 "nbformat_minor": 5
}
