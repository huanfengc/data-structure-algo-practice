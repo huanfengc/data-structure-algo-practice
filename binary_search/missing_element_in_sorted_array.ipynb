{
 "cells": [
  {
   "cell_type": "markdown",
   "id": "8561bb80",
   "metadata": {},
   "source": [
    "## Missing Element in Sorted Array [problem](https://leetcode.com/problems/missing-element-in-sorted-array/)\n",
    "\n",
    "Given an integer array ```nums``` which is sorted in ascending order and all of its elements are unique and given also an integer ```k```, return the ```kth``` missing number starting from the leftmost number of the array.\n",
    "\n",
    "**Constraints:**\n",
    "\n",
    "* ```1 <= nums.length <= 5 * 10^4```\n",
    "* ```1 <= nums[i] <= 10^7```\n",
    "* ```nums``` is sorted in ascending order, and all the elements are unique.\n",
    "* ```1 <= k <= 10^8```\n",
    "\n",
    "**Follow up:** Can you find a logarithmic time complexity (i.e., $O(log(n))$) solution?"
   ]
  },
  {
   "cell_type": "markdown",
   "id": "1435883f",
   "metadata": {},
   "source": [
    "### 1. Binary Search\n",
    "time complexity: $O(logN)$, space complexity: $O(1)$."
   ]
  },
  {
   "cell_type": "code",
   "execution_count": 1,
   "id": "35684af4",
   "metadata": {},
   "outputs": [],
   "source": [
    "def missingElement(nums, k):\n",
    "        \n",
    "    # return the number which will be used in the final return\n",
    "    def missNumber(idx):\n",
    "        return nums[idx] - nums[0] - idx\n",
    "\n",
    "    if nums[-1] - nums[0] - len(nums) + 1 < k:\n",
    "        return k + nums[0] + len(nums) - 1\n",
    "\n",
    "    left = 0\n",
    "    right = len(nums) - 1\n",
    "\n",
    "    while left < right:\n",
    "        mid = left + (right - left) // 2\n",
    "        if missNumber(mid) >= k:\n",
    "            right = mid\n",
    "        else:\n",
    "            left = mid + 1\n",
    "    # *** key point\n",
    "    return nums[left-1] + k - missNumber(left-1)"
   ]
  }
 ],
 "metadata": {
  "kernelspec": {
   "display_name": "Python 3 (ipykernel)",
   "language": "python",
   "name": "python3"
  },
  "language_info": {
   "codemirror_mode": {
    "name": "ipython",
    "version": 3
   },
   "file_extension": ".py",
   "mimetype": "text/x-python",
   "name": "python",
   "nbconvert_exporter": "python",
   "pygments_lexer": "ipython3",
   "version": "3.7.3"
  }
 },
 "nbformat": 4,
 "nbformat_minor": 5
}
