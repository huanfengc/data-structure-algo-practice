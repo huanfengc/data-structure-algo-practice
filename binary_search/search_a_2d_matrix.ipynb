{
 "cells": [
  {
   "cell_type": "markdown",
   "id": "cf3227ca",
   "metadata": {},
   "source": [
    "## Search a 2D Matrix [problem](https://leetcode.com/problems/search-a-2d-matrix/)\n",
    "\n",
    "Write an efficient algorithm that searches for a value ```target``` in an ```m x n``` integer matrix matrix. This ```matrix``` has the following properties:\n",
    "\n",
    "* Integers in each row are sorted from left to right.\n",
    "* The first integer of each row is greater than the last integer of the previous row.\n",
    "\n",
    "**Constraints:**\n",
    "\n",
    "* ```m == matrix.length```\n",
    "* ```n == matrix[i].length```\n",
    "* ```1 <= m, n <= 100```\n",
    "* ```-10^4 <= matrix[i][j], target <= 10^4```"
   ]
  },
  {
   "cell_type": "markdown",
   "id": "7b89ab13",
   "metadata": {},
   "source": [
    "### 1. Binary Search (Iterative)\n",
    "time complexity: $O(log(M\\times N))$, space complexity: $O(1)$."
   ]
  },
  {
   "cell_type": "code",
   "execution_count": 1,
   "id": "fb71a031",
   "metadata": {},
   "outputs": [],
   "source": [
    "def searchMatrix(matrix, target):\n",
    "        \n",
    "    m = len(matrix)\n",
    "    if m == 0:\n",
    "        return False\n",
    "    n = len(matrix[0])\n",
    "\n",
    "    left, right = 0, m * n - 1\n",
    "    # be careful about the 'boundary conditions'\n",
    "    while left <= right:\n",
    "        # or left + ( right - left ) / 2\n",
    "        # to avoid overflow (depending on the contraints)\n",
    "        # Python should be fine.\n",
    "        mid = int( (left + right) / 2 )\n",
    "        r = mid // n\n",
    "        c = mid % n \n",
    "\n",
    "        # the same here, ensure the loop would be over,\n",
    "        # and exhaust all the conditions\n",
    "        if matrix[r][c] < target:\n",
    "            left = mid + 1\n",
    "        elif matrix[r][c] > target:\n",
    "            right = mid - 1\n",
    "        else:\n",
    "            return True\n",
    "\n",
    "    return False"
   ]
  }
 ],
 "metadata": {
  "kernelspec": {
   "display_name": "Python 3 (ipykernel)",
   "language": "python",
   "name": "python3"
  },
  "language_info": {
   "codemirror_mode": {
    "name": "ipython",
    "version": 3
   },
   "file_extension": ".py",
   "mimetype": "text/x-python",
   "name": "python",
   "nbconvert_exporter": "python",
   "pygments_lexer": "ipython3",
   "version": "3.7.3"
  }
 },
 "nbformat": 4,
 "nbformat_minor": 5
}
