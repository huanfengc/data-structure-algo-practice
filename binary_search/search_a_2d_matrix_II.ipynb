{
 "cells": [
  {
   "cell_type": "markdown",
   "id": "68a3f4c8",
   "metadata": {},
   "source": [
    "## Search a 2D Matrix II [problem](https://leetcode.com/problems/search-a-2d-matrix-ii/)\n",
    "\n",
    "Write an efficient algorithm that searches for a value ```target``` in an ```m x n``` integer matrix ```matrix```. This matrix has the following properties:\n",
    "\n",
    "* Integers in each row are sorted in ascending from left to right.\n",
    "* Integers in each column are sorted in ascending from top to bottom.\n",
    "\n",
    "**Constraints:**\n",
    "\n",
    "* ```m == matrix.length```\n",
    "* ```n == matrix[i].length```\n",
    "* ```1 <= n, m <= 300```\n",
    "* ```-10^9 <= matrix[i][j] <= 10^9```\n",
    "* All the integers in each row are sorted in ascending order.\n",
    "* All the integers in each column are sorted in ascending order.\n",
    "* ```-10^9 <= target <= 10^9```"
   ]
  },
  {
   "cell_type": "markdown",
   "id": "e91ebbde",
   "metadata": {},
   "source": [
    "### 1. Search Space Reduction (Based on the specific structure of given matrix)\n",
    "time complexity: $O(M+N)$, space complexity: $O(1)$.\n",
    "Starting from the top-right corner and only going left or down, ultil finding the match or going out of bounds."
   ]
  },
  {
   "cell_type": "code",
   "execution_count": 1,
   "id": "7bb63266",
   "metadata": {},
   "outputs": [],
   "source": [
    "def searchMatrix1(self, matrix, target):\n",
    "    \n",
    "    m = len(matrix)\n",
    "    if m == 0:\n",
    "        return False\n",
    "    n = len(matrix[0])\n",
    "    row = 0\n",
    "    col = n - 1\n",
    "\n",
    "    while row <= m - 1 and col >= 0:\n",
    "        if matrix[row][col] > target:\n",
    "            col -= 1\n",
    "        elif matrix[row][col] < target:\n",
    "            row += 1\n",
    "        else:\n",
    "            return True\n",
    "    return False"
   ]
  },
  {
   "cell_type": "markdown",
   "id": "2a1dff80",
   "metadata": {},
   "source": [
    "### 2. Binary Search"
   ]
  },
  {
   "cell_type": "code",
   "execution_count": null,
   "id": "4c914923",
   "metadata": {},
   "outputs": [],
   "source": []
  },
  {
   "cell_type": "markdown",
   "id": "a53025e2",
   "metadata": {},
   "source": [
    "### 3. Brute Force\n",
    "time complexity: $O(M\\times N)$, space complexity: $O(1)$."
   ]
  },
  {
   "cell_type": "code",
   "execution_count": 2,
   "id": "1844c8ec",
   "metadata": {},
   "outputs": [],
   "source": [
    "def searchMatrix3(matrix, target):\n",
    "        \n",
    "    m = len(matrix)\n",
    "    if m == 0:\n",
    "        return False\n",
    "    n = len(matrix[0])\n",
    "\n",
    "    for i in range(m):\n",
    "        for j in range(n):\n",
    "            if matrix[i][j] == target:\n",
    "                return True\n",
    "    return False"
   ]
  }
 ],
 "metadata": {
  "kernelspec": {
   "display_name": "Python 3 (ipykernel)",
   "language": "python",
   "name": "python3"
  },
  "language_info": {
   "codemirror_mode": {
    "name": "ipython",
    "version": 3
   },
   "file_extension": ".py",
   "mimetype": "text/x-python",
   "name": "python",
   "nbconvert_exporter": "python",
   "pygments_lexer": "ipython3",
   "version": "3.7.3"
  }
 },
 "nbformat": 4,
 "nbformat_minor": 5
}
