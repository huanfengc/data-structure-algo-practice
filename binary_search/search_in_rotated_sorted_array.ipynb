{
 "cells": [
  {
   "cell_type": "markdown",
   "id": "49e55bd6",
   "metadata": {},
   "source": [
    "## Search in Rotated Sorted Array [problem](https://leetcode.com/problems/search-in-rotated-sorted-array/)\n",
    "\n",
    "There is an integer array ```nums``` sorted in ascending order (with distinct values).\n",
    "\n",
    "Prior to being passed to your function, ```nums``` is possibly rotated at an unknown pivot index ```k``` (```1 <= k < nums.length```) such that the resulting array is ```[nums[k], nums[k+1], ..., nums[n-1], nums[0], nums[1], ..., nums[k-1]]``` (0-indexed). For example, ```[0,1,2,4,5,6,7]``` might be rotated at pivot index 3 and become ```[4,5,6,7,0,1,2]```.\n",
    "\n",
    "Given the array ```nums``` after the possible rotation and an integer ```target```, return the index of ```target``` if it is in ```nums```, or ```-1``` if it is not in ```nums```.\n",
    "\n",
    "**You must write an algorithm with $O(log N)$ runtime complexity.**\n",
    "\n",
    "**Constraints:**\n",
    "\n",
    "* ```1 <= nums.length <= 5000```\n",
    "* ```-10^4 <= nums[i] <= 10^4```\n",
    "* All values of nums are unique.\n",
    "* ```nums``` is an ascending array that is possibly rotated.\n",
    "* ```-10^4 <= target <= 10^4```"
   ]
  },
  {
   "cell_type": "markdown",
   "id": "800e5644",
   "metadata": {},
   "source": [
    "### 1. Binary Search (One pass)\n",
    "time complexity: $O(log N)$, space comlexity: $O(1)$. \\\n",
    "One pass is achieved by separating more conditions."
   ]
  },
  {
   "cell_type": "code",
   "execution_count": 1,
   "id": "0d66dba1",
   "metadata": {},
   "outputs": [],
   "source": [
    "def search1(nums, target):\n",
    "\n",
    "    left = 0\n",
    "    right = len(nums) - 1\n",
    "\n",
    "    while left <= right:\n",
    "        mid = left + (right - left) // 2\n",
    "        if nums[mid] == target:\n",
    "            return mid\n",
    "\n",
    "        # be careful about the equal sign\n",
    "        if nums[mid] >= nums[0]: \n",
    "            if target >= nums[0] and target < nums[mid]:\n",
    "                right = mid - 1\n",
    "            else:\n",
    "                left = mid + 1\n",
    "        if nums[mid] < nums[0]:\n",
    "            if target >= nums[0] or target < nums [mid]:\n",
    "                right = mid - 1\n",
    "            else:\n",
    "                left = mid + 1\n",
    "    return -1"
   ]
  },
  {
   "cell_type": "markdown",
   "id": "177bab9f",
   "metadata": {},
   "source": [
    "### 2. Brute Force\n",
    "time complexity: $O(N)$, space complexity: $O(1)$."
   ]
  },
  {
   "cell_type": "code",
   "execution_count": 2,
   "id": "9e26a099",
   "metadata": {},
   "outputs": [],
   "source": [
    "def search2(nums, target):\n",
    "        \n",
    "    for i in range(len(nums)):\n",
    "        if nums[i] == target:\n",
    "            return i\n",
    "    return -1"
   ]
  }
 ],
 "metadata": {
  "kernelspec": {
   "display_name": "Python 3 (ipykernel)",
   "language": "python",
   "name": "python3"
  },
  "language_info": {
   "codemirror_mode": {
    "name": "ipython",
    "version": 3
   },
   "file_extension": ".py",
   "mimetype": "text/x-python",
   "name": "python",
   "nbconvert_exporter": "python",
   "pygments_lexer": "ipython3",
   "version": "3.7.3"
  }
 },
 "nbformat": 4,
 "nbformat_minor": 5
}
