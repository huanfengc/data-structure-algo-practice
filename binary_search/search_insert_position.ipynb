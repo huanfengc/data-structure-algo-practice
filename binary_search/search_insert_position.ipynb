{
 "cells": [
  {
   "cell_type": "markdown",
   "id": "bc5a9837",
   "metadata": {},
   "source": [
    "## Search Insert Position [problem](https://leetcode.com/problems/search-insert-position/)\n",
    "\n",
    "Given a sorted array of distinct integers and a target value, return the index if the target is found. If not, return the index where it would be if it were inserted in order.\n",
    "\n",
    "You must write an algorithm with $$O(logN)$$ runtime complexity.\n",
    "\n",
    "**Constraints:**\n",
    "\n",
    "* ```1 <= nums.length <= 10^4```\n",
    "* ```-10^4 <= nums[i] <= 10^4```\n",
    "* ```nums``` contains distinct values sorted in ascending order.\n",
    "* ```-10^4 <= target <= 10^4```"
   ]
  },
  {
   "cell_type": "markdown",
   "id": "e6496871",
   "metadata": {},
   "source": [
    "### 1. Binary Search\n",
    "time complexity: $O(logN)$, space complexity: $O(1)$."
   ]
  },
  {
   "cell_type": "code",
   "execution_count": 1,
   "id": "32e3392f",
   "metadata": {},
   "outputs": [],
   "source": [
    "def searchInsert(nums, target):\n",
    "\n",
    "    left, right = 0, len(nums)\n",
    "\n",
    "    while left < right:\n",
    "        mid = left + (right - left) // 2\n",
    "        if nums[mid] >= target:\n",
    "            right = mid\n",
    "        else:\n",
    "            left = mid + 1\n",
    "    return left"
   ]
  }
 ],
 "metadata": {
  "kernelspec": {
   "display_name": "Python 3 (ipykernel)",
   "language": "python",
   "name": "python3"
  },
  "language_info": {
   "codemirror_mode": {
    "name": "ipython",
    "version": 3
   },
   "file_extension": ".py",
   "mimetype": "text/x-python",
   "name": "python",
   "nbconvert_exporter": "python",
   "pygments_lexer": "ipython3",
   "version": "3.7.3"
  }
 },
 "nbformat": 4,
 "nbformat_minor": 5
}
