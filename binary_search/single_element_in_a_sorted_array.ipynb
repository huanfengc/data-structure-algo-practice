{
 "cells": [
  {
   "cell_type": "markdown",
   "id": "db2f37a6",
   "metadata": {},
   "source": [
    "## Single Element in a Sorted Array [problem](https://leetcode.com/problems/single-element-in-a-sorted-array/)\n",
    "\n",
    "You are given a sorted array consisting of only integers where every element appears exactly twice, except for one element which appears exactly once.\n",
    "\n",
    "Return the single element that appears only once.\n",
    "\n",
    "Your solution must run in $O(logN)$ time and $O(1)$ space.\n",
    "\n",
    "**Constraints:**\n",
    "\n",
    "* ```1 <= nums.length <= 10^5```\n",
    "* ```0 <= nums[i] <= 10^5```"
   ]
  },
  {
   "cell_type": "markdown",
   "id": "d328d929",
   "metadata": {},
   "source": [
    "### 1. Binary Search\n",
    "time complexity: $O(logN)$, space complexity: $O(1)$."
   ]
  },
  {
   "cell_type": "code",
   "execution_count": 1,
   "id": "686f5b46",
   "metadata": {},
   "outputs": [],
   "source": [
    "def singleNonDuplicate(nums):\n",
    "\n",
    "    left = 0\n",
    "    right = len(nums) -1\n",
    "\n",
    "    while left < right:\n",
    "        mid = left + (right - left) // 2\n",
    "        # if odd, decrementing by 1, o.w. loop could be infinite\n",
    "        mid = mid if mid % 2 == 0 else mid - 1\n",
    "        if nums[mid] != nums[mid+1]:\n",
    "            right = mid\n",
    "        else:\n",
    "            left = mid + 2\n",
    "    return nums[left]"
   ]
  }
 ],
 "metadata": {
  "kernelspec": {
   "display_name": "Python 3 (ipykernel)",
   "language": "python",
   "name": "python3"
  },
  "language_info": {
   "codemirror_mode": {
    "name": "ipython",
    "version": 3
   },
   "file_extension": ".py",
   "mimetype": "text/x-python",
   "name": "python",
   "nbconvert_exporter": "python",
   "pygments_lexer": "ipython3",
   "version": "3.7.3"
  }
 },
 "nbformat": 4,
 "nbformat_minor": 5
}
