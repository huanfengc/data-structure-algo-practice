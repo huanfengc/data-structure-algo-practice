{
 "cells": [
  {
   "cell_type": "markdown",
   "id": "6162096d",
   "metadata": {},
   "source": [
    "## Split Array Largest Sum [problem](https://leetcode.com/problems/split-array-largest-sum/)\n",
    "\n",
    "Given an array ```nums``` which consists of non-negative integers and an integer ```m```, you can split the array into m non-empty continuous subarrays.\n",
    "\n",
    "Write an algorithm to minimize the largest sum among these ```m``` subarrays.\n",
    "\n",
    "**Constraints:**\n",
    "\n",
    "* ```1 <= nums.length <= 1000```\n",
    "* ```0 <= nums[i] <= 10^6```\n",
    "* ```1 <= m <= min(50, nums.length)```"
   ]
  },
  {
   "cell_type": "markdown",
   "id": "54fdfdbc",
   "metadata": {},
   "source": [
    "### 1. Binary Search\n",
    "time complexity: $O(NlogS)$, where $N$ is the number of elements in ```nums``` and $S$ is the sum of ```nums```, space complexity: $O(1)$."
   ]
  },
  {
   "cell_type": "code",
   "execution_count": 1,
   "id": "a5f7b627",
   "metadata": {},
   "outputs": [],
   "source": [
    "def splitArray(nums, m):\n",
    "\n",
    "    left = max(nums)\n",
    "    right = sum(nums)\n",
    "\n",
    "    while left < right:\n",
    "        mid = left + (right - left) // 2\n",
    "        if self.feasible(mid, nums, m):\n",
    "            right = mid\n",
    "        else:\n",
    "            left = mid + 1\n",
    "    # minimum is garanteed by proof of contradiction.\n",
    "    return left\n",
    "\n",
    "# however, it is still not so clear to me, differ from #1011, \n",
    "# there, elements are added in order\n",
    "# here, elements 'can' be added not in order,\n",
    "# but this feasible function works by adding in order\n",
    "# and proof of contradiction garantees the whole algorithm work.\n",
    "def feasible(mid, nums, m):\n",
    "    count = 1\n",
    "    capacity = mid\n",
    "\n",
    "    for num in nums:\n",
    "        if capacity >= num:\n",
    "            capacity = capacity - num\n",
    "        else:\n",
    "            count += 1\n",
    "            capacity = mid - num\n",
    "            if count > m:\n",
    "                return False\n",
    "    return True"
   ]
  },
  {
   "cell_type": "markdown",
   "id": "3db1ccc1",
   "metadata": {},
   "source": [
    "### 2. Dynamic Programming"
   ]
  }
 ],
 "metadata": {
  "kernelspec": {
   "display_name": "Python 3 (ipykernel)",
   "language": "python",
   "name": "python3"
  },
  "language_info": {
   "codemirror_mode": {
    "name": "ipython",
    "version": 3
   },
   "file_extension": ".py",
   "mimetype": "text/x-python",
   "name": "python",
   "nbconvert_exporter": "python",
   "pygments_lexer": "ipython3",
   "version": "3.7.3"
  }
 },
 "nbformat": 4,
 "nbformat_minor": 5
}
