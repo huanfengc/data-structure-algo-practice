{
 "cells": [
  {
   "cell_type": "markdown",
   "id": "3d4775f7",
   "metadata": {},
   "source": [
    "## Sqrt(x) [problem](https://leetcode.com/problems/sqrtx/)\n",
    "\n",
    "Given a non-negative integer ```x```, compute and return the square root of ```x```.\n",
    "\n",
    "Since the return type is an integer, the decimal digits are truncated, and only the integer part of the result is returned.\n",
    "\n",
    "**Note:** You are not allowed to use any built-in exponent function or operator, such as ```pow(x, 0.5)``` or ```x ** 0.5```.\n",
    "\n",
    "**Constraints:**\n",
    "\n",
    "* ```0 <= x <= 2^31 - 1```"
   ]
  },
  {
   "cell_type": "markdown",
   "id": "ddf814e8",
   "metadata": {},
   "source": [
    "### 1. Binary Search\n",
    "time complexity: $O(log(x))$, space complexity: $O(1)$."
   ]
  },
  {
   "cell_type": "code",
   "execution_count": 1,
   "id": "cbfe7681",
   "metadata": {},
   "outputs": [],
   "source": [
    "def mySqrt(x) -> int:\n",
    "\n",
    "    left, right = 0, x + 1\n",
    "\n",
    "    while left < right:\n",
    "        mid = left + (right - left) // 2\n",
    "        if mid * mid > x:\n",
    "            right = mid\n",
    "        else:\n",
    "            left = mid + 1\n",
    "    return left - 1"
   ]
  }
 ],
 "metadata": {
  "kernelspec": {
   "display_name": "Python 3 (ipykernel)",
   "language": "python",
   "name": "python3"
  },
  "language_info": {
   "codemirror_mode": {
    "name": "ipython",
    "version": 3
   },
   "file_extension": ".py",
   "mimetype": "text/x-python",
   "name": "python",
   "nbconvert_exporter": "python",
   "pygments_lexer": "ipython3",
   "version": "3.7.3"
  }
 },
 "nbformat": 4,
 "nbformat_minor": 5
}
