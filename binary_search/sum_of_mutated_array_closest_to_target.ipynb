{
 "cells": [
  {
   "cell_type": "markdown",
   "id": "af237f88",
   "metadata": {},
   "source": [
    "## 1300. Sum of Mutated Array Closest to Target [problem](https://leetcode.com/problems/sum-of-mutated-array-closest-to-target/)\n",
    "\n",
    "Given an integer array ```arr``` and a target value ```target```, return the integer value such that when we change all the integers larger than value in the given array to be equal to value, the sum of the array gets as close as possible (in absolute difference) to ```target```.\n",
    "\n",
    "**In case of a tie, return the minimum such integer**.\n",
    "\n",
    "Notice that the answer is not neccesarilly a number from ```arr```.\n",
    "\n",
    "---\n",
    "\n",
    "**Constraints:**\n",
    "\n",
    "* ```1 <= arr.length <= 10^4```\n",
    "* ```1 <= arr[i], target <= 10^5```"
   ]
  },
  {
   "cell_type": "markdown",
   "id": "1123850c",
   "metadata": {},
   "source": [
    "### 1. Sorting and Binary search\n",
    "* Time complexity: $O(NlogN)$\n",
    "* Space complexity: $O(1)$ **(Does ```sort()``` in Python use extra space?)**"
   ]
  },
  {
   "cell_type": "code",
   "execution_count": 1,
   "id": "b657e9aa",
   "metadata": {},
   "outputs": [],
   "source": [
    "from typing import List\n",
    "\n",
    "def findBestValue(arr: List[int], target: int) -> int:\n",
    "    \"\"\"\n",
    "    Args:\n",
    "        arr: an integer array\n",
    "        target: an integer\n",
    "        \n",
    "    Return:\n",
    "        the minimum integer satisfying the requirement of the problem (see above)\n",
    "    \"\"\"\n",
    "\n",
    "    n = len(arr)\n",
    "    if n == 1:\n",
    "        return arr[0]\n",
    "\n",
    "    arr.sort() # O(NlogN)\n",
    "    left, right = 0, n - 1\n",
    "    \n",
    "    while left < right: # O(logN)\n",
    "        mid = left + (right - left) // 2\n",
    "        if target - sum(arr[:mid]) >= arr[mid] * (n - mid): # O(N)\n",
    "            left = mid + 1\n",
    "        else:\n",
    "            right = mid\n",
    "\n",
    "    target -= sum(arr[:left]) # O(N)\n",
    "    target -= 0.0001 # in case of 0.5, round down\n",
    "    \n",
    "    if left == n - 1:\n",
    "        # the sum of arr still less than the target, return the maximum in arr\n",
    "        return arr[-1]\n",
    "    else:\n",
    "        return round(target / (n - left))"
   ]
  }
 ],
 "metadata": {
  "kernelspec": {
   "display_name": "Python 3 (ipykernel)",
   "language": "python",
   "name": "python3"
  },
  "language_info": {
   "codemirror_mode": {
    "name": "ipython",
    "version": 3
   },
   "file_extension": ".py",
   "mimetype": "text/x-python",
   "name": "python",
   "nbconvert_exporter": "python",
   "pygments_lexer": "ipython3",
   "version": "3.7.3"
  }
 },
 "nbformat": 4,
 "nbformat_minor": 5
}
