{
 "cells": [
  {
   "cell_type": "markdown",
   "id": "1ecbeb75",
   "metadata": {},
   "source": [
    "## 2311. Longest Binary Subsequence Less Than or Equal to K [problem](https://leetcode.com/problems/longest-binary-subsequence-less-than-or-equal-to-k/)\n",
    "\n",
    "You are given a binary string ```s``` and a positive integer ```k```.\n",
    "\n",
    "Return the length of the longest subsequence of ```s``` that makes up a binary number less than or equal to ```k```.\n",
    "\n",
    "**Note:**\n",
    "\n",
    "* The subsequence can contain **leading zeroes**.\n",
    "* The **empty** string is considered to be equal to 0.\n",
    "* A **subsequence** is a string that can be derived from another string by deleting some or no characters without changing the order of the remaining characters.\n",
    "\n",
    "---\n",
    "\n",
    "**Constraints:**\n",
    "\n",
    "* ```1 <= s.length <= 1000```\n",
    "* ```s[i]``` is either '```0```' or '```1```'.\n",
    "* ```1 <= k <= 10^9```\n",
    "\n",
    "---\n",
    "\n",
    "**Follow-ups:**\n",
    "\n",
    "* If ```k``` can be negative, is the problem still doable? If so, how?"
   ]
  },
  {
   "cell_type": "markdown",
   "id": "b553e074",
   "metadata": {},
   "source": [
    "### 1. One pass from the end\n",
    "* Time complexity: $O(N)$, $N$ is the length of the given string. **Can it be improved to $O(32)$?**\n",
    "* Space complexity: $O(1)$\n",
    "\n",
    "**Key point: Given the requirements of the problem, considering all the zeros will be always leading to a longer subsequence (a better answer).**"
   ]
  },
  {
   "cell_type": "code",
   "execution_count": 1,
   "id": "f680afc9",
   "metadata": {},
   "outputs": [],
   "source": [
    "def longestSubsequence(s: str, k: int) -> int:\n",
    "    \"\"\"\n",
    "    Args:\n",
    "        s: a string containing only '0's or '1's\n",
    "        k: an positive integer\n",
    "    \n",
    "    Return:\n",
    "        the length of the longest subsequence of s whose value is less or equal to k\n",
    "    \"\"\"\n",
    "\n",
    "    num, power, count = 0, 0 ,0\n",
    "    for c in s[::-1]:\n",
    "        if c == '1':\n",
    "            num += 2 ** power\n",
    "        if num <= k or c == '0': # consider all the zeros\n",
    "            count += 1\n",
    "        power += 1 # track the power from the end\n",
    "    return count"
   ]
  }
 ],
 "metadata": {
  "kernelspec": {
   "display_name": "Python 3 (ipykernel)",
   "language": "python",
   "name": "python3"
  },
  "language_info": {
   "codemirror_mode": {
    "name": "ipython",
    "version": 3
   },
   "file_extension": ".py",
   "mimetype": "text/x-python",
   "name": "python",
   "nbconvert_exporter": "python",
   "pygments_lexer": "ipython3",
   "version": "3.7.3"
  }
 },
 "nbformat": 4,
 "nbformat_minor": 5
}
