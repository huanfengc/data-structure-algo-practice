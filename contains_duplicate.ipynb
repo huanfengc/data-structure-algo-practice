{
 "cells": [
  {
   "cell_type": "markdown",
   "id": "8ed1d9cf",
   "metadata": {},
   "source": [
    "## 217. Contains Duplicate\n",
    "\n",
    "Given an integer array nums, return ```true``` if any value appears at least twice in the array, and return ```false``` if every element is distinct. ([problem](https://leetcode.com/problems/contains-duplicate/))"
   ]
  },
  {
   "cell_type": "code",
   "execution_count": 1,
   "id": "365fd92b",
   "metadata": {},
   "outputs": [],
   "source": [
    "class ContainsDuplicate():\n",
    "    def __init__(self,nums):\n",
    "        self.nums = nums\n",
    "        \n",
    "    def sol1(self): # compare the length of array and set\n",
    "        return len(self.nums) > len(set(self.nums))"
   ]
  },
  {
   "cell_type": "code",
   "execution_count": 2,
   "id": "b8cb2b2f",
   "metadata": {},
   "outputs": [
    {
     "data": {
      "text/plain": [
       "False"
      ]
     },
     "execution_count": 2,
     "metadata": {},
     "output_type": "execute_result"
    }
   ],
   "source": [
    "r = ContainsDuplicate([1,2,3,4])\n",
    "r.sol1()"
   ]
  }
 ],
 "metadata": {
  "kernelspec": {
   "display_name": "Python 3 (ipykernel)",
   "language": "python",
   "name": "python3"
  },
  "language_info": {
   "codemirror_mode": {
    "name": "ipython",
    "version": 3
   },
   "file_extension": ".py",
   "mimetype": "text/x-python",
   "name": "python",
   "nbconvert_exporter": "python",
   "pygments_lexer": "ipython3",
   "version": "3.7.3"
  }
 },
 "nbformat": 4,
 "nbformat_minor": 5
}
