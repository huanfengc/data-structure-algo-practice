{
 "cells": [
  {
   "cell_type": "markdown",
   "id": "8ed1d9cf",
   "metadata": {},
   "source": [
    "## 217. Contains Duplicate\n",
    "\n",
    "Given an integer array nums, return ```true``` if any value appears at least twice in the array, and return ```false``` if every element is distinct. ([problem](https://leetcode.com/problems/contains-duplicate/))\n",
    "\n",
    "### Use set( ) \n",
    "Use ```set()``` to convert list into set, and compare the numbers of elements of both.\n",
    "\n",
    "The time complexity of such conversion is $O(n)$."
   ]
  },
  {
   "cell_type": "code",
   "execution_count": 8,
   "id": "365fd92b",
   "metadata": {},
   "outputs": [
    {
     "name": "stdout",
     "output_type": "stream",
     "text": [
      "CPU times: user 5 µs, sys: 0 ns, total: 5 µs\n",
      "Wall time: 9.06 µs\n"
     ]
    }
   ],
   "source": [
    "%%time\n",
    "\n",
    "def containsDuplicate1(nums): # use set() and compare the number of elements\n",
    "    return len(nums) > len(set(nums))"
   ]
  },
  {
   "cell_type": "markdown",
   "id": "3d6658cc",
   "metadata": {},
   "source": [
    "### Brute Force\n",
    "Check all the integer pairs in the array."
   ]
  },
  {
   "cell_type": "markdown",
   "id": "168e6e26",
   "metadata": {},
   "source": [
    "### Use sort( )\n",
    "Sort the array and check if there exist any two consecutive duplicate elements.\n",
    "\n",
    "The time complexity of ```sort()``` is $O(nlogn)$."
   ]
  },
  {
   "cell_type": "code",
   "execution_count": 13,
   "id": "1a067cfd",
   "metadata": {},
   "outputs": [],
   "source": [
    "def containsDuplicate3(nums):\n",
    "    nums.sort()\n",
    "    for i in range(len(nums)-1):\n",
    "        if nums[i] == nums[i+1]:\n",
    "            return True\n",
    "    return False"
   ]
  },
  {
   "cell_type": "code",
   "execution_count": 15,
   "id": "66703bb2",
   "metadata": {},
   "outputs": [
    {
     "data": {
      "text/plain": [
       "True"
      ]
     },
     "execution_count": 15,
     "metadata": {},
     "output_type": "execute_result"
    }
   ],
   "source": [
    "containsDuplicate3([1,2,3,4,4])"
   ]
  },
  {
   "cell_type": "code",
   "execution_count": null,
   "id": "d911790c",
   "metadata": {},
   "outputs": [],
   "source": []
  }
 ],
 "metadata": {
  "kernelspec": {
   "display_name": "Python 3 (ipykernel)",
   "language": "python",
   "name": "python3"
  },
  "language_info": {
   "codemirror_mode": {
    "name": "ipython",
    "version": 3
   },
   "file_extension": ".py",
   "mimetype": "text/x-python",
   "name": "python",
   "nbconvert_exporter": "python",
   "pygments_lexer": "ipython3",
   "version": "3.7.3"
  }
 },
 "nbformat": 4,
 "nbformat_minor": 5
}
