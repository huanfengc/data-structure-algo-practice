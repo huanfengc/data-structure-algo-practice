{
 "cells": [
  {
   "cell_type": "markdown",
   "id": "9f898e7b",
   "metadata": {},
   "source": [
    "# Traversing a binary tree using *depth first search*\n",
    "\n",
    "## 1. Binary Tree Preorder Traversal [problem](https://leetcode.com/problems/binary-tree-preorder-traversal/)\n",
    "\n",
    "**Definition:** first traverse the root node, then the left subtree, finally the right subtree."
   ]
  },
  {
   "cell_type": "markdown",
   "id": "87de02b0",
   "metadata": {},
   "source": [
    "### 1.1. Recursive\n",
    "time complexity: $O(N)$, all the nodes are traversed; space complexity: $O(N)$ for the call stack during recursion, $N$ is the number of nodes in the tree."
   ]
  },
  {
   "cell_type": "code",
   "execution_count": 1,
   "id": "8e49471d",
   "metadata": {},
   "outputs": [],
   "source": [
    "# Definition for a binary tree node.\n",
    "# class TreeNode:\n",
    "#     def __init__(self, val=0, left=None, right=None):\n",
    "#         self.val = val\n",
    "#         self.left = left\n",
    "#         self.right = right\n",
    "\n",
    "def preorderTraversal(root):\n",
    "    \"\"\"Traverse a binary tree in preorder.\n",
    "    \n",
    "    Args:\n",
    "        root: TreeNode -- The root of a binary tree\n",
    "            \n",
    "    Returns:\n",
    "        ans: list[int] -- A list containing the values of traversed nodes.\n",
    "    \"\"\"\n",
    "\n",
    "    ans = []\n",
    "\n",
    "    def dfs(node, res):\n",
    "        if not node:\n",
    "            ans.append(node.val)\n",
    "            dfs(node.left, ans)\n",
    "            dfs(node.right, ans)\n",
    "\n",
    "    dfs(root, ans)\n",
    "    return ans"
   ]
  },
  {
   "cell_type": "markdown",
   "id": "f871db4b",
   "metadata": {},
   "source": [
    "### 1.2. Iterative\n"
   ]
  },
  {
   "cell_type": "code",
   "execution_count": null,
   "id": "30fa7935",
   "metadata": {},
   "outputs": [],
   "source": []
  },
  {
   "cell_type": "markdown",
   "id": "79655535",
   "metadata": {},
   "source": [
    "## 2. Binary Tree Inorder Traversal [problem](https://leetcode.com/problems/binary-tree-inorder-traversal/)\n",
    "\n",
    "**Definition:** first traverse the left subtree, then the root, finally the right subtree."
   ]
  },
  {
   "cell_type": "markdown",
   "id": "df2c0734",
   "metadata": {},
   "source": [
    "### 2.1. Recursive\n",
    "time complexity: $O(N)$; space complexity: $O(N)$."
   ]
  },
  {
   "cell_type": "code",
   "execution_count": 2,
   "id": "60b49018",
   "metadata": {},
   "outputs": [],
   "source": [
    "def inorderTraversal(root):\n",
    "    \"\"\"Traverse a binary tree in inorder.\n",
    "    Args:\n",
    "        root: TreeNode\n",
    "        \n",
    "    Return:\n",
    "        ans: list[int]\n",
    "    \"\"\"\n",
    "\n",
    "    ans = []\n",
    "\n",
    "    def dfs(node, res):\n",
    "        if node:\n",
    "            dfs(node.left, res)\n",
    "            res.append(node.val)\n",
    "            dfs(node.right, res)\n",
    "\n",
    "    dfs(root, ans)\n",
    "    return ans"
   ]
  },
  {
   "cell_type": "markdown",
   "id": "006fb930",
   "metadata": {},
   "source": [
    "### 2.2. Iterative"
   ]
  },
  {
   "cell_type": "code",
   "execution_count": null,
   "id": "97a0d38b",
   "metadata": {},
   "outputs": [],
   "source": []
  },
  {
   "cell_type": "markdown",
   "id": "a9d3f55e",
   "metadata": {},
   "source": [
    "### 2.3. Morris Traversal\n",
    "time complexity: $O(N)$; space complexity: $O(1)$."
   ]
  },
  {
   "cell_type": "code",
   "execution_count": null,
   "id": "4b9f5d45",
   "metadata": {},
   "outputs": [],
   "source": []
  },
  {
   "cell_type": "markdown",
   "id": "91e27f6b",
   "metadata": {},
   "source": [
    "## 3. Binary Tree Postorder Traversal [problem](https://leetcode.com/problems/binary-tree-postorder-traversal/)\n",
    "\n",
    "**Definition:** first traverse the left subtree, then the right subtree, finally the root."
   ]
  },
  {
   "cell_type": "markdown",
   "id": "2d00e9c9",
   "metadata": {},
   "source": [
    "### 3.1. Recursive\n",
    "time complexity: $O(N)$; space complexity: $O(N)$."
   ]
  },
  {
   "cell_type": "code",
   "execution_count": 3,
   "id": "e6d36adf",
   "metadata": {},
   "outputs": [],
   "source": [
    "def postorderTraversal(roo):\n",
    "    \"\"\"Traverse a binary tree in postorder.\n",
    "    \n",
    "    Args:\n",
    "        root: TreeNode\n",
    "        \n",
    "    Return:\n",
    "        ans: list[int]\n",
    "    \"\"\"\n",
    "\n",
    "    ans = []\n",
    "\n",
    "    def dfs(node, res):\n",
    "        if not node:                       \n",
    "            dfs(node.left, res)\n",
    "            dfs(node.right, res)\n",
    "            res.append(node.val)\n",
    "\n",
    "    dfs(root, ans)\n",
    "    return ans"
   ]
  },
  {
   "cell_type": "markdown",
   "id": "3e10d889",
   "metadata": {},
   "source": [
    "### 3.2. Iterative"
   ]
  },
  {
   "cell_type": "code",
   "execution_count": null,
   "id": "d518fe1c",
   "metadata": {},
   "outputs": [],
   "source": []
  }
 ],
 "metadata": {
  "kernelspec": {
   "display_name": "Python 3 (ipykernel)",
   "language": "python",
   "name": "python3"
  },
  "language_info": {
   "codemirror_mode": {
    "name": "ipython",
    "version": 3
   },
   "file_extension": ".py",
   "mimetype": "text/x-python",
   "name": "python",
   "nbconvert_exporter": "python",
   "pygments_lexer": "ipython3",
   "version": "3.7.3"
  }
 },
 "nbformat": 4,
 "nbformat_minor": 5
}
