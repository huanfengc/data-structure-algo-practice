{
 "cells": [
  {
   "cell_type": "markdown",
   "id": "d5694aaf",
   "metadata": {},
   "source": [
    "## All Nodes Distance K in Binary Tree [problem](https://leetcode.com/problems/all-nodes-distance-k-in-binary-tree/)\n",
    "\n",
    "Given the root of a binary tree, the value of a target node ```target```, and an integer ```k```, return an array of the values of all nodes that have a distance ```k``` from the target node.\n",
    "\n",
    "You can return the answer in any order.\n",
    "\n",
    "**Constraints:**\n",
    "\n",
    "* The number of nodes in the tree is in the range ```[1, 500]```.\n",
    "* ```0 <= Node.val <= 500```\n",
    "* All the values ```Node.val``` are unique.\n",
    "* ```target``` is the value of one of the nodes in the tree.\n",
    "* ```0 <= k <= 1000```"
   ]
  },
  {
   "cell_type": "markdown",
   "id": "5e0cd6a8",
   "metadata": {},
   "source": [
    "### Define a TreeNode class"
   ]
  },
  {
   "cell_type": "code",
   "execution_count": 1,
   "id": "14b49490",
   "metadata": {},
   "outputs": [],
   "source": [
    "from typing import List\n",
    "\n",
    "# Definition for a binary tree node.\n",
    "class TreeNode:\n",
    "    def __init__(self, x):\n",
    "        self.val = x\n",
    "        self.left = None\n",
    "        self.right = None"
   ]
  },
  {
   "cell_type": "markdown",
   "id": "ed2e4c0d",
   "metadata": {},
   "source": [
    "### 1. BDS and BFS (convert a tree to a graph)\n",
    "time complexity: $O(N)$ for traversing all the nodes using DFS; space complexity: $O(N)$ for call stack when performing DFS and the queue for BFS in the worst case."
   ]
  },
  {
   "cell_type": "code",
   "execution_count": 2,
   "id": "f18960e1",
   "metadata": {},
   "outputs": [],
   "source": [
    "def distanceK(root: TreeNode, target: TreeNode, k: int) -> List[int]:\n",
    "    \"\"\"\n",
    "    Args:\n",
    "        root: the root node for a binary tree.\n",
    "        target: the node the distanced counted from.\n",
    "        k: the distance.\n",
    "        \n",
    "    Return:\n",
    "        a list containing all the nodes whose distances is k from target\n",
    "    \"\"\"\n",
    "\n",
    "    def dfs(node, par = None):\n",
    "        if node:\n",
    "            node.par = par\n",
    "            dfs(node.left, node)\n",
    "            dfs(node.right, node)\n",
    "    dfs(root)\n",
    "\n",
    "    queue = deque()\n",
    "    queue.append((target, 0))\n",
    "    visited = {target}\n",
    "\n",
    "    while queue:\n",
    "        if queue[0][1] == k:\n",
    "            return [node.val for node, d in queue]\n",
    "        node, d = queue.popleft()\n",
    "        for n in (node.left, node.right, node.par):\n",
    "            if n and n not in visited:\n",
    "                queue.append((n, d+1))\n",
    "                visited.add(n)\n",
    "    return []"
   ]
  },
  {
   "cell_type": "code",
   "execution_count": null,
   "id": "1d820503",
   "metadata": {},
   "outputs": [],
   "source": []
  }
 ],
 "metadata": {
  "kernelspec": {
   "display_name": "Python 3 (ipykernel)",
   "language": "python",
   "name": "python3"
  },
  "language_info": {
   "codemirror_mode": {
    "name": "ipython",
    "version": 3
   },
   "file_extension": ".py",
   "mimetype": "text/x-python",
   "name": "python",
   "nbconvert_exporter": "python",
   "pygments_lexer": "ipython3",
   "version": "3.7.3"
  }
 },
 "nbformat": 4,
 "nbformat_minor": 5
}
