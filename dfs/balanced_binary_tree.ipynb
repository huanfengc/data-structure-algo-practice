{
 "cells": [
  {
   "cell_type": "markdown",
   "id": "1c8e65ad",
   "metadata": {},
   "source": [
    "## 110. Balanced Binary Tree [problem](https://leetcode.com/problems/balanced-binary-tree/)\n",
    "\n",
    "Given a binary tree, determine if it is **height-balanced**.\n",
    "\n",
    "For this problem, a height-balanced binary tree is defined as:\n",
    "\n",
    "* a binary tree in which the left and right subtrees of every node differ in height by no more than 1.\n",
    "\n",
    "---\n",
    "\n",
    "**Constraints:**\n",
    "\n",
    "* The number of nodes in the tree is in the range ```[0, 5000]```.\n",
    "* ```-10^4 <= Node.val <= 10^4```"
   ]
  },
  {
   "cell_type": "markdown",
   "id": "d83f8e42",
   "metadata": {},
   "source": [
    "**Define the ```TreeNode``` class**"
   ]
  },
  {
   "cell_type": "code",
   "execution_count": 1,
   "id": "9a8d646d",
   "metadata": {},
   "outputs": [],
   "source": [
    "class TreeNode:\n",
    "    def __init__(self, val=0, left=None, right=None):\n",
    "        self.val = val\n",
    "        self.left = left\n",
    "        self.right = right"
   ]
  },
  {
   "cell_type": "markdown",
   "id": "50e48f34",
   "metadata": {},
   "source": [
    "### 1. Recursion (top-down)\n",
    "* Time complexity: $O(NlogN)$\n",
    "* Space complexity: $O(N)$"
   ]
  },
  {
   "cell_type": "code",
   "execution_count": 2,
   "id": "8ecd2447",
   "metadata": {},
   "outputs": [],
   "source": [
    "from typing import Optional\n",
    "\n",
    "def isBalanced(root: Optional[TreeNode]) -> bool:\n",
    "    \"\"\"\n",
    "    Args:\n",
    "        root: node of a binary tree\n",
    "        \n",
    "    Return:\n",
    "        True if the binary tree is a balanced binary tree, False otherwise \n",
    "    \"\"\"\n",
    "    \n",
    "    if not root:\n",
    "        return True\n",
    "    if abs(height(root.left) - height(root.right)) < 2 and isBalanced(root.left) and isBalanced(root.right):\n",
    "        return True\n",
    "\n",
    "\n",
    "def height(root):\n",
    "    \"\"\"\n",
    "    Args:\n",
    "        root: node of a binary tree\n",
    "        \n",
    "    Return:\n",
    "        the height of the given node in a binary tree\n",
    "    \"\"\"\n",
    "    \n",
    "    if not root:\n",
    "        return -1\n",
    "    return 1 + max(height(root.left), height(root.right))"
   ]
  },
  {
   "cell_type": "markdown",
   "id": "8f5a5753",
   "metadata": {},
   "source": [
    "### 2. Recursion (bottom-up)\n",
    "* Time complexity:\n",
    "* Space compelxity:"
   ]
  },
  {
   "cell_type": "code",
   "execution_count": null,
   "id": "d6cf80af",
   "metadata": {},
   "outputs": [],
   "source": []
  }
 ],
 "metadata": {
  "kernelspec": {
   "display_name": "Python 3 (ipykernel)",
   "language": "python",
   "name": "python3"
  },
  "language_info": {
   "codemirror_mode": {
    "name": "ipython",
    "version": 3
   },
   "file_extension": ".py",
   "mimetype": "text/x-python",
   "name": "python",
   "nbconvert_exporter": "python",
   "pygments_lexer": "ipython3",
   "version": "3.7.3"
  }
 },
 "nbformat": 4,
 "nbformat_minor": 5
}
