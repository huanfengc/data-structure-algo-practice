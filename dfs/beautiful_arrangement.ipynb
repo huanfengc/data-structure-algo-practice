{
 "cells": [
  {
   "cell_type": "markdown",
   "id": "d06463a2",
   "metadata": {},
   "source": [
    "## 526. Beautiful Arrangement [problem](https://leetcode.com/problems/beautiful-arrangement/)\n",
    "\n",
    "Suppose you have ```n``` integers labeled ```1``` through ```n```. A permutation of those n integers perm (```1```-indexed) is considered a beautiful arrangement if for every ```i``` (```1 <= i <= n```), either of the following is true:\n",
    "\n",
    "* ```perm[i]``` is divisible by ```i```.\n",
    "* ```i``` is divisible by ```perm[i]```.\n",
    "\n",
    "Given an integer ```n```, return the number of the beautiful arrangements that you can construct.\n",
    "\n",
    "---\n",
    "\n",
    "**Constraints:**\n",
    "\n",
    "* ```1 <= n <= 15```"
   ]
  },
  {
   "cell_type": "markdown",
   "id": "22210db3",
   "metadata": {},
   "source": [
    "### 1. DFS and Backtracking\n",
    "* Time complexity: $O(k)$, $k$ is the valid permutation, due to the if-statement, the program only look for valid one. The total number of permutations of $n$ integers is $n!$, so the brute force method takes $O(n!)$.\n",
    "* Space complexity: $O(n)$ for call stack of recursion, $n$ is the given integer."
   ]
  },
  {
   "cell_type": "code",
   "execution_count": 1,
   "id": "b38726bc",
   "metadata": {},
   "outputs": [],
   "source": [
    "class Solution:\n",
    "    def countArrangement(self, n: int) -> int:\n",
    "        \"\"\"\n",
    "        Args:\n",
    "            n: meaning a list of integers from 1 to n\n",
    "        \n",
    "        Return:\n",
    "            number of permutations satisfying either requirement\n",
    "        \"\"\"\n",
    "        \n",
    "        nums = [num for num in range(1, n + 1)]\n",
    "        # why the attribute (global variable works)\n",
    "        # but if ret as an argument, it will fail  ???\n",
    "        self.ret = 0\n",
    "        self.dfs(nums, 1)\n",
    "        return self.ret\n",
    "    \n",
    "    \n",
    "    def dfs(self, nums, idx):\n",
    "        if not nums:\n",
    "            self.ret += 1\n",
    "            \n",
    "        for i, num in enumerate(nums):\n",
    "            # be careful when using eg. 'if num % idx:'\n",
    "            if num % idx == 0 or idx % num == 0:\n",
    "                self.dfs(nums[:i] + nums[i+1:], idx + 1)"
   ]
  }
 ],
 "metadata": {
  "kernelspec": {
   "display_name": "Python 3 (ipykernel)",
   "language": "python",
   "name": "python3"
  },
  "language_info": {
   "codemirror_mode": {
    "name": "ipython",
    "version": 3
   },
   "file_extension": ".py",
   "mimetype": "text/x-python",
   "name": "python",
   "nbconvert_exporter": "python",
   "pygments_lexer": "ipython3",
   "version": "3.7.3"
  }
 },
 "nbformat": 4,
 "nbformat_minor": 5
}
