{
 "cells": [
  {
   "cell_type": "markdown",
   "id": "3953b70c",
   "metadata": {},
   "source": [
    "## 298. Binary Tree Longest Consecutive Sequence [problem](https://leetcode.com/problems/binary-tree-longest-consecutive-sequence/)\n",
    "\n",
    "Given the ```root``` of a binary tree, return the length of the longest consecutive sequence path.\n",
    "\n",
    "The path refers to any sequence of nodes from some starting node to any node in the tree along the parent-child connections. The longest consecutive path needs to be from parent to child (cannot be the reverse).\n",
    "\n",
    "---\n",
    "\n",
    "**Constraints:**\n",
    "\n",
    "* The number of nodes in the tree is in the range ```[1, 3 * 10^4]```.\n",
    "* ```-3 * 10^4 <= Node.val <= 3 * 10^4```"
   ]
  },
  {
   "cell_type": "markdown",
   "id": "7284481f",
   "metadata": {},
   "source": [
    "### 1. DFS (recursive, top-down, count from the parent nodes)\n",
    "* Time complexity: $O(N)$ for traversing the entire tree, $N$ is the total number of nodes in the tree.\n",
    "* Space complexity: $O(N)$ for the call stack in the worst case."
   ]
  },
  {
   "cell_type": "code",
   "execution_count": 1,
   "id": "baabe6cd",
   "metadata": {},
   "outputs": [],
   "source": [
    "# Definition for a binary tree node.\n",
    "class TreeNode:\n",
    "    def __init__(self, val=0, left=None, right=None):\n",
    "        self.val = val\n",
    "        self.left = left\n",
    "        self.right = right\n",
    "\n",
    "from typing import Optional\n",
    "        \n",
    "class Solution:\n",
    "    def longestConsecutive(self, root: Optional[TreeNode]) -> int:\n",
    "        \"\"\"\n",
    "        Args:\n",
    "            root: root node of the binary tree\n",
    "        \n",
    "        Return:\n",
    "            the max length of consecutive sequence in the tree\n",
    "        \"\"\"\n",
    "        \n",
    "        self.max_length = 0\n",
    "        self.dfs(root, None, 0) # curr_node, parent_node, curr_length\n",
    "        return self.max_length\n",
    "    \n",
    "    \n",
    "    def dfs(self, current, parent, curr_length):\n",
    "        if not current:\n",
    "            return\n",
    "        if parent and parent.val + 1 == current.val:\n",
    "            curr_length += 1\n",
    "        else:\n",
    "            curr_length = 1\n",
    "        # ** update max_length at each traversing step **\n",
    "        self.max_length = max(self.max_length, curr_length)\n",
    "        self.dfs(current.left, current, curr_length)\n",
    "        self.dfs(current.right, current, curr_length)"
   ]
  },
  {
   "cell_type": "markdown",
   "id": "8b22003e",
   "metadata": {},
   "source": [
    "### 2. DFS (bottom-up, count from the child nodes)"
   ]
  },
  {
   "cell_type": "code",
   "execution_count": null,
   "id": "bd969210",
   "metadata": {},
   "outputs": [],
   "source": []
  }
 ],
 "metadata": {
  "kernelspec": {
   "display_name": "Python 3 (ipykernel)",
   "language": "python",
   "name": "python3"
  },
  "language_info": {
   "codemirror_mode": {
    "name": "ipython",
    "version": 3
   },
   "file_extension": ".py",
   "mimetype": "text/x-python",
   "name": "python",
   "nbconvert_exporter": "python",
   "pygments_lexer": "ipython3",
   "version": "3.7.3"
  }
 },
 "nbformat": 4,
 "nbformat_minor": 5
}
