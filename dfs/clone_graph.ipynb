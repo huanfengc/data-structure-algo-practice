{
 "cells": [
  {
   "cell_type": "markdown",
   "id": "f9f5792c",
   "metadata": {},
   "source": [
    "## Clone Graph [problem](https://leetcode.com/problems/clone-graph/)\n",
    "\n",
    "Given a reference of a node in a connected undirected graph.\n",
    "\n",
    "Return a deep copy (clone) of the graph.\n",
    "\n",
    "Each node in the graph contains a value (int) and a list (List[Node]) of its neighbors.\n",
    "\n",
    "**Test case format:**\n",
    "\n",
    "For simplicity, each node's value is the same as the node's index (1-indexed). For example, the first node with ```val == 1```, the second node with ```val == 2```, and so on. The graph is represented in the test case using an adjacency list.\n",
    "\n",
    "An adjacency list is a collection of unordered lists used to represent a finite graph. Each list describes the set of neighbors of a node in the graph.\n",
    "\n",
    "The given node will always be the first node with ```val = 1```. You must return the copy of the given node as a reference to the cloned graph.\n",
    "\n",
    "**Constraints:**\n",
    "\n",
    "* The number of nodes in the graph is in the range ```[0, 100]```.\n",
    "* ```1 <= Node.val <= 100```\n",
    "* ```Node.val``` is unique for each node.\n",
    "* There are no repeated edges and no self-loops in the graph.\n",
    "* The Graph is connected and all nodes can be visited starting from the given node."
   ]
  },
  {
   "cell_type": "markdown",
   "id": "59f883b7",
   "metadata": {},
   "source": [
    "### Define the Node class"
   ]
  },
  {
   "cell_type": "code",
   "execution_count": 1,
   "id": "8dbc02af",
   "metadata": {},
   "outputs": [],
   "source": [
    "# Definition for a Node.\n",
    "class Node:\n",
    "    def __init__(self, val = 0, neighbors = None):\n",
    "        self.val = val\n",
    "        self.neighbors = neighbors if neighbors is not None else []"
   ]
  },
  {
   "cell_type": "markdown",
   "id": "ab734819",
   "metadata": {},
   "source": [
    "### 1. DFS and Recursion\n",
    "time complexity: $O(V+E)$, $V$ and $E$ are the numbers of vertices and edges; space complexity: $O(V)$ overall, the call stack for recursion takes $O(H)$ where $H$ is the **height of graph (not very clear about this ?)**."
   ]
  },
  {
   "cell_type": "code",
   "execution_count": 2,
   "id": "e811c502",
   "metadata": {},
   "outputs": [],
   "source": [
    "class Clone:\n",
    "    def __init__(self):\n",
    "        # a hashmap where the key is the node and the value is the cloned node.\n",
    "        self.visited = {}\n",
    "        \n",
    "    def cloneGraph(self, node: 'Node') -> 'Node':\n",
    "        \"\"\"\n",
    "        Args:\n",
    "            node: a vertex in the graph\n",
    "            \n",
    "        Return:\n",
    "            clone_node: a cloned node in the deep-copied graph.\n",
    "        \"\"\"\n",
    "        \n",
    "        if not node:\n",
    "            return node\n",
    "        \n",
    "        if node in self.visited:\n",
    "            return self.visited[node]\n",
    "        \n",
    "        clone_node = Node(node.val, [])\n",
    "        self.visited[node] = clone_node\n",
    "        \n",
    "        for neighbor in node.neighbors:\n",
    "            clone_node.neighbors.append(self.cloneGraph(neighbor))\n",
    "    \n",
    "        return clone_node"
   ]
  },
  {
   "cell_type": "markdown",
   "id": "02397eb2",
   "metadata": {},
   "source": [
    "### 2. BFS\n"
   ]
  },
  {
   "cell_type": "code",
   "execution_count": null,
   "id": "681edf54",
   "metadata": {},
   "outputs": [],
   "source": []
  }
 ],
 "metadata": {
  "kernelspec": {
   "display_name": "Python 3 (ipykernel)",
   "language": "python",
   "name": "python3"
  },
  "language_info": {
   "codemirror_mode": {
    "name": "ipython",
    "version": 3
   },
   "file_extension": ".py",
   "mimetype": "text/x-python",
   "name": "python",
   "nbconvert_exporter": "python",
   "pygments_lexer": "ipython3",
   "version": "3.7.3"
  }
 },
 "nbformat": 4,
 "nbformat_minor": 5
}
