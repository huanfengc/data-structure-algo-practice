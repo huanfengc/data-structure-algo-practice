{
 "cells": [
  {
   "cell_type": "markdown",
   "id": "7681cae3",
   "metadata": {},
   "source": [
    "## Closest Binary Search Tree Value [problem](https://leetcode.com/problems/closest-binary-search-tree-value/)\n",
    "\n",
    "Given the ```root``` of a binary search tree and a ```target``` value, return the value in the BST that is closest to the ```target```.\n",
    "\n",
    "**Constraints:**\n",
    "\n",
    "* The number of nodes in the tree is in the range ```[1, 10^4]```.\n",
    "* ```0 <= Node.val <= 10^9```\n",
    "* ```-10^9 <= target <= 10^9```"
   ]
  },
  {
   "cell_type": "markdown",
   "id": "9c83e1d0",
   "metadata": {},
   "source": [
    "### Define the TreeNode class"
   ]
  },
  {
   "cell_type": "code",
   "execution_count": 1,
   "id": "8ceef569",
   "metadata": {},
   "outputs": [],
   "source": [
    "from typing import Optional\n",
    "\n",
    "# Definition for a binary tree node.\n",
    "class TreeNode:\n",
    "    def __init__(self, val=0, left=None, right=None):\n",
    "        self.val = val\n",
    "        self.left = left\n",
    "        self.right = right"
   ]
  },
  {
   "cell_type": "markdown",
   "id": "6d5bda32",
   "metadata": {},
   "source": [
    "### 1. Inorder Traversal and Linear Search\n",
    "time complexity: $O(N)$; space complexity: $O(N)$."
   ]
  },
  {
   "cell_type": "code",
   "execution_count": 2,
   "id": "366a4808",
   "metadata": {},
   "outputs": [],
   "source": [
    "def closestValue1(root: Optional[TreeNode], target: float) -> int:\n",
    "    \"\"\"\n",
    "    Args:\n",
    "        root: the root node of BST\n",
    "        target: a float number\n",
    "        \n",
    "    Return:\n",
    "        the node value closest to the target value\n",
    "    \"\"\"\n",
    "\n",
    "    def inorder(n):\n",
    "        # a compact way to write the inorder traversal.\n",
    "        return inorder(n.left) + [n.val] + inorder(n.right) if n else []\n",
    "    # built-in function min with a keyword function (return value is being compared).\n",
    "    return min(inorder(root), key = lambda x: abs(x - target))"
   ]
  },
  {
   "cell_type": "markdown",
   "id": "24e421c5",
   "metadata": {},
   "source": [
    "### 2. Binary Search\n",
    "time complexity: $O(H)$, $H$ is the height of BST (from the root to the leaf), for a skewed BST, $H\\rightarrow N$; space complexity: $O(1)$."
   ]
  },
  {
   "cell_type": "code",
   "execution_count": 3,
   "id": "8a87cd59",
   "metadata": {},
   "outputs": [],
   "source": [
    "def closestValue2(root: Optional[TreeNode], target: float) -> int:\n",
    "    \"\"\"\n",
    "    Args:\n",
    "        root: the root node of BST\n",
    "        target: a float number\n",
    "        \n",
    "    Return:\n",
    "        the node value closest to the target value\n",
    "    \"\"\"\n",
    "\n",
    "    closest = root.val\n",
    "    node = root\n",
    "    while node:\n",
    "        closest = min(node.val, closest, key = lambda x: abs(target - x))\n",
    "        node = node.left if target < node.val else node.right\n",
    "    return closest"
   ]
  }
 ],
 "metadata": {
  "kernelspec": {
   "display_name": "Python 3 (ipykernel)",
   "language": "python",
   "name": "python3"
  },
  "language_info": {
   "codemirror_mode": {
    "name": "ipython",
    "version": 3
   },
   "file_extension": ".py",
   "mimetype": "text/x-python",
   "name": "python",
   "nbconvert_exporter": "python",
   "pygments_lexer": "ipython3",
   "version": "3.7.3"
  }
 },
 "nbformat": 4,
 "nbformat_minor": 5
}
