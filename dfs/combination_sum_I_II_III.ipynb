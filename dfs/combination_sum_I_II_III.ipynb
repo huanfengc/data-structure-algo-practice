{
 "cells": [
  {
   "cell_type": "markdown",
   "id": "f72b03b7",
   "metadata": {},
   "source": [
    "## 39. Combination Sum [problem](https://leetcode.com/problems/combination-sum/)\n",
    "\n",
    "Given an array of distinct integers ```candidates``` and a target integer ```target```, return a list of all unique combinations of ```candidates``` where the chosen numbers sum to ```target```. You may return the combinations in any order.\n",
    "\n",
    "The same number may be chosen from ```candidates``` an **unlimited number of times**. Two combinations are unique if the frequency of **at least one** of the chosen numbers is different.\n",
    "\n",
    "It is guaranteed that the number of unique combinations that sum up to target is less than ```150``` combinations for the given input.\n",
    "\n",
    "---\n",
    "\n",
    "**Constraints:**\n",
    "\n",
    "* ```1 <= candidates.length <= 30```\n",
    "* ```1 <= candidates[i] <= 200```\n",
    "* All elements of ```candidates``` are distinct.\n",
    "* ```1 <= target <= 500```"
   ]
  },
  {
   "cell_type": "markdown",
   "id": "64aa3e21",
   "metadata": {},
   "source": [
    "### 1. DFS and Backtracking\n",
    "* Time complexity: $O(N^{\\frac{T}{M}})$, $N$ is the number of candidates, $T$ is the target integer, $M$ is the minimal among the candidates. So $\\frac{T}{M}$ is the height of **a n-ary tree**. It is a n-ary tree because each candidate can be used repeatedly.\n",
    "* Space complexity: $O(\\frac{T}{M})$ for the call stack of recursion, ```path``` also takes $O(\\frac{T}{M})$."
   ]
  },
  {
   "cell_type": "code",
   "execution_count": 1,
   "id": "3fbfc737",
   "metadata": {},
   "outputs": [],
   "source": [
    "from typing import List\n",
    "\n",
    "def combinationSum(candidates: List[int], target: int) -> List[List[int]]:\n",
    "    \"\"\"\n",
    "    Args:\n",
    "        candidates: a list of distinct integers\n",
    "        target: a target sum\n",
    "        \n",
    "    Return:\n",
    "        a list of all unique combinations whose sums are equal to target\n",
    "    \"\"\"\n",
    "\n",
    "    ret = []\n",
    "    self.dfs(candidates, target, [], ret)\n",
    "    return ret\n",
    "\n",
    "\n",
    "def dfs(nums, target, path, ret):\n",
    "    if target == 0:\n",
    "        ret.append(path)\n",
    "    elif target < 0:\n",
    "        return\n",
    "\n",
    "    for i in range(len(nums)):\n",
    "        dfs(nums[i:], target - nums[i], path + [nums[i]], ret)"
   ]
  },
  {
   "cell_type": "markdown",
   "id": "dd37eefe",
   "metadata": {},
   "source": [
    "---\n",
    "\n",
    "## 40. Combination Sum II [problem](https://leetcode.com/problems/combination-sum-ii/)\n",
    "\n",
    "Given a collection of candidate numbers (```candidates```) and a target number (```target```), find all unique combinations in ```candidates``` where the candidate numbers sum to ```target```.\n",
    "\n",
    "Each number in candidates may **only be used once** in the combination.\n",
    "\n",
    "**Note: The solution set must not contain duplicate combinations.**\n",
    "\n",
    "---\n",
    "\n",
    "**Constraints:**\n",
    "\n",
    "* ```1 <= candidates.length <= 100```\n",
    "* ```1 <= candidates[i] <= 50```\n",
    "* ```1 <= target <= 30```"
   ]
  },
  {
   "cell_type": "markdown",
   "id": "f85cf9fd",
   "metadata": {},
   "source": [
    "### 1. DFS and Backtracking\n",
    "* Time complexity: $O(2^N)$, $N$ is the number of candidates. **Comparing to the problem above, if $T$ > max(candidates), then probably $N^{\\frac{T}{M}}>> 2^N$**. The sorting takes $O(NlogN)$.\n",
    "* Space complexity: $O(N)$ for call stack of recursion and ```path```."
   ]
  },
  {
   "cell_type": "code",
   "execution_count": 2,
   "id": "21841e6d",
   "metadata": {},
   "outputs": [],
   "source": [
    "def combinationSum2(self, candidates: List[int], target: int) -> List[List[int]]:\n",
    "\n",
    "    ret = []\n",
    "    dfs(sorted(candidates), target, [], ret)\n",
    "    return ret\n",
    "\n",
    "\n",
    "def dfs2(nums, target, path, ret):\n",
    "    if target == 0:\n",
    "        ret.append(path)\n",
    "    elif target < 0:\n",
    "        return\n",
    "\n",
    "    for i in range(len(nums)):\n",
    "        # to avoid duplicate combinations\n",
    "        if i > 0 and nums[i] == nums[i-1]:\n",
    "            continue\n",
    "        dfs(nums[i+1:], target - nums[i], path + [nums[i]], ret)"
   ]
  },
  {
   "cell_type": "markdown",
   "id": "b79d0e30",
   "metadata": {},
   "source": [
    "---\n",
    "\n",
    "## 216. Combination Sum III [problem](https://leetcode.com/problems/combination-sum-iii/)\n",
    "\n",
    "Find all valid combinations of ```k``` numbers that sum up to ```n``` such that the following conditions are true:\n",
    "\n",
    "* Only numbers ```1``` through ```9``` are used.\n",
    "* Each number is used at most once.\n",
    "\n",
    "Return a list of all possible valid combinations. The list **must not** contain the same combination twice, and the combinations may be returned in any order.\n",
    "\n",
    "**Constraints:**\n",
    "\n",
    "* ```2 <= k <= 9```\n",
    "* ```1 <= n <= 60```"
   ]
  },
  {
   "cell_type": "markdown",
   "id": "898a34a7",
   "metadata": {},
   "source": [
    "### 1. DFS and Backtracking\n",
    "* Time complexity: $O(k\\cdot C^{k}_{9})$, $C^{k}_{9}=\\frac{9!}{k!(9-k)!}$.\n",
    "* Space complexity: $O(k)$"
   ]
  },
  {
   "cell_type": "code",
   "execution_count": 3,
   "id": "1556f871",
   "metadata": {},
   "outputs": [],
   "source": [
    "def combinationSum3(k: int, n: int) -> List[List[int]]:\n",
    "\n",
    "    ret = []\n",
    "    \n",
    "    # define the helper function here just to avoid more arguments needed\n",
    "    def dfs(start, target, path, ret):\n",
    "        # number of integers in the combinations are fixed\n",
    "        if target == 0 and len(path) == k:\n",
    "            ret.append(path)\n",
    "        elif target < 0:\n",
    "            return\n",
    "        \n",
    "        # each number can only be used once\n",
    "        for i in range(start, 10):\n",
    "            dfs(i + 1, target - i, path + [i], ret)   \n",
    "\n",
    "\n",
    "    dfs(1, n, [], ret)\n",
    "    return ret"
   ]
  }
 ],
 "metadata": {
  "kernelspec": {
   "display_name": "Python 3 (ipykernel)",
   "language": "python",
   "name": "python3"
  },
  "language_info": {
   "codemirror_mode": {
    "name": "ipython",
    "version": 3
   },
   "file_extension": ".py",
   "mimetype": "text/x-python",
   "name": "python",
   "nbconvert_exporter": "python",
   "pygments_lexer": "ipython3",
   "version": "3.7.3"
  }
 },
 "nbformat": 4,
 "nbformat_minor": 5
}
