{
 "cells": [
  {
   "cell_type": "markdown",
   "id": "a2f5b12f",
   "metadata": {},
   "source": [
    "## 77. Combinations [problem](https://leetcode.com/problems/combinations/)\n",
    "\n",
    "Given two integers ```n``` and ```k```, return all possible combinations of ```k``` numbers out of the range ```[1, n]```.\n",
    "\n",
    "You may return the answer in any order.\n",
    "\n",
    "---\n",
    "\n",
    "**Constraints:**\n",
    "\n",
    "* ```1 <= n <= 20```\n",
    "* ```1 <= k <= n```"
   ]
  },
  {
   "cell_type": "markdown",
   "id": "7428619d",
   "metadata": {},
   "source": [
    "### 1. DFS and Backtracking\n",
    "* Time complexity: $O(k\\cdot C^{k}_N)$\n",
    "* Space complexity: **$O(k)$ or $O(C^{k}_N)$? only need to count call stack, right? ```ret``` doesn't count, right?**"
   ]
  },
  {
   "cell_type": "code",
   "execution_count": 1,
   "id": "e58355d1",
   "metadata": {},
   "outputs": [],
   "source": [
    "from typing import List\n",
    "\n",
    "def combine(n: int, k: int) -> List[List[int]]:\n",
    "    \"\"\"\n",
    "    Args:\n",
    "        n: available integers are 1, ..., n\n",
    "        k: combinations of k numbers\n",
    "        \n",
    "    Return:\n",
    "        list of all possible combinations\n",
    "    \"\"\"\n",
    "\n",
    "    ret = []\n",
    "    def dfs(start, path, ret):\n",
    "        if len(path) == k:\n",
    "            ret.append(path)\n",
    "        for i in range(start, n + 1):\n",
    "            dfs(i + 1, path + [i], ret)\n",
    "\n",
    "    dfs(1, [], ret)\n",
    "    return ret"
   ]
  },
  {
   "cell_type": "markdown",
   "id": "d4cfdb99",
   "metadata": {},
   "source": [
    "**The same idea but slightly different immplementation:**"
   ]
  },
  {
   "cell_type": "code",
   "execution_count": 2,
   "id": "b140ed53",
   "metadata": {},
   "outputs": [],
   "source": [
    "def combine1(n: int, k: int) -> List[List[int]]:\n",
    "\n",
    "    ret = []\n",
    "    def dfs(start, path, ret):\n",
    "        if len(path) == k:\n",
    "            # path[:] is a copy of path ***\n",
    "            ret.append(path[:])\n",
    "        for i in range(start, n + 1):\n",
    "            path.append(i)\n",
    "            dfs(i + 1, path, ret)\n",
    "            path.pop()\n",
    "\n",
    "    dfs(1, [], ret)\n",
    "    return ret"
   ]
  }
 ],
 "metadata": {
  "kernelspec": {
   "display_name": "Python 3 (ipykernel)",
   "language": "python",
   "name": "python3"
  },
  "language_info": {
   "codemirror_mode": {
    "name": "ipython",
    "version": 3
   },
   "file_extension": ".py",
   "mimetype": "text/x-python",
   "name": "python",
   "nbconvert_exporter": "python",
   "pygments_lexer": "ipython3",
   "version": "3.7.3"
  }
 },
 "nbformat": 4,
 "nbformat_minor": 5
}
