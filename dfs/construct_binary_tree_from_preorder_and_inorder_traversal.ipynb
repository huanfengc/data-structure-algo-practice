{
 "cells": [
  {
   "cell_type": "markdown",
   "id": "2519f1d0",
   "metadata": {},
   "source": [
    "## Construct Binary Tree from Preorder and Inorder Traversal [problem](https://leetcode.com/problems/construct-binary-tree-from-preorder-and-inorder-traversal/)\n",
    "\n",
    "Given two integer arrays ```preorder``` and ```inorder``` where ```preorder``` is the preorder traversal of a binary tree and ```inorder``` is the inorder traversal of the same tree, construct and return the binary tree.\n",
    "\n",
    "**Constraints:**\n",
    "\n",
    "* ```1 <= preorder.length <= 3000```\n",
    "* ```inorder.length == preorder.length```\n",
    "* ```-3000 <= preorder[i], inorder[i] <= 3000```\n",
    "* ```preorder``` and ```inorder``` consist of unique values.\n",
    "* Each value of ```inorder``` also appears in ```preorder```.\n",
    "* ```preorder``` is guaranteed to be the preorder traversal of the tree.\n",
    "* ```inorder``` is guaranteed to be the inorder traversal of the tree."
   ]
  },
  {
   "cell_type": "markdown",
   "id": "8370d67a",
   "metadata": {},
   "source": [
    "### Recursive\n",
    "time complexity: $O(N)$, both constructing ```hashmap``` and recursively converting list into tree takes $O(N)$; space complexity: $O(N)$, ```hashmap``` takes $O(N)$, the call stack during recursion takes $O(N)$ in the worst case and the average is $O(logN)$."
   ]
  },
  {
   "cell_type": "code",
   "execution_count": 1,
   "id": "01ea5937",
   "metadata": {},
   "outputs": [],
   "source": [
    "# Definition for a binary tree node.\n",
    "# class TreeNode:\n",
    "#     def __init__(self, val=0, left=None, right=None):\n",
    "#         self.val = val\n",
    "#         self.left = left\n",
    "#         self.right = right\n",
    "\n",
    "\n",
    "def buildTree(preorder, inorder):\n",
    "    \"\"\"\n",
    "    Args:\n",
    "        preorder: list[int], a list containing node values in the preorder.\n",
    "        inorder: list[int], a list containing node values in the in the inorder.\n",
    "        \n",
    "    Return:\n",
    "    The root node of the converted binary tree: TreeNode\n",
    "    \"\"\"\n",
    "\n",
    "    def convert(left, right):\n",
    "        \"\"\"Convert the sublist (subarray) to the tree given left and right bound.\n",
    "        \n",
    "        Args:\n",
    "            left: int\n",
    "            right: int\n",
    "            \n",
    "        Return:\n",
    "        root: TreeNode, the root of a subtree.\n",
    "        \"\"\"\n",
    "        \n",
    "        nonlocal root_index\n",
    "        if left > right:\n",
    "            return None\n",
    "\n",
    "        root = TreeNode(None)\n",
    "        root.val = preorder[root_index]\n",
    "        root_index += 1\n",
    "        mid = hashmap[root.val]\n",
    "\n",
    "        # keep left/right bound, split based on the new root node\n",
    "        root.left = buildTree(left, mid - 1)\n",
    "        root.right =buildTree(mid + 1, right)\n",
    "        # remember to return the new root node (** not very clear to me actually **)\n",
    "        return root\n",
    "\n",
    "\n",
    "    hashmap = {}\n",
    "    root_index = 0        \n",
    "    for i, c in enumerate(inorder):\n",
    "        hashmap[c] = i      \n",
    "    return convert(0, len(inorder) - 1)"
   ]
  }
 ],
 "metadata": {
  "kernelspec": {
   "display_name": "Python 3 (ipykernel)",
   "language": "python",
   "name": "python3"
  },
  "language_info": {
   "codemirror_mode": {
    "name": "ipython",
    "version": 3
   },
   "file_extension": ".py",
   "mimetype": "text/x-python",
   "name": "python",
   "nbconvert_exporter": "python",
   "pygments_lexer": "ipython3",
   "version": "3.7.3"
  }
 },
 "nbformat": 4,
 "nbformat_minor": 5
}
