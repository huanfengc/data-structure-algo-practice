{
 "cells": [
  {
   "cell_type": "markdown",
   "id": "dc1da50a",
   "metadata": {},
   "source": [
    "## Convert Sorted Array to Binary Search Tree [problem](https://leetcode.com/problems/convert-sorted-array-to-binary-search-tree/)\n",
    "\n",
    "Given an integer array ```nums``` where the elements are sorted in ascending order, convert it to a **height-balanced binary search tree**.\n",
    "\n",
    "A height-balanced binary tree is a binary tree in which the depth of the two subtrees of every node never differs by more than one.\n",
    "\n",
    "**Constraints:**\n",
    "\n",
    "* ```1 <= nums.length <= 10^4```\n",
    "* ```-10^4 <= nums[i] <= 10^4```\n",
    "* ```nums``` is sorted in a strictly increasing order.\n",
    "\n",
    "**Follow-up: What kind of traversal is a unique identifier of BST?**\n",
    "* preorder and postorder, not inorder."
   ]
  },
  {
   "cell_type": "markdown",
   "id": "e6322381",
   "metadata": {},
   "source": [
    "### Define the TreeNode class"
   ]
  },
  {
   "cell_type": "code",
   "execution_count": 1,
   "id": "635966c4",
   "metadata": {},
   "outputs": [],
   "source": [
    "from typing import Optional, List\n",
    "\n",
    "# Definition for a binary tree node.\n",
    "class TreeNode:\n",
    "    def __init__(self, val=0, left=None, right=None):\n",
    "        self.val = val\n",
    "        self.left = left\n",
    "        self.right = right"
   ]
  },
  {
   "cell_type": "markdown",
   "id": "d3f94bb7",
   "metadata": {},
   "source": [
    "### 1. Preorder Traversal (choose left-mid as root)\n",
    "time complexity: $O(N)$ for traversing all the nodes (all the elements in the list); space complexity: $O(logN)$ for the call stack during recursion, since it is a height-balanced binary tree. "
   ]
  },
  {
   "cell_type": "code",
   "execution_count": 2,
   "id": "81d0d0bd",
   "metadata": {},
   "outputs": [],
   "source": [
    "def sortedArrayToBST1(nums: List[int]) -> Optional[TreeNode]:\n",
    "    \"\"\"\n",
    "    Args:\n",
    "        nums: integer array (list) with sorted elements in ascending order) \n",
    "        \n",
    "    Return:\n",
    "        the root node of the height-balanced binary tree.\n",
    "    \"\"\"\n",
    "\n",
    "    def helper(left, right):\n",
    "        if left > right:\n",
    "            return None\n",
    "\n",
    "        mid = left + (right - left) // 2\n",
    "        root = TreeNode(nums[mid])\n",
    "        root.left = helper(left, mid - 1)\n",
    "        root.right = helper(mid + 1, right)\n",
    "        return root\n",
    "\n",
    "    return helper(0, len(nums) - 1)"
   ]
  },
  {
   "cell_type": "markdown",
   "id": "632e7c25",
   "metadata": {},
   "source": [
    "### 2. Preorder Traversal (choose right-mid as root)\n",
    "time complexity: $O(N)$; space complexity: $O(logN)$."
   ]
  },
  {
   "cell_type": "code",
   "execution_count": 3,
   "id": "77e0faad",
   "metadata": {},
   "outputs": [],
   "source": [
    "def sortedArrayToBST2(nums: List[int]) -> Optional[TreeNode]:\n",
    "    \"\"\"\n",
    "    Args:\n",
    "        nums: integer array (list) with sorted elements in ascending order) \n",
    "        \n",
    "    Return:\n",
    "        the root node of the height-balanced binary tree.\n",
    "    \"\"\"\n",
    "\n",
    "    def helper(left, right):\n",
    "        if left > right:\n",
    "            return None\n",
    "\n",
    "        mid = left + (right - left) // 2\n",
    "        # choose right-mid as root if there are even number of elements.\n",
    "        if (left + right) % 2: mid += 1 \n",
    "\n",
    "        root = TreeNode(nums[mid])\n",
    "        root.left = helper(left, mid - 1)\n",
    "        root.right = helper(mid + 1, right)\n",
    "        return root\n",
    "\n",
    "    return helper(0, len(nums) - 1)"
   ]
  }
 ],
 "metadata": {
  "kernelspec": {
   "display_name": "Python 3 (ipykernel)",
   "language": "python",
   "name": "python3"
  },
  "language_info": {
   "codemirror_mode": {
    "name": "ipython",
    "version": 3
   },
   "file_extension": ".py",
   "mimetype": "text/x-python",
   "name": "python",
   "nbconvert_exporter": "python",
   "pygments_lexer": "ipython3",
   "version": "3.7.3"
  }
 },
 "nbformat": 4,
 "nbformat_minor": 5
}
