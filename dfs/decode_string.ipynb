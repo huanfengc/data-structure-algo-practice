{
 "cells": [
  {
   "cell_type": "markdown",
   "id": "0c2b1f04",
   "metadata": {},
   "source": [
    "## Decode String [problem](https://leetcode.com/problems/decode-string/)\n",
    "\n",
    "**Similar problems: [no.150 Evaluate Reverse Polish Notation](https://leetcode.com/problems/evaluate-reverse-polish-notation/), [no.71 Simplify Path](https://leetcode.com/problems/simplify-path/).**\n",
    "\n",
    "---\n",
    "\n",
    "Given an encoded string, return its decoded string.\n",
    "\n",
    "The encoding rule is: ```k[encoded_string]```, where the ```encoded_string``` inside the square brackets is being repeated exactly ```k``` times. Note that ```k``` is guaranteed to be a positive integer.\n",
    "\n",
    "You may assume that the input string is always valid; there are no extra white spaces, square brackets are well-formed, etc.\n",
    "\n",
    "Furthermore, you may assume that the original data does not contain any digits and that digits are only for those repeat numbers, ```k```. For example, there will not be input like ```3a``` or ```2[4]```.\n",
    "\n",
    "---\n",
    "\n",
    "**Constraints:**\n",
    "\n",
    "* ```1 <= s.length <= 30```\n",
    "* ```s``` consists of lowercase English letters, digits, and square brackets '```[]```'.\n",
    "* ```s``` is guaranteed to be a valid input.\n",
    "* All the integers in s are in the range ```[1, 300]```."
   ]
  },
  {
   "cell_type": "markdown",
   "id": "c7479bbe",
   "metadata": {},
   "source": [
    "### 1. Using One Stack\n",
    "time complexity: $O(N)$; space complexity: $O(N)$, $N$ is the **size** of the final decoded string. \\\n",
    "**[A more detailed analysis of a tighter upbound](https://leetcode.com/problems/decode-string/solution/)**"
   ]
  },
  {
   "cell_type": "code",
   "execution_count": 1,
   "id": "6d15db5b",
   "metadata": {},
   "outputs": [],
   "source": [
    "def decodeString(self, s: str) -> str:\n",
    "    \"\"\"\n",
    "    Args:\n",
    "        s: encoded string\n",
    "        \n",
    "    Return:\n",
    "        the corresponding decoded string\n",
    "    \"\"\"\n",
    "\n",
    "    stack = []\n",
    "    res = \"\"\n",
    "\n",
    "    for c in s:\n",
    "        k, decode = \"\", \"\"\n",
    "\n",
    "        if c != \"]\":\n",
    "            stack.append(c)\n",
    "        else:\n",
    "            while stack[-1] != \"[\":\n",
    "                decode = stack.pop() + decode\n",
    "            stack.pop()\n",
    "            while stack and stack[-1].isnumeric():                    \n",
    "                k = stack.pop() + k\n",
    "            stack.append(int(k) * decode)\n",
    "\n",
    "    # to handle multiple un-nested k[encoded_string], can optimize?\n",
    "    for ele in stack:\n",
    "        res = res + ele\n",
    "    return res"
   ]
  },
  {
   "cell_type": "markdown",
   "id": "85ec02ad",
   "metadata": {},
   "source": [
    "### 2. DFS (recursion)\n"
   ]
  },
  {
   "cell_type": "code",
   "execution_count": null,
   "id": "af4872b5",
   "metadata": {},
   "outputs": [],
   "source": []
  }
 ],
 "metadata": {
  "kernelspec": {
   "display_name": "Python 3 (ipykernel)",
   "language": "python",
   "name": "python3"
  },
  "language_info": {
   "codemirror_mode": {
    "name": "ipython",
    "version": 3
   },
   "file_extension": ".py",
   "mimetype": "text/x-python",
   "name": "python",
   "nbconvert_exporter": "python",
   "pygments_lexer": "ipython3",
   "version": "3.7.3"
  }
 },
 "nbformat": 4,
 "nbformat_minor": 5
}
