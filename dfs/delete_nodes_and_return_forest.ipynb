{
 "cells": [
  {
   "cell_type": "markdown",
   "id": "55d1fb09",
   "metadata": {},
   "source": [
    "## Delete Nodes And Return Forest [problem](https://leetcode.com/problems/delete-nodes-and-return-forest/)\n",
    "\n",
    "Given the ```root``` of a binary tree, each node in the tree has a distinct value.\n",
    "\n",
    "After deleting all nodes with a value in ```to_delete```, we are left with a forest (a disjoint union of trees).\n",
    "\n",
    "Return the roots of the trees in the remaining forest. You may return the result in any order.\n",
    "\n",
    "**Constraints:**\n",
    "\n",
    "* The number of nodes in the given tree is at most ```1000```.\n",
    "* Each node has a distinct value between ```1``` and ```1000```.\n",
    "* ```to_delete.length <= 1000```\n",
    "* ```to_delete``` contains distinct values between ```1``` and ```1000```."
   ]
  },
  {
   "cell_type": "markdown",
   "id": "d26292e0",
   "metadata": {},
   "source": [
    "### Define the TreeNode class"
   ]
  },
  {
   "cell_type": "code",
   "execution_count": 1,
   "id": "6a537d02",
   "metadata": {},
   "outputs": [],
   "source": [
    "from typing import Optional, List\n",
    "\n",
    "# Definition for a binary tree node.\n",
    "class TreeNode:\n",
    "    def __init__(self, val=0, left=None, right=None):\n",
    "        self.val = val\n",
    "        self.left = left\n",
    "        self.right = right"
   ]
  },
  {
   "cell_type": "markdown",
   "id": "7ae8663f",
   "metadata": {},
   "source": [
    "### 1. Recursion\n",
    "**key point: a root in the forest is a root not to be deleted, a node becomes a root if** \\\n",
    "**1) it is the original root of the tree and is not deleted;** \\\n",
    "**2) it is a node whose parent is deleted.** \n",
    "\n",
    "time complexity: $O(N)$ for traversing all the nodes, turning the ```to_delete``` list into a set, and appending the result list; space complexity: $O(N)$ for call stack during recursion and the set."
   ]
  },
  {
   "cell_type": "code",
   "execution_count": 2,
   "id": "b7c8a7bb",
   "metadata": {},
   "outputs": [],
   "source": [
    "def delNodes(root: Optional[TreeNode], to_delete: List[int]) -> List[TreeNode]:\n",
    "    \"\"\"\n",
    "    Args:\n",
    "        root: root node of the binary tree\n",
    "        to_delete: a list of integers of node values to be deleted\n",
    "        \n",
    "    Return:\n",
    "        a list of roots in the remained forest.\n",
    "    \"\"\"\n",
    "\n",
    "    res = []\n",
    "    to_delete_set = set(to_delete)\n",
    "\n",
    "    def helper(node, is_root):\n",
    "        if not node:\n",
    "            return None\n",
    "\n",
    "        is_deleted = node.val in to_delete_set\n",
    "        if is_root and not is_deleted:\n",
    "            res.append(node)\n",
    "\n",
    "        # these three lines are a bit confusing to me,\n",
    "        # need to draw out what happen in the recursions.\n",
    "        node.left = helper(node.left, is_deleted)\n",
    "        node.right = helper(node.right, is_deleted)\n",
    "        return None if is_deleted else node\n",
    "\n",
    "    helper(root, True)\n",
    "    return res\n"
   ]
  }
 ],
 "metadata": {
  "kernelspec": {
   "display_name": "Python 3 (ipykernel)",
   "language": "python",
   "name": "python3"
  },
  "language_info": {
   "codemirror_mode": {
    "name": "ipython",
    "version": 3
   },
   "file_extension": ".py",
   "mimetype": "text/x-python",
   "name": "python",
   "nbconvert_exporter": "python",
   "pygments_lexer": "ipython3",
   "version": "3.7.3"
  }
 },
 "nbformat": 4,
 "nbformat_minor": 5
}
