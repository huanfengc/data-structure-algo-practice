{
 "cells": [
  {
   "cell_type": "markdown",
   "id": "091dfc9d",
   "metadata": {},
   "source": [
    "## Diameter of Binary Tree [problem](https://leetcode.com/problems/diameter-of-binary-tree/)\n",
    "\n",
    "Given the ```root``` of a binary tree, return the length of the diameter of the tree.\n",
    "\n",
    "The diameter of a binary tree is the length of the longest path between any two nodes in a tree. This path may or may not pass through the ```root```.\n",
    "\n",
    "The length of a path between two nodes is represented by the number of edges between them.\n",
    "\n",
    "**Constraints:**\n",
    "\n",
    "* The number of nodes in the tree is in the range ```[1, 104]```.\n",
    "* ```-100 <= Node.val <= 100```"
   ]
  },
  {
   "cell_type": "markdown",
   "id": "492a0caf",
   "metadata": {},
   "source": [
    "### 1. DFS (a global variable ```diameter``` is needed)\n",
    "time complexity: $O(N)$; space complexity: $O(N)$ for the worst case, ie. call stack for recursion for an extreme imbalanced tree, for a balanced tree, reduced to $O(logN)$."
   ]
  },
  {
   "cell_type": "code",
   "execution_count": 1,
   "id": "85aaf46c",
   "metadata": {},
   "outputs": [],
   "source": [
    "# Definition for a binary tree node.\n",
    "# class TreeNode:\n",
    "#     def __init__(self, val=0, left=None, right=None):\n",
    "#         self.val = val\n",
    "#         self.left = left\n",
    "#         self.right = right\n",
    "\n",
    "def diameterOfBinaryTree(root):\n",
    "    \"\"\"\n",
    "    input:\n",
    "    root: TreeNode\n",
    "    \n",
    "    return:\n",
    "    diameter: int (longest path between two nodes)\n",
    "    \"\"\"\n",
    "    \n",
    "    diameter = 0\n",
    "\n",
    "    def longestPath(node):\n",
    "\n",
    "        nonlocal diameter\n",
    "        if not node:\n",
    "            return 0\n",
    "\n",
    "        leftpath = longestPath(node.left)\n",
    "        rightpath = longestPath(node.right)\n",
    "\n",
    "        diameter = max(diameter, leftpath + rightpath)\n",
    "        # still a bit confused about how the recursion works, ie. the plus one.\n",
    "        return max(leftpath, rightpath) + 1\n",
    "\n",
    "    longestPath(root)\n",
    "    return diameter"
   ]
  }
 ],
 "metadata": {
  "kernelspec": {
   "display_name": "Python 3 (ipykernel)",
   "language": "python",
   "name": "python3"
  },
  "language_info": {
   "codemirror_mode": {
    "name": "ipython",
    "version": 3
   },
   "file_extension": ".py",
   "mimetype": "text/x-python",
   "name": "python",
   "nbconvert_exporter": "python",
   "pygments_lexer": "ipython3",
   "version": "3.7.3"
  }
 },
 "nbformat": 4,
 "nbformat_minor": 5
}
