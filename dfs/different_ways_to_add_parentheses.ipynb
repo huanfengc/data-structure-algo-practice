{
 "cells": [
  {
   "cell_type": "markdown",
   "id": "11dbc5b8",
   "metadata": {},
   "source": [
    "## 241. Different Ways to Add Parentheses [problem](https://leetcode.com/problems/different-ways-to-add-parentheses/)\n",
    "\n",
    "Given a string ```expression``` of numbers and operators, return all possible results from computing all the different possible ways to group numbers and operators. You may return the answer in any order.\n",
    "\n",
    "The test cases are generated such that the output values fit in a ```32```-bit integer and the number of different results does not exceed ```10^4```.\n",
    "\n",
    "---\n",
    "\n",
    "**Constraints:**\n",
    "\n",
    "* ```1 <= expression.length <= 20```\n",
    "* ```expression``` consists of digits and the operator ```'+'```, ```'-'```, and ```'*'```.\n",
    "* All the integer values in the input expression are in the range ```[0, 99]```."
   ]
  },
  {
   "cell_type": "markdown",
   "id": "9ba297dc",
   "metadata": {},
   "source": [
    "### 1. Divide and Conquer (Recursion and Memoization)\n",
    "* Time complexity: $O(N)$, $N$ is the number of operators in ```expression```.\n",
    "* Space complexity: $O(N)$ for call stack and Hash table."
   ]
  },
  {
   "cell_type": "code",
   "execution_count": 1,
   "id": "7b887abd",
   "metadata": {},
   "outputs": [],
   "source": [
    "from typing import List\n",
    "\n",
    "class Solution:\n",
    "    def diffWaysToCompute(self, expression: str) -> List[int]:\n",
    "        \n",
    "        self.memo = {}\n",
    "        return self.countDiffWays(expression)\n",
    "    \n",
    "    \n",
    "    def countDiffWays(self, expr):\n",
    "        if expr in self.memo:\n",
    "            return self.memo[expr]\n",
    "        if (\"+\" not in expr) and (\"-\" not in expr) and (\"*\" not in expr):\n",
    "            return [int(expr)]\n",
    "        \n",
    "        res = []\n",
    "        for i, v in enumerate(expr):\n",
    "            if v in {\"+\", \"-\", \"*\"}:\n",
    "                left_res = self.countDiffWays(expr[:i])\n",
    "                right_res = self.countDiffWays(expr[i + 1:])\n",
    "                for _, left_v in enumerate(left_res):\n",
    "                    for _, right_v in enumerate(right_res):\n",
    "                        if v == \"+\":\n",
    "                            res.append(left_v + right_v)\n",
    "                        elif v == \"-\":\n",
    "                            res.append(left_v - right_v)\n",
    "                        else:\n",
    "                            res.append(left_v * right_v)\n",
    "        self.memo[expr] = res\n",
    "        return res"
   ]
  }
 ],
 "metadata": {
  "kernelspec": {
   "display_name": "Python 3 (ipykernel)",
   "language": "python",
   "name": "python3"
  },
  "language_info": {
   "codemirror_mode": {
    "name": "ipython",
    "version": 3
   },
   "file_extension": ".py",
   "mimetype": "text/x-python",
   "name": "python",
   "nbconvert_exporter": "python",
   "pygments_lexer": "ipython3",
   "version": "3.7.3"
  }
 },
 "nbformat": 4,
 "nbformat_minor": 5
}
