{
 "cells": [
  {
   "cell_type": "markdown",
   "id": "5036d7c3",
   "metadata": {},
   "source": [
    "## 979. Distribute Coins in Binary Tree [problem](https://leetcode.com/problems/distribute-coins-in-binary-tree/)\n",
    "\n",
    "You are given the ```root``` of a binary tree with ```n``` nodes where each node in the tree has ```node.val``` coins. There are ```n``` coins in total throughout the whole tree.\n",
    "\n",
    "In one move, we may choose two adjacent nodes and move one coin from one node to another. A move may be from parent to child, or from child to parent.\n",
    "\n",
    "Return the minimum number of moves required to make every node have exactly one coin.\n",
    "\n",
    "---\n",
    "\n",
    "**Constraints:**\n",
    "\n",
    "* The number of nodes in the tree is ```n```.\n",
    "* ```1 <= n <= 100```\n",
    "* ```0 <= Node.val <= n```\n",
    "* The sum of all ```Node.val``` is ```n```."
   ]
  },
  {
   "cell_type": "markdown",
   "id": "207df7b5",
   "metadata": {},
   "source": [
    "### 1. DFS\n",
    "* Time complexity: $O(N)$, $N$ is the number of nodes in the tree.\n",
    "* Space complexity: $O(H)$, $H$ is the height of tree."
   ]
  },
  {
   "cell_type": "code",
   "execution_count": 1,
   "id": "ff8206f1",
   "metadata": {},
   "outputs": [],
   "source": [
    "from typing import Optional\n",
    "\n",
    "# Definition for a binary tree node.\n",
    "class TreeNode:\n",
    "    def __init__(self, val=0, left=None, right=None):\n",
    "        self.val = val\n",
    "        self.left = left\n",
    "        self.right = right\n",
    "        \n",
    "        \n",
    "class Solution:\n",
    "    def distributeCoins(self, root: Optional[TreeNode]) -> int:\n",
    "        \"\"\"\n",
    "        Args:\n",
    "            root: root node of given binary tree\n",
    "        \n",
    "        Return:\n",
    "            minimum number of moves needed to distribute coins\n",
    "        \"\"\"\n",
    "        \n",
    "        moves = 0\n",
    "        \n",
    "        def dfs(node):\n",
    "            nonlocal moves\n",
    "            if not node:\n",
    "                return 0\n",
    "            \n",
    "            left = dfs(node.left)\n",
    "            right = dfs(node.right)\n",
    "            moves += abs(left) + abs(right)\n",
    "            return node.val + left + right - 1\n",
    "        \n",
    "        dfs(root)\n",
    "        return moves"
   ]
  }
 ],
 "metadata": {
  "kernelspec": {
   "display_name": "Python 3 (ipykernel)",
   "language": "python",
   "name": "python3"
  },
  "language_info": {
   "codemirror_mode": {
    "name": "ipython",
    "version": 3
   },
   "file_extension": ".py",
   "mimetype": "text/x-python",
   "name": "python",
   "nbconvert_exporter": "python",
   "pygments_lexer": "ipython3",
   "version": "3.7.3"
  }
 },
 "nbformat": 4,
 "nbformat_minor": 5
}
