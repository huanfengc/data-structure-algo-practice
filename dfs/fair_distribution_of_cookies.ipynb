{
 "cells": [
  {
   "cell_type": "markdown",
   "id": "92906227",
   "metadata": {},
   "source": [
    "## 2305. Fair Distribution of Cookies [problem](https://leetcode.com/problems/fair-distribution-of-cookies/)\n",
    "\n",
    "You are given an integer array ```cookies```, where ```cookies[i]``` denotes the number of cookies in the ```ith``` bag. You are also given an integer ```k``` that denotes the number of children to distribute all the bags of cookies to. All the cookies in the same bag must go to the same child and cannot be split up.\n",
    "\n",
    "The unfairness of a distribution is defined as the **maximum** total cookies obtained by a single child in the distribution.\n",
    "\n",
    "Return the **minimum** unfairness of all distributions.\n",
    "\n",
    "---\n",
    "\n",
    "**Constraints:**\n",
    "\n",
    "* ```2 <= cookies.length <= 8```\n",
    "* ```1 <= cookies[i] <= 10^5```\n",
    "* ```2 <= k <= cookies.length```"
   ]
  },
  {
   "cell_type": "markdown",
   "id": "62dd6e4b",
   "metadata": {},
   "source": [
    "### 1. DFS (Backtracking)\n",
    "* Time complexity: $O(N\\times K)$, $N$ is the length of ```cookies```, $K$ is the number of children, each ```dfs``` call takes $O(K)$.\n",
    "* Space complexity: $O(N+K)$, $O(K)$ for the ```bag``` array, $O(N)$ for the call stack of backtracking."
   ]
  },
  {
   "cell_type": "code",
   "execution_count": 1,
   "id": "74b4aaf7",
   "metadata": {},
   "outputs": [],
   "source": [
    "from typing import List\n",
    "\n",
    "def distributeCookies(cookies: List[int], k: int) -> int:\n",
    "    \"\"\"\n",
    "    Args:\n",
    "        cookies: an integer array\n",
    "        k: number of children\n",
    "    \n",
    "    Return:\n",
    "        minimum unfairness of all distributions\n",
    "    \"\"\"\n",
    "\n",
    "    bag = [0] * k\n",
    "    self.ret = float(\"inf\")\n",
    "\n",
    "    def dfs(bag, idx):\n",
    "        if idx >= len(cookies):\n",
    "            self.ret = min(self.ret, max(bag))\n",
    "            return\n",
    "        if max(bag) > self.ret:\n",
    "            return\n",
    "\n",
    "        # for each bag of cookies, there are k options\n",
    "        for i in range(k):\n",
    "            bag[i] += cookies[idx]\n",
    "            dfs(bag, idx + 1)\n",
    "            bag[i] -= cookies[idx]\n",
    "    dfs(bag, 0)\n",
    "    return self.ret"
   ]
  }
 ],
 "metadata": {
  "kernelspec": {
   "display_name": "Python 3 (ipykernel)",
   "language": "python",
   "name": "python3"
  },
  "language_info": {
   "codemirror_mode": {
    "name": "ipython",
    "version": 3
   },
   "file_extension": ".py",
   "mimetype": "text/x-python",
   "name": "python",
   "nbconvert_exporter": "python",
   "pygments_lexer": "ipython3",
   "version": "3.7.3"
  }
 },
 "nbformat": 4,
 "nbformat_minor": 5
}
