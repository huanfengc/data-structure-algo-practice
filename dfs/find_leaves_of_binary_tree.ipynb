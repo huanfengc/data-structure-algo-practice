{
 "cells": [
  {
   "cell_type": "markdown",
   "id": "72f25ac9",
   "metadata": {},
   "source": [
    "## Find Leaves of Binary Tree [problem](https://leetcode.com/problems/find-leaves-of-binary-tree/)\n",
    "\n",
    "Given the ```root``` of a binary tree, collect a tree's nodes as if you were doing this:\n",
    "\n",
    "* Collect all the leaf nodes.\n",
    "* Remove all the leaf nodes.\n",
    "* Repeat until the tree is empty.\n",
    "\n",
    "**Constraints:**\n",
    "\n",
    "* The number of nodes in the tree is in the range ```[1, 100]```.\n",
    "* ```-100 <= Node.val <= 100```"
   ]
  },
  {
   "cell_type": "markdown",
   "id": "c092a93f",
   "metadata": {},
   "source": [
    "### 1. DFS (without sorting but generate result 'in place')\n",
    "time complexity: $O(N)$; space complexity: $O(N)$."
   ]
  },
  {
   "cell_type": "code",
   "execution_count": 1,
   "id": "b07fa2a2",
   "metadata": {},
   "outputs": [],
   "source": [
    "def findLeaves(root) -> list:\n",
    "\n",
    "    def helper(node):\n",
    "        \n",
    "        # base case\n",
    "        if not node: \n",
    "            return -1\n",
    "        \n",
    "        leftheight = getHeight(node.left)\n",
    "        rightheight = getHeight(node.right)\n",
    "        currheight = max(leftheight, rightheight) + 1\n",
    "        \n",
    "        # 0-index, create a new array if reaching a higher position.\n",
    "        if len(ans) == currheight:\n",
    "            ans.append([])\n",
    "        ans[currheight].append(node.val)\n",
    "        return currheight\n",
    "\n",
    "    \n",
    "    ans = []   \n",
    "    getHeight(root)\n",
    "    return ans"
   ]
  }
 ],
 "metadata": {
  "kernelspec": {
   "display_name": "Python 3 (ipykernel)",
   "language": "python",
   "name": "python3"
  },
  "language_info": {
   "codemirror_mode": {
    "name": "ipython",
    "version": 3
   },
   "file_extension": ".py",
   "mimetype": "text/x-python",
   "name": "python",
   "nbconvert_exporter": "python",
   "pygments_lexer": "ipython3",
   "version": "3.7.3"
  }
 },
 "nbformat": 4,
 "nbformat_minor": 5
}
