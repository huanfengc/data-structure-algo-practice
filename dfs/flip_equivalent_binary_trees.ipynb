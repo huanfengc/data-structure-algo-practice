{
 "cells": [
  {
   "cell_type": "markdown",
   "id": "8b5a80f6",
   "metadata": {},
   "source": [
    "## Flip Equivalent Binary Trees [problem](https://leetcode.com/problems/flip-equivalent-binary-trees/)\n",
    "\n",
    "For a binary tree T, we can define a flip operation as follows: choose any node, and swap the left and right child subtrees.\n",
    "\n",
    "A binary tree X is flip equivalent to a binary tree Y if and only if we can make X equal to Y after some number of flip operations.\n",
    "\n",
    "Given the roots of two binary trees ```root1``` and ```root2```, return ```true``` if the two trees are flip equivalent or ```false``` otherwise.\n",
    "\n",
    "**Constraints:**\n",
    "\n",
    "* The number of nodes in each tree is in the range ```[0, 100]```.\n",
    "* Each tree will have unique node values in the range ```[0, 99]```."
   ]
  },
  {
   "cell_type": "markdown",
   "id": "6cb34bf4",
   "metadata": {},
   "source": [
    "### Recursive\n",
    "time complexity: $O(min(M, N))$; space complexity: $O(min(M, N))$, $M$ and $N$ are numbers of nodes of two trees, if they are flip equivalent then $M = N$, otherwise, return ```False``` when the smaller tree is exausted."
   ]
  },
  {
   "cell_type": "code",
   "execution_count": 1,
   "id": "232cef2b",
   "metadata": {},
   "outputs": [],
   "source": [
    "# Definition for a binary tree node.\n",
    "# class TreeNode:\n",
    "#     def __init__(self, val=0, left=None, right=None):\n",
    "#         self.val = val\n",
    "#         self.left = left\n",
    "#         self.right = right\n",
    "\n",
    "def flipEquiv(root1, root2):\n",
    "    \"\"\"Recursive function check if two trees are flip equivalent.\n",
    "    \n",
    "    Args:\n",
    "        root1: TreeNode\n",
    "        root2: TreeNode\n",
    "        \n",
    "    Return:\n",
    "        Boolean\n",
    "    \"\"\"\n",
    "\n",
    "    if root1 is root2:\n",
    "        return True # I don't unedrstand this return. ***************!\n",
    "    if not root1 or not root2: \n",
    "        return False\n",
    "    if root1.val != root2.val:\n",
    "        return False\n",
    "\n",
    "    return  (flipEquiv(root1.left, root2.left) and \n",
    "             flipEquiv(root1.right, root2.right) or\n",
    "             flipEquiv(root1.right, root2.left) and\n",
    "             flipEquiv(root1.left, root2.right))        "
   ]
  },
  {
   "cell_type": "markdown",
   "id": "f6540302",
   "metadata": {},
   "source": [
    "### 2.  [Canonical Traversal](https://leetcode.com/problems/flip-equivalent-binary-trees/solution/)\n"
   ]
  },
  {
   "cell_type": "code",
   "execution_count": null,
   "id": "7c0dfa9c",
   "metadata": {},
   "outputs": [],
   "source": []
  }
 ],
 "metadata": {
  "kernelspec": {
   "display_name": "Python 3 (ipykernel)",
   "language": "python",
   "name": "python3"
  },
  "language_info": {
   "codemirror_mode": {
    "name": "ipython",
    "version": 3
   },
   "file_extension": ".py",
   "mimetype": "text/x-python",
   "name": "python",
   "nbconvert_exporter": "python",
   "pygments_lexer": "ipython3",
   "version": "3.7.3"
  }
 },
 "nbformat": 4,
 "nbformat_minor": 5
}
