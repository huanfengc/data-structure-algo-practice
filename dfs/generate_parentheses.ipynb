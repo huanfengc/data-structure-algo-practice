{
 "cells": [
  {
   "cell_type": "markdown",
   "id": "863ab678",
   "metadata": {},
   "source": [
    "## Generate Parentheses [problem](https://leetcode.com/problems/generate-parentheses/)\n",
    "\n",
    "Given ```n``` pairs of parentheses, write a function to generate all combinations of well-formed parentheses.\n",
    "\n",
    "---\n",
    "\n",
    "**Constraints:**\n",
    "\n",
    "* ```1 <= n <= 8```\n",
    "\n",
    "---\n",
    "\n",
    "**Follow-up: What is the time/space complexity for such problems?**"
   ]
  },
  {
   "cell_type": "markdown",
   "id": "e64a564e",
   "metadata": {},
   "source": [
    "### 1. DFS (recursion)\n",
    "time complexity: ?; space complexity: ? **(haven't figured out yet)**"
   ]
  },
  {
   "cell_type": "code",
   "execution_count": 1,
   "id": "847d2287",
   "metadata": {},
   "outputs": [],
   "source": [
    "from typing import List\n",
    "\n",
    "def generateParenthesis(n: int) -> List[str]:\n",
    "    \"\"\"\n",
    "    Args:\n",
    "        n: numbers of pairs of parentheses\n",
    "        \n",
    "    Return:\n",
    "        a list of combinations of well-formed parentheses \n",
    "    \"\"\"\n",
    "\n",
    "    res = []\n",
    "\n",
    "    def dfs(s1, s2, path, ans):\n",
    "        if s1 > s2:\n",
    "            return\n",
    "        if not s1 and not s2:\n",
    "            ans.append(path)\n",
    "            return ans\n",
    "        if s1:\n",
    "            dfs(s1 - 1, s2, path + \"(\", ans)\n",
    "        if s2:\n",
    "            dfs(s1, s2 - 1, path + \")\", ans)\n",
    "\n",
    "    dfs(n, n, \"\", res)    \n",
    "    return res"
   ]
  }
 ],
 "metadata": {
  "kernelspec": {
   "display_name": "Python 3 (ipykernel)",
   "language": "python",
   "name": "python3"
  },
  "language_info": {
   "codemirror_mode": {
    "name": "ipython",
    "version": 3
   },
   "file_extension": ".py",
   "mimetype": "text/x-python",
   "name": "python",
   "nbconvert_exporter": "python",
   "pygments_lexer": "ipython3",
   "version": "3.7.3"
  }
 },
 "nbformat": 4,
 "nbformat_minor": 5
}
