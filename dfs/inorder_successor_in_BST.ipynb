{
 "cells": [
  {
   "cell_type": "markdown",
   "id": "e04f2139",
   "metadata": {},
   "source": [
    "## Inorder Successor in BST [problem](https://leetcode.com/problems/inorder-successor-in-bst/)\n",
    "\n",
    "Given the ```root``` of a **binary search tree** and a node ```p``` **in it**, return the in-order successor of that node in the BST. If the given node has no in-order successor in the tree, return ```null```.\n",
    "\n",
    "The successor of a node ```p``` is the node with the smallest key greater than ```p.val```.\n",
    "\n",
    "---\n",
    "\n",
    "**Constraints:**\n",
    "\n",
    "* The number of nodes in the tree is in the range ```[1, 10^4]```.\n",
    "* ```-10^5 <= Node.val <= 10^5```\n",
    "* All Nodes will have unique values.\n",
    "\n",
    "---\n",
    "\n",
    "**Follow-up: if it not BST but a normal binary tree, how to handle the problem? (method 1 can not be used).**"
   ]
  },
  {
   "cell_type": "markdown",
   "id": "1a5ace0f",
   "metadata": {},
   "source": [
    "### Define the TreeNode class"
   ]
  },
  {
   "cell_type": "code",
   "execution_count": 1,
   "id": "70e2abd0",
   "metadata": {},
   "outputs": [],
   "source": [
    "from typing import Optional\n",
    "\n",
    "# Definition for a binary tree node.\n",
    "class TreeNode:\n",
    "    def __init__(self, x):\n",
    "        self.val = x\n",
    "        self.left = None\n",
    "        self.right = None"
   ]
  },
  {
   "cell_type": "markdown",
   "id": "866d86e0",
   "metadata": {},
   "source": [
    "### 1. Iteration (make use of properties of BST)\n",
    "time complexity: $O(N)$ for the worst case, $O(logN)$ in average; space complexity: $O(1)$."
   ]
  },
  {
   "cell_type": "code",
   "execution_count": 2,
   "id": "d2fe67db",
   "metadata": {},
   "outputs": [],
   "source": [
    "def inorderSuccessor1(self, root: TreeNode, p: TreeNode) -> Optional[TreeNode]:\n",
    "    \"\"\"\n",
    "    Args:\n",
    "        root: the root node of BST\n",
    "        p: a node in BST\n",
    "        \n",
    "    Return:\n",
    "        the node in BST whose value is larger and closest to p.val.\n",
    "    \"\"\"\n",
    "\n",
    "    node, succ = root, None\n",
    "\n",
    "    while node:\n",
    "        if node.val > p.val:\n",
    "            succ = node\n",
    "            node = node.left\n",
    "        else:\n",
    "            node = node.right\n",
    "    return succ"
   ]
  },
  {
   "cell_type": "markdown",
   "id": "a200597d",
   "metadata": {},
   "source": [
    "### 2. General method (without using BST properties)\n"
   ]
  },
  {
   "cell_type": "code",
   "execution_count": null,
   "id": "fded4f7e",
   "metadata": {},
   "outputs": [],
   "source": []
  }
 ],
 "metadata": {
  "kernelspec": {
   "display_name": "Python 3 (ipykernel)",
   "language": "python",
   "name": "python3"
  },
  "language_info": {
   "codemirror_mode": {
    "name": "ipython",
    "version": 3
   },
   "file_extension": ".py",
   "mimetype": "text/x-python",
   "name": "python",
   "nbconvert_exporter": "python",
   "pygments_lexer": "ipython3",
   "version": "3.7.3"
  }
 },
 "nbformat": 4,
 "nbformat_minor": 5
}
