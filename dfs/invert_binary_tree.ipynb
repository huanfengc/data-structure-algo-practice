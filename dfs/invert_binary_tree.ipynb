{
 "cells": [
  {
   "cell_type": "markdown",
   "id": "089ed280",
   "metadata": {},
   "source": [
    "## Invert Binary Tree [problem](https://leetcode.com/problems/invert-binary-tree/)\n",
    "\n",
    "Given the ```root``` of a binary tree, invert the tree, and return its ```root```.\n",
    "\n",
    "**Constraints:**\n",
    "\n",
    "* The number of nodes in the tree is in the range ```[0, 100]```.\n",
    "* ```-100 <= Node.val <= 100```"
   ]
  },
  {
   "cell_type": "markdown",
   "id": "e4ed1117",
   "metadata": {},
   "source": [
    "### 1. Recursive (DFS-like)\n",
    "time complexity: $O(N)$, $N$ is the number of nodes, all the nodes are traversed once; space complexity: $O(N)$, the call stack of recursion uses memory proportional to the height of the tree which is also proportional to $N$."
   ]
  },
  {
   "cell_type": "code",
   "execution_count": 1,
   "id": "bfb76479",
   "metadata": {},
   "outputs": [],
   "source": [
    "# Definition for a binary tree node.\n",
    "# class TreeNode:\n",
    "#     def __init__(self, val=0, left=None, right=None):\n",
    "#         self.val = val\n",
    "#         self.left = left\n",
    "#         self.right = right\n",
    "\n",
    "def invertTree(root):\n",
    "    \"\"\"\n",
    "    input:\n",
    "    root: TreeNode\n",
    "    \n",
    "    return:\n",
    "    root: TreeNode\n",
    "    \"\"\"\n",
    "\n",
    "    if not root:\n",
    "        return None\n",
    "\n",
    "    left = self.invertTree(root.left)\n",
    "    right = self.invertTree(root.right)\n",
    "    root.left = right\n",
    "    root.right = left\n",
    "\n",
    "    return root"
   ]
  },
  {
   "cell_type": "markdown",
   "id": "d953cd95",
   "metadata": {},
   "source": [
    "### 2. Iterative (BFS-like, using queue)\n",
    "time complexity: $O(N)$; space complexity: $O(N)$ for ```queue```."
   ]
  },
  {
   "cell_type": "code",
   "execution_count": 2,
   "id": "f7359069",
   "metadata": {},
   "outputs": [],
   "source": [
    "def invertTree(root):\n",
    "    \"\"\"\n",
    "    input:\n",
    "    root: TreeNode\n",
    "    \n",
    "    return:\n",
    "    root: TreeNode\n",
    "    \"\"\"\n",
    "\n",
    "    if not root:\n",
    "        return None\n",
    "\n",
    "    queue = deque([root])\n",
    "\n",
    "    while queue:\n",
    "        curr = queue.popleft()\n",
    "        curr.left, curr.right = curr.right, curr.left\n",
    "        if curr.left:\n",
    "            queue.append(curr.left)\n",
    "        if curr.right:\n",
    "            queue.append(curr.right)\n",
    "    return root"
   ]
  }
 ],
 "metadata": {
  "kernelspec": {
   "display_name": "Python 3 (ipykernel)",
   "language": "python",
   "name": "python3"
  },
  "language_info": {
   "codemirror_mode": {
    "name": "ipython",
    "version": 3
   },
   "file_extension": ".py",
   "mimetype": "text/x-python",
   "name": "python",
   "nbconvert_exporter": "python",
   "pygments_lexer": "ipython3",
   "version": "3.7.3"
  }
 },
 "nbformat": 4,
 "nbformat_minor": 5
}
