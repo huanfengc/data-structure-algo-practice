{
 "cells": [
  {
   "cell_type": "markdown",
   "id": "ff57643a",
   "metadata": {},
   "source": [
    "## Kth Smallest Element in a BST [problem](https://leetcode.com/problems/kth-smallest-element-in-a-bst/)\n",
    "\n",
    "Given the ```root``` of a binary search tree, and an integer ```k```, return the ```k```th smallest value (1-indexed) of all the values of the nodes in the tree.\n",
    "\n",
    "**Constraints:**\n",
    "\n",
    "* The number of nodes in the tree is ```n```.\n",
    "* ```1 <= k <= n <= 10^4```\n",
    "* ```0 <= Node.val <= 10^4```\n",
    "\n",
    "**Follow up:** If the BST is modified often (i.e., we can do insert and delete operations) and you need to find the kth smallest frequently, how would you optimize?"
   ]
  },
  {
   "cell_type": "code",
   "execution_count": 1,
   "id": "45aad6e6",
   "metadata": {},
   "outputs": [],
   "source": [
    "from typing import Optional\n",
    "# Definition for a binary tree node.\n",
    "class TreeNode:\n",
    "    def __init__(self, val=0, left=None, right=None):\n",
    "        self.val = val\n",
    "        self.left = left\n",
    "        self.right = right"
   ]
  },
  {
   "cell_type": "markdown",
   "id": "33450579",
   "metadata": {},
   "source": [
    "### 1. DFS (inorder traversal, recursion)\n",
    "time complexity: $O(N)$ for traversing all the nodes in BST and appending the list; space complexity: $O(N)$ for call stack during recursion and the list. **(the list seems not necessary at all, consider optimization)**"
   ]
  },
  {
   "cell_type": "code",
   "execution_count": 2,
   "id": "4bb9abb9",
   "metadata": {},
   "outputs": [],
   "source": [
    "def kthSmallest(self, root: Optional[TreeNode], k: int) -> int:\n",
    "\n",
    "    order = []\n",
    "\n",
    "    def dfs(node, order):\n",
    "        if not node:\n",
    "            return None\n",
    "        dfs(node.left, order)\n",
    "        order.append(node.val)\n",
    "        dfs(node.right, order)\n",
    "\n",
    "    dfs(root, order)\n",
    "    return order[k-1]"
   ]
  },
  {
   "cell_type": "markdown",
   "id": "4a916763",
   "metadata": {},
   "source": [
    "### 2. DFS (inorder traversal, iteration)\n"
   ]
  },
  {
   "cell_type": "code",
   "execution_count": null,
   "id": "c90c21ec",
   "metadata": {},
   "outputs": [],
   "source": []
  },
  {
   "cell_type": "markdown",
   "id": "da3e806c",
   "metadata": {},
   "source": [
    "### About the follow-up\n"
   ]
  }
 ],
 "metadata": {
  "kernelspec": {
   "display_name": "Python 3 (ipykernel)",
   "language": "python",
   "name": "python3"
  },
  "language_info": {
   "codemirror_mode": {
    "name": "ipython",
    "version": 3
   },
   "file_extension": ".py",
   "mimetype": "text/x-python",
   "name": "python",
   "nbconvert_exporter": "python",
   "pygments_lexer": "ipython3",
   "version": "3.7.3"
  }
 },
 "nbformat": 4,
 "nbformat_minor": 5
}
