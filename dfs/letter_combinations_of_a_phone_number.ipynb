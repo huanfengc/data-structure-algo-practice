{
 "cells": [
  {
   "cell_type": "markdown",
   "id": "c56cca3c",
   "metadata": {},
   "source": [
    "## 17. Letter Combinations of a Phone Number [problem](https://leetcode.com/problems/letter-combinations-of-a-phone-number/)\n",
    "\n",
    "Given a string containing ```digits``` from ```2-9``` inclusive, return all possible letter combinations that the number could represent. Return the answer in any order.\n",
    "\n",
    "A mapping of digit to letters (just like on the telephone buttons) is given [below]((https://leetcode.com/problems/letter-combinations-of-a-phone-number/)). Note that ```1``` does not map to any letters.\n",
    "\n",
    "---\n",
    "\n",
    "**Constraints:**\n",
    "\n",
    "* ```0 <= digits.length <= 4```\n",
    "* ```digits[i] is a digit in the range ```['2', '9']```."
   ]
  },
  {
   "cell_type": "markdown",
   "id": "a990dd14",
   "metadata": {},
   "source": [
    "### 1. DFS and Backtracking\n",
    "* Time complexity: $O(N\\cdot4^N)$, $N$ is the length of ```digits```, ```4``` is the worst case, eg. ```digits = \"7777\"```. At most there could be $4^N$ combinations and each combination takes $O(N)$ to build.\n",
    "* Space complexity: $O(N)$ for the call stack of recursion."
   ]
  },
  {
   "cell_type": "code",
   "execution_count": 1,
   "id": "73362eab",
   "metadata": {},
   "outputs": [],
   "source": [
    "from typing import List\n",
    "\n",
    "class Solution:\n",
    "    def letterCombinations(self, digits: str) -> List[str]:\n",
    "        \"\"\"\n",
    "        Args:\n",
    "            digits: a string contain digits from 2 - 9.\n",
    "        \n",
    "        Return:\n",
    "            ret: a list of all possible combinations (strings) the digits could mean\n",
    "        \"\"\"\n",
    "        \n",
    "        if not digits:\n",
    "            return []\n",
    "        \n",
    "        self.hashmap = {\n",
    "            \"2\": \"abc\",\n",
    "            \"3\": \"def\",\n",
    "            \"4\": \"ghi\",\n",
    "            \"5\": \"jkl\",\n",
    "            \"6\": \"mno\",\n",
    "            \"7\": \"pqrs\",\n",
    "            \"8\": \"tuv\",\n",
    "            \"9\": \"wxyz\"\n",
    "        }\n",
    "        \n",
    "        ret = []\n",
    "        self.digits = digits\n",
    "        self.dfs(0, \"\", ret)\n",
    "        return ret\n",
    "    \n",
    "    \n",
    "    def dfs(self, idx, path, ret):\n",
    "        if len(path) == len(self.digits):\n",
    "            ret.append(path)\n",
    "            # return is needed to avoid index issue below\n",
    "            return\n",
    "        \n",
    "        num = self.digits[idx]\n",
    "        for char in self.hashmap[num]:\n",
    "            self.dfs(idx + 1, path + char, ret)"
   ]
  },
  {
   "cell_type": "markdown",
   "id": "3aa7944b",
   "metadata": {},
   "source": [
    "**Why the following implementation is wrong? (The ```for-loop``` in the ```dfs``` function).**"
   ]
  },
  {
   "cell_type": "code",
   "execution_count": 2,
   "id": "35681f61",
   "metadata": {},
   "outputs": [],
   "source": [
    "class SolutionWrong:\n",
    "    def letterCombinations(self, digits: str) -> List[str]:\n",
    "        \n",
    "        if not digits:\n",
    "            return []\n",
    "        \n",
    "        self.hashmap = {\n",
    "            \"2\": \"abc\",\n",
    "            \"3\": \"def\",\n",
    "            \"4\": \"ghi\",\n",
    "            \"5\": \"jkl\",\n",
    "            \"6\": \"mno\",\n",
    "            \"7\": \"pqrs\",\n",
    "            \"8\": \"tuv\",\n",
    "            \"9\": \"wxyz\"\n",
    "        }\n",
    "        \n",
    "        ret = []\n",
    "        self.digits = digits\n",
    "        self.dfs(digits, \"\", ret)\n",
    "        return ret\n",
    "    \n",
    "    \n",
    "    def dfs(self, digits, path, ret):\n",
    "        if not digits:\n",
    "            ret.append(path)\n",
    "            # return seems not necessary, why?\n",
    "            return\n",
    "        \n",
    "        # the outer for-loop will create some problems, why?\n",
    "        for i, num in enumerate(digits):\n",
    "            for char in self.hashmap[num]:\n",
    "                self.dfs(digits[i + 1:], path + char, ret)"
   ]
  }
 ],
 "metadata": {
  "kernelspec": {
   "display_name": "Python 3 (ipykernel)",
   "language": "python",
   "name": "python3"
  },
  "language_info": {
   "codemirror_mode": {
    "name": "ipython",
    "version": 3
   },
   "file_extension": ".py",
   "mimetype": "text/x-python",
   "name": "python",
   "nbconvert_exporter": "python",
   "pygments_lexer": "ipython3",
   "version": "3.7.3"
  }
 },
 "nbformat": 4,
 "nbformat_minor": 5
}
