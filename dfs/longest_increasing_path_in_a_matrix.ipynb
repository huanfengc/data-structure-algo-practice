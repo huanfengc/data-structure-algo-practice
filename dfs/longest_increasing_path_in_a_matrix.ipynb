{
 "cells": [
  {
   "cell_type": "markdown",
   "id": "6ba33f19",
   "metadata": {},
   "source": [
    "## 329. Longest Increasing Path in a Matrix [problem](https://leetcode.com/problems/longest-increasing-path-in-a-matrix/)\n",
    "\n",
    "Given an ```m x n``` integers ```matrix```, return the length of the longest increasing path in ```matrix```.\n",
    "\n",
    "From each cell, you can either move in four directions: left, right, up, or down. You may not move diagonally or move outside the boundary (i.e., wrap-around is not allowed).\n",
    "\n",
    "---\n",
    "\n",
    "**Constraints:**\n",
    "\n",
    "* ```m == matrix.length```\n",
    "* ```n == matrix[i].length```\n",
    "* ```1 <= m, n <= 200```\n",
    "* ```0 <= matrix[i][j] <= 2^31 - 1```"
   ]
  },
  {
   "cell_type": "markdown",
   "id": "f1099765",
   "metadata": {},
   "source": [
    "### 1. DFS with Memoization\n",
    "* Time complexity: $O(M\\times N)$, $M$ and $N$ are numbers of rows and columns in ```matrix```. More specifically, it should be $O(V+E)$ where $V$ is number of vertices, ie. $M\\times N$, $E$ is number of edeges, ie. $4V=4(M\\times N)$.\n",
    "* Space complexity: $O(M\\times N)$"
   ]
  },
  {
   "cell_type": "code",
   "execution_count": 1,
   "id": "b6531f53",
   "metadata": {},
   "outputs": [],
   "source": [
    "from typing import List\n",
    "\n",
    "class Solution1:\n",
    "    def longestIncreasingPath(self, matrix: List[List[int]]) -> int:\n",
    "        \"\"\"\n",
    "        Args:\n",
    "            matrix: a 2D integer array\n",
    "        \n",
    "        Return:\n",
    "            the longest increasing path in matrix\n",
    "        \"\"\"\n",
    "        \n",
    "        self.m, self.n = len(matrix), len(matrix[0])\n",
    "        self.directions = {(1, 0), (-1, 0), (0, 1), (0, -1)}\n",
    "        self.matrix = matrix\n",
    "        self.hashmap = {}\n",
    "        \n",
    "        return max(self.dfs(r, c) for r in range(self.m) for c in range(self.n))\n",
    "    \n",
    "    \n",
    "#    @lru_cache(None)\n",
    "    def dfs(self, x, y):\n",
    "        \"\"\"\n",
    "        Args:\n",
    "            x, y: a cell in matrix whose row and column are x and y\n",
    "        \n",
    "        Return:\n",
    "            the longest increasing path in matrix starting from (x, y)\n",
    "        \"\"\"\n",
    "        \n",
    "        if (x, y) in self.hashmap:\n",
    "            return self.hashmap[(x, y)]\n",
    "        \n",
    "        max_length = 0\n",
    "        matrix = self.matrix\n",
    "        for dx, dy in self.directions:\n",
    "            r, c = x + dx, y + dy\n",
    "            if 0 <= r < self.m and 0 <= c < self.n and matrix[r][c] > matrix[x][y]:\n",
    "                max_length = max(max_length, self.dfs(r, c))\n",
    "        self.hashmap[(x, y)] = max_length + 1\n",
    "        return max_length + 1                "
   ]
  },
  {
   "cell_type": "markdown",
   "id": "8f8236eb",
   "metadata": {},
   "source": [
    "### 2. DFS (brute force)\n",
    "* Time complexity: $O(2^{M+N})$ for searching for every possible valid increasing path.\n",
    "* Space complexity: $O(M\\times N)$, the worst case for the call stack of recursion.\n",
    "\n",
    "**There is no need to mark visited cells, because we are searching for strictly increasing path and it is impossible to visit a visited (smaller) cell.**"
   ]
  },
  {
   "cell_type": "code",
   "execution_count": 2,
   "id": "0e3b4186",
   "metadata": {},
   "outputs": [],
   "source": [
    "class Solution2:\n",
    "    def longestIncreasingPath(self, matrix: List[List[int]]) -> int:\n",
    "        \n",
    "        self.m, self.n = len(matrix), len(matrix[0])\n",
    "        self.directions = {(1, 0), (-1, 0), (0, 1), (0, -1)}\n",
    "        \n",
    "        return max(self.dfs(matrix, r, c) for r in range(self.m) for c in range(self.n))\n",
    "    \n",
    "\n",
    "    def dfs(self, matrix, x, y):\n",
    "        max_length = 0\n",
    "        for dx, dy in self.directions:\n",
    "            r, c = x + dx, y + dy\n",
    "            if 0 <= r < self.m and 0 <= c < self.n and matrix[r][c] > matrix[x][y]:\n",
    "                max_length = max(max_length, self.dfs(matrix, r, c))\n",
    "        return max_length + 1"
   ]
  }
 ],
 "metadata": {
  "kernelspec": {
   "display_name": "Python 3 (ipykernel)",
   "language": "python",
   "name": "python3"
  },
  "language_info": {
   "codemirror_mode": {
    "name": "ipython",
    "version": 3
   },
   "file_extension": ".py",
   "mimetype": "text/x-python",
   "name": "python",
   "nbconvert_exporter": "python",
   "pygments_lexer": "ipython3",
   "version": "3.7.3"
  }
 },
 "nbformat": 4,
 "nbformat_minor": 5
}
