{
 "cells": [
  {
   "cell_type": "markdown",
   "id": "69b1c321",
   "metadata": {},
   "source": [
    "## Lowest Common Ancestor of a Binary Search Tree [problem](https://leetcode.com/problems/lowest-common-ancestor-of-a-binary-search-tree/)\n",
    "\n",
    "**Similar problems: [no.236 Lowest Common Ancestor of a Binary Tree](https://leetcode.com/problems/lowest-common-ancestor-of-a-binary-tree/).**\n",
    "\n",
    "---\n",
    "\n",
    "Given a binary search tree (BST), find the **lowest common ancestor (LCA)** of two given nodes in the BST.\n",
    "\n",
    "According to the definition of LCA on Wikipedia: “The lowest common ancestor is defined between two nodes ```p``` and ```q``` as the lowest node in ```T``` that has both ```p``` and ```q``` as descendants (where we allow a node to be a descendant of itself).”\n",
    "\n",
    "---\n",
    "\n",
    "**Constraints:**\n",
    "\n",
    "* The number of nodes in the tree is in the range ```[2, 10^5]```.\n",
    "* ```-10^9 <= Node.val <= 10^9```\n",
    "* All ```Node.val``` are unique.\n",
    "* ```p != q```\n",
    "* ```p``` and ```q``` will exist in the BST."
   ]
  },
  {
   "cell_type": "markdown",
   "id": "fb07a5ec",
   "metadata": {},
   "source": [
    "### Define the TreeNode class"
   ]
  },
  {
   "cell_type": "code",
   "execution_count": 1,
   "id": "8e9c0b84",
   "metadata": {},
   "outputs": [],
   "source": [
    "# Definition for a binary tree node.\n",
    "class TreeNode:\n",
    "    def __init__(self, x):\n",
    "        self.val = x\n",
    "        self.left = None\n",
    "        self.right = None"
   ]
  },
  {
   "cell_type": "markdown",
   "id": "a5af12c3",
   "metadata": {},
   "source": [
    "### 1. Recursion\n",
    "time complexity: $O(N)$; space complexity: $O(N)$ for the call stack during recursion in the worst case (a skewed BST), for a balanced one is $O(H)$, where $H$ is the height of the BST."
   ]
  },
  {
   "cell_type": "code",
   "execution_count": 2,
   "id": "b7da0999",
   "metadata": {},
   "outputs": [],
   "source": [
    "def lowestCommonAncestor1(root: 'TreeNode', p: 'TreeNode', q: 'TreeNode') -> 'TreeNode':\n",
    "    \"\"\"\n",
    "    Args:\n",
    "        root: root node of BST\n",
    "        p: a node in BST\n",
    "        q: another node in BST\n",
    "        \n",
    "    Return:\n",
    "        a node which is LCA of p and q.\n",
    "    \"\"\"\n",
    "\n",
    "    root_val = root.val\n",
    "    p_val = p.val\n",
    "    q_val = q.val\n",
    "\n",
    "    if p_val < root_val and q_val < root_val:\n",
    "        return self.lowestCommonAncestor(root.left, p, q)\n",
    "    elif p_val > root_val and q_val > root_val:\n",
    "        return self.lowestCommonAncestor(root.right, p, q)\n",
    "    else:\n",
    "        return root"
   ]
  },
  {
   "cell_type": "markdown",
   "id": "7a018893",
   "metadata": {},
   "source": [
    "### 2. Iteration (no backtrace needed, no stack needed)\n",
    "time complexity: $O(N)$; space complexity: $O(1)$. \\\n",
    "**Q: Is iteration faster than recursion even though their time complexities are the same?**"
   ]
  },
  {
   "cell_type": "code",
   "execution_count": 3,
   "id": "18a993a4",
   "metadata": {},
   "outputs": [],
   "source": [
    "def lowestCommonAncestor2(root: 'TreeNode', p: 'TreeNode', q: 'TreeNode') -> 'TreeNode':\n",
    "    \"\"\"\n",
    "    Args:\n",
    "        root: root node of BST\n",
    "        p: a node in BST\n",
    "        q: another node in BST\n",
    "        \n",
    "    Return:\n",
    "        a node which is LCA of p and q.\n",
    "    \"\"\"\n",
    "    \n",
    "    par = root\n",
    "    p_val, q_val = p.val, q.val\n",
    "\n",
    "    while par:\n",
    "        par_val = par.val\n",
    "        if p_val < par_val and q_val < par_val:\n",
    "            par = par.left\n",
    "        elif p_val > par_val and q_val > par_val:\n",
    "            par = par.right\n",
    "        else:\n",
    "            return par"
   ]
  }
 ],
 "metadata": {
  "kernelspec": {
   "display_name": "Python 3 (ipykernel)",
   "language": "python",
   "name": "python3"
  },
  "language_info": {
   "codemirror_mode": {
    "name": "ipython",
    "version": 3
   },
   "file_extension": ".py",
   "mimetype": "text/x-python",
   "name": "python",
   "nbconvert_exporter": "python",
   "pygments_lexer": "ipython3",
   "version": "3.7.3"
  }
 },
 "nbformat": 4,
 "nbformat_minor": 5
}
