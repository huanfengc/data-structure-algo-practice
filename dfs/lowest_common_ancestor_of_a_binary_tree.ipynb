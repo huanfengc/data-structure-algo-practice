{
 "cells": [
  {
   "cell_type": "markdown",
   "id": "9db8bce2",
   "metadata": {},
   "source": [
    "## Lowest Common Ancestor of a Binary Tree [problem](https://leetcode.com/problems/lowest-common-ancestor-of-a-binary-tree/)\n",
    "\n",
    "**This problem is similar to [no.235 Lowest Common Ancestor of a Binary Search Tree](https://leetcode.com/problems/lowest-common-ancestor-of-a-binary-search-tree/) and [no.1650 Lowest Common Ancestor of a Binary Tree III](https://leetcode.com/problems/lowest-common-ancestor-of-a-binary-tree-iii/).**\n",
    "\n",
    "---\n",
    "\n",
    "Given a binary tree, find the lowest common ancestor (LCA) of two given nodes in the tree.\n",
    "\n",
    "According to the definition of LCA on Wikipedia: “The lowest common ancestor is defined between two nodes ```p``` and ```q``` as the lowest node in T that has both ```p``` and ```q``` as descendants (where we allow a node to be a descendant of itself).”\n",
    "\n",
    "---\n",
    "\n",
    "**Constraints:**\n",
    "\n",
    "* The number of nodes in the tree is in the range ```[2, 10^5]```.\n",
    "* ```-10^9 <= Node.val <= 10^9```\n",
    "* All ```Node.val``` are unique.\n",
    "* ```p != q```\n",
    "* ```p``` and ```q``` will exist in the tree."
   ]
  },
  {
   "cell_type": "markdown",
   "id": "771603ef",
   "metadata": {},
   "source": [
    "### 1. DFS (Recursive)\n",
    "time complexity: $O(N)$; space complexity: $O(N)$, $N$ is the number of nodes in the tree."
   ]
  },
  {
   "cell_type": "code",
   "execution_count": 1,
   "id": "754a7fc5",
   "metadata": {},
   "outputs": [],
   "source": [
    "# Definition for a binary tree node.\n",
    "# class TreeNode:\n",
    "#     def __init__(self, x):\n",
    "#         self.val = x\n",
    "#         self.left = None\n",
    "#         self.right = None\n",
    "\n",
    "class Solution:\n",
    "    def lowestCommonAncestor(self, root, p, q):\n",
    "        \"\"\"\n",
    "        input:\n",
    "        root, p, q (TreeNode)\n",
    "        \n",
    "        return:\n",
    "        lca (TreeNode)\n",
    "        \"\"\"\n",
    "        \n",
    "        self.lca = None         \n",
    "        self.dfs(root, p, q) \n",
    "        return self.lca\n",
    "    \n",
    "    \n",
    "    def dfs(self, n, p, q):\n",
    "        \"\"\"\n",
    "        Depth First Search\n",
    "        \n",
    "        return True if any branch contains target node,\n",
    "        and update lca with n,\n",
    "        else return False.\n",
    "        \"\"\"\n",
    "        \n",
    "        if not n:\n",
    "            return False\n",
    "        \n",
    "        mid = (n == p) or (n == q)\n",
    "        left = self.dfs(n.left, p, q)\n",
    "        right = self.dfs(n.right, p, q)\n",
    " \n",
    "        # kep step, need to fully understand.\n",
    "        if mid + left + right >= 2:\n",
    "            self.lca = n\n",
    "        return mid or left or right"
   ]
  },
  {
   "cell_type": "markdown",
   "id": "136283a9",
   "metadata": {},
   "source": [
    "### 2. Iterative\n"
   ]
  },
  {
   "cell_type": "code",
   "execution_count": null,
   "id": "dd02062e",
   "metadata": {},
   "outputs": [],
   "source": []
  }
 ],
 "metadata": {
  "kernelspec": {
   "display_name": "Python 3 (ipykernel)",
   "language": "python",
   "name": "python3"
  },
  "language_info": {
   "codemirror_mode": {
    "name": "ipython",
    "version": 3
   },
   "file_extension": ".py",
   "mimetype": "text/x-python",
   "name": "python",
   "nbconvert_exporter": "python",
   "pygments_lexer": "ipython3",
   "version": "3.7.3"
  }
 },
 "nbformat": 4,
 "nbformat_minor": 5
}
