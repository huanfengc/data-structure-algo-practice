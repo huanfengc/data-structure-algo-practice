{
 "cells": [
  {
   "cell_type": "markdown",
   "id": "bef02c1b",
   "metadata": {},
   "source": [
    "## Maximum Depth of Binary Tree [problem](https://leetcode.com/problems/maximum-depth-of-binary-tree/)\n",
    "\n",
    "Given the ```root``` of a binary tree, return its maximum depth.\n",
    "\n",
    "A binary tree's maximum depth is the number of nodes along the longest path from the root node down to the farthest leaf node.\n",
    "\n",
    "**Constraints:**\n",
    "\n",
    "* The number of nodes in the tree is in the range ```[0, 104]```.\n",
    "* ```-100 <= Node.val <= 100```"
   ]
  },
  {
   "cell_type": "markdown",
   "id": "28cd91c5",
   "metadata": {},
   "source": [
    "### 1. DFS\n",
    "time complexity: $O(N)$; space complexity: $O(N)$ for the worst case (imbalanced tree), $O(logN)$ for the best case (perfectly balanced tree). "
   ]
  },
  {
   "cell_type": "code",
   "execution_count": 1,
   "id": "6d20c0ef",
   "metadata": {},
   "outputs": [],
   "source": [
    "# Definition for a binary tree node.\n",
    "# class TreeNode:\n",
    "#     def __init__(self, val=0, left=None, right=None):\n",
    "#         self.val = val\n",
    "#         self.left = left\n",
    "#         self.right = right\n",
    "\n",
    "\n",
    "def maxDepth(root):\n",
    "    \"\"\" This problem is similar to no.543 diameter of binary tree.\n",
    "    \n",
    "    input:\n",
    "    root: TreeNode\n",
    "    \n",
    "    return:\n",
    "    maxDepth: int (recursive)\n",
    "    \"\"\"\n",
    "    \n",
    "    if not root:\n",
    "        return 0     \n",
    "\n",
    "    leftpath = self.maxDepth(root.left)\n",
    "    rightpath = self.maxDepth(root.right)\n",
    "\n",
    "    return max(leftpath, rightpath) + 1"
   ]
  },
  {
   "cell_type": "markdown",
   "id": "6ce2d022",
   "metadata": {},
   "source": [
    "### 2. BFS"
   ]
  },
  {
   "cell_type": "code",
   "execution_count": null,
   "id": "f32b203a",
   "metadata": {},
   "outputs": [],
   "source": []
  }
 ],
 "metadata": {
  "kernelspec": {
   "display_name": "Python 3 (ipykernel)",
   "language": "python",
   "name": "python3"
  },
  "language_info": {
   "codemirror_mode": {
    "name": "ipython",
    "version": 3
   },
   "file_extension": ".py",
   "mimetype": "text/x-python",
   "name": "python",
   "nbconvert_exporter": "python",
   "pygments_lexer": "ipython3",
   "version": "3.7.3"
  }
 },
 "nbformat": 4,
 "nbformat_minor": 5
}
