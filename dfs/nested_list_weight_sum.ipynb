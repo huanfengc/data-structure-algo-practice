{
 "cells": [
  {
   "cell_type": "markdown",
   "id": "3c10bf81",
   "metadata": {},
   "source": [
    "## Nested List Weight Sum [problem](https://leetcode.com/problems/nested-list-weight-sum/)\n",
    "\n",
    "You are given a nested list of integers ```nestedList```. Each element is either an integer or a list whose elements may also be integers or other lists.\n",
    "\n",
    "The depth of an integer is the number of lists that it is inside of. For example, the nested list ```[1,[2,2],[[3],2],1]``` has each integer's value set to its depth.\n",
    "\n",
    "Return the sum of each integer in nestedList multiplied by its depth.\n",
    "\n",
    "**Constraints:**\n",
    "\n",
    "* ```1 <= nestedList.length <= 50```\n",
    "* The values of the integers in the nested list is in the range ```[-100, 100]```.\n",
    "* The maximum depth of any integer is less than or equal to ```50```."
   ]
  },
  {
   "cell_type": "markdown",
   "id": "7b357b48",
   "metadata": {},
   "source": [
    "### ```NestedInteger``` class is defined [here](https://leetcode.com/problems/nested-list-weight-sum/)"
   ]
  },
  {
   "cell_type": "markdown",
   "id": "0a457504",
   "metadata": {},
   "source": [
    "### 1. DFS (recursion)\n",
    "* Time complexity: $O(N)$, where $N$ is the sum of numbers of nestedList and integers, ```dfs``` called for each nestedList, each nested element is iterated exactlty once. \n",
    "* Space complexity: $O(N)$ for the worst case, eg ```[[[[[[]]]]]]```."
   ]
  },
  {
   "cell_type": "code",
   "execution_count": 1,
   "id": "f7d070c5",
   "metadata": {},
   "outputs": [],
   "source": [
    "from typing import List\n",
    "\n",
    "def depthSum(nestedList) -> int:\n",
    "    \"\"\"\n",
    "    Args:\n",
    "        nestedList: List[NestedInteger], a list of either integers or nestedList.\n",
    "        \n",
    "    Return:\n",
    "        the weighted sum of the integers in the given nestedList.\n",
    "    \"\"\"\n",
    "\n",
    "    def dfs(nested_list, depth):\n",
    "        total = 0\n",
    "        for nested in nested_list:\n",
    "            # getInteger and getList are defined in the NestedInteger class.\n",
    "            if nested.isInteger():\n",
    "                total += nested.getInteger() * depth\n",
    "            else:\n",
    "                total += dfs(nested.getList(), depth + 1)\n",
    "        return total\n",
    "\n",
    "    return dfs(nestedList, 1)"
   ]
  }
 ],
 "metadata": {
  "kernelspec": {
   "display_name": "Python 3 (ipykernel)",
   "language": "python",
   "name": "python3"
  },
  "language_info": {
   "codemirror_mode": {
    "name": "ipython",
    "version": 3
   },
   "file_extension": ".py",
   "mimetype": "text/x-python",
   "name": "python",
   "nbconvert_exporter": "python",
   "pygments_lexer": "ipython3",
   "version": "3.7.3"
  }
 },
 "nbformat": 4,
 "nbformat_minor": 5
}
