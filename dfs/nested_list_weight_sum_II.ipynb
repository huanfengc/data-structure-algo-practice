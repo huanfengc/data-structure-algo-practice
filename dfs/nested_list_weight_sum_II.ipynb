{
 "cells": [
  {
   "cell_type": "markdown",
   "id": "be81df5d",
   "metadata": {},
   "source": [
    "## Nested List Weight Sum II [problem](https://leetcode.com/problems/nested-list-weight-sum-ii/)\n",
    "\n",
    "You are given a nested list of integers ```nestedList```. Each element is either an integer or a list whose elements may also be integers or other lists.\n",
    "\n",
    "The depth of an integer is the number of lists that it is inside of. For example, the nested list ```[1,[2,2],[[3],2],1]``` has each integer's value set to its depth. Let ```maxDepth``` be the maximum depth of any integer.\n",
    "\n",
    "The weight of an integer is ```maxDepth - (the depth of the integer) + 1```.\n",
    "\n",
    "Return the sum of each integer in ```nestedList``` multiplied by its weight.\n",
    "\n",
    "---\n",
    "\n",
    "**Constraints:**\n",
    "\n",
    "* ```1 <= nestedList.length <= 50```\n",
    "* The values of the integers in the nested list is in the range ```[-100, 100]```.\n",
    "* The maximum depth of any integer is less than or equal to ```50```."
   ]
  },
  {
   "cell_type": "markdown",
   "id": "c3516838",
   "metadata": {},
   "source": [
    "### ```nestedInteger``` class is defined [here](https://leetcode.com/problems/nested-list-weight-sum-ii/)"
   ]
  },
  {
   "cell_type": "markdown",
   "id": "c4fef1e6",
   "metadata": {},
   "source": [
    "### 1. DFS (two pass, first to find the ```maxdepth```)\n",
    "* Time complexity: $O(N)$, $N$ is the number of nested elements (integers and nested lists).\n",
    "* Space complexity: $O(N)$"
   ]
  },
  {
   "cell_type": "code",
   "execution_count": 1,
   "id": "683657ab",
   "metadata": {},
   "outputs": [],
   "source": [
    "from typing import List\n",
    "\n",
    "def depthSumInverse(nestedList: List) -> int:\n",
    "    \"\"\"\n",
    "    Args:\n",
    "        nestedList: a list of nestedInteger which is either single integer or another list of nestedInteger\n",
    "        \n",
    "    Return:\n",
    "        the weighted sum of the list of nestedInteger\n",
    "    \"\"\"\n",
    "\n",
    "    def findMaxDepth(nested_list):\n",
    "        maxdepth = 1\n",
    "        for nested in nested_list:\n",
    "            if not nested.isInteger():\n",
    "                # pick up the max one (recursion may overwrite the real max?)\n",
    "                maxdepth = max(maxdepth, findMaxDepth(nested.getList()) + 1)\n",
    "        return maxdepth\n",
    "\n",
    "    maxdepth = findMaxDepth(nestedList)\n",
    "\n",
    "    def dfs(nested_list, depth):\n",
    "        total = 0\n",
    "        for nested in nested_list:\n",
    "            if nested.isInteger():\n",
    "                total += nested.getInteger() * (maxdepth - depth + 1)\n",
    "            else:\n",
    "                total += dfs(nested.getList(), depth + 1)\n",
    "        return total\n",
    "\n",
    "    return dfs(nestedList, 1)"
   ]
  },
  {
   "cell_type": "markdown",
   "id": "10ccc140",
   "metadata": {},
   "source": [
    "### 2. DFS (one pass)"
   ]
  },
  {
   "cell_type": "markdown",
   "id": "4fd41e1f",
   "metadata": {},
   "source": [
    "### 3. BFS (one pass)"
   ]
  }
 ],
 "metadata": {
  "kernelspec": {
   "display_name": "Python 3 (ipykernel)",
   "language": "python",
   "name": "python3"
  },
  "language_info": {
   "codemirror_mode": {
    "name": "ipython",
    "version": 3
   },
   "file_extension": ".py",
   "mimetype": "text/x-python",
   "name": "python",
   "nbconvert_exporter": "python",
   "pygments_lexer": "ipython3",
   "version": "3.7.3"
  }
 },
 "nbformat": 4,
 "nbformat_minor": 5
}
