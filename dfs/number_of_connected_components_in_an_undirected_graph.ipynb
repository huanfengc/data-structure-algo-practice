{
 "cells": [
  {
   "cell_type": "markdown",
   "id": "33df7724",
   "metadata": {},
   "source": [
    "## Number of Connected Components in an Undirected Graph [problem](https://leetcode.com/problems/number-of-connected-components-in-an-undirected-graph/)\n",
    "\n",
    "You have a graph of ```n``` nodes. You are given an integer ```n``` and an array edges where ```edges[i] = [ai, bi]``` indicates that there is an edge between ```ai``` and ```bi``` in the graph.\n",
    "\n",
    "Return the number of connected components in the graph.\n",
    "\n",
    "**Constraints:**\n",
    "\n",
    "* ```1 <= n <= 2000```\n",
    "* ```1 <= edges.length <= 5000```\n",
    "* ```edges[i].length == 2```\n",
    "* ```0 <= ai <= bi < n```\n",
    "* ```ai != bi```\n",
    "* There are no repeated edges."
   ]
  },
  {
   "cell_type": "markdown",
   "id": "7d8c8134",
   "metadata": {},
   "source": [
    "### 1. DFS\n",
    "time complexity: $O(E+V)$, constructing ```adj``` takes $O(E)$, ```dfs``` takes $O(E+V)$; space complexity: $O(E+V)$, ```adj``` takes $O(E)$, ```visited``` takes $O(V)$, call stack of ```dfs``` also takes $O(V)$. $E$ and $V$ are numbers of edges and vertices respectively."
   ]
  },
  {
   "cell_type": "code",
   "execution_count": 1,
   "id": "0158aeee",
   "metadata": {},
   "outputs": [],
   "source": [
    "def countComponents(n, edges):\n",
    "    \"\"\"\n",
    "    input:\n",
    "    n: int\n",
    "    edges: list[list]\n",
    "    \n",
    "    return:\n",
    "    count: int (number of disconnected graph)\n",
    "    \"\"\"\n",
    "\n",
    "    count = 0\n",
    "    adj, visited = [], [] # why adj = visited = [] doesn't work??\n",
    "    for i in range(n):\n",
    "        adj.append([])\n",
    "        visited.append(0)\n",
    "\n",
    "    for edge in edges:\n",
    "        adj[edge[0]].append(edge[1])\n",
    "        adj[edge[1]].append(edge[0])\n",
    "\n",
    "    for i in range(n):\n",
    "        # new round of dfs means a new disconnected component.\n",
    "        if visited[i] == 0:\n",
    "            self.dfs(adj, visited, i)\n",
    "            count += 1\n",
    "    return count\n",
    "\n",
    "\n",
    "# DFS\n",
    "def dfs(self, adj, visited, start):\n",
    "    if visited[start] == 1:\n",
    "        return        \n",
    "    visited[start] = 1\n",
    "    for node in adj[start]:\n",
    "        self.dfs(adj, visited, node)"
   ]
  },
  {
   "cell_type": "markdown",
   "id": "afe7168a",
   "metadata": {},
   "source": [
    "### 2. Disjoint Set Union (DSU)\n"
   ]
  },
  {
   "cell_type": "code",
   "execution_count": null,
   "id": "0125f515",
   "metadata": {},
   "outputs": [],
   "source": []
  }
 ],
 "metadata": {
  "kernelspec": {
   "display_name": "Python 3 (ipykernel)",
   "language": "python",
   "name": "python3"
  },
  "language_info": {
   "codemirror_mode": {
    "name": "ipython",
    "version": 3
   },
   "file_extension": ".py",
   "mimetype": "text/x-python",
   "name": "python",
   "nbconvert_exporter": "python",
   "pygments_lexer": "ipython3",
   "version": "3.7.3"
  }
 },
 "nbformat": 4,
 "nbformat_minor": 5
}
