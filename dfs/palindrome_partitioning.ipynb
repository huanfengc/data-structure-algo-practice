{
 "cells": [
  {
   "cell_type": "markdown",
   "id": "ccda8418",
   "metadata": {},
   "source": [
    "## Palindrome Partitioning [problem](https://leetcode.com/problems/palindrome-partitioning/)\n",
    "\n",
    "Given a string ```s```, partition ```s``` such that every substring of the partition is a palindrome. Return all possible palindrome partitioning of ```s```.\n",
    "\n",
    "A palindrome string is a string that reads the same backward as forward.\n",
    "\n",
    "---\n",
    "\n",
    "**Constraints:**\n",
    "\n",
    "* ```1 <= s.length <= 16```\n",
    "* ```s``` contains only lowercase English letters."
   ]
  },
  {
   "cell_type": "markdown",
   "id": "ee7dc68b",
   "metadata": {},
   "source": [
    "### 1. DFS and Backtracking\n",
    "* Time complexity: $O(N\\cdot 2^N)$, the worst case is all possible partitions are palindrome, ie. $2^N$, checking if is a palindrome takes $O(N)$.\n",
    "* Space complexity: $O(N)$ for call stack during recursion."
   ]
  },
  {
   "cell_type": "code",
   "execution_count": 1,
   "id": "40deaf81",
   "metadata": {},
   "outputs": [],
   "source": [
    "from typing import List\n",
    "\n",
    "def partition(s: str) -> List[List[str]]:\n",
    "    \"\"\"\n",
    "    Args:\n",
    "        s: a string to be partitioned\n",
    "        \n",
    "    Return:\n",
    "        a list of all possible partitions where all substring are palindrome\n",
    "    \"\"\"\n",
    "\n",
    "    res = []\n",
    "    cur = []\n",
    "    dfs(s, cur, res)\n",
    "    return res\n",
    "\n",
    "def dfs(s, cur, res):\n",
    "    if not s:\n",
    "        res.append(cur)\n",
    "\n",
    "    for i in range(1, len(s)+1):\n",
    "        if isPalindrome(s[:i]):\n",
    "            # why the result will be different? How to backtrack???\n",
    "#                    cur.append(s[:i])\n",
    "            dfs(s[i:], cur + [s[:i]], res)\n",
    "#                    cur.pop()\n",
    "\n",
    "def isPalindrome(s):\n",
    "    left, right = 0, len(s) - 1\n",
    "    while left < right:\n",
    "        if s[left] != s[right]:\n",
    "            return False\n",
    "        left += 1\n",
    "        right -= 1\n",
    "    return True"
   ]
  }
 ],
 "metadata": {
  "kernelspec": {
   "display_name": "Python 3 (ipykernel)",
   "language": "python",
   "name": "python3"
  },
  "language_info": {
   "codemirror_mode": {
    "name": "ipython",
    "version": 3
   },
   "file_extension": ".py",
   "mimetype": "text/x-python",
   "name": "python",
   "nbconvert_exporter": "python",
   "pygments_lexer": "ipython3",
   "version": "3.7.3"
  }
 },
 "nbformat": 4,
 "nbformat_minor": 5
}
