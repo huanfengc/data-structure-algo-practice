{
 "cells": [
  {
   "cell_type": "markdown",
   "id": "47545587",
   "metadata": {},
   "source": [
    "## 113. Path Sum II [problem](https://leetcode.com/problems/path-sum-ii/)\n",
    "\n",
    "Given the ```root``` of a binary tree and an integer ```targetSum```, return all root-to-leaf paths where the sum of the node values in the path equals ```targetSum```. Each path should be returned as a list of the node values, not node references.\n",
    "\n",
    "A root-to-leaf path is a path starting from the root and ending at any leaf node. A leaf is a node with no children.\n",
    "\n",
    "---\n",
    "\n",
    "**Constraints:**\n",
    "\n",
    "* The number of nodes in the tree is in the range ```[0, 5000]```.\n",
    "* ```-1000 <= Node.val <= 1000```\n",
    "* ```-1000 <= targetSum <= 1000```"
   ]
  },
  {
   "cell_type": "markdown",
   "id": "bed5512f",
   "metadata": {},
   "source": [
    "### 1. DFS (preorder traversal)\n",
    "* Time complexity: $O(N^2)$, $N$ is number of nodes in the tree, traversing all the nodes takes $O(N)$, but in the worst case, append all valid paths into ```res``` could take $O(N^2)$. (see an example provied by [@hiepit](https://leetcode.com/problems/path-sum-ii/discuss/1382332/C%2B%2BPython-DFS-Clean-and-Concise-Time-complexity-explained))\n",
    "* Space complexity: $O(N)$ for call stack and list storing results."
   ]
  },
  {
   "cell_type": "code",
   "execution_count": 1,
   "id": "ab62cad1",
   "metadata": {},
   "outputs": [],
   "source": [
    "# Definition for a binary tree node.\n",
    "class TreeNode:\n",
    "    def __init__(self, val=0, left=None, right=None):\n",
    "        self.val = val\n",
    "        self.left = left\n",
    "        self.right = right\n",
    "        \n",
    "from typing import List, Optional\n",
    "        \n",
    "class Solution:\n",
    "    def pathSum(self, root: Optional[TreeNode], targetSum: int) -> List[List[int]]:\n",
    "        \"\"\"\n",
    "        Args:\n",
    "            root: root node of binary tree\n",
    "            targetSum: an integer\n",
    "        \n",
    "        Return:\n",
    "            list of lists which are values of valid root-to-leaf nodes whose sum is targetSum\n",
    "        \"\"\"\n",
    "        \n",
    "        def preorder(node, curr, target):\n",
    "            nonlocal res\n",
    "            if node:\n",
    "# only work for non-negative node values\n",
    "#                if node.val > target > 0 or node:\n",
    "#                    return\n",
    "                if not (node.left or node.right) and node.val == target:\n",
    "                    res.append(curr + [node.val]) # this step takes O(N) for each leaf\n",
    "                preorder(node.left, curr + [node.val], target - node.val)\n",
    "                preorder(node.right, curr + [node.val], target - node.val)\n",
    "        \n",
    "        res = []\n",
    "        preorder(root, [], targetSum)\n",
    "        return res"
   ]
  }
 ],
 "metadata": {
  "kernelspec": {
   "display_name": "Python 3 (ipykernel)",
   "language": "python",
   "name": "python3"
  },
  "language_info": {
   "codemirror_mode": {
    "name": "ipython",
    "version": 3
   },
   "file_extension": ".py",
   "mimetype": "text/x-python",
   "name": "python",
   "nbconvert_exporter": "python",
   "pygments_lexer": "ipython3",
   "version": "3.7.3"
  }
 },
 "nbformat": 4,
 "nbformat_minor": 5
}
