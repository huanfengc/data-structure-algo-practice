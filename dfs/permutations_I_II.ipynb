{
 "cells": [
  {
   "cell_type": "markdown",
   "id": "7f24c5ad",
   "metadata": {},
   "source": [
    "## 46. Permutations [problem](https://leetcode.com/problems/permutations/)\n",
    "\n",
    "Given an array ```nums``` of **distinct integers**, return all the possible permutations. You can return the answer in any order.\n",
    "\n",
    "---\n",
    "\n",
    "**Constraints:**\n",
    "\n",
    "* ```1 <= nums.length <= 6```\n",
    "* ```-10 <= nums[i] <= 10```\n",
    "* All the integers of ```nums``` are unique."
   ]
  },
  {
   "cell_type": "markdown",
   "id": "f0561f3a",
   "metadata": {},
   "source": [
    "### 1. DFS and Backtracking\n",
    "* Time complexity: $O(\\sum_{1}^{N}P_{N}^{k})$ (bound by $O(N!)\\sim O(N\\cdot N!)$), $P_{N}^{k}=\\frac{N!}{(N-k)!}$ is $k$ permutations of $N$. (**need to double check the correctness of time complexity!**)\n",
    "* Space complexity: $O(N)$ for call stack of recursion."
   ]
  },
  {
   "cell_type": "code",
   "execution_count": 1,
   "id": "326b0dac",
   "metadata": {},
   "outputs": [],
   "source": [
    "from typing import List\n",
    "\n",
    "def permute(nums: List[int]) -> List[List[int]]:\n",
    "    \"\"\"\n",
    "    Args:\n",
    "        nums: list of distinct integers\n",
    "\n",
    "    Return:\n",
    "        list of all possible combinations\n",
    "    \"\"\"\n",
    "\n",
    "    ret = []\n",
    "    dfs(nums, [], ret)\n",
    "    return ret\n",
    "\n",
    "\n",
    "def dfs(nums, path, ret):\n",
    "    if not nums:\n",
    "        ret.append(path)  \n",
    "\n",
    "    for i in range(len(nums)):\n",
    "        # equivalent to put nums[i] at front and traverse the rest\n",
    "        dfs(nums[:i] + nums[i+1:], path + [nums[i]], ret)"
   ]
  },
  {
   "cell_type": "markdown",
   "id": "d57ef912",
   "metadata": {},
   "source": [
    "---\n",
    "\n",
    "## 47. Permutations II [problem](https://leetcode.com/problems/permutations-ii/)\n",
    "\n",
    "Given a collection of numbers, ```nums```, **that might contain duplicates**, return all possible **unique** permutations in any order.\n",
    "\n",
    "---\n",
    "\n",
    "**Constraints:**\n",
    "\n",
    "* ```1 <= nums.length <= 8```\n",
    "* ```-10 <= nums[i] <= 10```"
   ]
  },
  {
   "cell_type": "markdown",
   "id": "e8dbd3b6",
   "metadata": {},
   "source": [
    "### 1. DFS and Backtracking\n",
    "* Time complexity: $O(\\sum_{1}^{N}P_{N}^{k})$ (bound by $O(N!)\\sim O(N\\cdot N!)$), $P_{N}^{k}=\\frac{N!}{(N-k)!}$ is $k$ permutations of $N$. The sorting takes $O(NlogN)$ which is not dominant.\n",
    "* Space complexity: $O(N)$ for call stack of recursion."
   ]
  },
  {
   "cell_type": "code",
   "execution_count": 2,
   "id": "890b9889",
   "metadata": {},
   "outputs": [],
   "source": [
    "def permuteUnique(nums: List[int]) -> List[List[int]]:\n",
    "    \"\"\"\n",
    "    Args:\n",
    "        nums: list of distinct integers\n",
    "\n",
    "    Return:\n",
    "        list of all possible combinations\n",
    "    \"\"\"\n",
    "\n",
    "    ret = []\n",
    "    self.dfs(sorted(nums), [], ret)\n",
    "    return ret\n",
    "\n",
    "\n",
    "def dfs(nums, path, ret):\n",
    "    if not nums:\n",
    "        ret.append(path)\n",
    "\n",
    "    for i in range(len(nums)):\n",
    "        # keep the first appearance but ignore the following duplicate(s)\n",
    "        if i > 0 and nums[i] == nums[i-1]:\n",
    "            continue\n",
    "        self.dfs(nums[:i] + nums[i+1:], path + [nums[i]], ret)"
   ]
  }
 ],
 "metadata": {
  "kernelspec": {
   "display_name": "Python 3 (ipykernel)",
   "language": "python",
   "name": "python3"
  },
  "language_info": {
   "codemirror_mode": {
    "name": "ipython",
    "version": 3
   },
   "file_extension": ".py",
   "mimetype": "text/x-python",
   "name": "python",
   "nbconvert_exporter": "python",
   "pygments_lexer": "ipython3",
   "version": "3.7.3"
  }
 },
 "nbformat": 4,
 "nbformat_minor": 5
}
