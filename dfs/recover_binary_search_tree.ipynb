{
 "cells": [
  {
   "cell_type": "markdown",
   "id": "845b330d",
   "metadata": {},
   "source": [
    "## 99. Recover Binary Search Tree [problem](https://leetcode.com/problems/recover-binary-search-tree/)\n",
    "\n",
    "You are given the ```root``` of a binary search tree (BST), where the values of **exactly two nodes** of the tree were swapped by mistake. Recover the tree without changing its structure.\n",
    "\n",
    "---\n",
    "\n",
    "**Constraints:**\n",
    "\n",
    "* The number of nodes in the tree is in the range ```[2, 1000]```.\n",
    "* ```-2^31 <= Node.val <= 2^31 - 1```"
   ]
  },
  {
   "cell_type": "markdown",
   "id": "222d47dd",
   "metadata": {},
   "source": [
    "### 1. Inorder traversal, find two nodes and swap\n",
    "* Time complexity: $O(N)$\n",
    "* Space complexity: $O(N)$"
   ]
  },
  {
   "cell_type": "code",
   "execution_count": 1,
   "id": "c3fa8185",
   "metadata": {},
   "outputs": [],
   "source": [
    "# Definition for a binary tree node.\n",
    "class TreeNode:\n",
    "    def __init__(self, val=0, left=None, right=None):\n",
    "        self.val = val\n",
    "        self.left = left\n",
    "        self.right = right\n",
    "\n",
    "from typing import Optional\n",
    "\n",
    "class Solution:\n",
    "    def recoverTree(self, root: Optional[TreeNode]) -> None:\n",
    "        \"\"\"\n",
    "        Do not return anything, modify root in-place instead.\n",
    "        \"\"\"\n",
    "        res = []\n",
    "        self.inorder_dfs(root, res)\n",
    "        x, y = self.find_swapped_nums(res)\n",
    "        self.swap_nodes(root, 2, x, y)\n",
    "        \n",
    "    \n",
    "    def inorder_dfs(self, node, res):\n",
    "        \"\"\"inorder traverse a binary tree and save the nodes into res\n",
    "        \"\"\"\n",
    "        \n",
    "        if node:\n",
    "            self.inorder_dfs(node.left, res)\n",
    "            res.append(node.val)\n",
    "            self.inorder_dfs(node.right, res)\n",
    "    \n",
    "    \n",
    "    def find_swapped_nums(self, res):\n",
    "        \"\"\"find two nodes to swap\n",
    "        \"\"\"\n",
    "        \n",
    "        n = len(res)\n",
    "        x = y = None\n",
    "        for i in range(n - 1):\n",
    "            if res[i + 1] < res[i]:\n",
    "                y = res[i + 1]\n",
    "                if x == None:\n",
    "                    x = res[i]\n",
    "                else:\n",
    "                    break\n",
    "        return x, y\n",
    "    \n",
    "    \n",
    "    def swap_nodes(self, node, count, x, y):\n",
    "        \"\"\"swap two nodes in a binary tree\n",
    "        \"\"\"\n",
    "        \n",
    "        if node:\n",
    "            if node.val == x or node.val == y:\n",
    "                node.val = y if node.val == x else x\n",
    "                count -= 1\n",
    "            if count == 0:\n",
    "                return\n",
    "            self.swap_nodes(node.left, count, x, y)\n",
    "            self.swap_nodes(node.right, count, x, y)"
   ]
  },
  {
   "cell_type": "markdown",
   "id": "e6001e8a",
   "metadata": {},
   "source": [
    "### 2. Iterative inorder traversal\n",
    "* Time complexity: $O(N)$\n",
    "* Space complexity: $O(N)$"
   ]
  },
  {
   "cell_type": "code",
   "execution_count": 2,
   "id": "a7d6d486",
   "metadata": {},
   "outputs": [],
   "source": [
    "class Solution:\n",
    "    def recoverTree(self, root: Optional[TreeNode]) -> None:\n",
    "        \"\"\"\n",
    "        Do not return anything, modify root in-place instead.\n",
    "        \"\"\"\n",
    "        \n",
    "        stack = []\n",
    "        prev = x = y = None\n",
    "        node = root\n",
    "        \n",
    "        while stack or node:\n",
    "            while node:\n",
    "                stack.append(node)\n",
    "                node = node.left\n",
    "            node = stack.pop()\n",
    "            if prev and node.val < prev.val:\n",
    "                y = node\n",
    "                if x is None:\n",
    "                    x = prev\n",
    "                else:\n",
    "                    break\n",
    "            prev = node\n",
    "            node = node.right\n",
    "        \n",
    "        x.val, y.val = y.val, x.val"
   ]
  },
  {
   "cell_type": "markdown",
   "id": "f3914b04",
   "metadata": {},
   "source": [
    "### 3. Recursive inorder traversal"
   ]
  },
  {
   "cell_type": "code",
   "execution_count": null,
   "id": "efc0768d",
   "metadata": {},
   "outputs": [],
   "source": []
  },
  {
   "cell_type": "markdown",
   "id": "9c83a53d",
   "metadata": {},
   "source": [
    "### 4. Morris inorder traversal (constant space)"
   ]
  },
  {
   "cell_type": "code",
   "execution_count": null,
   "id": "c6cd7e05",
   "metadata": {},
   "outputs": [],
   "source": []
  }
 ],
 "metadata": {
  "kernelspec": {
   "display_name": "Python 3 (ipykernel)",
   "language": "python",
   "name": "python3"
  },
  "language_info": {
   "codemirror_mode": {
    "name": "ipython",
    "version": 3
   },
   "file_extension": ".py",
   "mimetype": "text/x-python",
   "name": "python",
   "nbconvert_exporter": "python",
   "pygments_lexer": "ipython3",
   "version": "3.7.3"
  }
 },
 "nbformat": 4,
 "nbformat_minor": 5
}
