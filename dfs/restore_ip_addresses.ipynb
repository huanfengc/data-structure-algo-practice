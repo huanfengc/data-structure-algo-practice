{
 "cells": [
  {
   "cell_type": "markdown",
   "id": "f6b0d3e4",
   "metadata": {},
   "source": [
    "## Restore IP Addresses [problem](https://leetcode.com/problems/restore-ip-addresses/)\n",
    "\n",
    "**Similar problems: [no.22 Generate Parentheses](https://leetcode.com/problems/generate-parentheses/)**\n",
    "\n",
    "---\n",
    "\n",
    "A valid IP address consists of exactly four integers separated by single dots. Each integer is between ```0``` and ```255``` (inclusive) and cannot have leading zeros.\n",
    "\n",
    "* For example, \"```0.1.2.201```\" and \"```192.168.1.1```\" are valid IP addresses, but \"```0.011.255.245```\", \"```192.168.1.312```\" and \"```192.168@1.1```\" are invalid IP addresses.\n",
    "\n",
    "Given a string ```s``` containing only digits, return all possible valid IP addresses that can be formed by inserting dots into ```s```. You are not allowed to reorder or remove any digits in ```s```. You may return the valid IP addresses in any order.\n",
    "\n",
    "---\n",
    "\n",
    "**Constraints:**\n",
    "\n",
    "* ```1 <= s.length <= 20```\n",
    "* ```s``` consists of digits only."
   ]
  },
  {
   "cell_type": "markdown",
   "id": "7580f96f",
   "metadata": {},
   "source": [
    "### 1. DFS (backtracking)\n",
    "time complexity: $O(1)$; space complexity: $O(1)$, since the possible combinations given ```1 <= s.length <= 20``` are limited."
   ]
  },
  {
   "cell_type": "code",
   "execution_count": 1,
   "id": "40b2a5cd",
   "metadata": {},
   "outputs": [],
   "source": [
    "from typing import List\n",
    "\n",
    "def restoreIpAddresses(s: str) -> List[str]:\n",
    "    \"\"\"\n",
    "    Args:\n",
    "        s: a string \n",
    "        \n",
    "    Return:\n",
    "        a list of possible valid IPs.\n",
    "    \"\"\"\n",
    "\n",
    "    res = []\n",
    "\n",
    "    def dfs(s, idx, path, res):\n",
    "        if idx > 4:\n",
    "            return \n",
    "        if idx == 4 and not s:\n",
    "            res.append(path[:-1])\n",
    "            return \n",
    "        for i in range(1, len(s)+1):\n",
    "            if s[:i] == '0' or (s[0] != '0' and 0 < int(s[:i]) < 256):\n",
    "                dfs(s[i:], idx + 1, path + s[:i] + \".\", res)\n",
    "\n",
    "    dfs(s, 0, \"\", res)      \n",
    "    return res"
   ]
  }
 ],
 "metadata": {
  "kernelspec": {
   "display_name": "Python 3 (ipykernel)",
   "language": "python",
   "name": "python3"
  },
  "language_info": {
   "codemirror_mode": {
    "name": "ipython",
    "version": 3
   },
   "file_extension": ".py",
   "mimetype": "text/x-python",
   "name": "python",
   "nbconvert_exporter": "python",
   "pygments_lexer": "ipython3",
   "version": "3.7.3"
  }
 },
 "nbformat": 4,
 "nbformat_minor": 5
}
