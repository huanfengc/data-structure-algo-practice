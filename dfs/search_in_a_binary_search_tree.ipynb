{
 "cells": [
  {
   "cell_type": "markdown",
   "id": "a39d5286",
   "metadata": {},
   "source": [
    "## Search in a Binary Search Tree [problem](https://leetcode.com/problems/search-in-a-binary-search-tree/)\n",
    "\n",
    "You are given the ```root``` of a binary search tree (BST) and an integer ```val```.\n",
    "\n",
    "Find the node in the BST that the node's value equals ```val``` and return the subtree rooted with that node. If such a node does not exist, return ```null```.\n",
    "\n",
    "**Constraints:**\n",
    "\n",
    "* The number of nodes in the tree is in the range ```[1, 5000]```.\n",
    "* ```1 <= Node.val <= 107```\n",
    "* ```root``` is a binary search tree.\n",
    "* ```1 <= val <= 10^7```"
   ]
  },
  {
   "cell_type": "markdown",
   "id": "5d1d41eb",
   "metadata": {},
   "source": [
    "### Define the TreeNode class"
   ]
  },
  {
   "cell_type": "code",
   "execution_count": 1,
   "id": "8af48753",
   "metadata": {},
   "outputs": [],
   "source": [
    "from typing import Optional\n",
    "\n",
    "# Definition for a binary tree node.\n",
    "class TreeNode:\n",
    "    def __init__(self, val=0, left=None, right=None):\n",
    "        self.val = val\n",
    "        self.left = left\n",
    "        self.right = right"
   ]
  },
  {
   "cell_type": "markdown",
   "id": "bec5e05a",
   "metadata": {},
   "source": [
    "### 1. Iteration\n",
    "time complexity: $O(H)$, $H$ is the height of BST, $H\\rightarrow logN$ in average, in the worst case $H\\rightarrow N$; space complexity: $O(1)$."
   ]
  },
  {
   "cell_type": "code",
   "execution_count": 2,
   "id": "7f9922fd",
   "metadata": {},
   "outputs": [],
   "source": [
    "def searchBST1(root: Optional[TreeNode], val: int) -> Optional[TreeNode]:\n",
    "    \"\"\"\n",
    "    Args:\n",
    "        root: the root node of BST\n",
    "        val: the target value\n",
    "        \n",
    "    Return:\n",
    "        the subtree whose root has value == val or None if val not found.\n",
    "    \"\"\"\n",
    "    \n",
    "    node = root        \n",
    "    while node:\n",
    "        if node.val == val:\n",
    "            return node\n",
    "        node = node.left if node.val > val else node.right\n",
    "\n",
    "    return None"
   ]
  },
  {
   "cell_type": "markdown",
   "id": "73d19de2",
   "metadata": {},
   "source": [
    "### 2. Recursion\n",
    "time complexity: $O(H)$; space complexity: $O(H)$."
   ]
  },
  {
   "cell_type": "code",
   "execution_count": null,
   "id": "401467a9",
   "metadata": {},
   "outputs": [],
   "source": []
  }
 ],
 "metadata": {
  "kernelspec": {
   "display_name": "Python 3 (ipykernel)",
   "language": "python",
   "name": "python3"
  },
  "language_info": {
   "codemirror_mode": {
    "name": "ipython",
    "version": 3
   },
   "file_extension": ".py",
   "mimetype": "text/x-python",
   "name": "python",
   "nbconvert_exporter": "python",
   "pygments_lexer": "ipython3",
   "version": "3.7.3"
  }
 },
 "nbformat": 4,
 "nbformat_minor": 5
}
