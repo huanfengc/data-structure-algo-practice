{
 "cells": [
  {
   "cell_type": "markdown",
   "id": "3c23015e",
   "metadata": {},
   "source": [
    "## Subsets [problem](https://leetcode.com/problems/subsets/)\n",
    "\n",
    "Given an integer array ```nums``` of **unique** elements, return all possible subsets (the power set).\n",
    "\n",
    "The solution set must not contain duplicate subsets. Return the solution **in any order**.\n",
    "\n",
    "---\n",
    "\n",
    "**Constraints:**\n",
    "\n",
    "* ```1 <= nums.length <= 10```\n",
    "* ```-10 <= nums[i] <= 10```\n",
    "* All the numbers of ```nums``` are unique."
   ]
  },
  {
   "cell_type": "markdown",
   "id": "1bc738af",
   "metadata": {},
   "source": [
    "### 1. DFS (Recursion)\n",
    "* Time complexity: $O(N\\cdot 2^N)$, $N$ is the number of elements in ```nums``` (generate all combinations and copy them into the list), **not very clear about how each factor comes from**\n",
    "* Space complexity: $O(N)$"
   ]
  },
  {
   "cell_type": "code",
   "execution_count": 1,
   "id": "ade4e482",
   "metadata": {},
   "outputs": [],
   "source": [
    "from typing import List\n",
    "\n",
    "def subsets(nums: List[int]) -> List[List[int]]:\n",
    "    \"\"\"\n",
    "    Args:\n",
    "        nums: a list of unique integers\n",
    "    \n",
    "    Return:\n",
    "        ret: the power set (all possible unique combinations)\n",
    "    \"\"\"\n",
    "\n",
    "    ret, path = [], []\n",
    "    self.dfs(nums, path, ret)\n",
    "    return ret\n",
    "\n",
    "\n",
    "def dfs(nums, path, ret):\n",
    "    ret.append(path)\n",
    "    # need to be familiar with how recursion works\n",
    "    for i in range(len(nums)):\n",
    "        self.dfs(nums[i+1:], path + [nums[i]], ret)"
   ]
  },
  {
   "cell_type": "markdown",
   "id": "eaefd274",
   "metadata": {},
   "source": [
    "### 2. Iteration\n",
    "* Time complexity: $O(N\\cdot 2^N)$\n",
    "* Space complexity: **?**"
   ]
  },
  {
   "cell_type": "code",
   "execution_count": 2,
   "id": "d93a702f",
   "metadata": {},
   "outputs": [],
   "source": [
    "def subsets2(self, nums: List[int]) -> List[List[int]]:\n",
    "\n",
    "    ret = [[]]\n",
    "    for num in nums:\n",
    "        ret += [item + [num] for item in ret]\n",
    "\n",
    "    return ret"
   ]
  }
 ],
 "metadata": {
  "kernelspec": {
   "display_name": "Python 3 (ipykernel)",
   "language": "python",
   "name": "python3"
  },
  "language_info": {
   "codemirror_mode": {
    "name": "ipython",
    "version": 3
   },
   "file_extension": ".py",
   "mimetype": "text/x-python",
   "name": "python",
   "nbconvert_exporter": "python",
   "pygments_lexer": "ipython3",
   "version": "3.7.3"
  }
 },
 "nbformat": 4,
 "nbformat_minor": 5
}
