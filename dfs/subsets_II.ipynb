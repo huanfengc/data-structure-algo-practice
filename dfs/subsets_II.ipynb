{
 "cells": [
  {
   "cell_type": "markdown",
   "id": "a2802596",
   "metadata": {},
   "source": [
    "## Subsets II [problem](https://leetcode.com/problems/subsets-ii/)\n",
    "\n",
    "similar problems: [no.78 Subsets](https://leetcode.com/problems/subsets/).\n",
    "\n",
    "---\n",
    "\n",
    "Given an integer array ```nums``` **that may contain duplicates**, return all possible subsets (the power set).\n",
    "\n",
    "The solution set must not contain duplicate subsets. Return the solution in any order.\n",
    "\n",
    "---\n",
    "\n",
    "**Constraints:**\n",
    "\n",
    "* ```1 <= nums.length <= 10```\n",
    "* ```-10 <= nums[i] <= 10```"
   ]
  },
  {
   "cell_type": "markdown",
   "id": "4d7e471e",
   "metadata": {},
   "source": [
    "### 1. DFS (Recursion)\n",
    "* Time complexity: $O(N\\cdot 2^N)$, $N$ is the length of ```nums```, sorting takes $O(NlogN)$.\n",
    "* Space complexity: $O(N)$"
   ]
  },
  {
   "cell_type": "code",
   "execution_count": 1,
   "id": "c93e484b",
   "metadata": {},
   "outputs": [],
   "source": [
    "from typing import List\n",
    "\n",
    "def subsetsWithDup(nums: List[int]) -> List[List[int]]:\n",
    "    \"\"\"\n",
    "    Args:\n",
    "        nums: a list of integers, may contain duplicates\n",
    "        \n",
    "    Return:\n",
    "        a power set, ie. list of all unique combinations\n",
    "    \"\"\"\n",
    "\n",
    "    ret, path = [], []\n",
    "    self.dfs(sorted(nums), path, ret)\n",
    "    return ret\n",
    "\n",
    "\n",
    "def dfs(nums, path, ret):\n",
    "    ret.append(path)\n",
    "    for i in range(len(nums)):\n",
    "        if i > 0 and nums[i] == nums[i-1]:\n",
    "            continue\n",
    "        self.dfs(nums[i+1:], path + [nums[i]], ret)"
   ]
  }
 ],
 "metadata": {
  "kernelspec": {
   "display_name": "Python 3 (ipykernel)",
   "language": "python",
   "name": "python3"
  },
  "language_info": {
   "codemirror_mode": {
    "name": "ipython",
    "version": 3
   },
   "file_extension": ".py",
   "mimetype": "text/x-python",
   "name": "python",
   "nbconvert_exporter": "python",
   "pygments_lexer": "ipython3",
   "version": "3.7.3"
  }
 },
 "nbformat": 4,
 "nbformat_minor": 5
}
