{
 "cells": [
  {
   "cell_type": "markdown",
   "id": "a0b74b58",
   "metadata": {},
   "source": [
    "## Subtree of Another Tree [problem](https://leetcode.com/problems/subtree-of-another-tree/) \n",
    "\n",
    "**This problem is similar to [no.100 Same Tree](https://leetcode.com/problems/same-tree/) and [no.101 Symmeyric Tree](https://leetcode.com/problems/symmetric-tree/).**\n",
    "\n",
    "---\n",
    "\n",
    "Given the roots of two binary trees ```root``` and ```subRoot```, return ```true``` if there is a subtree of root with the same structure and node values of ```subRoot``` and ```false``` otherwise.\n",
    "\n",
    "A subtree of a binary tree ```tree``` is a tree that consists of a node in tree and all of this node's descendants. The tree ```tree``` could also be considered as a subtree of itself.\n",
    "\n",
    "---\n",
    "\n",
    "**Constraints:**\n",
    "\n",
    "* The number of nodes in the ```root``` tree is in the range ```[1, 2000]```.\n",
    "* The number of nodes in the ```subRoot``` tree is in the range ```[1, 1000]```.\n",
    "* ```-10^4 <= root.val <= 10^4```\n",
    "* ```-10^4 <= subRoot.val <= 10^4```"
   ]
  },
  {
   "cell_type": "markdown",
   "id": "a50f3d88",
   "metadata": {},
   "source": [
    "### 1. Recursive (DFS-like)\n",
    "time complexity: $O(M\\times N)$, where $M$ and $N$ are the number of nodes (sizes) of two trees, since two recursions are nested, just like the nested for-loops; space complexity: $O(M\\times N)$ for call stack during recursion."
   ]
  },
  {
   "cell_type": "code",
   "execution_count": 1,
   "id": "ea32d855",
   "metadata": {},
   "outputs": [],
   "source": [
    "# Definition for a binary tree node.\n",
    "# class TreeNode:\n",
    "#     def __init__(self, val=0, left=None, right=None):\n",
    "#         self.val = val\n",
    "#         self.left = left\n",
    "#         self.right = right\n",
    "\n",
    "def isSubtree(root, subRoot): \n",
    "    \"\"\"\n",
    "    input:\n",
    "    root, subroot (TreeNode)\n",
    "    \n",
    "    return:\n",
    "    Boolean\n",
    "    \"\"\"\n",
    "    \n",
    "    if self.isMatch(root, subRoot): return True\n",
    "    if not root: return False\n",
    "    return ( self.isSubtree(root.left, subRoot) \n",
    "            or self.isSubtree(root.right, subRoot) )\n",
    "\n",
    "\n",
    "\n",
    "def isMatch(n1, n2):\n",
    "    \"\"\" Check if two tree are matched (the same).\n",
    "    input:\n",
    "    n1, n2 (TreeNode)\n",
    "    \n",
    "    return:\n",
    "    Boolean\n",
    "    \"\"\"\n",
    "    \n",
    "    if not (n1 and n2):\n",
    "        return n1 is n2\n",
    "    return ( (n1.val == n2.val) \n",
    "            and self.isMatch(n1.left, n2.left) \n",
    "            and self.isMatch(n1.right, n2.right) )"
   ]
  },
  {
   "cell_type": "markdown",
   "id": "d0e7f0fa",
   "metadata": {},
   "source": [
    "### 2. Merkle hashing\n"
   ]
  },
  {
   "cell_type": "code",
   "execution_count": null,
   "id": "a1da9fee",
   "metadata": {},
   "outputs": [],
   "source": []
  }
 ],
 "metadata": {
  "kernelspec": {
   "display_name": "Python 3 (ipykernel)",
   "language": "python",
   "name": "python3"
  },
  "language_info": {
   "codemirror_mode": {
    "name": "ipython",
    "version": 3
   },
   "file_extension": ".py",
   "mimetype": "text/x-python",
   "name": "python",
   "nbconvert_exporter": "python",
   "pygments_lexer": "ipython3",
   "version": "3.7.3"
  }
 },
 "nbformat": 4,
 "nbformat_minor": 5
}
