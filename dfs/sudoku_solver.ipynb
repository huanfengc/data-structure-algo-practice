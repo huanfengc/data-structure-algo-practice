{
 "cells": [
  {
   "cell_type": "markdown",
   "id": "4fc1517a",
   "metadata": {},
   "source": [
    "## 37. Sudoku Solver [problem](https://leetcode.com/problems/sudoku-solver/)\n",
    "\n",
    "Write a program to solve a Sudoku puzzle by filling the empty cells.\n",
    "\n",
    "A sudoku solution must satisfy all of the following rules:\n",
    "\n",
    "* Each of the digits ```1-9``` must occur exactly once in each row.\n",
    "* Each of the digits ```1-9``` must occur exactly once in each column.\n",
    "* Each of the digits ```1-9``` must occur exactly once in each of the 9 ```3x3``` sub-boxes of the grid.\n",
    "\n",
    "The ```'.'``` character indicates empty cells.\n",
    "\n",
    "---\n",
    "\n",
    "**Constraints:**\n",
    "\n",
    "* ```board.length == 9```\n",
    "* ```board[i].length == 9```\n",
    "* ```board[i][j]``` is a digit or ```'.'```.\n",
    "* It is guaranteed that the input board has only one solution."
   ]
  },
  {
   "cell_type": "markdown",
   "id": "110d5943",
   "metadata": {},
   "source": [
    "### 1. DFS (backtracking)\n",
    "* Time complexity: $O((9!)^9)$\n",
    "* Space complexity: $O(1)$ since the size of ```board``` is fixed (81 cells).\n",
    "\n",
    "**This solution is articulated by [@calyun](https://leetcode.com/problems/sudoku-solver/discuss/294215/Simple-concise-clear-Python-solution), the most readable and concise from my point of view.**"
   ]
  },
  {
   "cell_type": "code",
   "execution_count": 1,
   "id": "fc13c21d",
   "metadata": {},
   "outputs": [],
   "source": [
    "from typing import List\n",
    "\n",
    "class Solution1:\n",
    "    def solveSudoku(self, board: List[List[str]]) -> None:\n",
    "        \"\"\"\n",
    "        Do not return anything, modify board in-place instead.\n",
    "        \"\"\"\n",
    "        \n",
    "        assert(self.dfs(board, 0, 0))\n",
    "        return\n",
    "    \n",
    "    \n",
    "    def dfs(self, board, r, c):\n",
    "        while board[r][c] != '.': # move to next empty cell\n",
    "            c += 1\n",
    "            if c == 9:\n",
    "                r, c = r + 1, 0\n",
    "            if r == 9:\n",
    "                return True\n",
    "        \n",
    "        for i in range(1, 10):\n",
    "            if self.isValidMove(board, r, c, str(i)):\n",
    "                board[r][c] = str(i)\n",
    "                if self.dfs(board, r, c):\n",
    "                    return True\n",
    "        board[r][c] = '.' # backtrack\n",
    "        return False\n",
    "    \n",
    "    \n",
    "    def isValidMove(self, board, r, c, choice):\n",
    "        if any(board[i][c] == choice for i in range(9)): return False\n",
    "        if any(board[r][i] == choice for i in range(9)): return False\n",
    "        boxr, boxc = 3 * (r // 3), 3 * (c // 3)\n",
    "        if any(board[i][j] == choice for i in range(boxr, boxr + 3) for j in range(boxc, boxc + 3)): return False\n",
    "        return True"
   ]
  }
 ],
 "metadata": {
  "kernelspec": {
   "display_name": "Python 3 (ipykernel)",
   "language": "python",
   "name": "python3"
  },
  "language_info": {
   "codemirror_mode": {
    "name": "ipython",
    "version": 3
   },
   "file_extension": ".py",
   "mimetype": "text/x-python",
   "name": "python",
   "nbconvert_exporter": "python",
   "pygments_lexer": "ipython3",
   "version": "3.7.3"
  }
 },
 "nbformat": 4,
 "nbformat_minor": 5
}
