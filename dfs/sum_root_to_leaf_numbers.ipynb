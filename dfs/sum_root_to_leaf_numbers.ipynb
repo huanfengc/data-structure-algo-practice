{
 "cells": [
  {
   "cell_type": "markdown",
   "id": "3b56ca63",
   "metadata": {},
   "source": [
    "## 129. Sum Root to Leaf Numbers [problem](https://leetcode.com/problems/sum-root-to-leaf-numbers/)\n",
    "\n",
    "You are given the root of a binary tree containing digits from ```0``` to ```9``` only.\n",
    "\n",
    "Each root-to-leaf path in the tree represents a number.\n",
    "\n",
    "* For example, the root-to-leaf path ```1 -> 2 -> 3``` represents the number ```123```.\n",
    "\n",
    "Return the total sum of all root-to-leaf numbers. Test cases are generated so that the answer will fit in a 32-bit integer.\n",
    "\n",
    "A leaf node is a node with no children.\n",
    "\n",
    "---\n",
    "\n",
    "**Constraints:**\n",
    "\n",
    "* The number of nodes in the tree is in the range ```[1, 1000]```.\n",
    "* ```0 <= Node.val <= 9```\n",
    "* The depth of the tree will not exceed ```10```."
   ]
  },
  {
   "cell_type": "markdown",
   "id": "912a4241",
   "metadata": {},
   "source": [
    "### 1. DFS (recursive preorder traversal: root -> left -> right)\n",
    "* Time complexity: $O(N)$, $N$ is the number of nodes in the tree.\n",
    "* Space complexity: $O(N)$ for call stack."
   ]
  },
  {
   "cell_type": "code",
   "execution_count": 1,
   "id": "a4e94a28",
   "metadata": {},
   "outputs": [],
   "source": [
    "# Definition for a binary tree node.\n",
    "class TreeNode:\n",
    "    def __init__(self, val=0, left=None, right=None):\n",
    "        self.val = val\n",
    "        self.left = left\n",
    "        self.right = right\n",
    "\n",
    "from typing import Optional\n",
    "\n",
    "class Solution1:\n",
    "    def sumNumbers(self, root: Optional[TreeNode]) -> int:\n",
    "        \"\"\"\n",
    "        Args:\n",
    "            root: root node of binary tree\n",
    "            \n",
    "        Return:\n",
    "            the total sum of the numbers represented by nodes from root to leaves\n",
    "        \"\"\"\n",
    "        \n",
    "        def preorder(node, curr_sum):\n",
    "            nonlocal total_sum\n",
    "            if node:\n",
    "                curr_sum = curr_sum * 10 + node.val\n",
    "                if not (node.left or node.right):\n",
    "                    total_sum += curr_sum\n",
    "                preorder(node.left, curr_sum)\n",
    "                preorder(node.right, curr_sum)\n",
    "        \n",
    "        \n",
    "        total_sum = 0\n",
    "        preorder(root, 0)\n",
    "        return total_sum"
   ]
  },
  {
   "cell_type": "markdown",
   "id": "23d3bc54",
   "metadata": {},
   "source": [
    "### 2. DFS (iterative preorder traversal using stack and tuple)\n",
    "* Time complexity: $O(N)$\n",
    "* Space complexity: $O(N)$ for stack."
   ]
  },
  {
   "cell_type": "code",
   "execution_count": 2,
   "id": "1c51bb13",
   "metadata": {},
   "outputs": [],
   "source": [
    "class Solution2:\n",
    "    def sumNumbers(self, root: Optional[TreeNode]) -> int:\n",
    "        \n",
    "        total_sum = 0\n",
    "        stack = [(root, 0)] # use tuple to keep track of curr_sum\n",
    "        \n",
    "        while stack:\n",
    "            node, curr_sum = stack.pop()\n",
    "            curr_sum = curr_sum * 10 + node.val\n",
    "            if not (node.left or node.right):\n",
    "                total_sum += curr_sum\n",
    "            if node.left:\n",
    "                stack.append((node.left, curr_sum))\n",
    "            if node.right:\n",
    "                stack.append((node.right, curr_sum))\n",
    "        \n",
    "        return total_sum   "
   ]
  },
  {
   "cell_type": "markdown",
   "id": "e0450017",
   "metadata": {},
   "source": [
    "### 3. Morris preorder traversal (constant space complexity)\n",
    "* Time complexity: $O(N)$\n",
    "* Space complexity: $O(1)$"
   ]
  },
  {
   "cell_type": "code",
   "execution_count": null,
   "id": "00539f8c",
   "metadata": {},
   "outputs": [],
   "source": []
  }
 ],
 "metadata": {
  "kernelspec": {
   "display_name": "Python 3 (ipykernel)",
   "language": "python",
   "name": "python3"
  },
  "language_info": {
   "codemirror_mode": {
    "name": "ipython",
    "version": 3
   },
   "file_extension": ".py",
   "mimetype": "text/x-python",
   "name": "python",
   "nbconvert_exporter": "python",
   "pygments_lexer": "ipython3",
   "version": "3.7.3"
  }
 },
 "nbformat": 4,
 "nbformat_minor": 5
}
