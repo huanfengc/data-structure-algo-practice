{
 "cells": [
  {
   "cell_type": "markdown",
   "id": "84c21509",
   "metadata": {},
   "source": [
    "## Symmetric Tree [problem](https://leetcode.com/problems/symmetric-tree/)\n",
    "\n",
    "Given the ```root``` of a binary tree, check whether it is a mirror of itself (i.e., symmetric around its center).\n",
    "\n",
    "**Constraints:**\n",
    "\n",
    "* The number of nodes in the tree is in the range ```[1, 1000]```.\n",
    "* ```-100 <= Node.val <= 100```"
   ]
  },
  {
   "cell_type": "markdown",
   "id": "534b1db2",
   "metadata": {},
   "source": [
    "### 1. Recursive (DFS-like)\n",
    "time complexity: $O(N)$; space complexity: $O(N)$ for the worst case. "
   ]
  },
  {
   "cell_type": "code",
   "execution_count": 1,
   "id": "73c798fa",
   "metadata": {},
   "outputs": [],
   "source": [
    "# Definition for a binary tree node.\n",
    "# class TreeNode:\n",
    "#     def __init__(self, val=0, left=None, right=None):\n",
    "#         self.val = val\n",
    "#         self.left = left\n",
    "#         self.right = right\n",
    "\n",
    "def isSymmetric(root):\n",
    "    \"\"\"\n",
    "    This problem is similar to no.226 Invert Binary Tree.\n",
    "    input: root (TreeNode)        \n",
    "    return: Boolean\n",
    "    \"\"\"\n",
    "\n",
    "    return self.checkSymmetric(root, root)\n",
    "\n",
    "\n",
    "\n",
    "def checkSymmetric(n1, n2):\n",
    "    \"\"\"\n",
    "    input: n1, n2 (TreeNode)\n",
    "    return: Boolean\n",
    "    \"\"\"\n",
    "    \n",
    "    if not n1 and not n2:\n",
    "        return True\n",
    "    elif not n1 or not n2:\n",
    "        return False\n",
    "    return ( n1.val == n2.val\n",
    "            and self.checkSymmetric(n1.left, n2.right) \n",
    "            and self.checkSymmetric(n1.right, n2.left) )    "
   ]
  },
  {
   "cell_type": "markdown",
   "id": "dcd4790d",
   "metadata": {},
   "source": [
    "### 2. Iterative\n"
   ]
  },
  {
   "cell_type": "code",
   "execution_count": null,
   "id": "cce706c0",
   "metadata": {},
   "outputs": [],
   "source": []
  }
 ],
 "metadata": {
  "kernelspec": {
   "display_name": "Python 3 (ipykernel)",
   "language": "python",
   "name": "python3"
  },
  "language_info": {
   "codemirror_mode": {
    "name": "ipython",
    "version": 3
   },
   "file_extension": ".py",
   "mimetype": "text/x-python",
   "name": "python",
   "nbconvert_exporter": "python",
   "pygments_lexer": "ipython3",
   "version": "3.7.3"
  }
 },
 "nbformat": 4,
 "nbformat_minor": 5
}
