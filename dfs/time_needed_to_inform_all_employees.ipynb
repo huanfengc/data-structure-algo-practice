{
 "cells": [
  {
   "cell_type": "markdown",
   "id": "fe1670b8",
   "metadata": {},
   "source": [
    "## Time Needed to Inform All Employees [problem](https://leetcode.com/problems/time-needed-to-inform-all-employees/)\n",
    "\n",
    "A company has ```n``` employees with a unique ID for each employee from ```0``` to ```n - 1```. The head of the company is the one with ```headID```.\n",
    "\n",
    "Each employee has one direct manager given in the ```manager``` array where ```manager[i]``` is the direct manager of the ```i-th``` employee, ```manager[headID] = -1```. Also, it is guaranteed that the subordination relationships have a tree structure.\n",
    "\n",
    "The head of the company wants to inform all the company employees of an urgent piece of news. He will inform his direct subordinates, and they will inform their subordinates, and so on until all employees know about the urgent news.\n",
    "\n",
    "The ```i-th``` employee needs ```informTime[i]``` minutes to inform all of his direct subordinates (i.e., After ```informTime[i]``` minutes, all his direct subordinates can start spreading the news).\n",
    "\n",
    "Return the number of minutes needed to inform all the employees about the urgent news.\n",
    "\n",
    "---\n",
    "\n",
    "**Constraints:**\n",
    "\n",
    "* ```1 <= n <= 10^5```\n",
    "* ```0 <= headID < n```\n",
    "* ```manager.length == n```\n",
    "* ```0 <= manager[i] < n```\n",
    "* ```manager[headID] == -1```\n",
    "* ```informTime.length == n```\n",
    "* ```0 <= informTime[i] <= 1000```\n",
    "* ```informTime[i] == 0``` if employee ```i``` has no subordinates.\n",
    "* It is guaranteed that all the employees can be informed."
   ]
  },
  {
   "cell_type": "markdown",
   "id": "59e5a6ea",
   "metadata": {},
   "source": [
    "### 1. DFS\n",
    "* Time complexity: $O(N)$\n",
    "* Space complexity: $O(N)$"
   ]
  },
  {
   "cell_type": "code",
   "execution_count": 1,
   "id": "f3d76259",
   "metadata": {},
   "outputs": [],
   "source": [
    "from typing import List\n",
    "\n",
    "def numOfMinutes(n: int, headID: int, manager: List[int], informTime: List[int]) -> int:\n",
    "    \"\"\"\n",
    "    Args:\n",
    "        n: number of employees\n",
    "        headID: ID of the head of the company\n",
    "        manager: list of directors of each employees\n",
    "        informTime: the time needed by each employee to spread news to subordinates\n",
    "        \n",
    "    Return:\n",
    "        total time needed for all the employees getting informed\n",
    "    \"\"\"\n",
    "\n",
    "    graph = defaultdict(list)\n",
    "    for i in range(len(manager)):\n",
    "        graph[manager[i]].append(i)\n",
    "\n",
    "    def dfs(idx):\n",
    "        total = 0\n",
    "        for v in graph[idx]:\n",
    "            # nodes at the same depth start spreading news simultaneously,\n",
    "            # only the max accumulative time matters.\n",
    "            total = max(total, dfs(v) + informTime[idx])\n",
    "        return total\n",
    "\n",
    "    return dfs(headID)"
   ]
  }
 ],
 "metadata": {
  "kernelspec": {
   "display_name": "Python 3 (ipykernel)",
   "language": "python",
   "name": "python3"
  },
  "language_info": {
   "codemirror_mode": {
    "name": "ipython",
    "version": 3
   },
   "file_extension": ".py",
   "mimetype": "text/x-python",
   "name": "python",
   "nbconvert_exporter": "python",
   "pygments_lexer": "ipython3",
   "version": "3.7.3"
  }
 },
 "nbformat": 4,
 "nbformat_minor": 5
}
