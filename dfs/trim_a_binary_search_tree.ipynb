{
 "cells": [
  {
   "cell_type": "markdown",
   "id": "33f3ab85",
   "metadata": {},
   "source": [
    "## Trim a Binary Search Tree [problem](https://leetcode.com/problems/trim-a-binary-search-tree/)\n",
    "\n",
    "Given the ```root``` of a binary search tree and the lowest and highest boundaries as ```low``` and ```high```, trim the tree so that all its elements lies in ```[low, high]```. Trimming the tree should not change the relative structure of the elements that will remain in the tree (i.e., any node's descendant should remain a descendant). It can be proven that there is a unique answer.\n",
    "\n",
    "Return the root of the trimmed binary search tree. Note that the root may change depending on the given bounds.\n",
    "\n",
    "---\n",
    "\n",
    "**Constraints:**\n",
    "\n",
    "* The number of nodes in the tree is in the range ```[1, 10^4]```.\n",
    "* ```0 <= Node.val <= 10^4```\n",
    "* The value of each node in the tree is unique.\n",
    "* ```root``` is guaranteed to be a valid binary search tree.\n",
    "* ```0 <= low <= high <= 10^4```\n",
    "\n",
    "---\n",
    "\n",
    "**Follow-up: Need to understand how recursion works (not very clear at this moment).**"
   ]
  },
  {
   "cell_type": "markdown",
   "id": "c3577440",
   "metadata": {},
   "source": [
    "### Define the TreeNode class"
   ]
  },
  {
   "cell_type": "code",
   "execution_count": 1,
   "id": "1f8c4d2d",
   "metadata": {},
   "outputs": [],
   "source": [
    "from typing import Optional\n",
    "\n",
    "# Definition for a binary tree node.\n",
    "class TreeNode:\n",
    "    def __init__(self, val=0, left=None, right=None):\n",
    "        self.val = val\n",
    "        self.left = left\n",
    "        self.right = right"
   ]
  },
  {
   "cell_type": "markdown",
   "id": "f57ec3b4",
   "metadata": {},
   "source": [
    "### 1. Recursion (no helper function)\n",
    "time complexity: $O(N)$ for traversing all the nodes **at most once**; space complexity: $O(N)$ for call stack."
   ]
  },
  {
   "cell_type": "code",
   "execution_count": 2,
   "id": "08db5c8f",
   "metadata": {},
   "outputs": [],
   "source": [
    "def trimBST(root: Optional[TreeNode], low: int, high: int) -> Optional[TreeNode]:\n",
    "    \"\"\"\n",
    "    Args:\n",
    "        root: the root node of BST\n",
    "        low: lower bound\n",
    "        high: higher bound\n",
    "        \n",
    "    Return:\n",
    "        the root of subtree whose node values are all within [low, high].\n",
    "    \"\"\"\n",
    "\n",
    "    if not root:\n",
    "        return None\n",
    "    elif root.val > high:\n",
    "        return self.trimBST(root.left, low, high)\n",
    "    elif root.val < low:\n",
    "        return self.trimBST(root.right, low, high)\n",
    "    else:\n",
    "        root.left = self.trimBST(root.left, low, high)\n",
    "        root.right = self.trimBST(root.right, low, high)\n",
    "    return root"
   ]
  },
  {
   "cell_type": "markdown",
   "id": "9ca16aab",
   "metadata": {},
   "source": [
    "### 2. Recursion (with helper function)\n",
    "time complexity: $O(N)$; space complexity: $O(N)$."
   ]
  },
  {
   "cell_type": "code",
   "execution_count": 3,
   "id": "9c4a9677",
   "metadata": {},
   "outputs": [],
   "source": [
    "def trimBST(root: Optional[TreeNode], low: int, high: int) -> Optional[TreeNode]:\n",
    "    \"\"\"\n",
    "    Args:\n",
    "        root: the root node of BST\n",
    "        low: lower bound\n",
    "        high: higher bound\n",
    "        \n",
    "    Return:\n",
    "        the root of subtree whose node values are all within [low, high].\n",
    "    \"\"\"\n",
    "    \n",
    "    def trim(node):\n",
    "        if not node:\n",
    "            return None\n",
    "        if node.val > high:\n",
    "            return trim(node.left)\n",
    "        elif node.val < low:\n",
    "            return trim(node.right)\n",
    "        else:\n",
    "            node.left = trim(node.left)\n",
    "            node.right = trim(node.right)\n",
    "            return node\n",
    "    return trim(root)"
   ]
  }
 ],
 "metadata": {
  "kernelspec": {
   "display_name": "Python 3 (ipykernel)",
   "language": "python",
   "name": "python3"
  },
  "language_info": {
   "codemirror_mode": {
    "name": "ipython",
    "version": 3
   },
   "file_extension": ".py",
   "mimetype": "text/x-python",
   "name": "python",
   "nbconvert_exporter": "python",
   "pygments_lexer": "ipython3",
   "version": "3.7.3"
  }
 },
 "nbformat": 4,
 "nbformat_minor": 5
}
