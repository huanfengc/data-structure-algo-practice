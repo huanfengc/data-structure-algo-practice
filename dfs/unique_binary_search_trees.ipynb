{
 "cells": [
  {
   "cell_type": "markdown",
   "id": "b300529d",
   "metadata": {},
   "source": [
    "## 96. Unique Binary Search Trees [problem](https://leetcode.com/problems/unique-binary-search-trees/)\n",
    "\n",
    "**This problem is sloved by bottom-up dynamic progromming, but the idea behind is inspiring, and I believe it is quite typical to a binary tree problem.**\n",
    "\n",
    "---\n",
    "\n",
    "Given an integer n, return the number of structurally unique BST's (binary search trees) which has exactly n nodes of unique values from 1 to n.\n",
    "\n",
    "---\n",
    "\n",
    "**Constraints:**\n",
    "\n",
    "* ```1 <= n <= 19```"
   ]
  },
  {
   "cell_type": "markdown",
   "id": "d118055e",
   "metadata": {},
   "source": [
    "### 1. Dynamic programmig (bottom-up)\n",
    "* Time complexity: $O(N^2)$\n",
    "* Space complexity: $O(N)$"
   ]
  },
  {
   "cell_type": "code",
   "execution_count": 1,
   "id": "99693419",
   "metadata": {},
   "outputs": [],
   "source": [
    "class Solution1:\n",
    "    def numTrees(self, n: int) -> int:\n",
    "        \n",
    "        dp = [0] * (n + 1)\n",
    "        dp[0] = dp[1] = 1\n",
    "        \n",
    "        for i in range(2, n + 1): # buid the answer to n nodes from subproblems: 0, 1, ..., n - 1 nodes\n",
    "            for j in range(1, i + 1): # each node can be the root node \n",
    "                dp[i] += dp[j - 1]*dp[i - j] # the number of unique trees for i nodes is the sum of combinations\n",
    "        return dp[n]"
   ]
  }
 ],
 "metadata": {
  "kernelspec": {
   "display_name": "Python 3 (ipykernel)",
   "language": "python",
   "name": "python3"
  },
  "language_info": {
   "codemirror_mode": {
    "name": "ipython",
    "version": 3
   },
   "file_extension": ".py",
   "mimetype": "text/x-python",
   "name": "python",
   "nbconvert_exporter": "python",
   "pygments_lexer": "ipython3",
   "version": "3.7.3"
  }
 },
 "nbformat": 4,
 "nbformat_minor": 5
}
