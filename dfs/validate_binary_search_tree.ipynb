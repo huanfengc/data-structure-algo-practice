{
 "cells": [
  {
   "cell_type": "markdown",
   "id": "f8d6e8d2",
   "metadata": {},
   "source": [
    "## Validate Binary Search Tree [problem](https://leetcode.com/problems/validate-binary-search-tree/)\n",
    "\n",
    "Given the ```root``` of a binary tree, determine if it is a valid binary search tree (BST).\n",
    "\n",
    "A valid BST is defined as follows:\n",
    "\n",
    "* The left subtree of a node contains only nodes with keys less than the node's key.\n",
    "* The right subtree of a node contains only nodes with keys greater than the node's key.\n",
    "* Both the left and right subtrees must also be binary search trees.\n",
    "\n",
    "**Constraints:**\n",
    "\n",
    "* The number of nodes in the tree is in the range ```[1, 104]```.\n",
    "* ```-2^31 <= Node.val <= 2^31 - 1```"
   ]
  },
  {
   "cell_type": "markdown",
   "id": "0857406a",
   "metadata": {},
   "source": [
    "### Define a TreeNode class"
   ]
  },
  {
   "cell_type": "code",
   "execution_count": 1,
   "id": "99057229",
   "metadata": {},
   "outputs": [],
   "source": [
    "from typing import Optional\n",
    "\n",
    "# Definition for a binary tree node.\n",
    "class TreeNode:\n",
    "    def __init__(self, val=0, left=None, right=None):\n",
    "        self.val = val\n",
    "        self.left = left\n",
    "        self.right = right"
   ]
  },
  {
   "cell_type": "markdown",
   "id": "e36d9464",
   "metadata": {},
   "source": [
    "### 1. DFS and Recursion\n",
    "time complexity: $O(N)$ for traversing all the nodes; space complexity: $O(N)$ for the call stack in the worst case."
   ]
  },
  {
   "cell_type": "code",
   "execution_count": 2,
   "id": "d8746104",
   "metadata": {},
   "outputs": [],
   "source": [
    "def isValidBST(root: Optional[TreeNode]) -> bool:\n",
    "    \"\"\"\n",
    "    Args:\n",
    "        root: the root node of the binary tree.\n",
    "        \n",
    "    Return:\n",
    "        boolean: whether or not the binary tree is valid.\n",
    "    \"\"\"\n",
    "\n",
    "    def valid(node, low=float(\"-inf\"), high=float(\"inf\")):\n",
    "        if not node:\n",
    "            return True\n",
    "        if node.val <= low or node.val >= high:\n",
    "            return False            \n",
    "        return (valid(node.left, low, node.val) and\n",
    "                valid(node.right, node.val, high))\n",
    "\n",
    "    return valid(root)"
   ]
  },
  {
   "cell_type": "markdown",
   "id": "fb88871c",
   "metadata": {},
   "source": [
    "### 2. DFS and Iteration\n"
   ]
  },
  {
   "cell_type": "code",
   "execution_count": null,
   "id": "d1369fdc",
   "metadata": {},
   "outputs": [],
   "source": []
  }
 ],
 "metadata": {
  "kernelspec": {
   "display_name": "Python 3 (ipykernel)",
   "language": "python",
   "name": "python3"
  },
  "language_info": {
   "codemirror_mode": {
    "name": "ipython",
    "version": 3
   },
   "file_extension": ".py",
   "mimetype": "text/x-python",
   "name": "python",
   "nbconvert_exporter": "python",
   "pygments_lexer": "ipython3",
   "version": "3.7.3"
  }
 },
 "nbformat": 4,
 "nbformat_minor": 5
}
