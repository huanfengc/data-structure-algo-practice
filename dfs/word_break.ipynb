{
 "cells": [
  {
   "cell_type": "markdown",
   "id": "987e01f4",
   "metadata": {},
   "source": [
    "## Word Break [problem](https://leetcode.com/problems/word-break/)\n",
    "\n",
    "Given a string ```s``` and a dictionary of strings ```wordDict```, return ```True``` if ```s``` can be segmented into a space-separated sequence of one or more dictionary words.\n",
    "\n",
    "**Note that** the same word in the dictionary may be reused multiple times in the segmentation.\n",
    "\n",
    "---\n",
    "\n",
    "**Constraints:**\n",
    "\n",
    "* ```1 <= s.length <= 300```\n",
    "* ```1 <= wordDict.length <= 1000```\n",
    "* ```1 <= wordDict[i].length <= 20```\n",
    "* ```s``` and ```wordDict[i]``` consist of only lowercase English letters.\n",
    "* All the strings of ```wordDict``` are unique."
   ]
  },
  {
   "cell_type": "markdown",
   "id": "3224b408",
   "metadata": {},
   "source": [
    "### 1. DFS and Backtracking (too slow)\n",
    "* Time complexity: $O(2^N)$\n",
    "* Space complexity: $o(N)$"
   ]
  },
  {
   "cell_type": "code",
   "execution_count": 1,
   "id": "f82f2ea1",
   "metadata": {},
   "outputs": [],
   "source": [
    "from typing import List\n",
    "\n",
    "def wordBreak(s: str, wordDict: List[str]) -> bool:\n",
    "    \"\"\"\n",
    "    Args:\n",
    "        s: a string\n",
    "        wordDict: a list of words\n",
    "        \n",
    "    Return:\n",
    "        True if s can be broken into segments contained in the wordDict, o.w. False\n",
    "    \"\"\"\n",
    "\n",
    "    wordset = set(wordDict)\n",
    "    return self.backtrack(s, wordset)\n",
    "\n",
    "\n",
    "def backtrack(s, words):\n",
    "    \"\"\"A helper function performing DFS/backtracking\n",
    "    \"\"\"\n",
    "    \n",
    "    if len(s) == 0:\n",
    "        return True\n",
    "\n",
    "    for i in range(1, len(s) + 1):\n",
    "        if s[:i] in words and backtrack(s[i:], words):\n",
    "                return True\n",
    "    return False"
   ]
  },
  {
   "cell_type": "markdown",
   "id": "4f0575e1",
   "metadata": {},
   "source": [
    "### 2. DFS and Backtracking and Memoization\n",
    "* Time complexity: $O(N^3)$ **(not clear how to derive(?))**\n",
    "* Space complexity: $O(N)$"
   ]
  },
  {
   "cell_type": "code",
   "execution_count": 2,
   "id": "5a24e878",
   "metadata": {},
   "outputs": [],
   "source": [
    "from functools import lru_cache\n",
    "\n",
    "def wordBreak(self, s: str, wordDict: List[str]) -> bool:\n",
    "\n",
    "    # use hashable set\n",
    "    wordset = frozenset(wordDict)  \n",
    "    return self.backtrack(s, wordset)\n",
    "\n",
    "\n",
    "# a memo list to store the function return values, avoid redundant evaluations.\n",
    "@lru_cache(maxsize=1000)\n",
    "def backtrack(s, words):\n",
    "    if len(s) == 0:\n",
    "        return True\n",
    "\n",
    "    for i in range(1, len(s) + 1):\n",
    "        if s[:i] in words and backtrack(s[i:], words):\n",
    "                return True\n",
    "    return False"
   ]
  },
  {
   "cell_type": "markdown",
   "id": "d539f24b",
   "metadata": {},
   "source": [
    "### 3. BFS"
   ]
  },
  {
   "cell_type": "markdown",
   "id": "6f57740e",
   "metadata": {},
   "source": [
    "### 4. Dynamic Programming"
   ]
  }
 ],
 "metadata": {
  "kernelspec": {
   "display_name": "Python 3 (ipykernel)",
   "language": "python",
   "name": "python3"
  },
  "language_info": {
   "codemirror_mode": {
    "name": "ipython",
    "version": 3
   },
   "file_extension": ".py",
   "mimetype": "text/x-python",
   "name": "python",
   "nbconvert_exporter": "python",
   "pygments_lexer": "ipython3",
   "version": "3.7.3"
  }
 },
 "nbformat": 4,
 "nbformat_minor": 5
}
