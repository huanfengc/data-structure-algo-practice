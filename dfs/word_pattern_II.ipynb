{
 "cells": [
  {
   "cell_type": "markdown",
   "id": "711f0c50",
   "metadata": {},
   "source": [
    "## Word Pattern II [problem](https://leetcode.com/problems/word-pattern-ii/)\n",
    "\n",
    "Given a ```pattern``` and a string ```s```, return ```true``` if ```s``` matches the pattern.\n",
    "\n",
    "A string ```s``` matches a ```pattern``` if there is some bijective mapping of single characters to strings such that if each character in pattern is replaced by the string it maps to, then the resulting string is ```s```. A bijective mapping means that no two characters map to the same string, and no character maps to two different strings.\n",
    "\n",
    "---\n",
    "\n",
    "**Constraints:**\n",
    "\n",
    "* ```1 <= pattern.length, s.length <= 20```\n",
    "* ```pattern``` and ```s``` consist of only lowercase English letters."
   ]
  },
  {
   "cell_type": "markdown",
   "id": "3389fdeb",
   "metadata": {},
   "source": [
    "### 1. DFS and Backtracking (use hashmap and hashset)\n",
    "* Time complexity: ??\n",
    "* Space complexity: ??"
   ]
  },
  {
   "cell_type": "code",
   "execution_count": 1,
   "id": "dac9cb6a",
   "metadata": {},
   "outputs": [],
   "source": [
    "def wordPatternMatch(pattern: str, s: str) -> bool:\n",
    "    \"\"\"\n",
    "    Args:\n",
    "        pattern: a string pattern, eg. \"aabb\"\n",
    "        s: a string, eg. \"catcatdogdog\"\n",
    "        \n",
    "    Return:\n",
    "        a boolean, return True if the string matches the pattern\n",
    "    \"\"\"\n",
    "\n",
    "    hashmap = {}\n",
    "    hashset = set()\n",
    "\n",
    "    def dfs(pat, s, hmap, hset):\n",
    "        # pattern and string have to end at the same time\n",
    "        if len(pat) == 0:\n",
    "            return len(s) == 0\n",
    "\n",
    "        # pattern exist in the map, continue if matched, or backtrack\n",
    "        c = pat[0]\n",
    "        if c in hmap:\n",
    "            length = len(hmap[c])\n",
    "            if hmap[c] != s[:length]:\n",
    "                return False\n",
    "            return dfs(pat[1:], s[length:], hmap, hset)\n",
    "\n",
    "        # pattern not in the map, check all matching possibilities\n",
    "        for i in range(len(s)):\n",
    "            word = s[:i+1]\n",
    "            if word in hashset:\n",
    "                continue\n",
    "                \n",
    "            hset.add(word)\n",
    "            hmap[c] = word\n",
    "            if dfs(pat[1:], s[i+1:], hmap, hset):\n",
    "                return True\n",
    "            hset.remove(word)\n",
    "            del hmap[c]\n",
    "        return False\n",
    "\n",
    "    return dfs(pattern, s, hashmap, hashset)"
   ]
  }
 ],
 "metadata": {
  "kernelspec": {
   "display_name": "Python 3 (ipykernel)",
   "language": "python",
   "name": "python3"
  },
  "language_info": {
   "codemirror_mode": {
    "name": "ipython",
    "version": 3
   },
   "file_extension": ".py",
   "mimetype": "text/x-python",
   "name": "python",
   "nbconvert_exporter": "python",
   "pygments_lexer": "ipython3",
   "version": "3.7.3"
  }
 },
 "nbformat": 4,
 "nbformat_minor": 5
}
