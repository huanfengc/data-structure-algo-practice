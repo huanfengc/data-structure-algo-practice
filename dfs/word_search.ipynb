{
 "cells": [
  {
   "cell_type": "markdown",
   "id": "280292b7",
   "metadata": {},
   "source": [
    "## Word Search [problem](https://leetcode.com/problems/word-search/)\n",
    "\n",
    "Given an ```m x n``` grid of characters ```board``` and a string ```word```, return true if word exists in the grid.\n",
    "\n",
    "The word can be constructed from letters of sequentially adjacent cells, where adjacent cells are horizontally or vertically neighboring. The same letter cell may not be used more than once.\n",
    "\n",
    "---\n",
    "\n",
    "**Constraints:**\n",
    "\n",
    "* ```m == board.length```\n",
    "* ```n = board[i].length```\n",
    "* ```1 <= m, n <= 6```\n",
    "* ```1 <= word.length <= 15```\n",
    "* ```board``` and ```word``` consists of only lowercase and uppercase English letters."
   ]
  },
  {
   "cell_type": "markdown",
   "id": "fd710a5f",
   "metadata": {},
   "source": [
    "### 1. DFS and Backtracking\n",
    "* Time complexity: $O(N\\cdot 3^L)$, $N$ is the number of cells in the board, $L$ is the length of the word, $3$ means the number of directions to go (will not go back, so there are only 3 directions once getting started).\n",
    "* Space complexity: $O(L)$."
   ]
  },
  {
   "cell_type": "code",
   "execution_count": 1,
   "id": "e1fa9ae9",
   "metadata": {},
   "outputs": [],
   "source": [
    "from typing import List\n",
    "\n",
    "def exist(board: List[List[str]], word: str) -> bool:\n",
    "    \"\"\"\n",
    "    Args:\n",
    "        board: a m x n grid containing letters\n",
    "        word: a string to be searched for\n",
    "        \n",
    "    Return:\n",
    "        a boolean, True if word is found in the board, o.w. False\n",
    "    \"\"\"\n",
    "\n",
    "    rows, cols = len(board), len(board[0])\n",
    "\n",
    "    for row in range(rows):\n",
    "        for col in range(cols):\n",
    "            if self.backtrack(row, col, board, word):\n",
    "                return True\n",
    "    return False\n",
    "\n",
    "\n",
    "def backtrack(x, y, board, word):\n",
    "    \"\"\"A helper function backtracking to search for the word\n",
    "    Args:\n",
    "        x: row index\n",
    "        y: column index\n",
    "        board: the m x n grid containing letters\n",
    "        word: a string to be searched for in the board\n",
    "    \n",
    "    Return:\n",
    "        boolean: True if the word is found, o.w. False\n",
    "    \"\"\"\n",
    "    \n",
    "    if len(word) == 0 :\n",
    "        return True\n",
    "\n",
    "    if x < 0 or x == len(board) or y < 0 or y == len(board[0]):\n",
    "        return False\n",
    "\n",
    "    if board[x][y] != word[0]:\n",
    "        return False\n",
    "\n",
    "    board[x][y] = \"#\"\n",
    "    for dx, dy in {(1, 0), (-1, 0), (0, 1), (0, -1)}:\n",
    "        res = self.backtrack(x + dx, y + dy, board, word[1:])\n",
    "        if res: break\n",
    "    board[x][y] = word[0]\n",
    "    return res\n",
    "\n",
    "    # backtracking choice 2:\n",
    "#        for dx, dy in {(1, 0), (-1, 0), (0, 1), (0, -1)}:\n",
    "#            if self.backtrack(x + dx, y + dy, board, word[1:]):\n",
    "#                return True\n",
    "#        board[x][y] = word[0]\n",
    "#        return False"
   ]
  }
 ],
 "metadata": {
  "kernelspec": {
   "display_name": "Python 3 (ipykernel)",
   "language": "python",
   "name": "python3"
  },
  "language_info": {
   "codemirror_mode": {
    "name": "ipython",
    "version": 3
   },
   "file_extension": ".py",
   "mimetype": "text/x-python",
   "name": "python",
   "nbconvert_exporter": "python",
   "pygments_lexer": "ipython3",
   "version": "3.7.3"
  }
 },
 "nbformat": 4,
 "nbformat_minor": 5
}
