{
 "cells": [
  {
   "cell_type": "markdown",
   "id": "d99dd51f",
   "metadata": {},
   "source": [
    "## 70. Climbing Stairs [problem](https://leetcode.com/problems/climbing-stairs/)\n",
    "\n",
    "You are climbing a staircase. It takes ```n``` steps to reach the top.\n",
    "\n",
    "Each time you can either climb ```1``` or ```2``` steps. In how many distinct ways can you climb to the top?\n",
    "\n",
    "---\n",
    "\n",
    "**Constraints:**\n",
    "\n",
    "* ```1 <= n <= 45```"
   ]
  },
  {
   "cell_type": "markdown",
   "id": "b991f1fa",
   "metadata": {},
   "source": [
    "### 1. Dynamic programming (bottom-up)\n",
    "* Time complexity: $O(N)$ for looping over $N$ stairs.\n",
    "* Space complexity: $O(N)$ for the array holding the distinct ways reaching each stair."
   ]
  },
  {
   "cell_type": "code",
   "execution_count": 1,
   "id": "ebfb6dc9",
   "metadata": {},
   "outputs": [],
   "source": [
    "def climbStairs(self, n: int) -> int:\n",
    "    \"\"\"\n",
    "    Args:\n",
    "        n: number of stairs to climb\n",
    "        \n",
    "    Return:\n",
    "        number of distinct ways of reaching the top of stairs\n",
    "    \"\"\"\n",
    "\n",
    "    if n == 1:\n",
    "        return 1\n",
    "\n",
    "    dp = [0] *  n\n",
    "    dp[0], dp[1] = 1, 2 # base case\n",
    "\n",
    "    for i in range(2, n):\n",
    "        dp[i] = dp[i - 1] + dp[i - 2]\n",
    "    return dp[n - 1]"
   ]
  },
  {
   "cell_type": "markdown",
   "id": "0ece5049",
   "metadata": {},
   "source": [
    "### 2. Dynamic programming (top-down)\n",
    "* Time complexity:\n",
    "* Space complexity:"
   ]
  },
  {
   "cell_type": "code",
   "execution_count": null,
   "id": "642d7ce0",
   "metadata": {},
   "outputs": [],
   "source": []
  }
 ],
 "metadata": {
  "kernelspec": {
   "display_name": "Python 3 (ipykernel)",
   "language": "python",
   "name": "python3"
  },
  "language_info": {
   "codemirror_mode": {
    "name": "ipython",
    "version": 3
   },
   "file_extension": ".py",
   "mimetype": "text/x-python",
   "name": "python",
   "nbconvert_exporter": "python",
   "pygments_lexer": "ipython3",
   "version": "3.7.3"
  }
 },
 "nbformat": 4,
 "nbformat_minor": 5
}
