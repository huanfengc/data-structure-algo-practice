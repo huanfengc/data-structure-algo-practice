{
 "cells": [
  {
   "cell_type": "markdown",
   "id": "bae33d28",
   "metadata": {},
   "source": [
    "## 322. Coin Change [problem](https://leetcode.com/problems/coin-change/)\n",
    "\n",
    "You are given an integer array coins representing coins of different denominations and an integer ```amount``` representing a total amount of money.\n",
    "\n",
    "Return the fewest number of coins that you need to make up that amount. If that amount of money cannot be made up by any combination of the coins, return ```-1```.\n",
    "\n",
    "You may assume that you have an infinite number of each kind of coin.\n",
    "\n",
    "---\n",
    "\n",
    "**Constraints:**\n",
    "\n",
    "* ```1 <= coins.length <= 12```\n",
    "* ```1 <= coins[i] <= 2^31 - 1```\n",
    "* ```0 <= amount <= 10^4```"
   ]
  },
  {
   "cell_type": "markdown",
   "id": "f8394765",
   "metadata": {},
   "source": [
    "### 1. Dynamic programming (bottom-up)\n",
    "* Time complexity: $O(N\\times A)$, $N$ is the length of ```coins```, $A$ is the ```amount```.\n",
    "* Space complexity: $O(A)$"
   ]
  },
  {
   "cell_type": "code",
   "execution_count": 1,
   "id": "54e8c44c",
   "metadata": {},
   "outputs": [],
   "source": [
    "from typing import List\n",
    "\n",
    "def coinChange1(coins: List[int], amount: int) -> int:\n",
    "    \"\"\"\n",
    "    Args:\n",
    "        coins: an integer array denoting coins with different denominations\n",
    "        amount: an integer denoting the total amount of money \n",
    "    \n",
    "    Return:\n",
    "        the minimum number of coins needed to sum up to amount, if can not achieve, return -1\n",
    "    \"\"\"\n",
    "\n",
    "    min_costs = [float(\"inf\")] * (amount + 1)\n",
    "    min_costs[0] = 0\n",
    "\n",
    "    for coin in coins:\n",
    "        for i in range(coin, amount + 1):\n",
    "            min_costs[i] = min(min_costs[i], min_costs[i - coin] + 1)\n",
    "    return min_costs[amount] if min_costs[amount] != float(\"inf\") else -1\n"
   ]
  },
  {
   "cell_type": "markdown",
   "id": "ccac5bad",
   "metadata": {},
   "source": [
    "### 2. Dynamic programming (top-down)\n",
    "* Time complexity:\n",
    "* Space complexity:"
   ]
  },
  {
   "cell_type": "code",
   "execution_count": null,
   "id": "32e984cc",
   "metadata": {},
   "outputs": [],
   "source": []
  },
  {
   "cell_type": "markdown",
   "id": "cb147ec6",
   "metadata": {},
   "source": [
    "### 3. DFS (Backtracking)\n",
    "* Time complexity:\n",
    "* Space complexity: "
   ]
  },
  {
   "cell_type": "code",
   "execution_count": 2,
   "id": "9137a5b0",
   "metadata": {},
   "outputs": [],
   "source": [
    "from functools import lru_cache\n",
    "\n",
    "def coinChange3(coins: List[int], amount: int) -> int:\n",
    "    \"\"\"\n",
    "    Args:\n",
    "        coins: an integer array denoting coins with different denominations\n",
    "        amount: an integer denoting the total amount of money \n",
    "    \n",
    "    Return:\n",
    "        the minimum number of coins needed to sum up to amount, if can not achieve, return -1\n",
    "    \"\"\"\n",
    "\n",
    "    if not amount:\n",
    "        return 0\n",
    "    self.coins = coins\n",
    "    self.ret = float(\"inf\")\n",
    "    self.dfs(amount, 0)\n",
    "    return self.ret if self.ret != float(\"inf\") else -1\n",
    "\n",
    "@lru_cache(maxsize=128)\n",
    "def dfs(amount, path):\n",
    "    if path > self.ret:\n",
    "        return\n",
    "    elif amount == 0:\n",
    "        if path < self.ret:\n",
    "            self.ret = path\n",
    "            return\n",
    "#            elif amount < 0:\n",
    "#                return\n",
    "\n",
    "    for i in self.coins:\n",
    "        if amount < i:\n",
    "            continue\n",
    "        self.dfs(amount - i, path + 1)"
   ]
  }
 ],
 "metadata": {
  "kernelspec": {
   "display_name": "Python 3 (ipykernel)",
   "language": "python",
   "name": "python3"
  },
  "language_info": {
   "codemirror_mode": {
    "name": "ipython",
    "version": 3
   },
   "file_extension": ".py",
   "mimetype": "text/x-python",
   "name": "python",
   "nbconvert_exporter": "python",
   "pygments_lexer": "ipython3",
   "version": "3.7.3"
  }
 },
 "nbformat": 4,
 "nbformat_minor": 5
}
