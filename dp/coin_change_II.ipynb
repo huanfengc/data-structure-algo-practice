{
 "cells": [
  {
   "cell_type": "markdown",
   "id": "a16f83a6",
   "metadata": {},
   "source": [
    "## 518. Coin Change II [problem](https://leetcode.com/problems/coin-change-2/)\n",
    "\n",
    "**Similar problems:**\n",
    "* [377. Combination Sum IV](./combination_sum_IV.ipynb) (slightly different requirement, be careful)\n",
    "\n",
    "---\n",
    "\n",
    "You are given an integer array ```coins``` representing coins of different denominations and an integer ```amount``` representing a total amount of money.\n",
    "\n",
    "Return the number of combinations that make up that amount. If that amount of money cannot be made up by any combination of the coins, return ```0```.\n",
    "\n",
    "You may assume that you have an infinite number of each kind of coin.\n",
    "\n",
    "The answer is guaranteed to fit into a signed 32-bit integer.\n",
    "\n",
    "---\n",
    "\n",
    "**Constraints:**\n",
    "\n",
    "* ```1 <= coins.length <= 300```\n",
    "* ```1 <= coins[i] <= 5000```\n",
    "* All the values of coins are unique.\n",
    "* ```0 <= amount <= 5000```"
   ]
  },
  {
   "cell_type": "markdown",
   "id": "2443fea7",
   "metadata": {},
   "source": [
    "### 1. DP\n",
    "* Time complexity: $O(T\\times N)$, $T$ is the ```target``` number, $N$ is the size of ```coins``` list.\n",
    "* Space complexity: $O(T)$ "
   ]
  },
  {
   "cell_type": "code",
   "execution_count": 1,
   "id": "b75d56b8",
   "metadata": {},
   "outputs": [],
   "source": [
    "from typing import List\n",
    "\n",
    "def change(amount: int, coins: List[int]) -> int:\n",
    "    \"\"\"\n",
    "    Args:\n",
    "        amount: the target sum of coins\n",
    "        coins: a list of coins with different denominations\n",
    "        \n",
    "    Return:\n",
    "        number of combinations (the same sequence in different order doesn't count)\n",
    "    \"\"\"\n",
    "\n",
    "    dp = [0] * (amount + 1)\n",
    "    dp[0] = 1\n",
    "\n",
    "    for coin in coins:\n",
    "        for i in range(coin, amount + 1):\n",
    "            dp[i] += dp[i - coin]\n",
    "    return dp[amount]"
   ]
  }
 ],
 "metadata": {
  "kernelspec": {
   "display_name": "Python 3 (ipykernel)",
   "language": "python",
   "name": "python3"
  },
  "language_info": {
   "codemirror_mode": {
    "name": "ipython",
    "version": 3
   },
   "file_extension": ".py",
   "mimetype": "text/x-python",
   "name": "python",
   "nbconvert_exporter": "python",
   "pygments_lexer": "ipython3",
   "version": "3.7.3"
  }
 },
 "nbformat": 4,
 "nbformat_minor": 5
}
