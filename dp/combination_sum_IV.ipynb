{
 "cells": [
  {
   "cell_type": "markdown",
   "id": "bc286587",
   "metadata": {},
   "source": [
    "## 377. Combination Sum IV [problem](https://leetcode.com/problems/combination-sum-iv/)\n",
    "\n",
    "Given an array of distinct integers ```nums``` and a target integer ```target```, return the number of possible combinations that add up to target.\n",
    "\n",
    "The test cases are generated so that the answer can fit in a ```3```2-bit integer.\n",
    "\n",
    "---\n",
    "\n",
    "**Constraints:**\n",
    "\n",
    "* ```1 <= nums.length <= 200```\n",
    "* ```1 <= nums[i] <= 1000```\n",
    "* All the elements of ```nums``` are unique.\n",
    "* ```1 <= target <= 1000```\n",
    "\n",
    "---\n",
    "\n",
    "**Follow up: What if negative numbers are allowed in the given array? How does it change the problem? What limitation we need to add to the question to allow negative numbers?**"
   ]
  },
  {
   "cell_type": "markdown",
   "id": "cab52b95",
   "metadata": {},
   "source": [
    "### 1. DFS and Memoization\n",
    "* Time complexity: $O(T\\times N)$, $T$ is the ```target``` value and $N$ is number of elements in ```nums```.\n",
    "* Space complexity: $O(T)$\n",
    "\n",
    "---\n",
    "\n",
    "**similar to [1155. Number of Dice Rolls With Target Sum](https://leetcode.com/problems/number-of-dice-rolls-with-target-sum/).**"
   ]
  },
  {
   "cell_type": "code",
   "execution_count": 1,
   "id": "1f735eb7",
   "metadata": {},
   "outputs": [],
   "source": [
    "from typing import List\n",
    "\n",
    "def combinationSum4(nums: List[int], target: int) -> int:\n",
    "    \"\"\"\n",
    "    Args:\n",
    "        nums: list of distinct integers\n",
    "        target: a target sum\n",
    "        \n",
    "    Return:\n",
    "        number of all possible combinations whose sum is target\n",
    "    \"\"\"\n",
    "\n",
    "#        if min(nums) > target:\n",
    "#            return 0\n",
    "    hashmap = {}\n",
    "\n",
    "    def dfs(target):\n",
    "        if target == 0:\n",
    "            return 1\n",
    "        if target in hashmap:\n",
    "            return hashmap[target]\n",
    "\n",
    "        ret = 0\n",
    "        for num in nums:\n",
    "            if target < num:\n",
    "                continue\n",
    "            ret += dfs(target - num)\n",
    "        hashmap[target] = ret\n",
    "        return ret\n",
    "\n",
    "    return dfs(target)"
   ]
  },
  {
   "cell_type": "markdown",
   "id": "801089c4",
   "metadata": {},
   "source": [
    "### 2. DP\n",
    "* Time complexity:\n",
    "* Space complexity:"
   ]
  }
 ],
 "metadata": {
  "kernelspec": {
   "display_name": "Python 3 (ipykernel)",
   "language": "python",
   "name": "python3"
  },
  "language_info": {
   "codemirror_mode": {
    "name": "ipython",
    "version": 3
   },
   "file_extension": ".py",
   "mimetype": "text/x-python",
   "name": "python",
   "nbconvert_exporter": "python",
   "pygments_lexer": "ipython3",
   "version": "3.7.3"
  }
 },
 "nbformat": 4,
 "nbformat_minor": 5
}
