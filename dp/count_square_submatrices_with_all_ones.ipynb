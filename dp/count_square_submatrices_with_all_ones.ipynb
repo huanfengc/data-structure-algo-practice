{
 "cells": [
  {
   "cell_type": "markdown",
   "id": "105fa622",
   "metadata": {},
   "source": [
    "## 1277. Count Square Submatrices with All Ones [problem](https://leetcode.com/problems/count-square-submatrices-with-all-ones/)\n",
    "\n",
    "Given a ```m * n``` matrix of ones and zeros, return how many **square** submatrices have all ones.\n",
    "\n",
    "---\n",
    "\n",
    "**Constraints:**\n",
    "\n",
    "* ```1 <= arr.length <= 300```\n",
    "* ```1 <= arr[0].length <= 300```\n",
    "* ```0 <= arr[i][j] <= 1```"
   ]
  },
  {
   "cell_type": "markdown",
   "id": "f9606a48",
   "metadata": {},
   "source": [
    "### 1. Dynamic programming [by @lee215](https://leetcode.com/problems/count-square-submatrices-with-all-ones/discuss/441306/JavaC%2B%2BPython-DP-solution)\n",
    "* Time complexity: $O(M\\times N)$\n",
    "* Space complexity: $O(1)$ because of modifying ```matrix``` in place.\n",
    "\n",
    "**Key point:** the value of ```matrix[i][j]``` means \n",
    "1. the size of the largest square that can be formed with ```(i, j)``` being the bottom right corner.\n",
    "2. the number of squares with ```(i, j)``` being the bottom right corner."
   ]
  },
  {
   "cell_type": "code",
   "execution_count": 1,
   "id": "3c8b0ffa",
   "metadata": {},
   "outputs": [],
   "source": [
    "from typing import List\n",
    "\n",
    "def countSquares(matrix: List[List[int]]) -> int:\n",
    "    \"\"\"\n",
    "    Args:\n",
    "        matrix: a 2D array containing only 0s or 1s\n",
    "    \n",
    "    Return:\n",
    "        the number of squares in the matrix\n",
    "    \"\"\"\n",
    "\n",
    "    m, n = len(matrix), len(matrix[0])\n",
    "\n",
    "    for i in range(1, m):\n",
    "        for j in range(1, n):\n",
    "            if matrix[i][j] == 1:\n",
    "                matrix[i][j] = min(matrix[i - 1][j - 1], matrix[i - 1][j], matrix[i][j - 1]) + 1\n",
    "\n",
    "    return sum(map(sum, matrix))"
   ]
  }
 ],
 "metadata": {
  "kernelspec": {
   "display_name": "Python 3 (ipykernel)",
   "language": "python",
   "name": "python3"
  },
  "language_info": {
   "codemirror_mode": {
    "name": "ipython",
    "version": 3
   },
   "file_extension": ".py",
   "mimetype": "text/x-python",
   "name": "python",
   "nbconvert_exporter": "python",
   "pygments_lexer": "ipython3",
   "version": "3.7.3"
  }
 },
 "nbformat": 4,
 "nbformat_minor": 5
}
