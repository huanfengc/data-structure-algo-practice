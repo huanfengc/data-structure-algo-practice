{
 "cells": [
  {
   "cell_type": "markdown",
   "id": "f3eb7f05",
   "metadata": {},
   "source": [
    "## 740. Delete and Earn [problem](https://leetcode.com/problems/delete-and-earn/)\n",
    "\n",
    "You are given an integer array ```nums```. You want to maximize the number of points you get by performing the following operation any number of times:\n",
    "\n",
    "* Pick any ```nums[i]``` and delete it to earn ```nums[i]``` points. Afterwards, you must delete every element equal to ```nums[i] - 1``` and every element equal to ```nums[i] + 1```.\n",
    "\n",
    "Return the maximum number of points you can earn by applying the above operation some number of times.\n",
    "\n",
    "---\n",
    "\n",
    "**Constraints:**\n",
    "\n",
    "* ```1 <= nums.length <= 2 * 10^4```\n",
    "* ```1 <= nums[i] <= 10^4```\n",
    "\n",
    "---\n",
    "\n",
    "**Follow-ups:**\n",
    "\n",
    "* How about there is large gap(s) between the elements in ```nums```? (ie. looping over ```max_nums``` waste lots of time)"
   ]
  },
  {
   "cell_type": "markdown",
   "id": "f07634d8",
   "metadata": {},
   "source": [
    "### 1. Dynamic programming (top-down, recursion and memoization)\n",
    "* Time complexity: $O(M+N)$, $M$ is the maximum number in ```nums```, $N$ is the length of ```nums```.\n",
    "* Space complexity: $O(M+N)$ for the maps and call stack."
   ]
  },
  {
   "cell_type": "code",
   "execution_count": 1,
   "id": "94127194",
   "metadata": {},
   "outputs": [],
   "source": [
    "from typing import List\n",
    "\n",
    "def deleteAndEarn1(nums: List[int]) -> int:\n",
    "    \"\"\"\n",
    "    Args:\n",
    "        nums: an integer array\n",
    "        \n",
    "    Return:\n",
    "        the maxium total gain given constraints\n",
    "    \"\"\"\n",
    "\n",
    "    self.points_map = defaultdict(int)\n",
    "    max_num = 0\n",
    "\n",
    "    for num in nums:\n",
    "        self.points_map[num] += num\n",
    "        max_num = max(max_num, num)\n",
    "\n",
    "    self.memo = {}\n",
    "    return self.maxPoints(max_num)\n",
    "\n",
    "\n",
    "def maxPoints(num):\n",
    "    \"\"\"\n",
    "    Args:\n",
    "        num: an integer\n",
    "        \n",
    "    Return:\n",
    "        the maximum total gain given that the maximum integer being num\n",
    "    \"\"\"\n",
    "    \n",
    "    if num in self.memo:\n",
    "        return self.memo[num]\n",
    "\n",
    "    if num == 0:\n",
    "        return 0\n",
    "    elif num == 1:\n",
    "        return self.points_map[num] if num in self.points_map else 0\n",
    "\n",
    "    max_points = max(self.maxPoints(num - 1), self.maxPoints(num - 2) + self.points_map[num])\n",
    "    self.memo[num] = max_points\n",
    "\n",
    "    return max_points"
   ]
  },
  {
   "cell_type": "markdown",
   "id": "07e74381",
   "metadata": {},
   "source": [
    "### 2. Dynamic programming (bottom-up, iterative)\n",
    "* Time complexity: $O(M+N)$, $M$ is the maximum number in ```nums```, $N$ is the length of ```nums```.\n",
    "* Space complexity: $O(M+N)$."
   ]
  },
  {
   "cell_type": "code",
   "execution_count": 2,
   "id": "bfbced8d",
   "metadata": {},
   "outputs": [],
   "source": [
    "def deleteAndEarn21(nums: List[int]) -> int:\n",
    "    \"\"\"\n",
    "    Args:\n",
    "        nums: an integer array\n",
    "        \n",
    "    Return:\n",
    "        the maxium total gain given constraints\n",
    "    \"\"\"\n",
    "\n",
    "    points_map = defaultdict(int)\n",
    "    max_num = 0\n",
    "\n",
    "    for num in nums:\n",
    "        points_map[num] += num\n",
    "        max_num = max(max_num, num)\n",
    "\n",
    "    max_points = [0] * (max_num + 1)\n",
    "    max_points[1] = points_map[1]\n",
    "\n",
    "    for i in range(2, len(max_points)):\n",
    "        max_points[i] = max(max_points[i - 1], max_points[i - 2] + points_map[i])\n",
    "    return max_points[-1]"
   ]
  },
  {
   "cell_type": "markdown",
   "id": "8bc8c754",
   "metadata": {},
   "source": [
    "### Optimized method 2 (reduced space complexity)\n",
    "* Time complexity: $O(M+N)$\n",
    "* Space complexity: $O(N)$"
   ]
  },
  {
   "cell_type": "code",
   "execution_count": 3,
   "id": "c4a110f7",
   "metadata": {},
   "outputs": [],
   "source": [
    "def deleteAndEarn22(nums: List[int]) -> int:\n",
    "\n",
    "    points_map = defaultdict(int)\n",
    "    max_num = 0\n",
    "\n",
    "    for num in nums:\n",
    "        points_map[num] += num\n",
    "        max_num = max(max_num, num)\n",
    "\n",
    "    max_points = [0] * (max_num + 1)\n",
    "    prev_of_prev, prev = 0, points_map[1]\n",
    "\n",
    "    for i in range(2, len(max_points)):\n",
    "        current = max(prev, prev_of_prev + points_map[i])\n",
    "        prev_of_prev, prev = prev, current\n",
    "    return prev"
   ]
  }
 ],
 "metadata": {
  "kernelspec": {
   "display_name": "Python 3 (ipykernel)",
   "language": "python",
   "name": "python3"
  },
  "language_info": {
   "codemirror_mode": {
    "name": "ipython",
    "version": 3
   },
   "file_extension": ".py",
   "mimetype": "text/x-python",
   "name": "python",
   "nbconvert_exporter": "python",
   "pygments_lexer": "ipython3",
   "version": "3.7.3"
  }
 },
 "nbformat": 4,
 "nbformat_minor": 5
}
