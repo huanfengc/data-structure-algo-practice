{
 "cells": [
  {
   "cell_type": "markdown",
   "id": "150f5635",
   "metadata": {},
   "source": [
    "## 198. House Robber [problem](https://leetcode.com/problems/house-robber/)\n",
    "\n",
    "You are a professional robber planning to rob houses along a street. Each house has a certain amount of money stashed, the only constraint stopping you from robbing each of them is that adjacent houses have security systems connected and it will automatically contact the police if two adjacent houses were broken into on the same night.\n",
    "\n",
    "Given an integer array ```nums``` representing the amount of money of each house, return the **maximum** amount of money you can rob tonight without alerting the police.\n",
    "\n",
    "---\n",
    "\n",
    "**Constraints:**\n",
    "\n",
    "* ```1 <= nums.length <= 100```\n",
    "* ```0 <= nums[i] <= 400```"
   ]
  },
  {
   "cell_type": "markdown",
   "id": "218a3d30",
   "metadata": {},
   "source": [
    "### 1. Recursion and memoization\n",
    "* Time complexity: $O(N)$ for the total recursion calls, given the memoization used.\n",
    "* Space complexity: $O(N)$ for the call stack."
   ]
  },
  {
   "cell_type": "code",
   "execution_count": 1,
   "id": "c61c3e8d",
   "metadata": {},
   "outputs": [],
   "source": [
    "from typing import List\n",
    "\n",
    "def rob1(nums: List[int]) -> int:\n",
    "    \"\"\"\n",
    "    Args:\n",
    "        nums: an array of integers, ie. money in each house\n",
    "        \n",
    "    Return:\n",
    "        the maximum total money to be robbed given from houses 0, ..., n\n",
    "    \"\"\"\n",
    "    \n",
    "    self.memo = {}\n",
    "    return self.robFrom(0, nums)\n",
    "\n",
    "\n",
    "def robFrom(i, nums):\n",
    "    \"\"\"\n",
    "    Args:\n",
    "        i: index of nums\n",
    "        nums: the given integer array\n",
    "        \n",
    "    Return:\n",
    "        the maximum total money to be robbed from houses i, ..., n, n is the total number of houses\n",
    "    \"\"\"\n",
    "    \n",
    "    if i >= len(nums):\n",
    "        return 0\n",
    "\n",
    "    if i in self.memo:\n",
    "        return self.memo[i]\n",
    "\n",
    "    ret = max(self.robFrom(i + 1, nums), self.robFrom(i + 2, nums) + nums[i])\n",
    "    self.memo[i] = ret\n",
    "    return ret"
   ]
  },
  {
   "cell_type": "markdown",
   "id": "bbe41b81",
   "metadata": {},
   "source": [
    "### 2. Dynamic programming (bottom-up)\n",
    "* Time complexity: $O(N)$\n",
    "* Space complexity: $O(N)$\n",
    "#### 2.1 Starting from the beginning of the street"
   ]
  },
  {
   "cell_type": "code",
   "execution_count": 2,
   "id": "e314ed93",
   "metadata": {},
   "outputs": [],
   "source": [
    "def rob21(nums: List[int]) -> int:\n",
    "\n",
    "    n = len(nums)\n",
    "    if n == 1:\n",
    "        return nums[0]\n",
    "\n",
    "    dp = [0] * n\n",
    "    dp[0], dp[1] = nums[0], max(nums[0], nums[1])\n",
    "\n",
    "    for i in range(2, n):\n",
    "        dp[i] = max(dp[i - 1], dp[i - 2] + nums[i])\n",
    "    return dp[-1]"
   ]
  },
  {
   "cell_type": "markdown",
   "id": "e56d66a6",
   "metadata": {},
   "source": [
    "#### 2.2 Starting backward along the street, from the end, notice the difference between the initialization and indexing"
   ]
  },
  {
   "cell_type": "code",
   "execution_count": 3,
   "id": "96fd897e",
   "metadata": {},
   "outputs": [],
   "source": [
    "def rob22(nums: List[int]) -> int:\n",
    "\n",
    "    n = len(nums)\n",
    "    if n == 1:\n",
    "        return nums[0]\n",
    "\n",
    "    dp = [0] * (n + 1)\n",
    "    dp[n - 1] = nums[-1]\n",
    "\n",
    "    for i in range(n - 2, -1, -1):\n",
    "        dp[i] = max(dp[i + 1], dp[i + 2] + nums[i])\n",
    "    return dp[0]"
   ]
  },
  {
   "cell_type": "markdown",
   "id": "90429eaa",
   "metadata": {},
   "source": [
    "### 3. Optimized dynamic programming \n",
    "* Time complexity: $O(N)$\n",
    "* Space complexity: $O(1)$, using only two variable to keep track the two options instead of an array for tabulation."
   ]
  },
  {
   "cell_type": "code",
   "execution_count": 4,
   "id": "dbc1683b",
   "metadata": {},
   "outputs": [],
   "source": [
    "def rob(nums: List[int]) -> int:\n",
    "\n",
    "    n = len(nums)\n",
    "    if n == 1:\n",
    "        return nums[0]\n",
    "\n",
    "    prev_of_prev, prev = nums[0], max(nums[0], nums[1])\n",
    "\n",
    "    for i in range(2, n):\n",
    "        current = max(prev, prev_of_prev + nums[i])\n",
    "        prev_of_prev, prev = prev, current\n",
    "    return prev"
   ]
  }
 ],
 "metadata": {
  "kernelspec": {
   "display_name": "Python 3 (ipykernel)",
   "language": "python",
   "name": "python3"
  },
  "language_info": {
   "codemirror_mode": {
    "name": "ipython",
    "version": 3
   },
   "file_extension": ".py",
   "mimetype": "text/x-python",
   "name": "python",
   "nbconvert_exporter": "python",
   "pygments_lexer": "ipython3",
   "version": "3.7.3"
  }
 },
 "nbformat": 4,
 "nbformat_minor": 5
}
