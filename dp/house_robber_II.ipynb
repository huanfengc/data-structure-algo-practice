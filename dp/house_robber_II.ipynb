{
 "cells": [
  {
   "cell_type": "markdown",
   "id": "9e00eb5d",
   "metadata": {},
   "source": [
    "## 213. House Robber II [problem](https://leetcode.com/problems/house-robber-ii/)\n",
    "\n",
    "You are a professional robber planning to rob houses along a street. Each house has a certain amount of money stashed. All houses at this place are **arranged in a circle**. That means the first house is the neighbor of the last one. Meanwhile, adjacent houses have a security system connected, and it will automatically contact the police if two adjacent houses were broken into on the same night.\n",
    "\n",
    "Given an integer array ```nums``` representing the amount of money of each house, return the maximum amount of money you can rob tonight without alerting the police.\n",
    "\n",
    "---\n",
    "\n",
    "**Constraints:**\n",
    "\n",
    "* ```1 <= nums.length <= 100```\n",
    "* ```0 <= nums[i] <= 1000```"
   ]
  },
  {
   "cell_type": "markdown",
   "id": "3d84fb1f",
   "metadata": {},
   "source": [
    "### 1. Dynamic programming\n",
    "* Time complexity: $O(N)$\n",
    "* Space complexity: $O(1)$"
   ]
  },
  {
   "cell_type": "code",
   "execution_count": 1,
   "id": "8f76ef63",
   "metadata": {},
   "outputs": [],
   "source": [
    "from typing import List\n",
    "\n",
    "def rob(nums: List[int]) -> int:\n",
    "    \"\"\"\n",
    "    Args:\n",
    "        nums: an array of integers, ie. money in each house\n",
    "    \n",
    "    Return:\n",
    "        the maximum total money to be robbed from the houses 0, ..., n\n",
    "    \"\"\"\n",
    "\n",
    "    n = len(nums)\n",
    "    if n == 1:\n",
    "        return nums[0]\n",
    "    \n",
    "    # rob either from houses 0 , ..., n - 1 (including head) or 1, ..., n (including tail)\n",
    "    return max(self.robFrom(nums[:-1]), self.robFrom(nums[1:]))\n",
    "\n",
    "\n",
    "def robFrom(nums):\n",
    "    \"\"\"\n",
    "    Args:\n",
    "        nums: an array of integers, ie. subarray of the original one\n",
    "    \n",
    "    Return:\n",
    "        the maximum total money to be robbed from the houses in the subarray\n",
    "    \"\"\"\n",
    "    \n",
    "    if len(nums) == 1:\n",
    "        return nums[0]\n",
    "\n",
    "    prev_of_prev, prev = nums[0], max(nums[0], nums[1])\n",
    "\n",
    "    for i in range(2, len(nums)):\n",
    "        current = max(prev, prev_of_prev + nums[i])\n",
    "        prev_of_prev, prev = prev, current\n",
    "    return prev"
   ]
  }
 ],
 "metadata": {
  "kernelspec": {
   "display_name": "Python 3 (ipykernel)",
   "language": "python",
   "name": "python3"
  },
  "language_info": {
   "codemirror_mode": {
    "name": "ipython",
    "version": 3
   },
   "file_extension": ".py",
   "mimetype": "text/x-python",
   "name": "python",
   "nbconvert_exporter": "python",
   "pygments_lexer": "ipython3",
   "version": "3.7.3"
  }
 },
 "nbformat": 4,
 "nbformat_minor": 5
}
