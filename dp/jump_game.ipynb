{
 "cells": [
  {
   "cell_type": "markdown",
   "id": "d02c5b52",
   "metadata": {},
   "source": [
    "## 55. Jump Game [problem](https://leetcode.com/problems/jump-game/)\n",
    "\n",
    "You are given an integer array ```nums```. You are initially positioned at the array's first index, and each element in the array represents your maximum jump length at that position.\n",
    "\n",
    "Return ```true``` if you can reach the last index, or ```false``` otherwise.\n",
    "\n",
    "---\n",
    "\n",
    "**Constraints:**\n",
    "\n",
    "* ```1 <= nums.length <= 10^4```\n",
    "* ```0 <= nums[i] <= 10^5```"
   ]
  },
  {
   "cell_type": "markdown",
   "id": "8ef92436",
   "metadata": {},
   "source": [
    "### 1. Dynamic programming (bottom-up)\n",
    "* Time complexity: $O(N^2)$\n",
    "* Space complexity: $O(N)"
   ]
  },
  {
   "cell_type": "code",
   "execution_count": 1,
   "id": "b672044f",
   "metadata": {},
   "outputs": [],
   "source": [
    "from typing import List\n",
    "\n",
    "def canJump(nums: List[int]) -> bool:\n",
    "    \"\"\"\n",
    "    Args:\n",
    "        nums: an array of integers\n",
    "        \n",
    "    Return:\n",
    "        True if can reach the last index from the first, otherwise False\n",
    "    \"\"\"\n",
    "\n",
    "    n = len(nums)\n",
    "    if n == 1:\n",
    "        return True\n",
    "\n",
    "    memo = [-1] * n\n",
    "    memo[-1] = 1\n",
    "\n",
    "    for i in range(n - 2, -1, -1):\n",
    "        upper_bound = min(i + nums[i], n - 1)\n",
    "        for j in range(i + 1, upper_bound + 1):\n",
    "            if memo[j] == 1:\n",
    "                memo[i] = 1\n",
    "                break\n",
    "    return memo[0] == 1"
   ]
  },
  {
   "cell_type": "markdown",
   "id": "4cb40c52",
   "metadata": {},
   "source": [
    "**Why the following implementation is incorrect/TLE ?**"
   ]
  },
  {
   "cell_type": "code",
   "execution_count": 2,
   "id": "b54fdc4b",
   "metadata": {},
   "outputs": [],
   "source": [
    "def canJump12(nums: List[int]) -> bool:\n",
    "\n",
    "    n = len(nums)\n",
    "    if n == 1:\n",
    "        return True\n",
    "\n",
    "    memo = [-1] * n\n",
    "    memo[-1] = 1\n",
    "\n",
    "    for i in range(n - 2, -1, -1):\n",
    "        if i + nums[i] >= n - 1:\n",
    "            memo[i] = 1\n",
    "        for j in range(i):\n",
    "            if j + nums[j] >= i and memo[i] == 1:\n",
    "                memo[j] = 1\n",
    "                break\n",
    "    return memo[0] == 1"
   ]
  }
 ],
 "metadata": {
  "kernelspec": {
   "display_name": "Python 3 (ipykernel)",
   "language": "python",
   "name": "python3"
  },
  "language_info": {
   "codemirror_mode": {
    "name": "ipython",
    "version": 3
   },
   "file_extension": ".py",
   "mimetype": "text/x-python",
   "name": "python",
   "nbconvert_exporter": "python",
   "pygments_lexer": "ipython3",
   "version": "3.7.3"
  }
 },
 "nbformat": 4,
 "nbformat_minor": 5
}
