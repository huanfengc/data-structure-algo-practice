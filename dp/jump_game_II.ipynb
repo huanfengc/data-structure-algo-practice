{
 "cells": [
  {
   "cell_type": "markdown",
   "id": "193eb1f8",
   "metadata": {},
   "source": [
    "## 45. Jump Game II [problem](https://leetcode.com/problems/jump-game-ii/)\n",
    "\n",
    "Given an array of non-negative integers ```nums```, you are initially positioned at the first index of the array.\n",
    "\n",
    "Each element in the array represents your maximum jump length at that position.\n",
    "\n",
    "Your goal is to reach the last index in the minimum number of jumps.\n",
    "\n",
    "**You can assume that you can always reach the last index.**\n",
    "\n",
    "---\n",
    "\n",
    "**Constraints:**\n",
    "\n",
    "* ```1 <= nums.length <= 10^4```\n",
    "* ```0 <= nums[i] <= 1000```"
   ]
  },
  {
   "cell_type": "markdown",
   "id": "2720b6da",
   "metadata": {},
   "source": [
    "**Note: Though method 2 is also generally applied for such type problems, method 1 is much more efficient than method 2 in both time and space complexity.**\n",
    "\n",
    "### 1. Two pointers\n",
    "* Time complexity: $O(N)$\n",
    "* Space complexity: $O(1)$"
   ]
  },
  {
   "cell_type": "code",
   "execution_count": 1,
   "id": "15cd1ce0",
   "metadata": {},
   "outputs": [],
   "source": [
    "from typing import List\n",
    "\n",
    "def jump1(nums: List[int]) -> int:\n",
    "    \"\"\"\n",
    "    Args:\n",
    "        nums: an array of integers\n",
    "        \n",
    "    Return:\n",
    "        minimum jumps needed to reach the last index from the first\n",
    "    \"\"\"\n",
    "\n",
    "    n = len(nums)\n",
    "    if n == 1:\n",
    "        return 0\n",
    "\n",
    "    count = 1\n",
    "    left, right = 0, nums[0]\n",
    "\n",
    "    while right < n - 1:\n",
    "        count += 1\n",
    "        next_right = max(i + nums[i] for i in range(left, right + 1))\n",
    "        # boundary: left can be updated to right or right + 1, both work in this problem\n",
    "        #left, right = right + 1, next_right\n",
    "        left, right = right, next_right\n",
    "    return count"
   ]
  },
  {
   "cell_type": "markdown",
   "id": "20664cc1",
   "metadata": {},
   "source": [
    "### 2. Dynamic programming (bottom-up, based on [problem No. 55 Jump Game](./jump_game.ipynb))\n",
    "* Time complexity: $O(N^2)$\n",
    "* Space complexity: $O(N)$"
   ]
  },
  {
   "cell_type": "code",
   "execution_count": 2,
   "id": "0429cbea",
   "metadata": {},
   "outputs": [],
   "source": [
    "def jump2(nums: List[int]) -> int:\n",
    "    \"\"\"\n",
    "    Args:\n",
    "        nums: an array of integers\n",
    "        \n",
    "    Return:\n",
    "        minimum jumps needed to reach the last index from the first\n",
    "    \"\"\"\n",
    "\n",
    "    n = len(nums)\n",
    "    if n == 1:\n",
    "        return 0\n",
    "\n",
    "    dp = [float(inf)] * n\n",
    "\n",
    "    for i in range(n - 2, -1, -1):\n",
    "        upper_bound = min(i + nums[i], n - 1)\n",
    "        if upper_bound == n - 1:\n",
    "            dp[i] = 1\n",
    "        else:\n",
    "            for j in range(i + 1, upper_bound + 1):\n",
    "                dp[i] = min(dp[i], dp[j] + 1)\n",
    "    return dp[0]"
   ]
  },
  {
   "cell_type": "markdown",
   "id": "a798f18f",
   "metadata": {},
   "source": [
    "### 3. BFS"
   ]
  },
  {
   "cell_type": "code",
   "execution_count": null,
   "id": "4239b3c7",
   "metadata": {},
   "outputs": [],
   "source": []
  }
 ],
 "metadata": {
  "kernelspec": {
   "display_name": "Python 3 (ipykernel)",
   "language": "python",
   "name": "python3"
  },
  "language_info": {
   "codemirror_mode": {
    "name": "ipython",
    "version": 3
   },
   "file_extension": ".py",
   "mimetype": "text/x-python",
   "name": "python",
   "nbconvert_exporter": "python",
   "pygments_lexer": "ipython3",
   "version": "3.7.3"
  }
 },
 "nbformat": 4,
 "nbformat_minor": 5
}
