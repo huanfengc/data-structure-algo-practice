{
 "cells": [
  {
   "cell_type": "markdown",
   "id": "81da1545",
   "metadata": {},
   "source": [
    "## 674. Longest Continuous Increasing Subsequence [problem](https://leetcode.com/problems/longest-continuous-increasing-subsequence/)\n",
    "\n",
    "Given an unsorted array of integers ```nums```, return the length of the longest **continuous** increasing subsequence (i.e. subarray). The subsequence must be strictly increasing.\n",
    "\n",
    "A continuous increasing subsequence is defined by two indices ```l``` and ```r``` (```l < r```) such that it is ```[nums[l], nums[l + 1], ..., nums[r - 1], nums[r]]``` and for each ```l <= i < r```, ```nums[i] < nums[i + 1]```.\n",
    "\n",
    "---\n",
    "\n",
    "**Constraints:**\n",
    "\n",
    "* ```1 <= nums.length <= 10^4```\n",
    "* ```-10^9 <= nums[i] <= 10^9```"
   ]
  },
  {
   "cell_type": "markdown",
   "id": "10fc2f89",
   "metadata": {},
   "source": [
    "### 1. Dynamic programming\n",
    "* Time complexity: $O(N)$\n",
    "* Space complexity: $O(N)$"
   ]
  },
  {
   "cell_type": "code",
   "execution_count": 1,
   "id": "462781db",
   "metadata": {},
   "outputs": [],
   "source": [
    "from typing import List\n",
    "\n",
    "def findLengthOfLCIS1(nums: List[int]) -> int:\n",
    "    \"\"\"\n",
    "    Args:\n",
    "        nums: an unsorted array of integers\n",
    "        \n",
    "    Return:\n",
    "        the length of the longest continuous increasing subsequence\n",
    "    \"\"\"\n",
    "\n",
    "    n = len(nums)\n",
    "    dp = [1 for i in range(n)]\n",
    "\n",
    "    for i in range(1, n):\n",
    "        if nums[i] > nums[i - 1]:\n",
    "            dp[i] += dp[i - 1]\n",
    "    return max(dp)"
   ]
  },
  {
   "cell_type": "markdown",
   "id": "217ffdc0",
   "metadata": {},
   "source": [
    "### 2. Two pointers (sliding window)\n",
    "* Time complexity: $O(N)$\n",
    "* Space complexity: $O(1)$"
   ]
  },
  {
   "cell_type": "code",
   "execution_count": 2,
   "id": "acf652e5",
   "metadata": {},
   "outputs": [],
   "source": [
    "def findLengthOfLCIS2(self, nums: List[int]) -> int:\n",
    "\n",
    "    left = 0 # left pointer\n",
    "    res = 1 # single element\n",
    "\n",
    "    for i in range(1, len(nums)):\n",
    "        if nums[i] > nums[i - 1]:\n",
    "            res = max(res, i - left + 1)\n",
    "        else:\n",
    "            left = i\n",
    "    return res"
   ]
  }
 ],
 "metadata": {
  "kernelspec": {
   "display_name": "Python 3 (ipykernel)",
   "language": "python",
   "name": "python3"
  },
  "language_info": {
   "codemirror_mode": {
    "name": "ipython",
    "version": 3
   },
   "file_extension": ".py",
   "mimetype": "text/x-python",
   "name": "python",
   "nbconvert_exporter": "python",
   "pygments_lexer": "ipython3",
   "version": "3.7.3"
  }
 },
 "nbformat": 4,
 "nbformat_minor": 5
}
