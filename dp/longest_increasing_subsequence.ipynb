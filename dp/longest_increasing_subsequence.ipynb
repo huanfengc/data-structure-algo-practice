{
 "cells": [
  {
   "cell_type": "markdown",
   "id": "710d335f",
   "metadata": {},
   "source": [
    "## 300. Longest Increasing Subsequence [problem](https://leetcode.com/problems/longest-increasing-subsequence/)\n",
    "\n",
    "Given an integer array ```nums```, return the length of the longest strictly increasing subsequence.\n",
    "\n",
    "A subsequence is a sequence that can be derived from an array by deleting some or no elements without changing the order of the remaining elements. For example, ```[3,6,2,7]``` is a subsequence of the array ```[0,3,1,6,2,2,7]```.\n",
    "\n",
    "---\n",
    "\n",
    "**Constraints:**\n",
    "\n",
    "* ```1 <= nums.length <= 2500```\n",
    "* ```-10^4 <= nums[i] <= 10^4```"
   ]
  },
  {
   "cell_type": "markdown",
   "id": "89e18d41",
   "metadata": {},
   "source": [
    "### 1. Dynamic programming\n",
    "* Time complexity: $O(N^2)$ for the nested for-loops.\n",
    "* Space complexity: $O(N)$ for the array ```dp``` holding the answers to each state."
   ]
  },
  {
   "cell_type": "code",
   "execution_count": 1,
   "id": "5bf9d104",
   "metadata": {},
   "outputs": [],
   "source": [
    "from typing import List\n",
    "\n",
    "def lengthOfLIS(nums: List[int]) -> int:\n",
    "    \"\"\"\n",
    "    Args:\n",
    "        nums: an integer array\n",
    "    \n",
    "    Return:\n",
    "        the length of the longest increasing subsequence\n",
    "    \"\"\"\n",
    "\n",
    "    n = len(nums)\n",
    "    dp = [1 for _ in range(n)]\n",
    "\n",
    "    for i in range(1, n):\n",
    "        for j in range(i):\n",
    "            # be careful to compare elements in the array, not in dp (of course...)\n",
    "            if nums[i] > nums[j]:\n",
    "                dp[i] = max(dp[i], dp[j] + 1)\n",
    "    return max(dp)"
   ]
  },
  {
   "cell_type": "markdown",
   "id": "61d74c07",
   "metadata": {},
   "source": [
    "### 2. Build an increasing subsequence and use binary search\n",
    "* Time complexity: $O(NlogN)$\n",
    "* Space complexity: $O(N)$"
   ]
  },
  {
   "cell_type": "code",
   "execution_count": null,
   "id": "ee926d1a",
   "metadata": {},
   "outputs": [],
   "source": []
  }
 ],
 "metadata": {
  "kernelspec": {
   "display_name": "Python 3 (ipykernel)",
   "language": "python",
   "name": "python3"
  },
  "language_info": {
   "codemirror_mode": {
    "name": "ipython",
    "version": 3
   },
   "file_extension": ".py",
   "mimetype": "text/x-python",
   "name": "python",
   "nbconvert_exporter": "python",
   "pygments_lexer": "ipython3",
   "version": "3.7.3"
  }
 },
 "nbformat": 4,
 "nbformat_minor": 5
}
