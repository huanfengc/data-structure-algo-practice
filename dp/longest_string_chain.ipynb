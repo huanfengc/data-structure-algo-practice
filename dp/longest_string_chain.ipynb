{
 "cells": [
  {
   "cell_type": "markdown",
   "id": "b72444d9",
   "metadata": {},
   "source": [
    "## 1048. Longest String Chain [problem](https://leetcode.com/problems/longest-string-chain/)\n",
    "\n",
    "You are given an array of ```words``` where each word consists of lowercase English letters.\n",
    "\n",
    "```wordA``` is a predecessor of ```wordB``` **if and only if** we can insert exactly one letter anywhere in ```wordA``` without changing the order of the other characters to make it equal to ```wordB```.\n",
    "\n",
    "* For example, ```\"abc\"``` is a predecessor of ```\"abac\"```, while ```\"cba\"``` is not a predecessor of ```\"bcad\"```.\n",
    "\n",
    "A word chain is a sequence of words ```[word1, word2, ..., wordk]``` with ```k >= 1```, where ```word1``` is a predecessor of ```word2```, ```word2``` is a predecessor of ```word3```, and so on. A single word is trivially a word chain with ```k == 1```.\n",
    "\n",
    "Return the length of the longest possible word chain with words chosen from the given list of ```words```.\n",
    "\n",
    "---\n",
    "\n",
    "**Constraints:**\n",
    "\n",
    "* ```1 <= words.length <= 1000```\n",
    "* ```1 <= words[i].length <= 16```\n",
    "* ```words[i]``` only consists of lowercase English letters."
   ]
  },
  {
   "cell_type": "markdown",
   "id": "27302711",
   "metadata": {},
   "source": [
    "### 1. Dynamic programming (bottom-up)\n",
    "* Time complexity: $O(N\\times L^2 + NlogN)$, $N$ is the number of words in ```words```, $L$ is the maximun possible length of one word. $NlogN$ accounts for the sorting, $L^2$ is because of the string slicing.\n",
    "* Space complexity: $O(N\\times L)$"
   ]
  },
  {
   "cell_type": "code",
   "execution_count": 1,
   "id": "1f1009d0",
   "metadata": {},
   "outputs": [],
   "source": [
    "from typing import List\n",
    "\n",
    "def longestStrChain(words: List[str]) -> int:\n",
    "    \"\"\"\n",
    "    Args:\n",
    "        words: an array of strings\n",
    "    \n",
    "    Return :\n",
    "        the length of the longest possible word chain\n",
    "    \"\"\"\n",
    "\n",
    "    word_map = {}\n",
    "    sorted_words = sorted(words, key=len)\n",
    "\n",
    "    for word in sorted_words:\n",
    "        for i in range(len(word)):\n",
    "            predecessor = word[:i] + word[i + 1:]\n",
    "            if word not in word_map:\n",
    "                word_map[word] = 1\n",
    "            if predecessor in word_map:\n",
    "                word_map[word] = max(word_map[predecessor] + 1, word_map[word])\n",
    "                \n",
    "    return max(word_map.values())"
   ]
  },
  {
   "cell_type": "markdown",
   "id": "7273e99a",
   "metadata": {},
   "source": [
    "### 2. Dynamic programming (top-down, recursion and memoization)"
   ]
  },
  {
   "cell_type": "code",
   "execution_count": null,
   "id": "39ab74bf",
   "metadata": {},
   "outputs": [],
   "source": []
  }
 ],
 "metadata": {
  "kernelspec": {
   "display_name": "Python 3 (ipykernel)",
   "language": "python",
   "name": "python3"
  },
  "language_info": {
   "codemirror_mode": {
    "name": "ipython",
    "version": 3
   },
   "file_extension": ".py",
   "mimetype": "text/x-python",
   "name": "python",
   "nbconvert_exporter": "python",
   "pygments_lexer": "ipython3",
   "version": "3.7.3"
  }
 },
 "nbformat": 4,
 "nbformat_minor": 5
}
