{
 "cells": [
  {
   "cell_type": "markdown",
   "id": "b79fe518",
   "metadata": {},
   "source": [
    "## 221. Maximal Square [problem](https://leetcode.com/problems/maximal-square/)\n",
    "\n",
    "**similar problems: [No.1277 Count Square Submatrices with All Ones](./count_square_submatrices_with_all_ones.ipynb)**\n",
    "\n",
    "---\n",
    "\n",
    "Given an ```m x n``` binary matrix filled with ```0```'s and ```1```'s, find the largest square containing only ```1```'s and return its area.\n",
    "\n",
    "---\n",
    "\n",
    "**Constraints:**\n",
    "\n",
    "* ```m == matrix.length```\n",
    "* ```n == matrix[i].length```\n",
    "* ```1 <= m, n <= 300```\n",
    "* ```matrix[i][j]``` is ```'0'``` or ```'1'```."
   ]
  },
  {
   "cell_type": "markdown",
   "id": "44369aed",
   "metadata": {},
   "source": [
    "### 1. Dynamic programming\n",
    "* Time complexity: $O(M\\times N)$\n",
    "* Space complexity: $O(1)$"
   ]
  },
  {
   "cell_type": "code",
   "execution_count": 1,
   "id": "525cc352",
   "metadata": {},
   "outputs": [],
   "source": [
    "from typing import List\n",
    "\n",
    "def maximalSquare(matrix: List[List[str]]) -> int:\n",
    "    \"\"\"\n",
    "    Args:\n",
    "        matrix: a 2D array containing '0's or '1's\n",
    "    \n",
    "    Return:\n",
    "        the maximum area of the largest square in the matrix\n",
    "    \"\"\"\n",
    "\n",
    "    m, n = len(matrix), len(matrix[0])\n",
    "    max_side = 0\n",
    "\n",
    "    for i in range(m):\n",
    "        matrix[i][0] = int(matrix[i][0])\n",
    "        max_side = max(max_side, matrix[i][0])\n",
    "    for j in range(n):\n",
    "        matrix[0][j] = int(matrix[0][j])\n",
    "        max_side = max(max_side, matrix[0][j])\n",
    "\n",
    "    for i in range(1, m):\n",
    "        for j in range(1, n):\n",
    "            matrix[i][j] = int(matrix[i][j])\n",
    "            if matrix[i][j] == 1:\n",
    "                matrix[i][j] = min(matrix[i - 1][j - 1], matrix[i - 1][j], matrix[i][j - 1]) + 1\n",
    "            max_side = max(max_side, matrix[i][j])\n",
    "    return max_side ** 2"
   ]
  }
 ],
 "metadata": {
  "kernelspec": {
   "display_name": "Python 3 (ipykernel)",
   "language": "python",
   "name": "python3"
  },
  "language_info": {
   "codemirror_mode": {
    "name": "ipython",
    "version": 3
   },
   "file_extension": ".py",
   "mimetype": "text/x-python",
   "name": "python",
   "nbconvert_exporter": "python",
   "pygments_lexer": "ipython3",
   "version": "3.7.3"
  }
 },
 "nbformat": 4,
 "nbformat_minor": 5
}
