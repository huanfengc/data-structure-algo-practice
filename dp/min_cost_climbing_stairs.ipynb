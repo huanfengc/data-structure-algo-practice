{
 "cells": [
  {
   "cell_type": "markdown",
   "id": "3df30b50",
   "metadata": {},
   "source": [
    "## 746. Min Cost Climbing Stairs [problem](https://leetcode.com/problems/min-cost-climbing-stairs/)\n",
    "\n",
    "You are given an integer array cost where ```cost[i]``` is the cost of ```i```th step on a staircase. Once you pay the cost, you can either climb one or two steps.\n",
    "\n",
    "You can either start from the step with index ```0```, or the step with index ```1```.\n",
    "\n",
    "Return the minimum cost to reach the top of the floor.\n",
    "\n",
    "---\n",
    "\n",
    "**Constraints:**\n",
    "\n",
    "* ```2 <= cost.length <= 1000```\n",
    "* ```0 <= cost[i] <= 999```"
   ]
  },
  {
   "cell_type": "markdown",
   "id": "58d2e9c2",
   "metadata": {},
   "source": [
    "### 1. DP (top-down and memoization, recursive)\n",
    "* Time complexity: $O(N)$\n",
    "* Space complexity: $O(N)$"
   ]
  },
  {
   "cell_type": "code",
   "execution_count": 1,
   "id": "58ba630f",
   "metadata": {},
   "outputs": [],
   "source": [
    "from typing import List\n",
    "\n",
    "def minCostClimbingStairs(cost: List[int]) -> int:\n",
    "    \"\"\"\n",
    "    Args:\n",
    "        cost: list of costs of each stairs\n",
    "    \n",
    "    Return:\n",
    "        minimum total cost to reach the top of stairs\n",
    "    \"\"\"\n",
    "\n",
    "    n = len(cost)\n",
    "    self.hashmap = {}\n",
    "    return min(self.dp(cost, n - 1), self.dp(cost, n - 2))\n",
    "\n",
    "\n",
    "def dp(cost, i):\n",
    "    if i == 0 or i == 1:\n",
    "        return cost[i]\n",
    "    elif i in self.hashmap:\n",
    "        return self.hashmap[i]\n",
    "\n",
    "    f = cost[i] + min(self.dp(cost, i - 1), self.dp(cost, i - 2))\n",
    "    self.hashmap[i] = f\n",
    "    return self.hashmap[i]"
   ]
  },
  {
   "cell_type": "markdown",
   "id": "778c4864",
   "metadata": {},
   "source": [
    "### 2. DP (bottom-up and tabulation, iterative)\n",
    "* Time complexity: $O(N)$\n",
    "* Space complexity: $O(N)$"
   ]
  },
  {
   "cell_type": "code",
   "execution_count": 2,
   "id": "d90bc656",
   "metadata": {},
   "outputs": [],
   "source": [
    "def minCostClimbingStairs(self, cost: List[int]) -> int:\n",
    "\n",
    "    minimum_cost = [0] * (len(cost) + 1)\n",
    "\n",
    "    for i in range(2, len(cost) + 1):\n",
    "        one_step = minimum_cost[i - 1] + cost[i - 1]\n",
    "        two_step = minimum_cost[i - 2] + cost[i - 2]\n",
    "        minimum_cost[i] = min(one_step, two_step)\n",
    "    return minimum_cost[-1]"
   ]
  }
 ],
 "metadata": {
  "kernelspec": {
   "display_name": "Python 3 (ipykernel)",
   "language": "python",
   "name": "python3"
  },
  "language_info": {
   "codemirror_mode": {
    "name": "ipython",
    "version": 3
   },
   "file_extension": ".py",
   "mimetype": "text/x-python",
   "name": "python",
   "nbconvert_exporter": "python",
   "pygments_lexer": "ipython3",
   "version": "3.7.3"
  }
 },
 "nbformat": 4,
 "nbformat_minor": 5
}
