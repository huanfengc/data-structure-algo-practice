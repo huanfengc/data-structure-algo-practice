{
 "cells": [
  {
   "cell_type": "markdown",
   "id": "4d3f8362",
   "metadata": {},
   "source": [
    "## 2304. Minimum Path Cost in a Grid [problem](https://leetcode.com/problems/minimum-path-cost-in-a-grid/)\n",
    "\n",
    "You are given a ```0```-indexed ```m x n``` integer matrix ```grid``` consisting of distinct integers from ```0``` to ```m * n - 1```. You can move in this matrix from a cell to any other cell in the next row. That is, if you are in cell ```(x, y)``` such that ```x < m - 1```, you can move to any of the cells ```(x + 1, 0)```, ```(x + 1, 1)```, ..., ```(x + 1, n - 1)```. Note that it is not possible to move from cells in the last row.\n",
    "\n",
    "Each possible move has a cost given by a ```0```-indexed 2D array moveCost of size ```(m * n) x n```, where ```moveCost[i][j]``` is the cost of moving from a cell with value ```i``` to a cell in column ```j``` of the next row. The cost of moving from cells in the last row of grid can be ignored.\n",
    "\n",
    "The cost of a path in ```grid``` is the sum of all values of cells visited plus the sum of costs of all the moves made. Return the minimum cost of a path that starts from any cell in the first row and ends at any cell in the last row.\n",
    "\n",
    "---\n",
    "\n",
    "**Constraints:**\n",
    "\n",
    "* ```m == grid.length```\n",
    "* ```n == grid[i].length```\n",
    "* ```2 <= m, n <= 50```\n",
    "* ```grid``` consists of distinct integers from ```0``` to ```m * n - 1```.\n",
    "* ```moveCost.length == m * n```\n",
    "* ```moveCost[i].length == n```\n",
    "* ```1 <= moveCost[i][j] <= 100```"
   ]
  },
  {
   "cell_type": "markdown",
   "id": "251640aa",
   "metadata": {},
   "source": [
    "### 1. Dynamic programming (recursion and memoization)\n",
    "* Time complexity: $O(M\\times N)$, $M$ and $N$ are the number of rows and columns.\n",
    "* Space complexity: $O(M)$"
   ]
  },
  {
   "cell_type": "code",
   "execution_count": 1,
   "id": "3e8a985e",
   "metadata": {},
   "outputs": [],
   "source": [
    "from typing import List\n",
    "\n",
    "def minPathCost(grid: List[List[int]], moveCost: List[List[int]]) -> int:\n",
    "    \"\"\"\n",
    "    Args:\n",
    "        grid: a 2D array containing all possible path\n",
    "        moveCost: a 2D array containing the cost moving from one spot to another\n",
    "    \n",
    "    Return:\n",
    "        the minimum cost to move from any spot in the top row to any spot in the bottom row\n",
    "    \"\"\"\n",
    "\n",
    "    m, n = len(grid), len(grid[0])\n",
    "\n",
    "    # return the minimum cost to move from (i, j) to the bottom row\n",
    "    @lru_cache\n",
    "    def minCost(i, j):\n",
    "        # base case: alreay on the bottom, cost is from the spot itself\n",
    "        if i == m - 1:\n",
    "            return grid[i][j]\n",
    "\n",
    "        ret = float(\"inf\")\n",
    "        for col in range(n):\n",
    "            ret = min(ret, grid[i][j] + moveCost[grid[i][j]][col] + minCost(i + 1, col))\n",
    "        return ret\n",
    "\n",
    "    return min(minCost(0, j) for j in range(n))"
   ]
  }
 ],
 "metadata": {
  "kernelspec": {
   "display_name": "Python 3 (ipykernel)",
   "language": "python",
   "name": "python3"
  },
  "language_info": {
   "codemirror_mode": {
    "name": "ipython",
    "version": 3
   },
   "file_extension": ".py",
   "mimetype": "text/x-python",
   "name": "python",
   "nbconvert_exporter": "python",
   "pygments_lexer": "ipython3",
   "version": "3.7.3"
  }
 },
 "nbformat": 4,
 "nbformat_minor": 5
}
