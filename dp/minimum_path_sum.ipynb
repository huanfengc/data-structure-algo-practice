{
 "cells": [
  {
   "cell_type": "markdown",
   "id": "4cf47819",
   "metadata": {},
   "source": [
    "## 64. Minimum Path Sum [problem](https://leetcode.com/problems/minimum-path-sum/)\n",
    "\n",
    "Given a ```m x n``` grid filled with non-negative numbers, find a path from top left to bottom right, which minimizes the sum of all numbers along its path.\n",
    "\n",
    "**Note: You can only move either down or right at any point in time.**\n",
    "\n",
    "---\n",
    "\n",
    "**Constraints:**\n",
    "\n",
    "* ```m == grid.length```\n",
    "* ```n == grid[i].length```\n",
    "* ```1 <= m, n <= 200```\n",
    "* ```0 <= grid[i][j] <= 100```"
   ]
  },
  {
   "cell_type": "markdown",
   "id": "6ed9094d",
   "metadata": {},
   "source": [
    "### 1. Dynamic programming\n",
    "* Time complexity: $O(M\\times N)$, $M$ and $N$ are the numbers of rows and columns of ```grids```.\n",
    "* Space complexity: $O(1)$ ($O(M\\times N)$ strictly speaking)."
   ]
  },
  {
   "cell_type": "code",
   "execution_count": 1,
   "id": "7afb62fc",
   "metadata": {},
   "outputs": [],
   "source": [
    "from typing import List\n",
    "\n",
    "def minPathSum(self, grid: List[List[int]]) -> int:\n",
    "    \"\"\"\n",
    "    Args:\n",
    "        grid: a m x n matrix filled with non-negative numbers\n",
    "        \n",
    "    Return:\n",
    "        the minimum sum along the path from top left corner to bottom right corner\n",
    "    \"\"\"\n",
    "\n",
    "    m, n = len(grid), len(grid[0])\n",
    "#        if m == 1 and n == 1:\n",
    "#            return grid[0][0]\n",
    "\n",
    "    # the grids in the 1st row/column have only one incoming path, from left/top\n",
    "    for i in range(1, m):\n",
    "        grid[i][0] += grid[i - 1][0]\n",
    "    for i in range(1, n):\n",
    "        grid[0][i] += grid[0][i - 1]\n",
    "\n",
    "    for i in range(1, m):\n",
    "        for j in range(1, n):\n",
    "            grid[i][j] = grid[i][j] + min(grid[i - 1][j], grid[i][j - 1])\n",
    "\n",
    "    return grid[m - 1][n - 1]"
   ]
  }
 ],
 "metadata": {
  "kernelspec": {
   "display_name": "Python 3 (ipykernel)",
   "language": "python",
   "name": "python3"
  },
  "language_info": {
   "codemirror_mode": {
    "name": "ipython",
    "version": 3
   },
   "file_extension": ".py",
   "mimetype": "text/x-python",
   "name": "python",
   "nbconvert_exporter": "python",
   "pygments_lexer": "ipython3",
   "version": "3.7.3"
  }
 },
 "nbformat": 4,
 "nbformat_minor": 5
}
