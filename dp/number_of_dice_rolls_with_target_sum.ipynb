{
 "cells": [
  {
   "cell_type": "markdown",
   "id": "5e549753",
   "metadata": {},
   "source": [
    "## 1155. Number of Dice Rolls With Target Sum [problem](https://leetcode.com/problems/number-of-dice-rolls-with-target-sum/)\n",
    "\n",
    "You have ```n``` dice and each die has ```k``` faces numbered from ```1``` to ```k```.\n",
    "\n",
    "Given three integers ```n```, ```k```, and ```target```, return the number of possible ways (out of the ```k^n``` total ways) to roll the dice so the sum of the face-up numbers equals ```target```. Since the answer may be too large, return it modulo ```10^9 + 7```.\n",
    "\n",
    "---\n",
    "\n",
    "**Constraints:**\n",
    "\n",
    "* ```1 <= n, k <= 30```\n",
    "* ```1 <= target <= 1000```"
   ]
  },
  {
   "cell_type": "markdown",
   "id": "8890e227",
   "metadata": {},
   "source": [
    "### 1. DP (Memoization)\n",
    "* Time complexity: $O(n\\times k \\times target)$ **(??? need to be double checked)**\n",
    "* Space complexity:"
   ]
  },
  {
   "cell_type": "code",
   "execution_count": 1,
   "id": "648e575c",
   "metadata": {},
   "outputs": [],
   "source": [
    "def numRollsToTarget(n: int, k: int, target: int) -> int:\n",
    "    \"\"\"\n",
    "    Args:\n",
    "        n: number of die rolls\n",
    "        k: number of faces of the die\n",
    "        target: the sum to be achieved after n rolls\n",
    "        \n",
    "    Return:\n",
    "        number of all possible combinations\n",
    "    \"\"\"\n",
    "\n",
    "    hashmap = {}\n",
    "\n",
    "    def dfs(n, target):\n",
    "        if n == 0:\n",
    "            return 0 if target != 0 else 1\n",
    "        if (n, target) in hashmap:\n",
    "            return hashmap[(n, target)]\n",
    "\n",
    "        ret = 0\n",
    "        for i in range(max(0, target - k), target):\n",
    "            ret += dfs(n - 1, i)\n",
    "        hashmap[(n, target)] = ret\n",
    "        return ret\n",
    "\n",
    "    return dfs(n, target) % (10**9 + 7)"
   ]
  },
  {
   "cell_type": "markdown",
   "id": "7150bbe4",
   "metadata": {},
   "source": [
    "### 2. DFS (Backtracking)\n",
    "* Time complexity: $O(k^{n})$\n",
    "* Space complexity:\n",
    "\n",
    "---\n",
    "\n",
    "**Follow-up: implement a memoization based on backtracking, how, where?**"
   ]
  },
  {
   "cell_type": "code",
   "execution_count": 2,
   "id": "5879706e",
   "metadata": {},
   "outputs": [],
   "source": [
    "def numRollsToTarget2(n: int, k: int, target: int) -> int:\n",
    "\n",
    "    ret = []\n",
    "    curr_sum = 0\n",
    "\n",
    "    def dfs(trial, curr_sum, path, ret):\n",
    "        if trial == n and curr_sum == target:\n",
    "            ret.append(path)\n",
    "        elif curr_sum > target:\n",
    "            return\n",
    "        for i in range(1, k + 1):\n",
    "            dfs(trial + 1, curr_sum + i, path + [i], ret)\n",
    "\n",
    "    dfs(0, 0, [], ret)\n",
    "    return len(ret) % 10**9"
   ]
  }
 ],
 "metadata": {
  "kernelspec": {
   "display_name": "Python 3 (ipykernel)",
   "language": "python",
   "name": "python3"
  },
  "language_info": {
   "codemirror_mode": {
    "name": "ipython",
    "version": 3
   },
   "file_extension": ".py",
   "mimetype": "text/x-python",
   "name": "python",
   "nbconvert_exporter": "python",
   "pygments_lexer": "ipython3",
   "version": "3.7.3"
  }
 },
 "nbformat": 4,
 "nbformat_minor": 5
}
