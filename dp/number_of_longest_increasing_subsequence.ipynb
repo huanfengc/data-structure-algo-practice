{
 "cells": [
  {
   "cell_type": "markdown",
   "id": "02972dc4",
   "metadata": {},
   "source": [
    "## 673. Number of Longest Increasing Subsequence [problem](https://leetcode.com/problems/number-of-longest-increasing-subsequence/)\n",
    "\n",
    "Given an integer array ```nums```, return the number of longest increasing subsequences.\n",
    "\n",
    "**Notice that the sequence has to be strictly increasing.**\n",
    "\n",
    "---\n",
    "\n",
    "**Constraints:**\n",
    "\n",
    "* ```1 <= nums.length <= 2000```\n",
    "* ```-10^6 <= nums[i] <= 10^6```"
   ]
  },
  {
   "cell_type": "markdown",
   "id": "eda5d392",
   "metadata": {},
   "source": [
    "### 1. Dynamic programming\n",
    "* Time complexity: $O(N^2)$ for nested for-loops.\n",
    "* Space complexity: $O(N)$ for two arrays ```dp``` and ```count``` holding the length of LIS at given state and the corresponding frequence."
   ]
  },
  {
   "cell_type": "code",
   "execution_count": 1,
   "id": "794b72d5",
   "metadata": {},
   "outputs": [],
   "source": [
    "from typing import List\n",
    "\n",
    "def findNumberOfLIS(nums: List[int]) -> int:\n",
    "    \"\"\"\n",
    "    Args:\n",
    "        nums: an array of integers\n",
    "        \n",
    "    Return:\n",
    "        the number of LISs\n",
    "    \"\"\"\n",
    "\n",
    "    n = len(nums)\n",
    "    if n == 1:\n",
    "        return 1\n",
    "\n",
    "    dp = [1] * n # length of the LIS at current state\n",
    "    count = [1] * n # frequency of the length\n",
    "    curr_max = 0\n",
    "\n",
    "    for i in range(1, n):\n",
    "        for j in range(i):\n",
    "            if nums[i] > nums[j]:\n",
    "                if dp[i] < dp[j] + 1:\n",
    "                    dp[i] = dp[j] + 1\n",
    "                    count[i] = count[j]\n",
    "                # another appearance of LIS, counts accumulated\n",
    "                elif dp[i] == dp[j] + 1:\n",
    "                    count[i] += count[j]\n",
    "        curr_max = max(curr_max, dp[i])\n",
    "\n",
    "    return sum(c for l, c in zip(dp, count) if l == curr_max)"
   ]
  }
 ],
 "metadata": {
  "kernelspec": {
   "display_name": "Python 3 (ipykernel)",
   "language": "python",
   "name": "python3"
  },
  "language_info": {
   "codemirror_mode": {
    "name": "ipython",
    "version": 3
   },
   "file_extension": ".py",
   "mimetype": "text/x-python",
   "name": "python",
   "nbconvert_exporter": "python",
   "pygments_lexer": "ipython3",
   "version": "3.7.3"
  }
 },
 "nbformat": 4,
 "nbformat_minor": 5
}
