{
 "cells": [
  {
   "cell_type": "markdown",
   "id": "800bdb8e",
   "metadata": {},
   "source": [
    "## 256. Paint House [problem](https://leetcode.com/problems/paint-house/)\n",
    "\n",
    "There is a row of ```n``` houses, where each house can be painted one of three colors: red, blue, or green. The cost of painting each house with a certain color is different. You have to paint all the houses such that no two adjacent houses have the same color.\n",
    "\n",
    "The cost of painting each house with a certain color is represented by an ```n x 3``` cost matrix ```costs```.\n",
    "\n",
    "* For example, ```costs[0][0]``` is the cost of painting house ```0``` with the color red; ```costs[1][2]``` is the cost of painting house ```1``` with color green, and so on...\n",
    "\n",
    "Return the minimum cost to paint all houses.\n",
    "\n",
    "---\n",
    "\n",
    "**Constraints:**\n",
    "\n",
    "* ```costs.length == n```\n",
    "* ```costs[i].length == 3```\n",
    "* ```1 <= n <= 100```\n",
    "* ```1 <= costs[i][j] <= 20```\n",
    "\n",
    "---\n",
    "\n",
    "**Follow-ups:**\n",
    "* How about there are $M$ colors available instead of $3$ ?"
   ]
  },
  {
   "cell_type": "markdown",
   "id": "5f1b879d",
   "metadata": {},
   "source": [
    "### 1. Dynamic porgramming\n",
    "* Time complexity: $O(N)$, $N$ is the number of hourses; this only stands when the number of colors is constant, otherwise, $O(M\\times N)$, $M$ is the number of colors.\n",
    "* Space complexity: $O(1)$ ($O(N)$ strictly speakig, since the input matrix is modified)."
   ]
  },
  {
   "cell_type": "code",
   "execution_count": 1,
   "id": "526ad13a",
   "metadata": {},
   "outputs": [],
   "source": [
    "from typing import List\n",
    "\n",
    "def minCost(costs: List[List[int]]) -> int:\n",
    "    \"\"\"\n",
    "    Args:\n",
    "        costs: a 2D matrix providing the cost for painting each house with each color\n",
    "        \n",
    "    Return:\n",
    "        the minimum taotal costs of painting the houses (no adjacent houses in the same colors)\n",
    "    \"\"\"\n",
    "\n",
    "    n = len(costs)\n",
    "    if n == 1:\n",
    "        return min(costs[0])\n",
    "\n",
    "    for i in range(1, n):\n",
    "        costs[i][0] += min(costs[i - 1][1], costs[i - 1][2])\n",
    "        costs[i][1] += min(costs[i - 1][0], costs[i - 1][2])\n",
    "        costs[i][2] += min(costs[i - 1][0], costs[i - 1][1])\n",
    "    return min(costs[n - 1])"
   ]
  },
  {
   "cell_type": "code",
   "execution_count": null,
   "id": "98f5bdde",
   "metadata": {},
   "outputs": [],
   "source": []
  }
 ],
 "metadata": {
  "kernelspec": {
   "display_name": "Python 3 (ipykernel)",
   "language": "python",
   "name": "python3"
  },
  "language_info": {
   "codemirror_mode": {
    "name": "ipython",
    "version": 3
   },
   "file_extension": ".py",
   "mimetype": "text/x-python",
   "name": "python",
   "nbconvert_exporter": "python",
   "pygments_lexer": "ipython3",
   "version": "3.7.3"
  }
 },
 "nbformat": 4,
 "nbformat_minor": 5
}
