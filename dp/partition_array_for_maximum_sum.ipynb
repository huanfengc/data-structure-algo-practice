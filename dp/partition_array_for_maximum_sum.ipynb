{
 "cells": [
  {
   "cell_type": "markdown",
   "id": "0b9fdd3c",
   "metadata": {},
   "source": [
    "## 1043. Partition Array for Maximum Sum [problem](https://leetcode.com/problems/partition-array-for-maximum-sum/)\n",
    "\n",
    "Given an integer array ```arr```, partition the array into (contiguous) subarrays of length **at most** ```k```. After partitioning, each subarray has their values changed to become the maximum value of that subarray.\n",
    "\n",
    "Return the largest sum of the given array after partitioning. Test cases are generated so that the answer fits in a **32-bit** integer.\n",
    "\n",
    "---\n",
    "\n",
    "**Constraints:**\n",
    "\n",
    "* ```1 <= arr.length <= 500```\n",
    "* ```0 <= arr[i] <= 10^9```\n",
    "* ```1 <= k <= arr.length```\n",
    "\n",
    "---\n",
    "\n",
    "**Follow-ups:**\n",
    "\n",
    "* How to reduce the space complexity from $O(N)$ to $O(k)$ ?"
   ]
  },
  {
   "cell_type": "markdown",
   "id": "a7bbf6d3",
   "metadata": {},
   "source": [
    "### 1. Dynamic programming (very similar to prefix sum)\n",
    "* Time complexity: $O(N\\times k)$\n",
    "* Space complexity: $O(N)$"
   ]
  },
  {
   "cell_type": "code",
   "execution_count": 1,
   "id": "56dee32f",
   "metadata": {},
   "outputs": [],
   "source": [
    "from typing import List\n",
    "\n",
    "def maxSumAfterPartitioning(arr: List[int], k: int) -> int:\n",
    "    \"\"\"\n",
    "    Args:\n",
    "        arr: an integer array\n",
    "        k: maximum size of subarray\n",
    "        \n",
    "    Return:\n",
    "        maximum sum of the array after partitioning\n",
    "    \"\"\"\n",
    "\n",
    "    n = len(arr)\n",
    "    dp = [0] * (n + 1)\n",
    "\n",
    "    for i in range(1, n + 1):\n",
    "        currMax = 0\n",
    "        for j in range(1, min(i, k) + 1):\n",
    "            currMax = max(currMax, arr[i - j])\n",
    "            dp[i] = max(dp[i], dp[i - j] + currMax * j)\n",
    "\n",
    "    return dp[n]"
   ]
  },
  {
   "cell_type": "code",
   "execution_count": null,
   "id": "7f346651",
   "metadata": {},
   "outputs": [],
   "source": []
  }
 ],
 "metadata": {
  "kernelspec": {
   "display_name": "Python 3 (ipykernel)",
   "language": "python",
   "name": "python3"
  },
  "language_info": {
   "codemirror_mode": {
    "name": "ipython",
    "version": 3
   },
   "file_extension": ".py",
   "mimetype": "text/x-python",
   "name": "python",
   "nbconvert_exporter": "python",
   "pygments_lexer": "ipython3",
   "version": "3.7.3"
  }
 },
 "nbformat": 4,
 "nbformat_minor": 5
}
