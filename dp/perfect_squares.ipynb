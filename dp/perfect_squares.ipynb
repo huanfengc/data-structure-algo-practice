{
 "cells": [
  {
   "cell_type": "markdown",
   "id": "2c6c2a01",
   "metadata": {},
   "source": [
    "## 279. Perfect Squares [problem](https://leetcode.com/problems/perfect-squares/)\n",
    "\n",
    "Given an integer ```n```, return the least number of perfect square numbers that sum to ```n```.\n",
    "\n",
    "A perfect square is an integer that is the square of an integer; in other words, it is the product of some integer with itself. For example, ```1```, ```4```, ```9```, and ```16``` are perfect squares while ```3``` and ```11``` are not.\n",
    "\n",
    "---\n",
    "\n",
    "**Constraints:**\n",
    "\n",
    "* ```1 <= n <= 10^4```"
   ]
  },
  {
   "cell_type": "markdown",
   "id": "acfa9120",
   "metadata": {},
   "source": [
    "### 1. Dynamic programming\n",
    "* Time complexity: $O(N\\sqrt{N})$\n",
    "* Space complexity: $O(N)$"
   ]
  },
  {
   "cell_type": "code",
   "execution_count": 1,
   "id": "1316dde7",
   "metadata": {},
   "outputs": [],
   "source": [
    "class Solution1:\n",
    "    def numSquares(self, n: int) -> int:\n",
    "        \"\"\"\n",
    "        Args:\n",
    "            n: an integer\n",
    "        \n",
    "        Return:\n",
    "            the minimum number of perfect square numbers needed whose sum is n\n",
    "        \"\"\"\n",
    "        \n",
    "        squared_nums = [i**2 for i in range(1, int(math.sqrt(n)) + 1)]\n",
    "        dp = [float(\"inf\")] * (n + 1)\n",
    "        dp[0] = 0\n",
    "        \n",
    "        for i in range(1, n + 1):\n",
    "            for num in squared_nums:\n",
    "                if i - num < 0:\n",
    "                    break\n",
    "                dp[i] = min(dp[i], dp[i - num] + 1)\n",
    "        return dp[-1]"
   ]
  },
  {
   "cell_type": "markdown",
   "id": "57cafcef",
   "metadata": {},
   "source": [
    "### 2. Recursion (brute force)\n",
    "* Time complexity: $O(\\sqrt{N}^{\\sqrt{N}})$ (**am I correct??**)\n",
    "* Space complexity: $O(\\sqrt{N})$\n",
    "\n",
    "**It seems that ```hashmap``` does not help.**"
   ]
  },
  {
   "cell_type": "code",
   "execution_count": 2,
   "id": "03ae9fac",
   "metadata": {},
   "outputs": [],
   "source": [
    "class Solution2:\n",
    "    def numSquares(self, n: int) -> int:\n",
    "        \n",
    "        self.squared_nums = [i**2 for i in range(1, int(math.sqrt(n))+ 1)]\n",
    "        self.hashmap = {}\n",
    "        return self.findMin(n)\n",
    "    \n",
    "    \n",
    "    def findMin(self, n):\n",
    "        if n in self.hashmap:\n",
    "            return self.hashmap[n]\n",
    "        \n",
    "        if n in self.squared_nums:\n",
    "            return 1\n",
    "        \n",
    "        min_num = float(\"inf\")\n",
    "        for num in self.squared_nums:\n",
    "            if n < num:\n",
    "                break\n",
    "            tmp = self.findMin(n - num) + 1\n",
    "            min_num = min(min_num, tmp)\n",
    "        self.hashmap[n] = min_num\n",
    "        return min_num"
   ]
  }
 ],
 "metadata": {
  "kernelspec": {
   "display_name": "Python 3 (ipykernel)",
   "language": "python",
   "name": "python3"
  },
  "language_info": {
   "codemirror_mode": {
    "name": "ipython",
    "version": 3
   },
   "file_extension": ".py",
   "mimetype": "text/x-python",
   "name": "python",
   "nbconvert_exporter": "python",
   "pygments_lexer": "ipython3",
   "version": "3.7.3"
  }
 },
 "nbformat": 4,
 "nbformat_minor": 5
}
