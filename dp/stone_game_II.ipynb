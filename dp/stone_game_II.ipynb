{
 "cells": [
  {
   "cell_type": "markdown",
   "id": "876ce638",
   "metadata": {},
   "source": [
    "## 1140. Stone Game II [problem](https://leetcode.com/problems/stone-game-ii/)\n",
    "\n",
    "Alice and Bob continue their games with piles of stones.  There are a number of piles arranged in a row, and each pile has a positive integer number of stones ```piles[i]```.  The objective of the game is to end with the most stones. \n",
    "\n",
    "Alice and Bob take turns, with Alice starting first.  Initially, ```M = 1```.\n",
    "\n",
    "On each player's turn, that player can take all the stones in the first ```X``` remaining piles, where ```1 <= X <= 2M```.  Then, we set ```M = max(M, X)```.\n",
    "\n",
    "The game continues until all the stones have been taken.\n",
    "\n",
    "Assuming Alice and Bob play optimally, return the maximum number of stones Alice can get.\n",
    "\n",
    "---\n",
    "\n",
    "**Constraints:**\n",
    "\n",
    "* ```1 <= piles.length <= 100```\n",
    "* ```1 <= piles[i] <= 10^4```"
   ]
  },
  {
   "cell_type": "markdown",
   "id": "69989359",
   "metadata": {},
   "source": [
    "### 1. Dynamic programming (top-down: recursion and memoization)\n",
    "* Time complexity: ?\n",
    "* Space complexity: ?\n",
    "\n",
    "**I feel the top-down approach is a bit hard to understand (or say visualizing) for this problem.**"
   ]
  },
  {
   "cell_type": "code",
   "execution_count": 1,
   "id": "5ccd2f85",
   "metadata": {},
   "outputs": [],
   "source": [
    "from typing import List\n",
    "\n",
    "def stoneGameII(self, piles: List[int]) -> int:\n",
    "    \"\"\"\n",
    "    Args:\n",
    "        piles: an integer array denoting piles of stones\n",
    "    \n",
    "    Return:\n",
    "        the maximum number of stones Alice can get (Alice picks up the stones first)\n",
    "    \"\"\"\n",
    "\n",
    "    n = len(piles)\n",
    "    suffix_sum = [0] * n\n",
    "    suffix_sum[-1] = piles[-1]\n",
    "    for i in range(n - 2, -1, -1):\n",
    "        suffix_sum[i] = suffix_sum[i + 1] + piles[i]\n",
    "\n",
    "        \n",
    "    @lru_cache(None)\n",
    "    def dp(m, idx):\n",
    "        if idx >= n:\n",
    "            return 0\n",
    "        max_gain = 0\n",
    "        \n",
    "        # can be rewritten as minimizing the number of stones Bob (the next turn) can get\n",
    "        for i in range(idx, idx + 2 * m):\n",
    "            new_m = max(m, i - idx + 1)\n",
    "            max_gain = max(max_gain, suffix_sum[idx] - dp(new_m, i + 1))\n",
    "        return max_gain\n",
    "    \n",
    "    \n",
    "    return dp(1, 0)"
   ]
  },
  {
   "cell_type": "markdown",
   "id": "3ba0bfd8",
   "metadata": {},
   "source": [
    "### 2. Dynamic programming (bottom-up)\n",
    "* Time complexity:\n",
    "* Space complexity:"
   ]
  },
  {
   "cell_type": "code",
   "execution_count": null,
   "id": "27dff826",
   "metadata": {},
   "outputs": [],
   "source": []
  }
 ],
 "metadata": {
  "kernelspec": {
   "display_name": "Python 3 (ipykernel)",
   "language": "python",
   "name": "python3"
  },
  "language_info": {
   "codemirror_mode": {
    "name": "ipython",
    "version": 3
   },
   "file_extension": ".py",
   "mimetype": "text/x-python",
   "name": "python",
   "nbconvert_exporter": "python",
   "pygments_lexer": "ipython3",
   "version": "3.7.3"
  }
 },
 "nbformat": 4,
 "nbformat_minor": 5
}
