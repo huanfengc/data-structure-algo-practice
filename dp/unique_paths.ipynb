{
 "cells": [
  {
   "cell_type": "markdown",
   "id": "c7ac7045",
   "metadata": {},
   "source": [
    "## Unique Paths [problem](https://leetcode.com/problems/unique-paths/)\n",
    "\n",
    "There is a robot on an ```m x n``` grid. The robot is initially located at the top-left corner (i.e., ```grid[0][0]```). The robot tries to move to the bottom-right corner (i.e., ```grid[m - 1][n - 1]```). The robot can only move either down or right at any point in time.\n",
    "\n",
    "Given the two integers ```m``` and ```n```, return the number of possible unique paths that the robot can take to reach the bottom-right corner.\n",
    "\n",
    "The test cases are generated so that the answer will be less than or equal to ```2 * 10^9```.\n",
    "\n",
    "---\n",
    "\n",
    "**Constraints:**\n",
    "\n",
    "* ```1 <= m, n <= 100```"
   ]
  },
  {
   "cell_type": "markdown",
   "id": "4cd3f84f",
   "metadata": {},
   "source": [
    "### 1. Dynamic Programming (find the base case first)\n",
    "* Time complexity: $O(M\\times N)$\n",
    "* Space complexity: $O(M\\times N)$"
   ]
  },
  {
   "cell_type": "code",
   "execution_count": 1,
   "id": "381766a1",
   "metadata": {},
   "outputs": [],
   "source": [
    "def uniquePaths(m: int, n: int) -> int:\n",
    "    \"\"\"\n",
    "    Args:\n",
    "        m: number of rows\n",
    "        n: number of columns\n",
    "        \n",
    "    Return:\n",
    "        number of unique paths from top-left to bottom-right\n",
    "    \"\"\"\n",
    "\n",
    "    matrix = [[1 for _ in range(n)] for _ in range(m)]\n",
    "\n",
    "    for i in range(1, m):\n",
    "        for j in range(1, n):\n",
    "            matrix[i][j] = matrix[i-1][j] + matrix[i][j-1]\n",
    "\n",
    "    return matrix[m-1][n-1]"
   ]
  },
  {
   "cell_type": "markdown",
   "id": "38f577aa",
   "metadata": {},
   "source": [
    "### 2. DFS"
   ]
  },
  {
   "cell_type": "code",
   "execution_count": null,
   "id": "38d9e03d",
   "metadata": {},
   "outputs": [],
   "source": []
  }
 ],
 "metadata": {
  "kernelspec": {
   "display_name": "Python 3 (ipykernel)",
   "language": "python",
   "name": "python3"
  },
  "language_info": {
   "codemirror_mode": {
    "name": "ipython",
    "version": 3
   },
   "file_extension": ".py",
   "mimetype": "text/x-python",
   "name": "python",
   "nbconvert_exporter": "python",
   "pygments_lexer": "ipython3",
   "version": "3.7.3"
  }
 },
 "nbformat": 4,
 "nbformat_minor": 5
}
