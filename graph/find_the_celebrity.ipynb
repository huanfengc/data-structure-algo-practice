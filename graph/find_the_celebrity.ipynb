{
 "cells": [
  {
   "cell_type": "markdown",
   "id": "6489cf2f",
   "metadata": {},
   "source": [
    "## Find the Celebrity [problem](https://leetcode.com/problems/find-the-celebrity/)\n",
    "\n",
    "Suppose you are at a party with ```n``` people labeled from ```0``` to ```n - 1``` and among them, there may exist one celebrity. The definition of a celebrity is that all the other ```n - 1``` people know the celebrity, but the celebrity does not know any of them.\n",
    "\n",
    "Now you want to find out who the celebrity is or verify that there is not one. The only thing you are allowed to do is ask questions like: \"Hi, A. Do you know B?\" to get information about whether A knows B. You need to find out the celebrity (or verify there is not one) by asking as few questions as possible (in the asymptotic sense).\n",
    "\n",
    "You are given a helper function ```bool knows(a, b)``` that tells you whether A knows B. Implement a function ```int findCelebrity(n)```. There will be exactly one celebrity if they are at the party.\n",
    "\n",
    "Return the celebrity's label if there is a celebrity at the party. If there is no celebrity, return ```-1```.\n",
    "\n",
    "**Constraints:**\n",
    "\n",
    "* ```n == graph.length```\n",
    "* ```n == graph[i].length```\n",
    "* ```2 <= n <= 100```\n",
    "* ```graph[i][j]``` is ```0``` or ```1```.\n",
    "* ```graph[i][i] == 1```\n",
    "\n",
    " \n",
    "\n",
    "**Follow up:** If the maximum number of allowed calls to the API knows is 3 * n, could you find a solution without exceeding the maximum number of calls?"
   ]
  },
  {
   "cell_type": "markdown",
   "id": "288599c6",
   "metadata": {},
   "source": [
    "### 1. Logical Deduction\n",
    "time complexity: $O(N)$; space complexity: $O(1)$."
   ]
  },
  {
   "cell_type": "code",
   "execution_count": 1,
   "id": "94f55f7f",
   "metadata": {},
   "outputs": [],
   "source": [
    "# The knows API is already defined for you.\n",
    "# return a bool, whether a knows b\n",
    "# def knows(a: int, b: int) -> bool:\n",
    "\n",
    "# filter out one clelbrity candidate\n",
    "def findCelebrity(n):\n",
    "\n",
    "    candidate = 0 \n",
    "    for i in range(1, n):\n",
    "        if knows(candidate, i):\n",
    "            candidate = i\n",
    "            \n",
    "    if self.isCandidate(candidate, n):\n",
    "        return candidate\n",
    "    return -1\n",
    "\n",
    "\n",
    "# verify the one is really a celebrity\n",
    "def isCandidate(i, n):\n",
    "    for j in range(n):\n",
    "        if i == j: continue\n",
    "        if knows(i, j) or not knows(j, i):\n",
    "            return False\n",
    "    return True"
   ]
  },
  {
   "cell_type": "markdown",
   "id": "a810d92c",
   "metadata": {},
   "source": [
    "### 2. [Logical Deduction with Caching](https://leetcode.com/problems/find-the-celebrity/solution/) (need to know)"
   ]
  },
  {
   "cell_type": "markdown",
   "id": "ca4e5d9d",
   "metadata": {},
   "source": [
    "### 3. Brute Force\n",
    "time complexity: $O(N^2)$; space complexity: $O(1)$."
   ]
  }
 ],
 "metadata": {
  "kernelspec": {
   "display_name": "Python 3 (ipykernel)",
   "language": "python",
   "name": "python3"
  },
  "language_info": {
   "codemirror_mode": {
    "name": "ipython",
    "version": 3
   },
   "file_extension": ".py",
   "mimetype": "text/x-python",
   "name": "python",
   "nbconvert_exporter": "python",
   "pygments_lexer": "ipython3",
   "version": "3.7.3"
  }
 },
 "nbformat": 4,
 "nbformat_minor": 5
}
