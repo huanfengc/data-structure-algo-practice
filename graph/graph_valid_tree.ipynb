{
 "cells": [
  {
   "cell_type": "markdown",
   "id": "c4e49305",
   "metadata": {},
   "source": [
    "## 261. Graph Valid Tree [problem](https://leetcode.com/problems/graph-valid-tree/)\n",
    "\n",
    "You have a graph of ```n``` nodes labeled from ```0``` to ```n - 1```. You are given an integer ```n``` and a list of edges where ```edges[i] = [ai, bi]``` indicates that there is an undirected edge between nodes ```ai``` and ```bi``` in the graph.\n",
    "\n",
    "Return ```true``` if the edges of the given graph make up a valid tree, and ```false``` otherwise.\n",
    "\n",
    "---\n",
    "\n",
    "**Constraints:**\n",
    "\n",
    "* ```1 <= n <= 2000```\n",
    "* ```0 <= edges.length <= 5000```\n",
    "* ```edges[i].length == 2```\n",
    "* ```0 <= ai, bi < n```\n",
    "* ```ai != bi```\n",
    "* There are no self-loops or repeated edges.\n",
    "\n",
    "---\n",
    "\n",
    "**Follow-up:** There can be many ways to solve this problem, at least have a sense of several typical ones!"
   ]
  },
  {
   "cell_type": "markdown",
   "id": "dcea1749",
   "metadata": {},
   "source": [
    "### 1. DFS (Recursive)\n",
    "* Time complexity: $O(N)$ for traversing all the nodes, constructing the adjacency list ($O(N+E)\\rightarrow O(N)$ since $E$ must be $N-1$) and marking the visited nodes.\n",
    "* Space complexity: $O(N)$ for the call stack of recursion, the adjacency list and the ```visited``` set.\n",
    "\n",
    "---\n",
    "\n",
    "**Key points:**\n",
    "* a valid tree with ```n``` nodes must have and only have ```n - 1``` edges.\n",
    "* all the nodes in the graph must be connected, ie. all the nodes can be traversed from an arbitrary source."
   ]
  },
  {
   "cell_type": "code",
   "execution_count": 1,
   "id": "e6001677",
   "metadata": {},
   "outputs": [],
   "source": [
    "from typing import List\n",
    "\n",
    "def validTree(n: int, edges: List[List[int]]) -> bool:\n",
    "    \"\"\"\n",
    "    Args:\n",
    "        n: number of nodes in the graph\n",
    "        edges: list of undirected edges\n",
    "        \n",
    "    Return:\n",
    "        True if the graph is a valid tree, False otherwise\n",
    "    \"\"\"\n",
    "\n",
    "    if len(edges) != n - 1:\n",
    "        return False\n",
    "\n",
    "    # adjacency list to represent the graph\n",
    "    neighbors = [[] for _ in range(n)]\n",
    "    visited = set()\n",
    "\n",
    "    for x, y in edges:\n",
    "        neighbors[x].append(y)\n",
    "        neighbors[y].append(x)\n",
    "\n",
    "    def dfs(node):\n",
    "        # mark node as visited to avoid infinite loops\n",
    "        visited.add(node)\n",
    "        for nei in neighbors[node]:\n",
    "            if nei not in visited:\n",
    "                dfs(nei)\n",
    "\n",
    "    dfs(0)\n",
    "    return True if len(visited) == n else False"
   ]
  },
  {
   "cell_type": "markdown",
   "id": "664be3e6",
   "metadata": {},
   "source": [
    "### 2. BFS (Iterative)"
   ]
  },
  {
   "cell_type": "markdown",
   "id": "eb43a06a",
   "metadata": {},
   "source": [
    "### 3. Union find"
   ]
  }
 ],
 "metadata": {
  "kernelspec": {
   "display_name": "Python 3 (ipykernel)",
   "language": "python",
   "name": "python3"
  },
  "language_info": {
   "codemirror_mode": {
    "name": "ipython",
    "version": 3
   },
   "file_extension": ".py",
   "mimetype": "text/x-python",
   "name": "python",
   "nbconvert_exporter": "python",
   "pygments_lexer": "ipython3",
   "version": "3.7.3"
  }
 },
 "nbformat": 4,
 "nbformat_minor": 5
}
