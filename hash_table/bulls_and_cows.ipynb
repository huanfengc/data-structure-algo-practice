{
 "cells": [
  {
   "cell_type": "markdown",
   "id": "64ffd9a1",
   "metadata": {},
   "source": [
    "## Bulls and Cows [problem](https://leetcode.com/problems/bulls-and-cows/)\n",
    "\n",
    "You are playing the Bulls and Cows game with your friend.\n",
    "\n",
    "You write down a secret number and ask your friend to guess what the number is. When your friend makes a guess, you provide a hint with the following info:\n",
    "\n",
    "* The number of \"bulls\", which are digits in the guess that are in the correct position.\n",
    "* The number of \"cows\", which are digits in the guess that are in your secret number but are located in the wrong position. Specifically, the non-bull digits in the guess that could be rearranged such that they become bulls.\n",
    "\n",
    "Given the ```secret``` number secret and your friend's guess ```guess```, return the hint for your friend's guess.\n",
    "\n",
    "The hint should be formatted as ```\"xAyB\"```, where ```x``` is the number of bulls and ```y``` is the number of cows. Note that both ```secret``` and ```guess``` may contain duplicate digits.\n",
    "\n",
    "**Constraints:**\n",
    "\n",
    "* ```1 <= secret.length, guess.length <= 1000```\n",
    "* ```secret.length == guess.length```\n",
    "* ```secret``` and ```guess``` consist of digits only."
   ]
  },
  {
   "cell_type": "markdown",
   "id": "968d02e2",
   "metadata": {},
   "source": [
    "### 1. Hash Table (Two Passes)\n",
    "time complexity: $O(N)$, space complexity: $O(1)$, since ```hashmap``` only contains up to 10 keys."
   ]
  },
  {
   "cell_type": "code",
   "execution_count": 1,
   "id": "167bcd84",
   "metadata": {},
   "outputs": [],
   "source": [
    "def getHint(self, secret: str, guess: str) -> str:\n",
    "        \n",
    "    hashmap = defaultdict(int)\n",
    "    bulls = cows = 0\n",
    "\n",
    "    for num in secret:\n",
    "        hashmap[num] += 1\n",
    "    for i, num in enumerate(guess):\n",
    "\n",
    "        if num in hashmap:   \n",
    "            if num == secret[i]:\n",
    "                bulls += 1\n",
    "                cows -= int(hashmap[num] <= 0)\n",
    "            else:\n",
    "                cows += int(hashmap[num] > 0)\n",
    "            hashmap[num] -= 1\n",
    "\n",
    "    return \"{}A{}B\".format(bulls, cows)"
   ]
  },
  {
   "cell_type": "markdown",
   "id": "35ea0a0e",
   "metadata": {},
   "source": [
    "### 2. Hash Table (One Pass) (have not tried)\n",
    "time complexity: $O(N)$, space complexity: $O(1)$."
   ]
  },
  {
   "cell_type": "markdown",
   "id": "7dae90e6",
   "metadata": {},
   "source": [
    "### My First Try\n",
    "time complexity: $O(N)$ (three passes of the string), space complexity: $O(N)$."
   ]
  },
  {
   "cell_type": "code",
   "execution_count": 2,
   "id": "b3076400",
   "metadata": {},
   "outputs": [],
   "source": [
    "def getHint(self, secret: str, guess: str) -> str:\n",
    "        \n",
    "    hash1 = {}\n",
    "    hash2 = defaultdict(int)\n",
    "    bulls = cows = 0\n",
    "\n",
    "    for i, num in enumerate(secret):\n",
    "        hash1[i] = num\n",
    "        hash2[num] += 1\n",
    "    for i, num in enumerate(guess):\n",
    "        if num == hash1[i]:\n",
    "            bulls += 1\n",
    "            hash2[num] -= 1\n",
    "    for i, num in enumerate(guess):\n",
    "        if num != hash1[i] and num in hash2 and hash2[num] > 0:\n",
    "            cows += 1\n",
    "            hash2[num] -= 1\n",
    "\n",
    "    return \"{}A{}B\".format(bulls, cows)"
   ]
  }
 ],
 "metadata": {
  "kernelspec": {
   "display_name": "Python 3 (ipykernel)",
   "language": "python",
   "name": "python3"
  },
  "language_info": {
   "codemirror_mode": {
    "name": "ipython",
    "version": 3
   },
   "file_extension": ".py",
   "mimetype": "text/x-python",
   "name": "python",
   "nbconvert_exporter": "python",
   "pygments_lexer": "ipython3",
   "version": "3.7.3"
  }
 },
 "nbformat": 4,
 "nbformat_minor": 5
}
