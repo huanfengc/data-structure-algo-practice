{
 "cells": [
  {
   "cell_type": "markdown",
   "id": "eb3e65b5",
   "metadata": {},
   "source": [
    "## 41. First Missing Positive [problem](https://leetcode.com/problems/first-missing-positive/)\n",
    "\n",
    "Given an unsorted integer array ```nums```, return the smallest missing positive integer.\n",
    "\n",
    "---\n",
    "\n",
    "**Requirements:**\n",
    "* **You must implement an algorithm that runs in $O(N)$ time and uses constant extra space.**\n",
    "\n",
    "---\n",
    "\n",
    "**Constraints:**\n",
    "\n",
    "* ```1 <= nums.length <= 5 * 10^5```\n",
    "* ```-2^31 <= nums[i] <= 2^31 - 1```"
   ]
  },
  {
   "cell_type": "markdown",
   "id": "ff1a6a22",
   "metadata": {},
   "source": [
    "### 1. Negative marking (use the original list as a Hash table)\n",
    "* Time complexity: $O(N)$\n",
    "* Space complexity: $O(1)$"
   ]
  },
  {
   "cell_type": "code",
   "execution_count": 1,
   "id": "1ff6a5ce",
   "metadata": {},
   "outputs": [],
   "source": [
    "from typing import List\n",
    "\n",
    "class Solution1:\n",
    "    def firstMissingPositive(self, nums: List[int]) -> int:\n",
    "        \"\"\"\n",
    "        Args:\n",
    "            nums: an integer array\n",
    "        \n",
    "        Return:\n",
    "            the minimum missing positive integer\n",
    "        \"\"\"\n",
    "        \n",
    "        n = len(nums)\n",
    "        if 1 not in nums:\n",
    "            return 1\n",
    "        \n",
    "        for i in range(n):\n",
    "            if nums[i] <= 0 or nums[i] > n:\n",
    "                nums[i] = 1\n",
    "        \n",
    "        for i in range(n):\n",
    "            num = abs(nums[i])\n",
    "            if num == n:\n",
    "                nums[0] = - abs(nums[0])\n",
    "            else:\n",
    "                nums[num] = - abs(nums[num])\n",
    "        \n",
    "        for i in range(1, n):\n",
    "            if nums[i] > 0:\n",
    "                return i\n",
    "        if nums[0] > 0:\n",
    "            return n\n",
    "        return n + 1"
   ]
  }
 ],
 "metadata": {
  "kernelspec": {
   "display_name": "Python 3 (ipykernel)",
   "language": "python",
   "name": "python3"
  },
  "language_info": {
   "codemirror_mode": {
    "name": "ipython",
    "version": 3
   },
   "file_extension": ".py",
   "mimetype": "text/x-python",
   "name": "python",
   "nbconvert_exporter": "python",
   "pygments_lexer": "ipython3",
   "version": "3.7.3"
  }
 },
 "nbformat": 4,
 "nbformat_minor": 5
}
