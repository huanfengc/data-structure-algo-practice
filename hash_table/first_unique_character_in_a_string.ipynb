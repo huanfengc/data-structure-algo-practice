{
 "cells": [
  {
   "cell_type": "markdown",
   "id": "8b3a941a",
   "metadata": {},
   "source": [
    "## First Unique Character in a String [problem](https://leetcode.com/problems/first-unique-character-in-a-string/)\n",
    "\n",
    "Given a string ```s```, find the first non-repeating character in it and return its index. If it does not exist, return ```-1```.\n",
    "\n",
    "Constraints:\n",
    "\n",
    "* 1 <= s.length <= 105\n",
    "* s consists of only lowercase English letters."
   ]
  },
  {
   "cell_type": "markdown",
   "id": "b07aa659",
   "metadata": {},
   "source": [
    "### 1. Hash Table\n",
    "time complexity: $O(N)$, space complexity: $O(N)$ (should it be actually $O(1)$? since there are only 26 letters.)"
   ]
  },
  {
   "cell_type": "code",
   "execution_count": 2,
   "id": "a21debf4",
   "metadata": {},
   "outputs": [],
   "source": [
    "def firstUniqChar(s):\n",
    "\n",
    "    hashmap = {}\n",
    "    for char in s:\n",
    "        if char in hashmap:\n",
    "            hashmap[char] += 1\n",
    "        else:\n",
    "            hashmap[char] = 1\n",
    "\n",
    "    for i in range(len(s)):\n",
    "        if hashmap[s[i]] == 1:\n",
    "            return i\n",
    "    return -1"
   ]
  },
  {
   "cell_type": "code",
   "execution_count": null,
   "id": "eb72e3a4",
   "metadata": {},
   "outputs": [],
   "source": []
  }
 ],
 "metadata": {
  "kernelspec": {
   "display_name": "Python 3 (ipykernel)",
   "language": "python",
   "name": "python3"
  },
  "language_info": {
   "codemirror_mode": {
    "name": "ipython",
    "version": 3
   },
   "file_extension": ".py",
   "mimetype": "text/x-python",
   "name": "python",
   "nbconvert_exporter": "python",
   "pygments_lexer": "ipython3",
   "version": "3.7.3"
  }
 },
 "nbformat": 4,
 "nbformat_minor": 5
}
