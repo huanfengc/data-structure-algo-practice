{
 "cells": [
  {
   "cell_type": "markdown",
   "id": "a5b55d01",
   "metadata": {},
   "source": [
    "## 4Sum II [problem](https://leetcode.com/problems/4sum-ii/)\n",
    "\n",
    "Given four integer arrays ```nums1```, ```nums2```, ```nums3```, and ```nums4``` all of length ```n```, return the number of tuples ```(i, j, k, l)``` such that:\n",
    "\n",
    "* ```0 <= i, j, k, l < n```\n",
    "* ```nums1[i] + nums2[j] + nums3[k] + nums4[l] == 0```\n",
    "\n",
    "**Constraints:**\n",
    "\n",
    "* ```n == nums1.length```\n",
    "* ```n == nums2.length```\n",
    "* ```n == nums3.length```\n",
    "* ```n == nums4.length```\n",
    "* ```1 <= n <= 200```\n",
    "* ```-2^28 <= nums1[i], nums2[i], nums3[i], nums4[i] <= 2^28```"
   ]
  },
  {
   "cell_type": "markdown",
   "id": "405671c4",
   "metadata": {},
   "source": [
    "### 1. Hash Table\n",
    "time complexity: $O(N^2)$; space complexity: $O(N^2)$."
   ]
  },
  {
   "cell_type": "code",
   "execution_count": 1,
   "id": "acb9924b",
   "metadata": {},
   "outputs": [],
   "source": [
    "def fourSumCount(self, nums1, nums2, nums3, nums4):\n",
    "\n",
    "    count = 0\n",
    "    hashmap = {}\n",
    "\n",
    "    for a in nums1:\n",
    "        for b in nums2:\n",
    "            if (a + b) in hashmap:\n",
    "                hashmap[a+b] += 1\n",
    "            else:\n",
    "                hashmap[a+b] = 1\n",
    "\n",
    "    for c in nums3:\n",
    "        for d in nums4:\n",
    "            if - (c + d) in hashmap:\n",
    "                count += hashmap[-(c+d)]\n",
    "    return count"
   ]
  },
  {
   "cell_type": "markdown",
   "id": "2d58f8ae",
   "metadata": {},
   "source": [
    "### 2. Generalizing to [```kSum```](https://leetcode.com/problems/4sum-ii/solution/) (still using Hash Table)"
   ]
  },
  {
   "cell_type": "code",
   "execution_count": null,
   "id": "0888a508",
   "metadata": {},
   "outputs": [],
   "source": []
  }
 ],
 "metadata": {
  "kernelspec": {
   "display_name": "Python 3 (ipykernel)",
   "language": "python",
   "name": "python3"
  },
  "language_info": {
   "codemirror_mode": {
    "name": "ipython",
    "version": 3
   },
   "file_extension": ".py",
   "mimetype": "text/x-python",
   "name": "python",
   "nbconvert_exporter": "python",
   "pygments_lexer": "ipython3",
   "version": "3.7.3"
  }
 },
 "nbformat": 4,
 "nbformat_minor": 5
}
