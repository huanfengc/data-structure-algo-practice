{
 "cells": [
  {
   "cell_type": "markdown",
   "id": "f4a7eb49",
   "metadata": {},
   "source": [
    "## Group Anagrams [problem](https://leetcode.com/problems/group-anagrams/)\n",
    "\n",
    "Given an array of strings ```strs```, group the anagrams together. You can return the answer in any order.\n",
    "\n",
    "An Anagram is a word or phrase formed by rearranging the letters of a different word or phrase, typically using all the original letters exactly once.\n",
    "\n",
    "**Constraints:**\n",
    "\n",
    "* ```1 <= strs.length <= 104```\n",
    "* ```0 <= strs[i].length <= 100```\n",
    "* ```strs[i]``` consists of lowercase English letters."
   ]
  },
  {
   "cell_type": "markdown",
   "id": "d887ca49",
   "metadata": {},
   "source": [
    "### 1. Hash Table and Sort (string)\n",
    "time complexity: $O(NKlogK)$, where $N$ is the number of ```strs```, $K$ is the number of letters of one ```str```, space complexity: $O(NK)$."
   ]
  },
  {
   "cell_type": "code",
   "execution_count": 1,
   "id": "12b9386a",
   "metadata": {},
   "outputs": [],
   "source": [
    "def groupAnagrams(self, strs):\n",
    "    # hashmap = defaultdict(list)\n",
    "    hashmap = {}\n",
    "\n",
    "    for item in strs:\n",
    "        # key = tuple(sorted(item))\n",
    "        key = \"\".join(sorted(item))\n",
    "        if key not in hashmap:\n",
    "            hashmap[key] = []\n",
    "        hashmap[key].append(item)\n",
    "\n",
    "    return [hashmap[item] for item in hashmap]"
   ]
  }
 ],
 "metadata": {
  "kernelspec": {
   "display_name": "Python 3 (ipykernel)",
   "language": "python",
   "name": "python3"
  },
  "language_info": {
   "codemirror_mode": {
    "name": "ipython",
    "version": 3
   },
   "file_extension": ".py",
   "mimetype": "text/x-python",
   "name": "python",
   "nbconvert_exporter": "python",
   "pygments_lexer": "ipython3",
   "version": "3.7.3"
  }
 },
 "nbformat": 4,
 "nbformat_minor": 5
}
