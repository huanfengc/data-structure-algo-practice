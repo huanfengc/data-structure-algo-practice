{
 "cells": [
  {
   "cell_type": "markdown",
   "id": "c42daf10",
   "metadata": {},
   "source": [
    "## Insert Delete GetRandom $O(1)$ [problem](https://leetcode.com/problems/insert-delete-getrandom-o1/)\n",
    "\n",
    "Implement the RandomizedSet class:\n",
    "\n",
    "* ```RandomizedSet()``` Initializes the ```RandomizedSet``` object.\n",
    "* ```bool insert(int val)``` Inserts an item ```val``` into the set if not present. Returns ```true``` if the item was not present, ```false``` otherwise.\n",
    "* ```bool remove(int val)``` Removes an item ```val``` from the set if present. Returns ```true``` if the item was present, ```false``` otherwise.\n",
    "* ```int getRandom()``` Returns a random element from the current set of elements (it's guaranteed that at least one element exists when this method is called). Each element must have the same probability of being returned.\n",
    "\n",
    "You must implement the functions of the class such that each function works **in average $O(1)$ time complexity**.\n",
    "\n",
    "Constraints:\n",
    "\n",
    "* ```-231 <= val <= 231 - 1```\n",
    "* At most ```2 * 10^5``` calls will be made to ```insert```, ```remove```, and ```getRandom```.\n",
    "* There will be at least one element in the data structure when ```getRandom``` is called."
   ]
  },
  {
   "cell_type": "markdown",
   "id": "72943a9a",
   "metadata": {},
   "source": [
    "### Hash Table and List\n",
    "time complexity: $O(1)$ for all function calls **(space reallocation will not happen for Python, since ```List``` is dynamic ```array```, correct?)**, space complexity: $O(N)$."
   ]
  },
  {
   "cell_type": "code",
   "execution_count": 1,
   "id": "ac51783d",
   "metadata": {},
   "outputs": [],
   "source": [
    "from random import choice\n",
    "class RandomizedSet:\n",
    "\n",
    "    def __init__(self):\n",
    "        self.hashmap = {}\n",
    "        self.list = []\n",
    "\n",
    "        \n",
    "    def insert(self, val: int) -> bool:\n",
    "        if val in self.hashmap:\n",
    "            return False\n",
    "        self.list.append(val)\n",
    "        self.hashmap[val] = len(self.list) - 1\n",
    "        return True\n",
    "\n",
    "\n",
    "    def remove(self, val: int) -> bool:\n",
    "        if val not in self.hashmap:\n",
    "            return False\n",
    "        \n",
    "        if val != self.list[-1]:\n",
    "            idx, last = self.hashmap[val], self.list[-1]\n",
    "            self.list[idx], self.hashmap[last] = last, idx\n",
    "        self.list.pop()\n",
    "        del self.hashmap[val]\n",
    "            \n",
    "        return True\n",
    "    \n",
    "\n",
    "    def getRandom(self) -> int:\n",
    "        return choice(self.list)\n",
    "\n",
    "        \n",
    "\n",
    "# Your RandomizedSet object will be instantiated and called as such:\n",
    "# obj = RandomizedSet()\n",
    "# param_1 = obj.insert(val)\n",
    "# param_2 = obj.remove(val)\n",
    "# param_3 = obj.getRandom()"
   ]
  }
 ],
 "metadata": {
  "kernelspec": {
   "display_name": "Python 3 (ipykernel)",
   "language": "python",
   "name": "python3"
  },
  "language_info": {
   "codemirror_mode": {
    "name": "ipython",
    "version": 3
   },
   "file_extension": ".py",
   "mimetype": "text/x-python",
   "name": "python",
   "nbconvert_exporter": "python",
   "pygments_lexer": "ipython3",
   "version": "3.7.3"
  }
 },
 "nbformat": 4,
 "nbformat_minor": 5
}
