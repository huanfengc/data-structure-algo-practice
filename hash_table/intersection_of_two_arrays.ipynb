{
 "cells": [
  {
   "cell_type": "markdown",
   "id": "e0666698",
   "metadata": {},
   "source": [
    "## Intersection of Two Arrays [problem](https://leetcode.com/problems/intersection-of-two-arrays/)\n",
    "\n",
    "Given two integer arrays ```nums1``` and ```nums2```, return an array of their intersection. Each element in the result must be **unique** and you may return the result **in any order**.\n",
    "\n",
    "**Constraints:**\n",
    "\n",
    "* ```1 <= nums1.length, nums2.length <= 1000```\n",
    "* ```0 <= nums1[i], nums2[i] <= 1000```"
   ]
  },
  {
   "cell_type": "markdown",
   "id": "2dcdc965",
   "metadata": {},
   "source": [
    "### 1. Two Sets\n",
    "time complexity:$O(M+N)$, space complexity: $O(M+N)$."
   ]
  },
  {
   "cell_type": "code",
   "execution_count": 1,
   "id": "a5bc1a81",
   "metadata": {},
   "outputs": [],
   "source": [
    "def intersection(self, nums1, nums2):\n",
    "        \n",
    "    hashset = set()\n",
    "    result = set()\n",
    "\n",
    "    for num in nums1:\n",
    "        if num not in hashset:\n",
    "            hashset.add(num)\n",
    "\n",
    "    for num in nums2:\n",
    "        if num in hashset:\n",
    "            result.add(num)\n",
    "    return list(result)"
   ]
  },
  {
   "cell_type": "markdown",
   "id": "017e77d5",
   "metadata": {},
   "source": [
    "### 2. Buit-in Intersection\n",
    "time complexity:$O(M+N)$, space complexity: $O(M+N)$.\n",
    "\n",
    "```list(set1 & set2)```"
   ]
  },
  {
   "cell_type": "code",
   "execution_count": null,
   "id": "368d2b05",
   "metadata": {},
   "outputs": [],
   "source": []
  }
 ],
 "metadata": {
  "kernelspec": {
   "display_name": "Python 3 (ipykernel)",
   "language": "python",
   "name": "python3"
  },
  "language_info": {
   "codemirror_mode": {
    "name": "ipython",
    "version": 3
   },
   "file_extension": ".py",
   "mimetype": "text/x-python",
   "name": "python",
   "nbconvert_exporter": "python",
   "pygments_lexer": "ipython3",
   "version": "3.7.3"
  }
 },
 "nbformat": 4,
 "nbformat_minor": 5
}
