{
 "cells": [
  {
   "cell_type": "markdown",
   "id": "813829e6",
   "metadata": {},
   "source": [
    "## Intersection of Two Arrays II [problem](https://leetcode.com/problems/intersection-of-two-arrays-ii/)\n",
    "\n",
    "Given two integer arrays ```nums1``` and ```nums2```, return an array of their intersection. Each element in the result must appear as many times as it shows in both arrays and you may return the result in any order.\n",
    "\n",
    "**Constraints:**\n",
    "\n",
    "* ```1 <= nums1.length, nums2.length <= 1000```\n",
    "* ```0 <= nums1[i], nums2[i] <= 1000```\n",
    "\n",
    " \n",
    "\n",
    "**Follow up:**\n",
    "\n",
    "* What if the given array is already sorted? How would you optimize your algorithm?\n",
    "* What if ```nums1```'s size is small compared to ```nums2```'s size? Which algorithm is better?\n",
    "* What if elements of ```nums2``` are stored on disk, and the memory is limited such that you cannot load all elements into the memory at once?"
   ]
  },
  {
   "cell_type": "markdown",
   "id": "13935ac3",
   "metadata": {},
   "source": [
    "### 1. Hash Table\n",
    "time complexity: $O(M+N)$, space complexity: $O(min(M,N))$, where $M$ and $N$ are the size of ```nums1``` and ```nums2```, ```min``` can be achieved by swapping ```nums1``` and ```nums2``` if ```nums1``` is larger in size."
   ]
  },
  {
   "cell_type": "code",
   "execution_count": 1,
   "id": "c8eb18a6",
   "metadata": {},
   "outputs": [],
   "source": [
    "def intersect(self, nums1, nums2):\n",
    "        \n",
    "    result = []\n",
    "    hashmap = {}\n",
    "\n",
    "    if len(nums1) > len(nums2):\n",
    "        nums1, nums2 = nums2, nums1\n",
    "\n",
    "    for num in nums1:\n",
    "        if num not in hashmap:\n",
    "            hashmap[num] = 1\n",
    "        else:\n",
    "            hashmap[num] += 1\n",
    "\n",
    "    for num in nums2:\n",
    "        if num in hashmap and hashmap[num] > 0:\n",
    "            result.append(num)\n",
    "            hashmap[num] -= 1\n",
    "\n",
    "    return result"
   ]
  },
  {
   "cell_type": "markdown",
   "id": "2e35d9bf",
   "metadata": {},
   "source": [
    "### 2. Sort (have not tried yet)\n",
    "time complexity: $O(MlogM + NlogN)$, space complexity: from $O(logM + logN) to $$O(M+N)$."
   ]
  }
 ],
 "metadata": {
  "kernelspec": {
   "display_name": "Python 3 (ipykernel)",
   "language": "python",
   "name": "python3"
  },
  "language_info": {
   "codemirror_mode": {
    "name": "ipython",
    "version": 3
   },
   "file_extension": ".py",
   "mimetype": "text/x-python",
   "name": "python",
   "nbconvert_exporter": "python",
   "pygments_lexer": "ipython3",
   "version": "3.7.3"
  }
 },
 "nbformat": 4,
 "nbformat_minor": 5
}
