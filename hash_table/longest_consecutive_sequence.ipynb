{
 "cells": [
  {
   "cell_type": "markdown",
   "id": "ba5888a7",
   "metadata": {},
   "source": [
    "## Longest Consecutive Sequence [problem](https://leetcode.com/problems/longest-consecutive-sequence/)\n",
    "\n",
    "Given an unsorted array of integers nums, return the length of the longest consecutive elements sequence.\n",
    "\n",
    "**Constraints:**\n",
    "\n",
    "* ```0 <= nums.length <= 105```\n",
    "* ```-109 <= nums[i] <= 109```\n",
    "\n",
    "\n",
    "**Follow-up:** How to write an algorithm that runs in $O(N)$ time?"
   ]
  },
  {
   "cell_type": "markdown",
   "id": "448ab485",
   "metadata": {},
   "source": [
    "### 1. Sort\n",
    "time complexity: $O(NlogN)$ for ```sort```, $O(N)$ for the ```for``` loop, so overall is $O(NlogN)$, space complexity: $O(1)$ for in-place sorting, otherwise $O(N)$ to store the sorted ```nums```."
   ]
  },
  {
   "cell_type": "code",
   "execution_count": 1,
   "id": "d629c577",
   "metadata": {},
   "outputs": [],
   "source": [
    "def longestConsecutive(self, nums):\n",
    "\n",
    "    if not nums:\n",
    "        return 0\n",
    "\n",
    "    nums.sort()\n",
    "    count = 1\n",
    "    maximum = 1\n",
    "\n",
    "    for i in range(len(nums)-1):\n",
    "        if nums[i] == nums[i+1] - 1:\n",
    "            count += 1\n",
    "        elif nums[i] < nums[i+1] - 1:\n",
    "            # remember to update the max\n",
    "            maximum = max(maximum, count)\n",
    "            count = 1\n",
    "    # the last item could also be part of the longest consecutive.\n",
    "    return max(maximum, count)"
   ]
  },
  {
   "cell_type": "markdown",
   "id": "04a44565",
   "metadata": {},
   "source": [
    "### 2. HashSet and Intelligent Sequence Building (have not tried)\n",
    "time complexity: $O(N)$, space complexity: $O(N)$."
   ]
  }
 ],
 "metadata": {
  "kernelspec": {
   "display_name": "Python 3 (ipykernel)",
   "language": "python",
   "name": "python3"
  },
  "language_info": {
   "codemirror_mode": {
    "name": "ipython",
    "version": 3
   },
   "file_extension": ".py",
   "mimetype": "text/x-python",
   "name": "python",
   "nbconvert_exporter": "python",
   "pygments_lexer": "ipython3",
   "version": "3.7.3"
  }
 },
 "nbformat": 4,
 "nbformat_minor": 5
}
