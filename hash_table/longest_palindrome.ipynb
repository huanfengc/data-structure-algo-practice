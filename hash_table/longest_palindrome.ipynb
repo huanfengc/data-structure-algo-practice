{
 "cells": [
  {
   "cell_type": "markdown",
   "id": "0ac4d401",
   "metadata": {},
   "source": [
    "## Longest Palindrome [problem](https://leetcode.com/problems/longest-palindrome/)\n",
    "\n",
    "Given a string ```s``` which consists of lowercase or uppercase letters, return the length of the longest palindrome that can be built with those letters.\n",
    "\n",
    "Letters are case sensitive, for example, ```\"Aa\"``` is not considered a palindrome here.\n",
    "\n",
    "Constraints:\n",
    "\n",
    "* ```1 <= s.length <= 2000```\n",
    "* ```s``` consists of lowercase and/or uppercase English letters only.\n"
   ]
  },
  {
   "cell_type": "code",
   "execution_count": null,
   "id": "596b88c2",
   "metadata": {},
   "outputs": [],
   "source": [
    "def longestPalindrome(self, s: str) -> int:\n",
    "    hashmap = {}\n",
    "    length = 0\n",
    "\n",
    "    for char in s:\n",
    "        if char not in hashmap:\n",
    "            hashmap[char] = 1\n",
    "        else:\n",
    "            if hashmap[char] == 1:\n",
    "                length += 2\n",
    "                hashmap[char] = 0\n",
    "            else:\n",
    "                hashmap[char] = 1\n",
    "    for char in hashmap:\n",
    "        if hashmap[char] == 1:\n",
    "            length += 1\n",
    "            break\n",
    "    return length"
   ]
  }
 ],
 "metadata": {
  "kernelspec": {
   "display_name": "Python 3 (ipykernel)",
   "language": "python",
   "name": "python3"
  },
  "language_info": {
   "codemirror_mode": {
    "name": "ipython",
    "version": 3
   },
   "file_extension": ".py",
   "mimetype": "text/x-python",
   "name": "python",
   "nbconvert_exporter": "python",
   "pygments_lexer": "ipython3",
   "version": "3.7.3"
  }
 },
 "nbformat": 4,
 "nbformat_minor": 5
}
