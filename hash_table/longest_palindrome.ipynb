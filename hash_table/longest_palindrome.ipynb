{
 "cells": [
  {
   "cell_type": "markdown",
   "id": "02fd19f4",
   "metadata": {},
   "source": [
    "## Longest Palindrome [problem](https://leetcode.com/problems/longest-palindrome/)\n",
    "\n",
    "Given a string ```s``` which consists of lowercase or uppercase letters, return the length of the longest palindrome that can be built with those letters.\n",
    "\n",
    "Letters are case sensitive, for example, ```\"Aa\"``` is not considered a palindrome here.\n",
    "\n",
    "Constraints:\n",
    "\n",
    "* ```1 <= s.length <= 2000```\n",
    "* ```s``` consists of lowercase and/or uppercase English letters only.\n"
   ]
  },
  {
   "cell_type": "markdown",
   "id": "eac75de4",
   "metadata": {},
   "source": [
    "### 1. Hash Table\n",
    "time complexity: $O(N)$, space complexity: $O(N)$."
   ]
  },
  {
   "cell_type": "code",
   "execution_count": 1,
   "id": "342e048e",
   "metadata": {},
   "outputs": [],
   "source": [
    "def longestPalindrome1(s):\n",
    "    hashmap = {}\n",
    "    length = 0\n",
    "\n",
    "    for char in s:\n",
    "        if char not in hashmap:\n",
    "            hashmap[char] = 1\n",
    "        else:\n",
    "            if hashmap[char] == 1:\n",
    "                length += 2\n",
    "                hashmap[char] = 0\n",
    "            else:\n",
    "                hashmap[char] = 1\n",
    "    for char in hashmap:\n",
    "        if hashmap[char] == 1:\n",
    "            length += 1\n",
    "            breaka\n",
    "    return length"
   ]
  },
  {
   "cell_type": "markdown",
   "id": "0913dcdc",
   "metadata": {},
   "source": [
    "#### 2nd version of hash table"
   ]
  },
  {
   "cell_type": "code",
   "execution_count": 2,
   "id": "f9ce0ec9",
   "metadata": {},
   "outputs": [],
   "source": [
    "def longestPalindrome2(self, s: str) -> int:\n",
    "    hashmap = {}\n",
    "    pair = 0\n",
    "\n",
    "    for c in s:\n",
    "        if c not in hashmap:\n",
    "            hashmap[c] = 1\n",
    "        else:\n",
    "            pair += 1\n",
    "            del hashmap[c]\n",
    "    return 2 * pair + 1 if hashmap else 2 * pair"
   ]
  },
  {
   "cell_type": "markdown",
   "id": "8703d5c7",
   "metadata": {},
   "source": [
    "### 2. Greedy\n",
    "time complexity: O(N), space complexity: $O(1)$."
   ]
  },
  {
   "cell_type": "code",
   "execution_count": null,
   "id": "5676af44",
   "metadata": {},
   "outputs": [],
   "source": []
  }
 ],
 "metadata": {
  "kernelspec": {
   "display_name": "Python 3 (ipykernel)",
   "language": "python",
   "name": "python3"
  },
  "language_info": {
   "codemirror_mode": {
    "name": "ipython",
    "version": 3
   },
   "file_extension": ".py",
   "mimetype": "text/x-python",
   "name": "python",
   "nbconvert_exporter": "python",
   "pygments_lexer": "ipython3",
   "version": "3.7.3"
  }
 },
 "nbformat": 4,
 "nbformat_minor": 5
}
