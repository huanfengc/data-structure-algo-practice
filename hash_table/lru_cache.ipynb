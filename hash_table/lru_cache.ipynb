{
 "cells": [
  {
   "cell_type": "markdown",
   "id": "78e03841",
   "metadata": {},
   "source": [
    "## 146. LRU Cache [problem](https://leetcode.com/problems/lru-cache/)\n",
    "\n",
    "Design a data structure that follows the constraints of a **Least Recently Used (LRU) cache**.\n",
    "\n",
    "Implement the ```LRUCache``` class:\n",
    "\n",
    "* ```LRUCache(int capacity)``` Initialize the LRU cache with positive size capacity.\n",
    "* ```int get(int key)``` Return the value of the ```key``` if the ```key``` exists, otherwise return ```-1```.\n",
    "* ```void put(int key, int value)``` Update the value of the ```key``` if the ```key``` exists. Otherwise, add the ```key-value``` pair to the cache. If the number of keys exceeds the ```capacity``` from this operation, evict the least recently used key.\n",
    "\n",
    "**The functions ```get``` and ```put``` must each run in $O(1)$ average time complexity.**"
   ]
  },
  {
   "cell_type": "markdown",
   "id": "f6f877fe",
   "metadata": {},
   "source": [
    "### 1. Use ```OrderedDict```\n",
    "* Time complexity: $O(1)$, all operations in ```OrderedDict``` takes constant time.\n",
    "* Space complexity: $O(N)$, $N$ is the size of ```capacity```.\n",
    "\n",
    "**```OrderedDict``` in Python [info](https://docs.python.org/3/library/collections.html#collections.OrderedDict)**"
   ]
  },
  {
   "cell_type": "code",
   "execution_count": 1,
   "id": "8b0b23d6",
   "metadata": {},
   "outputs": [],
   "source": [
    "from collections import OrderedDict\n",
    "\n",
    "class LRUCache(OrderedDict):\n",
    "    \"\"\"A class whose instance is an OrderedDict\n",
    "    \"\"\"\n",
    "\n",
    "    def __init__(self, capacity: int):\n",
    "        self.capacity = capacity\n",
    "        \n",
    "\n",
    "    def get(self, key: int) -> int:\n",
    "        if key in self:\n",
    "            self.move_to_end(key)\n",
    "            return self[key]\n",
    "        else:\n",
    "            return -1\n",
    "        \n",
    "\n",
    "    def put(self, key: int, value: int) -> None:\n",
    "        if key in self:\n",
    "            self.move_to_end(key)\n",
    "        self[key] = value\n",
    "        \n",
    "        if len(self) > self.capacity:\n",
    "            self.popitem(last=False) # FIFO, if True then will be LIFO\n",
    "\n",
    "            \n",
    "\n",
    "            \n",
    "# Your LRUCache object will be instantiated and called as such\n",
    "# obj = LRUCache(capacity)\n",
    "# param_1 = obj.get(key)\n",
    "# obj.put(key,value)"
   ]
  },
  {
   "cell_type": "markdown",
   "id": "df78dd74",
   "metadata": {},
   "source": [
    "### 2. Hash table and Doubly linked list\n",
    "* Time complexity: $O(1)$ for all the operations.\n",
    "* Space complexity: $O(N)$"
   ]
  },
  {
   "cell_type": "code",
   "execution_count": 2,
   "id": "b9fb49d9",
   "metadata": {},
   "outputs": [],
   "source": [
    "class DLinkedNode():\n",
    "    \"\"\"A class whose instance is a node of doubly linked list\n",
    "    \"\"\"\n",
    "    \n",
    "    def __init__(self):\n",
    "        self.key = 0\n",
    "        self.value = 0\n",
    "        self.prev = None\n",
    "        self.next = None"
   ]
  }
 ],
 "metadata": {
  "kernelspec": {
   "display_name": "Python 3 (ipykernel)",
   "language": "python",
   "name": "python3"
  },
  "language_info": {
   "codemirror_mode": {
    "name": "ipython",
    "version": 3
   },
   "file_extension": ".py",
   "mimetype": "text/x-python",
   "name": "python",
   "nbconvert_exporter": "python",
   "pygments_lexer": "ipython3",
   "version": "3.7.3"
  }
 },
 "nbformat": 4,
 "nbformat_minor": 5
}
