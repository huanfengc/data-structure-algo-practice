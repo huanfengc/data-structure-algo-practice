{
 "cells": [
  {
   "cell_type": "markdown",
   "id": "22c32e1d",
   "metadata": {},
   "source": [
    "## Majority Element [problem](https://leetcode.com/problems/majority-element/)\n",
    "\n",
    "Given an array ```nums``` of size ```n```, return the majority element.\n",
    "\n",
    "The majority element is the element that appears more than ```⌊n / 2⌋``` times. You may assume that the majority element always exists in the array.\n",
    "\n",
    "**Constraints:**\n",
    "\n",
    "* ```n == nums.length```\n",
    "* ```1 <= n <= 5 * 10^4```\n",
    "* ```-10^9 <= nums[i] <= 10^9```"
   ]
  },
  {
   "cell_type": "markdown",
   "id": "84c40f89",
   "metadata": {},
   "source": [
    "### 1. Hash Table\n",
    "time complexity: $O(N)$; space complexity: $O(N)$."
   ]
  },
  {
   "cell_type": "code",
   "execution_count": 1,
   "id": "aec67d22",
   "metadata": {},
   "outputs": [],
   "source": [
    "def majorityElement(nums: list) -> int:\n",
    "\n",
    "    hashmap = {}\n",
    "\n",
    "    for num in nums:\n",
    "        if num not in hashmap:\n",
    "            hashmap[num] = 1\n",
    "        else:\n",
    "            hashmap[num] += 1\n",
    "        if hashmap[num] >= len(nums) / 2:\n",
    "            return num"
   ]
  },
  {
   "cell_type": "markdown",
   "id": "b3b0768f",
   "metadata": {},
   "source": [
    "### 2. Hash Table (using ```Counter```)\n",
    "time complexity: $O(N)$; space complexity: $O(N)$."
   ]
  },
  {
   "cell_type": "code",
   "execution_count": null,
   "id": "d719a776",
   "metadata": {},
   "outputs": [],
   "source": []
  },
  {
   "cell_type": "markdown",
   "id": "8607b906",
   "metadata": {},
   "source": [
    "### 3. [Boyer-Moore Voting Algorithm](https://leetcode.com/problems/majority-element/solution/)"
   ]
  }
 ],
 "metadata": {
  "kernelspec": {
   "display_name": "Python 3 (ipykernel)",
   "language": "python",
   "name": "python3"
  },
  "language_info": {
   "codemirror_mode": {
    "name": "ipython",
    "version": 3
   },
   "file_extension": ".py",
   "mimetype": "text/x-python",
   "name": "python",
   "nbconvert_exporter": "python",
   "pygments_lexer": "ipython3",
   "version": "3.7.3"
  }
 },
 "nbformat": 4,
 "nbformat_minor": 5
}
