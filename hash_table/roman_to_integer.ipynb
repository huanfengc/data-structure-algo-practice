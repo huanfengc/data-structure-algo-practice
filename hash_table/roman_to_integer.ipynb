{
 "cells": [
  {
   "cell_type": "markdown",
   "id": "e3653e3b",
   "metadata": {},
   "source": [
    "## Roman to Integer [problem](https://leetcode.com/problems/roman-to-integer/)\n",
    "\n",
    "Roman numerals are represented by seven different symbols: ```I```, ```V```, ```X```, ```L```, ```C```, ```D``` and ```M```.\n",
    "\n",
    "Symbol       Value\n",
    "I             1\n",
    "V             5\n",
    "X             10\n",
    "L             50\n",
    "C             100\n",
    "D             500\n",
    "M             1000\n",
    "\n",
    "\n",
    "For example, ```2``` is written as ```II``` in Roman numeral, just two one's added together. ```12``` is written as ```XII```, which is simply ```X + II```. The number ```27``` is written as ```XXVII```, which is ```XX + V + II```.\n",
    "\n",
    "Roman numerals are usually written largest to smallest from left to right. However, the numeral for four is not ```IIII```. Instead, the number four is written as ```IV```. Because the one is before the five we subtract it making four. The same principle applies to the number nine, which is written as IX. There are six instances where subtraction is used:\n",
    "\n",
    "```I``` can be placed before ```V``` (5) and ```X``` (10) to make 4 and 9. \n",
    "```X``` can be placed before ```L``` (50) and ```C``` (100) to make 40 and 90. \n",
    "```C``` can be placed before ```D``` (500) and ```M``` (1000) to make 400 and 900.\n",
    "\n",
    "Given a roman numeral, convert it to an integer.\n",
    "\n",
    "Constraints:\n",
    "\n",
    "* ```1 <= s.length <= 15```\n",
    "* ```s``` contains only the characters ('```I```', '```V```', '```X```', '```L```', '```C```', '```D```', '```M```').\n",
    "* It is guaranteed that ```s``` is a valid roman numeral in the range ```[1, 3999]```.\n"
   ]
  },
  {
   "cell_type": "markdown",
   "id": "98432f48",
   "metadata": {},
   "source": [
    "time complexity: $O(1)$, space complexity: $O(1)$, since 'everything' is 'finite'."
   ]
  },
  {
   "cell_type": "code",
   "execution_count": 1,
   "id": "d9e40279",
   "metadata": {},
   "outputs": [],
   "source": [
    "def romanToInt(self, s: str) -> int:\n",
    "        \n",
    "    hashmap = {\"I\":1,\"V\":5,\"X\":10,\"L\":50,\"C\":100,\"D\":500,\"M\":1000}\n",
    "    result = 0\n",
    "    prev = 'M'\n",
    "\n",
    "\n",
    "    for curr in s:\n",
    "        if hashmap[curr] <= hashmap[prev]:\n",
    "            result = result + hashmap[curr]\n",
    "        else:\n",
    "            result = result - 2 * hashmap[prev] + hashmap[curr]\n",
    "        prev = curr\n",
    "    return result"
   ]
  }
 ],
 "metadata": {
  "kernelspec": {
   "display_name": "Python 3 (ipykernel)",
   "language": "python",
   "name": "python3"
  },
  "language_info": {
   "codemirror_mode": {
    "name": "ipython",
    "version": 3
   },
   "file_extension": ".py",
   "mimetype": "text/x-python",
   "name": "python",
   "nbconvert_exporter": "python",
   "pygments_lexer": "ipython3",
   "version": "3.7.3"
  }
 },
 "nbformat": 4,
 "nbformat_minor": 5
}
