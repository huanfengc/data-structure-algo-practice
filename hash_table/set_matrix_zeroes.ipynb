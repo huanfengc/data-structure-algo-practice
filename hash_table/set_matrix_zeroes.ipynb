{
 "cells": [
  {
   "cell_type": "markdown",
   "id": "326d9640",
   "metadata": {},
   "source": [
    "## Set Matrix Zeroes [problem](https://leetcode.com/problems/set-matrix-zeroes/)\n",
    "\n",
    "Given an ```m x n``` integer matrix matrix, if an element is ```0```, set its entire row and column to ```0```'s.\n",
    "\n",
    "You must do it **in place**.\n",
    "\n",
    "**Constraints:**\n",
    "\n",
    "* ```m == matrix.length```\n",
    "* ```n == matrix[0].length```\n",
    "* ```1 <= m, n <= 200```\n",
    "* ```-2^31 <= matrix[i][j] <= 2^31 - 1```\n",
    "\n",
    " \n",
    "\n",
    "**Follow up:**\n",
    "\n",
    "* A straightforward solution using $O(M\\times N)$ space is probably a bad idea.\n",
    "* A simple improvement uses $O(M+N)$ space, but still not the best solution.\n",
    "* **Could you devise a constant $O(1)$ space solution?**"
   ]
  },
  {
   "cell_type": "markdown",
   "id": "224c3cbc",
   "metadata": {},
   "source": [
    "### 1. Hash Table (defaultdict(set))\n",
    "time complexity: $O(M\\times N)$, space complexity: $O(M+N)$."
   ]
  },
  {
   "cell_type": "code",
   "execution_count": 1,
   "id": "311a1f62",
   "metadata": {},
   "outputs": [],
   "source": [
    "def setZeroes(self, matrix):\n",
    "    \"\"\"\n",
    "    Do not return anything, modify matrix in-place instead.\n",
    "    \"\"\"\n",
    "\n",
    "    hashmap = defaultdict(set)\n",
    "\n",
    "    for i in range(len(matrix)):\n",
    "        for j in range(len(matrix[i])):\n",
    "            if matrix[i][j] == 0:\n",
    "                hashmap['rows'].add(i)\n",
    "                hashmap['columns'].add(j)\n",
    "\n",
    "    for row in hashmap['rows']:\n",
    "        for j in range(len(matrix[i])):\n",
    "            matrix[row][j] = 0\n",
    "\n",
    "    for column in hashmap['columns']:\n",
    "        for i in range(len(matrix)):\n",
    "            matrix[i][column] = 0"
   ]
  },
  {
   "cell_type": "markdown",
   "id": "a57c0183",
   "metadata": {},
   "source": [
    "### 2.  (have not tried)\n",
    "time complexity: $O(M\\times N)$, space complexity: $O(1)$."
   ]
  }
 ],
 "metadata": {
  "kernelspec": {
   "display_name": "Python 3 (ipykernel)",
   "language": "python",
   "name": "python3"
  },
  "language_info": {
   "codemirror_mode": {
    "name": "ipython",
    "version": 3
   },
   "file_extension": ".py",
   "mimetype": "text/x-python",
   "name": "python",
   "nbconvert_exporter": "python",
   "pygments_lexer": "ipython3",
   "version": "3.7.3"
  }
 },
 "nbformat": 4,
 "nbformat_minor": 5
}
