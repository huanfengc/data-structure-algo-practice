{
 "cells": [
  {
   "cell_type": "markdown",
   "id": "5ff1bf95",
   "metadata": {},
   "source": [
    "##  Subarray Sum Equals K [problem](https://leetcode.com/problems/subarray-sum-equals-k/)\n",
    "\n",
    "Given an array of integers ```nums``` and an integer ```k```, return the total number of subarrays whose sum equals to ```k```.\n",
    "\n",
    "**Constraints:**\n",
    "\n",
    "* ```1 <= nums.length <= 2 * 10^4```\n",
    "* ```-1000 <= nums[i] <= 1000```\n",
    "* ```-10^7 <= k <= 10^7```"
   ]
  },
  {
   "cell_type": "markdown",
   "id": "17856b2e",
   "metadata": {},
   "source": [
    "### 1. Hash Table\n",
    "time complexity: $O(N)$; space complexity: $O(N)$, for $N$ different ```sum```."
   ]
  },
  {
   "cell_type": "code",
   "execution_count": 1,
   "id": "4a364063",
   "metadata": {},
   "outputs": [],
   "source": [
    "def subarraySum(nums: list, k: int) -> int:\n",
    "\n",
    "    sum = count = 0\n",
    "    hashmap = defaultdict(int)\n",
    "    hashmap[0] = 1\n",
    "\n",
    "    for num in nums:\n",
    "        sum += num\n",
    "        # first check if subarray exists\n",
    "        if sum - k in hashmap:\n",
    "            count += hashmap[sum-k]\n",
    "        # then add new key or increment value\n",
    "        hashmap[sum] += 1\n",
    "    return count"
   ]
  }
 ],
 "metadata": {
  "kernelspec": {
   "display_name": "Python 3 (ipykernel)",
   "language": "python",
   "name": "python3"
  },
  "language_info": {
   "codemirror_mode": {
    "name": "ipython",
    "version": 3
   },
   "file_extension": ".py",
   "mimetype": "text/x-python",
   "name": "python",
   "nbconvert_exporter": "python",
   "pygments_lexer": "ipython3",
   "version": "3.7.3"
  }
 },
 "nbformat": 4,
 "nbformat_minor": 5
}
