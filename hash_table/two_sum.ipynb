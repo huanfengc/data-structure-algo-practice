{
 "cells": [
  {
   "cell_type": "markdown",
   "id": "0de9d7a4",
   "metadata": {},
   "source": [
    "## Two Sum [problem](https://leetcode.com/problems/two-sum/)\n",
    "\n",
    "Given an array of integers ```nums``` and an integer ```target```, return ```indices``` of the two numbers such that they add up to ```target```. You may assume that each input would have exactly one solution, and you may not use the same element twice. You can return the answer in any order.\n",
    "\n",
    "### 1. Hash Table (one pass)\n",
    "Use Hash table to store the mappings, need extra space but gain linear time for looking up the key given value.\\\n",
    "time complexity: $O(N)$, space complexity: $O(N)$."
   ]
  },
  {
   "cell_type": "code",
   "execution_count": 1,
   "id": "eb583deb",
   "metadata": {},
   "outputs": [],
   "source": [
    "def twoSum1(nums, target): # Hash table\n",
    "    hashmap = {}\n",
    "    \n",
    "    for i in range(len(nums)):\n",
    "        comp = targ - nums[i]\n",
    "        if comp in hashmap:\n",
    "            return [i,hashmap[comp]]\n",
    "        hashmap[nums[i]] = i"
   ]
  },
  {
   "cell_type": "markdown",
   "id": "4acdf8d1",
   "metadata": {},
   "source": [
    "### 2. Sorting and Two pointers"
   ]
  },
  {
   "cell_type": "code",
   "execution_count": null,
   "id": "2065eca9",
   "metadata": {},
   "outputs": [],
   "source": []
  },
  {
   "cell_type": "markdown",
   "id": "cac5f45e",
   "metadata": {},
   "source": [
    "### 3. Brute Force\n",
    "Check all the integer pairs in the given array. \n",
    "\n",
    "time complexity:  $O(n^2)$, space complexity: $O(1)$"
   ]
  },
  {
   "cell_type": "code",
   "execution_count": 2,
   "id": "139487f5",
   "metadata": {},
   "outputs": [],
   "source": [
    "def twoSum3(nums,target): # check all the pairs of given array (brute force)\n",
    "    \n",
    "    for i in range(len(nums)-1):\n",
    "        for j in range(i+1,len(nums)):\n",
    "            if nums[i] + nums[j] == target:\n",
    "                return [i,j]"
   ]
  },
  {
   "cell_type": "code",
   "execution_count": null,
   "id": "8e4dea31",
   "metadata": {},
   "outputs": [],
   "source": []
  }
 ],
 "metadata": {
  "kernelspec": {
   "display_name": "Python 3 (ipykernel)",
   "language": "python",
   "name": "python3"
  },
  "language_info": {
   "codemirror_mode": {
    "name": "ipython",
    "version": 3
   },
   "file_extension": ".py",
   "mimetype": "text/x-python",
   "name": "python",
   "nbconvert_exporter": "python",
   "pygments_lexer": "ipython3",
   "version": "3.7.3"
  }
 },
 "nbformat": 4,
 "nbformat_minor": 5
}
