{
 "cells": [
  {
   "cell_type": "markdown",
   "id": "855ced5c",
   "metadata": {},
   "source": [
    "## Unique Number of Occurrences [problem](https://leetcode.com/problems/unique-number-of-occurrences/)\n",
    "\n",
    "Given an array of integers ```arr```, return ```true``` if the number of occurrences of each value in the array is unique, or ```false``` otherwise.\n",
    "\n",
    "**Constraints:**\n",
    "\n",
    "* ```1 <= arr.length <= 1000```\n",
    "* ```-1000 <= arr[i] <= 1000```"
   ]
  },
  {
   "cell_type": "markdown",
   "id": "1b24af13",
   "metadata": {},
   "source": [
    "### 1. Hash Table and Set\n",
    "time complexity: $O(N)$, space comlexity: $O(N)$."
   ]
  },
  {
   "cell_type": "code",
   "execution_count": 1,
   "id": "d1bbadba",
   "metadata": {},
   "outputs": [],
   "source": [
    "def uniqueOccurrences(self, arr):\n",
    "        \n",
    "    hashmap = {}        \n",
    "    for num in arr:\n",
    "            if num not in hashmap:\n",
    "                hashmap[num] = 1\n",
    "            else:\n",
    "                hashmap[num] += 1\n",
    "    hashset = set(hashmap.values())\n",
    "\n",
    "    return len(hashmap) == len(hashset)"
   ]
  },
  {
   "cell_type": "markdown",
   "id": "5f1ec6e4",
   "metadata": {},
   "source": [
    "A shorter version using ```defaultdic(int)```."
   ]
  },
  {
   "cell_type": "code",
   "execution_count": 2,
   "id": "85ec50f9",
   "metadata": {},
   "outputs": [],
   "source": [
    "def uniqueOccurrences(self, arr):\n",
    "        \n",
    "    hashmap = defaultdict(int)        \n",
    "    for num in arr:\n",
    "        hashmap[num] += 1\n",
    "    hashset = set(hashmap.values())\n",
    "\n",
    "    return len(hashmap) == len(hashset)"
   ]
  }
 ],
 "metadata": {
  "kernelspec": {
   "display_name": "Python 3 (ipykernel)",
   "language": "python",
   "name": "python3"
  },
  "language_info": {
   "codemirror_mode": {
    "name": "ipython",
    "version": 3
   },
   "file_extension": ".py",
   "mimetype": "text/x-python",
   "name": "python",
   "nbconvert_exporter": "python",
   "pygments_lexer": "ipython3",
   "version": "3.7.3"
  }
 },
 "nbformat": 4,
 "nbformat_minor": 5
}
