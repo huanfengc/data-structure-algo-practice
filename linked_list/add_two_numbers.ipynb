{
 "cells": [
  {
   "cell_type": "markdown",
   "id": "7eeaf855",
   "metadata": {},
   "source": [
    "## Add Two Numbers [problem](https://leetcode.com/problems/add-two-numbers/)\n",
    "\n",
    "You are given two non-empty linked lists representing two non-negative integers. The digits are stored in reverse order, and each of their nodes contains a single digit. Add the two numbers and return the sum as a linked list.\n",
    "\n",
    "You may assume the two numbers do not contain any leading zero, except the number 0 itself.\n",
    "\n",
    "Constraints:\n",
    "\n",
    "* The number of nodes in each linked list is in the range ```[1, 100]```.\n",
    "* ```0 <= Node.val <= 9```\n",
    "* It is guaranteed that the list represents a number that does not have leading zeros."
   ]
  },
  {
   "cell_type": "markdown",
   "id": "e5db678c",
   "metadata": {},
   "source": []
  },
  {
   "cell_type": "code",
   "execution_count": 1,
   "id": "a392469b",
   "metadata": {},
   "outputs": [],
   "source": [
    "def addTwoNumbers(l1, l2):\n",
    "        \n",
    "    current = ListNode()\n",
    "    dummy = current\n",
    "    carry = 0\n",
    "    a = l1\n",
    "    b = l2\n",
    "\n",
    "    while a or b:\n",
    "        x = a.val if a else 0\n",
    "        y = b.val if b else 0\n",
    "        z = x + y + carry\n",
    "        if z < 10:\n",
    "            current.val = z\n",
    "            carry = 0\n",
    "        else:\n",
    "            current.val = z - 10\n",
    "            carry = 1\n",
    "        if a:\n",
    "            a = a.next\n",
    "        if b:\n",
    "            b = b.next\n",
    "        newnode = ListNode()\n",
    "        if not (a or b):\n",
    "            if carry == 1:\n",
    "                newnode.val = 1\n",
    "                current.next = newnode\n",
    "            else:\n",
    "                break\n",
    "        else:\n",
    "            current.next = newnode\n",
    "            current = current.next\n",
    "\n",
    "    return dummy"
   ]
  }
 ],
 "metadata": {
  "kernelspec": {
   "display_name": "Python 3 (ipykernel)",
   "language": "python",
   "name": "python3"
  },
  "language_info": {
   "codemirror_mode": {
    "name": "ipython",
    "version": 3
   },
   "file_extension": ".py",
   "mimetype": "text/x-python",
   "name": "python",
   "nbconvert_exporter": "python",
   "pygments_lexer": "ipython3",
   "version": "3.7.3"
  }
 },
 "nbformat": 4,
 "nbformat_minor": 5
}
