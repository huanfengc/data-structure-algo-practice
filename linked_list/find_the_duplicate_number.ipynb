{
 "cells": [
  {
   "cell_type": "markdown",
   "id": "d3a73bba",
   "metadata": {},
   "source": [
    "## 287. Find the Duplicate Number [problem](https://leetcode.com/problems/find-the-duplicate-number/)\n",
    "\n",
    "Given an array of integers ```nums``` containing ```n + 1``` integers where each integer is in the range ```[1, n]``` inclusive.\n",
    "\n",
    "There is only one repeated number in ```nums```, return this repeated number.\n",
    "\n",
    "You must solve the problem without modifying the array ```nums``` and uses only constant extra space.\n",
    "\n",
    "---\n",
    "\n",
    "**Constraints:**\n",
    "\n",
    "* ```1 <= n <= 10^5```\n",
    "* ```nums.length == n + 1```\n",
    "* ```1 <= nums[i] <= n```\n",
    "* All the integers in ```nums``` appear only once except for precisely one integer which appears two or more times.\n",
    "\n",
    "--- \n",
    "\n",
    "**Follow up:**\n",
    "\n",
    "* How can we prove that at least one duplicate number must exist in ```nums```?\n",
    "* Can you solve the problem in linear runtime complexity?"
   ]
  },
  {
   "cell_type": "markdown",
   "id": "54bf5553",
   "metadata": {},
   "source": [
    "### 1. Cycle detection (like the common problem on linked list, Floyd's algorithm)\n",
    "* Time complexity: $O(N)$\n",
    "* Space complexity: $O(1)$"
   ]
  },
  {
   "cell_type": "code",
   "execution_count": 1,
   "id": "d0c65f3d",
   "metadata": {},
   "outputs": [],
   "source": [
    "from typing import List\n",
    "\n",
    "class Solution1:\n",
    "    def findDuplicate(self, nums: List[int]) -> int:\n",
    "        \"\"\"\n",
    "        Args:\n",
    "            nums: an integer array\n",
    "        \n",
    "        Return:\n",
    "            the repeated integer\n",
    "        \"\"\"\n",
    "        \n",
    "        fast = slow = nums[0]\n",
    "        while True:\n",
    "            slow = nums[slow]\n",
    "            fast = nums[nums[fast]]\n",
    "            if fast == slow:\n",
    "                break\n",
    "        \n",
    "        slow = nums[0]\n",
    "        while fast != slow:\n",
    "            slow = nums[slow]\n",
    "            fast = nums[fast]\n",
    "        return slow"
   ]
  },
  {
   "cell_type": "markdown",
   "id": "40a1e154",
   "metadata": {},
   "source": [
    "### 2. Use set\n",
    "* Time complexity: $O(N)$\n",
    "* Space complexity: $O(N)$"
   ]
  },
  {
   "cell_type": "code",
   "execution_count": 2,
   "id": "2cd215cd",
   "metadata": {},
   "outputs": [],
   "source": [
    "class Solution2:\n",
    "    def findDuplicate(self, nums: List[int]) -> int:\n",
    "        \n",
    "        hashset = set()\n",
    "        for num in nums:\n",
    "            if num in hashset:\n",
    "                return num\n",
    "            else:\n",
    "                hashset.add(num)"
   ]
  },
  {
   "cell_type": "markdown",
   "id": "ed637a09",
   "metadata": {},
   "source": [
    "### 3. Negative marking\n",
    "* Time complexity: $O(N)$\n",
    "* Space complexity: $O(1)$"
   ]
  },
  {
   "cell_type": "markdown",
   "id": "bc8666c5",
   "metadata": {},
   "source": [
    "### 4. Binary search\n",
    "* Time complexity: $O(NlogN)$\n",
    "* Space complexity: $O(1)$"
   ]
  }
 ],
 "metadata": {
  "kernelspec": {
   "display_name": "Python 3 (ipykernel)",
   "language": "python",
   "name": "python3"
  },
  "language_info": {
   "codemirror_mode": {
    "name": "ipython",
    "version": 3
   },
   "file_extension": ".py",
   "mimetype": "text/x-python",
   "name": "python",
   "nbconvert_exporter": "python",
   "pygments_lexer": "ipython3",
   "version": "3.7.3"
  }
 },
 "nbformat": 4,
 "nbformat_minor": 5
}
