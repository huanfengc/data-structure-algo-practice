{
 "cells": [
  {
   "cell_type": "markdown",
   "id": "799722de",
   "metadata": {},
   "source": [
    "## 114. Flatten Binary Tree to Linked List [problem](https://leetcode.com/problems/flatten-binary-tree-to-linked-list/)\n",
    "\n",
    "Given the ```root``` of a binary tree, flatten the tree into a \"linked list\":\n",
    "\n",
    "* The \"linked list\" should use the same ```TreeNode``` class where the right child pointer points to the next node in the list and the left child pointer is always ```null```.\n",
    "* The \"linked list\" should be in the same order as a **pre-order** traversal of the binary tree.\n",
    "\n",
    "---\n",
    "\n",
    "**Constraints:**\n",
    "\n",
    "* The number of nodes in the tree is in the range ```[0, 2000]```.\n",
    "* ```-100 <= Node.val <= 100```"
   ]
  },
  {
   "cell_type": "markdown",
   "id": "bde1e0c8",
   "metadata": {},
   "source": [
    "### 1. Recursion (similar to preorder traversal, but not exactly)\n",
    "* Time complexity: $O(N)$, $N$ is the number of nodes in the binary tree.\n",
    "* Space complexity: $O(N)$ for call stack in the worst case."
   ]
  },
  {
   "cell_type": "code",
   "execution_count": 1,
   "id": "e3569501",
   "metadata": {},
   "outputs": [],
   "source": [
    "from typing import Optional\n",
    "\n",
    "# Definition for a binary tree node.\n",
    "class TreeNode:\n",
    "    def __init__(self, val=0, left=None, right=None):\n",
    "        self.val = val\n",
    "        self.left = left\n",
    "        self.right = right\n",
    "        \n",
    "        \n",
    "class Solution:\n",
    "    def flatten(self, root: Optional[TreeNode]) -> None:\n",
    "        \"\"\"\n",
    "        Do not return anything, modify root in-place instead.\n",
    "        \"\"\"\n",
    "        \n",
    "        def flattenSubtree(node):\n",
    "            if not node:\n",
    "                return None\n",
    "            if not (node.left or node.right):\n",
    "                return node\n",
    "            \n",
    "            left_tail = flattenSubtree(node.left)\n",
    "            right_tail = flattenSubtree(node.right)\n",
    "            \n",
    "            if left_tail:\n",
    "                left_tail.right = node.right\n",
    "                node.right = node.left\n",
    "                node.left = None\n",
    "            \n",
    "            return right_tail if right_tail else left_tail\n",
    "        \n",
    "        \n",
    "        flattenSubtree(root)"
   ]
  }
 ],
 "metadata": {
  "kernelspec": {
   "display_name": "Python 3 (ipykernel)",
   "language": "python",
   "name": "python3"
  },
  "language_info": {
   "codemirror_mode": {
    "name": "ipython",
    "version": 3
   },
   "file_extension": ".py",
   "mimetype": "text/x-python",
   "name": "python",
   "nbconvert_exporter": "python",
   "pygments_lexer": "ipython3",
   "version": "3.7.3"
  }
 },
 "nbformat": 4,
 "nbformat_minor": 5
}
