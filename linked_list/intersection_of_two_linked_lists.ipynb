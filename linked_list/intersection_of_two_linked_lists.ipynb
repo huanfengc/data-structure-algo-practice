{
 "cells": [
  {
   "cell_type": "markdown",
   "id": "5fb23725",
   "metadata": {},
   "source": [
    "## Intersection of Two Linked Lists [problem](https://leetcode.com/problems/intersection-of-two-linked-lists/)\n",
    "\n",
    "Given the heads of two singly linked-lists ```headA``` and ```headB```, return the node at which the two lists intersect. If the two linked lists have no intersection at all, return ```null```.\n",
    "\n",
    "Constraints:\n",
    "* The number of nodes of listA is in the m.\n",
    "* The number of nodes of listB is in the n.\n",
    "* 1 <= m, n <= 3 * 104\n",
    "* 1 <= Node.val <= 105\n",
    "* 0 <= skipA < m\n",
    "* 0 <= skipB < n\n",
    "* intersectVal is 0 if listA and listB do not intersect.\n",
    "* intersectVal == listA[skipA] == listB[skipB] if listA and listB intersect.\n",
    "\n",
    " \n",
    "Follow up: Could you write a solution that runs in $O(m + n)$ time and use only $O(1)$ memory?"
   ]
  },
  {
   "cell_type": "markdown",
   "id": "5e376d5b",
   "metadata": {},
   "source": [
    "### 1. Use Hash Table\n",
    "\n",
    "time complexity: $O(M+N)$, space complexity: $O(N)$, assuming length of listA and listB be $M$ and $N$."
   ]
  },
  {
   "cell_type": "code",
   "execution_count": 1,
   "id": "2af07715",
   "metadata": {},
   "outputs": [],
   "source": [
    "def getIntersectionNode1(self, headA, headB):\n",
    "    hashB = {}\n",
    "    while headB:\n",
    "        hashB[headB] = True\n",
    "        headB = headB.next\n",
    "    while headA:\n",
    "        if headA in hashB:\n",
    "            return headA\n",
    "        headA = headA.next\n",
    "    return None"
   ]
  },
  {
   "cell_type": "markdown",
   "id": "f1dc5905",
   "metadata": {},
   "source": [
    "### 2. Two Pointers\n",
    "\n",
    "time complexity: $O(M+N)$, space complexity: $O(1)$."
   ]
  },
  {
   "cell_type": "code",
   "execution_count": 2,
   "id": "61cc7f15",
   "metadata": {},
   "outputs": [],
   "source": [
    "def getIntersectionNode2(headA, headB):\n",
    "        p1 = headA\n",
    "        p2 = headB\n",
    "        \n",
    "        while p1 != p2:\n",
    "            p1 = p1.next if p1 else headB\n",
    "            p2 = p2.next if p2 else headA\n",
    "        return p1"
   ]
  }
 ],
 "metadata": {
  "kernelspec": {
   "display_name": "Python 3 (ipykernel)",
   "language": "python",
   "name": "python3"
  },
  "language_info": {
   "codemirror_mode": {
    "name": "ipython",
    "version": 3
   },
   "file_extension": ".py",
   "mimetype": "text/x-python",
   "name": "python",
   "nbconvert_exporter": "python",
   "pygments_lexer": "ipython3",
   "version": "3.7.3"
  }
 },
 "nbformat": 4,
 "nbformat_minor": 5
}
