{
 "cells": [
  {
   "cell_type": "markdown",
   "id": "992069a3",
   "metadata": {},
   "source": [
    "## Linked List Implementation in Python\n",
    "\n",
    "### Singlely-Linked List (SLList)"
   ]
  },
  {
   "cell_type": "code",
   "execution_count": 1,
   "id": "888ffff8",
   "metadata": {},
   "outputs": [],
   "source": [
    "# node class\n",
    "class Node:\n",
    "    def __init__(self,data,next=None):\n",
    "        self.data = data\n",
    "        self.next = next\n",
    "        \n",
    "    def __str__(self):\n",
    "        return str(self.data)\n",
    "\n",
    "    \n",
    "    \n",
    "# singly-linked list class\n",
    "class SLList:\n",
    "    def __init__(self):\n",
    "        self.head = None\n",
    "        self.size = 0\n",
    "        \n",
    "    def print_list(self):\n",
    "        current = self.head\n",
    "        if current == None:\n",
    "            print(\"It is an empty list!\")\n",
    "        while current:\n",
    "            print(current)\n",
    "            current = current.next\n",
    "        \n",
    "    def add_first(self,new_node):\n",
    "#        if self.head == None:\n",
    "#            self.head = Node(new_node)\n",
    "#        else:\n",
    "        old_head = self.head\n",
    "        self.head = Node(new_node)\n",
    "        self.head.next = old_head\n",
    "        self.size += 1\n",
    "        \n",
    "    def drop_first(self):\n",
    "        if self.head != None:\n",
    "            self.head = self.head.next\n",
    "            self.size -= 1\n",
    "        else:\n",
    "            print(\"It is an empty list, nothing to be dropped!\")\n"
   ]
  },
  {
   "cell_type": "code",
   "execution_count": 2,
   "id": "83a6a1ed",
   "metadata": {},
   "outputs": [
    {
     "name": "stdout",
     "output_type": "stream",
     "text": [
      "Node class and SLList class are available.\n"
     ]
    }
   ],
   "source": [
    "print(\"Node class and SLList class are available.\")"
   ]
  }
 ],
 "metadata": {
  "kernelspec": {
   "display_name": "Python 3 (ipykernel)",
   "language": "python",
   "name": "python3"
  },
  "language_info": {
   "codemirror_mode": {
    "name": "ipython",
    "version": 3
   },
   "file_extension": ".py",
   "mimetype": "text/x-python",
   "name": "python",
   "nbconvert_exporter": "python",
   "pygments_lexer": "ipython3",
   "version": "3.7.3"
  }
 },
 "nbformat": 4,
 "nbformat_minor": 5
}
