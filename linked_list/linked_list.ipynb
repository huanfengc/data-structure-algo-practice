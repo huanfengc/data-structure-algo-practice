{
 "cells": [
  {
   "cell_type": "markdown",
   "id": "992069a3",
   "metadata": {},
   "source": [
    "## Linked List Implementation in Python\n",
    "\n",
    "### Singlely-Linked List (SLList)"
   ]
  },
  {
   "cell_type": "code",
   "execution_count": 1,
   "id": "888ffff8",
   "metadata": {},
   "outputs": [],
   "source": [
    "# Node class\n",
    "class Node:\n",
    "    def __init__(self,data):\n",
    "        self.data = data\n",
    "        self.next = None\n",
    "        \n",
    "# Singly linked list\n",
    "class SLList:\n",
    "    def __init__(self):\n",
    "        self.head = None\n",
    "        self.size = 0\n",
    "        \n",
    "    def print_list(self):\n",
    "        content = []\n",
    "        current = self.head\n",
    "        while current:\n",
    "            content.append(current.data)\n",
    "            current = current.next\n",
    "        return content\n",
    "    \n",
    "    def prepend(self,new_node):\n",
    "        new_node.next = self.head\n",
    "        self.head = new_node\n",
    "        \n",
    "    def append(self,new_node):\n",
    "        if self.head == None:\n",
    "            self.head = new_node\n",
    "            new_node.next = None          \n",
    "        current = self.head\n",
    "        while current.next:\n",
    "            current = current.next\n",
    "        current.next = new_node\n",
    "        new_node.next = None\n",
    "        \n",
    "        \n"
   ]
  },
  {
   "cell_type": "code",
   "execution_count": 2,
   "id": "83a6a1ed",
   "metadata": {},
   "outputs": [
    {
     "name": "stdout",
     "output_type": "stream",
     "text": [
      "Node class and SLList class are available.\n"
     ]
    }
   ],
   "source": [
    "print(\"Node class and SLList class are available.\")"
   ]
  },
  {
   "cell_type": "markdown",
   "id": "ff9a4047",
   "metadata": {},
   "source": [
    "n1 = Node(1)\n",
    "n2 = Node(2)\n",
    "n3 = Node(3)\n",
    "n1.next = n2\n",
    "n2.next = n3\n",
    "l = SLList()\n",
    "l.head = n1\n",
    "l.print_list()"
   ]
  },
  {
   "cell_type": "markdown",
   "id": "62e32f0f",
   "metadata": {},
   "source": [
    "l.prepend(Node(10))"
   ]
  },
  {
   "cell_type": "markdown",
   "id": "7107ae3a",
   "metadata": {},
   "source": [
    "l.print_list()"
   ]
  },
  {
   "cell_type": "markdown",
   "id": "c900fd4e",
   "metadata": {},
   "source": [
    "l.append(Node(7))"
   ]
  },
  {
   "cell_type": "markdown",
   "id": "7e795230",
   "metadata": {},
   "source": [
    "l.print_list()"
   ]
  },
  {
   "cell_type": "code",
   "execution_count": 3,
   "id": "4429bffd",
   "metadata": {},
   "outputs": [],
   "source": [
    "#n = Node(None)\n",
    "l = SLList()\n",
    "#l.head = n"
   ]
  },
  {
   "cell_type": "code",
   "execution_count": 4,
   "id": "57f881e5",
   "metadata": {},
   "outputs": [
    {
     "data": {
      "text/plain": [
       "[]"
      ]
     },
     "execution_count": 4,
     "metadata": {},
     "output_type": "execute_result"
    }
   ],
   "source": [
    "l.print_list()"
   ]
  },
  {
   "cell_type": "code",
   "execution_count": 5,
   "id": "c13cacac",
   "metadata": {},
   "outputs": [],
   "source": [
    "l.prepend(Node(100))"
   ]
  },
  {
   "cell_type": "code",
   "execution_count": 6,
   "id": "a43643ba",
   "metadata": {},
   "outputs": [
    {
     "data": {
      "text/plain": [
       "[100]"
      ]
     },
     "execution_count": 6,
     "metadata": {},
     "output_type": "execute_result"
    }
   ],
   "source": [
    "l.print_list()"
   ]
  },
  {
   "cell_type": "code",
   "execution_count": null,
   "id": "6d9cb0f6",
   "metadata": {},
   "outputs": [],
   "source": []
  }
 ],
 "metadata": {
  "kernelspec": {
   "display_name": "Python 3 (ipykernel)",
   "language": "python",
   "name": "python3"
  },
  "language_info": {
   "codemirror_mode": {
    "name": "ipython",
    "version": 3
   },
   "file_extension": ".py",
   "mimetype": "text/x-python",
   "name": "python",
   "nbconvert_exporter": "python",
   "pygments_lexer": "ipython3",
   "version": "3.7.3"
  }
 },
 "nbformat": 4,
 "nbformat_minor": 5
}
