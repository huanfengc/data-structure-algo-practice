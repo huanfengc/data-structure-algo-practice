{
 "cells": [
  {
   "cell_type": "markdown",
   "id": "2aec165d",
   "metadata": {},
   "source": [
    "## Linked List Cycle [Problem](https://leetcode.com/problems/linked-list-cycle/)\n",
    "\n",
    "Given ```head```, the ```head``` of a linked list, determine if the linked list has a cycle in it.\n",
    "\n",
    "There is a cycle in a linked list if there is some node in the list that can be reached again by continuously following the ```next``` pointer. Internally, ```pos``` is used to denote the index of the node that tail's ```next``` pointer is connected to. Note that ```pos``` is not passed as a parameter.\n",
    "\n",
    "Return ```true``` if there is a cycle in the linked list. Otherwise, return ```false```.\n",
    "\n",
    "Constraints:\n",
    "\n",
    "* The number of the nodes in the list is in the range [0, 104].\n",
    "* -105 <= Node.val <= 105\n",
    "* pos is -1 or a valid index in the linked-list.\n",
    "\n",
    "Follow up: Can you solve it using O(1) (i.e. constant) memory?\n",
    "\n",
    "### 1. Hash Table\n",
    "time complexity: $O(N)$, space complexity: $O(N)$."
   ]
  },
  {
   "cell_type": "code",
   "execution_count": 1,
   "id": "504083e8",
   "metadata": {},
   "outputs": [],
   "source": [
    "def hasCycle1(head):\n",
    "    hashmap = {}\n",
    "    curr = head\n",
    "\n",
    "    if head is None or head.next is None:\n",
    "        return False\n",
    "\n",
    "    while curr.next:\n",
    "        if curr in hashmap:\n",
    "            return True\n",
    "        else:\n",
    "            hashmap[curr] = True\n",
    "            curr = curr.next\n",
    "    return False"
   ]
  },
  {
   "cell_type": "markdown",
   "id": "a93343fa",
   "metadata": {},
   "source": [
    "### 2. Two Pointers\n",
    "time complexity: $O(N)$, space complexity: $O(1)$."
   ]
  },
  {
   "cell_type": "code",
   "execution_count": 2,
   "id": "d95d4abe",
   "metadata": {},
   "outputs": [],
   "source": [
    "def hasCycle2(head):\n",
    "    fast = head\n",
    "    slow = head        \n",
    "    if head is None:\n",
    "        return False\n",
    "    \n",
    "    while fast and fast.next:\n",
    "        slow = slow.next\n",
    "        fast = fast.next.next\n",
    "        if slow == fast:\n",
    "            return True\n",
    "        \n",
    "    return False"
   ]
  }
 ],
 "metadata": {
  "kernelspec": {
   "display_name": "Python 3 (ipykernel)",
   "language": "python",
   "name": "python3"
  },
  "language_info": {
   "codemirror_mode": {
    "name": "ipython",
    "version": 3
   },
   "file_extension": ".py",
   "mimetype": "text/x-python",
   "name": "python",
   "nbconvert_exporter": "python",
   "pygments_lexer": "ipython3",
   "version": "3.7.3"
  }
 },
 "nbformat": 4,
 "nbformat_minor": 5
}
