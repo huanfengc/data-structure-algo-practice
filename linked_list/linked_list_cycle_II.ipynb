{
 "cells": [
  {
   "cell_type": "markdown",
   "id": "d9379020",
   "metadata": {},
   "source": [
    "## 142. Linked List Cycle II [problem](https://leetcode.com/problems/linked-list-cycle-ii/)\n",
    "\n",
    "Given the ```head``` of a linked list, return the node where the cycle begins. If there is no cycle, return ```null```.\n",
    "\n",
    "There is a cycle in a linked list if there is some node in the list that can be reached again by continuously following the ```next``` pointer. Internally, ```pos``` is used to denote the index of the node that tail's ```next``` pointer is connected to **(0-indexed)**. It is ```-1``` if there is no cycle. Note that ```pos``` is not passed as a parameter.\n",
    "\n",
    "**Do not modify the linked list.**\n",
    "\n",
    "---\n",
    "\n",
    "**Constraints:**\n",
    "\n",
    "* The number of the nodes in the list is in the range ```[0, 104]```.\n",
    "* ```-10^5 <= Node.val <= 10^5```\n",
    "* ```pos``` is ```-1``` or a valid index in the linked-list.\n",
    "\n",
    "---\n",
    "\n",
    "**Follow up: Can you solve it using O(1) (i.e. constant) memory?**"
   ]
  },
  {
   "cell_type": "markdown",
   "id": "018f9f3c",
   "metadata": {},
   "source": [
    "### 1. One pass and Hash set/map\n",
    "* Time complexity: $O(N)$\n",
    "* Space complexity: $O(N)$"
   ]
  },
  {
   "cell_type": "code",
   "execution_count": 1,
   "id": "ce839f50",
   "metadata": {},
   "outputs": [],
   "source": [
    "from typing import Optional\n",
    "\n",
    "# Definition for singly-linked list.\n",
    "class ListNode:\n",
    "    def __init__(self, x):\n",
    "        self.val = x\n",
    "        self.next = None\n",
    "\n",
    "        \n",
    "class Solution1:\n",
    "    def detectCycle(self, head: Optional[ListNode]) -> Optional[ListNode]:\n",
    "        \n",
    "        if not head:\n",
    "            return None\n",
    "        elif head.next and head.next == head:\n",
    "            return head\n",
    "        elif not head.next:\n",
    "            return None\n",
    "        \n",
    "        slow, fast = head, head.next\n",
    "        visited = set()\n",
    "        while slow:\n",
    "            if slow in visited:\n",
    "                return slow\n",
    "            else:\n",
    "                visited.add(slow)\n",
    "            slow = slow.next\n",
    "        return None"
   ]
  },
  {
   "cell_type": "markdown",
   "id": "0d440387",
   "metadata": {},
   "source": [
    "### 1. Fast and slow pointers (Floyd's algorithm)\n",
    "* Time complexity: $O(N)$\n",
    "* Space complexity: $O(1)$"
   ]
  },
  {
   "cell_type": "code",
   "execution_count": 2,
   "id": "c2ef495f",
   "metadata": {},
   "outputs": [],
   "source": [
    "class Solution:\n",
    "    def detectCycle(self, head: Optional[ListNode]) -> Optional[ListNode]:\n",
    "        \n",
    "        if not head:\n",
    "            return None\n",
    "        elif head.next and head.next == head:\n",
    "            return head\n",
    "        elif not head.next:\n",
    "            return None\n",
    "        \n",
    "        fast = head\n",
    "        slow = head\n",
    "        intersection = None\n",
    "        \n",
    "        # try to find intersection of fast and slow pointers\n",
    "        while fast and fast.next:\n",
    "            slow = slow.next\n",
    "            fast = fast.next.next\n",
    "            if fast == slow:\n",
    "                intersection = fast\n",
    "                break\n",
    "                \n",
    "        if not intersection:\n",
    "            return None\n",
    "        else:\n",
    "            p1 = head\n",
    "            p2 = intersection\n",
    "        \n",
    "        # p1 and p2 start from head and intersection respectively,\n",
    "        # they will meet at the entrance of the cycle\n",
    "        while p1 != p2:\n",
    "            p1 = p1.next\n",
    "            p2 = p2.next\n",
    "        return p1"
   ]
  }
 ],
 "metadata": {
  "kernelspec": {
   "display_name": "Python 3 (ipykernel)",
   "language": "python",
   "name": "python3"
  },
  "language_info": {
   "codemirror_mode": {
    "name": "ipython",
    "version": 3
   },
   "file_extension": ".py",
   "mimetype": "text/x-python",
   "name": "python",
   "nbconvert_exporter": "python",
   "pygments_lexer": "ipython3",
   "version": "3.7.3"
  }
 },
 "nbformat": 4,
 "nbformat_minor": 5
}
