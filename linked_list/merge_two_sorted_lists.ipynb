{
 "cells": [
  {
   "cell_type": "markdown",
   "id": "81c997ba",
   "metadata": {},
   "source": [
    "## Merge Two Sorted Lists [problem](https://leetcode.com/problems/merge-two-sorted-lists/)\n",
    "\n",
    "You are given the heads of two sorted linked lists ```list1``` and ```list2```.\n",
    "\n",
    "Merge the two lists in a one sorted list. The list should be made by splicing together the nodes of the first two lists.\n",
    "\n",
    "Return the **head** of the merged linked list.\n",
    "\n",
    "Constraints:\n",
    "\n",
    "* The number of nodes in both lists is in the range [0, 50].\n",
    "* -100 <= Node.val <= 100\n",
    "* Both list1 and list2 are sorted in non-decreasing order."
   ]
  },
  {
   "cell_type": "markdown",
   "id": "785b8296",
   "metadata": {},
   "source": [
    "### 1. Iterative\n",
    "time compleity: $O(M+N)$, space complexity: "
   ]
  }
 ],
 "metadata": {
  "kernelspec": {
   "display_name": "Python 3 (ipykernel)",
   "language": "python",
   "name": "python3"
  },
  "language_info": {
   "codemirror_mode": {
    "name": "ipython",
    "version": 3
   },
   "file_extension": ".py",
   "mimetype": "text/x-python",
   "name": "python",
   "nbconvert_exporter": "python",
   "pygments_lexer": "ipython3",
   "version": "3.7.3"
  }
 },
 "nbformat": 4,
 "nbformat_minor": 5
}
