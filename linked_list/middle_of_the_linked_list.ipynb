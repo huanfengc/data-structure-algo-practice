{
 "cells": [
  {
   "cell_type": "markdown",
   "id": "41a6a9dc",
   "metadata": {},
   "source": [
    "## Middle of the Linked List [problem](https://leetcode.com/problems/middle-of-the-linked-list/)\n",
    "\n",
    "Given the ```head``` of a singly linked list, return the middle node of the linked list.\n",
    "\n",
    "If there are two middle nodes, return **the second middle** node.\n",
    "\n",
    "Constraints:\n",
    "* The number of nodes in the list is in the range [1, 100].\n",
    "* 1 <= Node.val <= 100\n",
    "\n",
    "### 0. Import defined Node class and SLList class"
   ]
  },
  {
   "cell_type": "code",
   "execution_count": 1,
   "id": "541423f9",
   "metadata": {},
   "outputs": [
    {
     "name": "stdout",
     "output_type": "stream",
     "text": [
      "Node class and SLList class are available.\n"
     ]
    }
   ],
   "source": [
    "%run linked_list.ipynb"
   ]
  },
  {
   "cell_type": "markdown",
   "id": "30f6443c",
   "metadata": {},
   "source": [
    "#### Create a linked list as input"
   ]
  },
  {
   "cell_type": "code",
   "execution_count": 2,
   "id": "9040548c",
   "metadata": {},
   "outputs": [
    {
     "data": {
      "text/plain": [
       "<__main__.SLList at 0x1060c7d68>"
      ]
     },
     "execution_count": 2,
     "metadata": {},
     "output_type": "execute_result"
    }
   ],
   "source": [
    "n1 = Node(1)\n",
    "n2 = Node(2)\n",
    "n3 = Node(3)\n",
    "n4 = Node(4)\n",
    "n5 = Node(5)\n",
    "llist = SLList()\n",
    "llist.add_first(n1)\n",
    "llist"
   ]
  },
  {
   "cell_type": "markdown",
   "id": "623ebdd1",
   "metadata": {},
   "source": [
    "### 1. Slow and fast pointer"
   ]
  },
  {
   "cell_type": "code",
   "execution_count": 3,
   "id": "f02232fd",
   "metadata": {},
   "outputs": [],
   "source": [
    "def middleNode1(llist):\n",
    "    slow = fast = llist\n",
    "    while fast and fast.next:\n",
    "        slow = slow.next\n",
    "        fast = fast.next.next\n",
    "    return slow\n"
   ]
  },
  {
   "cell_type": "markdown",
   "id": "f94e5183",
   "metadata": {},
   "source": [
    "### 2. Save as a list and use index"
   ]
  },
  {
   "cell_type": "code",
   "execution_count": 4,
   "id": "9eb7239c",
   "metadata": {},
   "outputs": [],
   "source": [
    "def middleNode2(head):\n",
    "    save_list = [head]\n",
    "    while save_list[-1].next:\n",
    "        save_list.append(head.next)\n",
    "        head = head.next\n",
    "    return save_list[len(save_list)//2]"
   ]
  },
  {
   "cell_type": "code",
   "execution_count": null,
   "id": "21d91f65",
   "metadata": {},
   "outputs": [],
   "source": []
  }
 ],
 "metadata": {
  "kernelspec": {
   "display_name": "Python 3 (ipykernel)",
   "language": "python",
   "name": "python3"
  },
  "language_info": {
   "codemirror_mode": {
    "name": "ipython",
    "version": 3
   },
   "file_extension": ".py",
   "mimetype": "text/x-python",
   "name": "python",
   "nbconvert_exporter": "python",
   "pygments_lexer": "ipython3",
   "version": "3.7.3"
  }
 },
 "nbformat": 4,
 "nbformat_minor": 5
}
