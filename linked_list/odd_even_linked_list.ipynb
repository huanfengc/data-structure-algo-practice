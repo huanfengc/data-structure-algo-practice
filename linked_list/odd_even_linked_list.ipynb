{
 "cells": [
  {
   "cell_type": "markdown",
   "id": "f2f8c687",
   "metadata": {},
   "source": [
    "## Odd Even Linked List [problem](https://leetcode.com/problems/odd-even-linked-list/)\n",
    "\n",
    "\n",
    "Given the ```head``` of a singly linked list, group all the nodes with odd indices together followed by the nodes with even indices, and return the reordered list.\n",
    "\n",
    "The first node is considered odd, and the second node is even, and so on.\n",
    "\n",
    "Note that the relative order inside both the even and odd groups should remain as it was in the input.\n",
    "\n",
    "You must solve the problem in $O(1)$ extra space complexity and $O(n)$ time complexity.\n",
    "\n",
    "\n",
    "Constraints:\n",
    "\n",
    "* n == number of nodes in the linked list\n",
    "* 0 <= n <= 104\n",
    "* -106 <= Node.val <= 106\n",
    "\n",
    "\n",
    "\n",
    "### Two Pointers\n",
    "time complexity: $O(N)$, space complexity: $O(1)$."
   ]
  },
  {
   "cell_type": "code",
   "execution_count": 1,
   "id": "d2524847",
   "metadata": {},
   "outputs": [],
   "source": [
    "def oddEvenList(head):\n",
    "    if head is None or head.next is None or head.next.next is None:\n",
    "        return head\n",
    "\n",
    "    odd = head\n",
    "    even_head = head.next\n",
    "    even = head.next\n",
    "\n",
    "    while odd and odd.next and even and even.next:\n",
    "        odd.next = even.next\n",
    "        odd = odd.next\n",
    "        even.next = odd.next\n",
    "        even = even.next\n",
    "\n",
    "    odd.next = even_head\n",
    "\n",
    "    return head"
   ]
  }
 ],
 "metadata": {
  "kernelspec": {
   "display_name": "Python 3 (ipykernel)",
   "language": "python",
   "name": "python3"
  },
  "language_info": {
   "codemirror_mode": {
    "name": "ipython",
    "version": 3
   },
   "file_extension": ".py",
   "mimetype": "text/x-python",
   "name": "python",
   "nbconvert_exporter": "python",
   "pygments_lexer": "ipython3",
   "version": "3.7.3"
  }
 },
 "nbformat": 4,
 "nbformat_minor": 5
}
