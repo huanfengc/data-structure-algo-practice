{
 "cells": [
  {
   "cell_type": "markdown",
   "id": "5b02867e",
   "metadata": {},
   "source": [
    "## Palindrome Linked List [problem](https://leetcode.com/problems/palindrome-linked-list/)\n",
    "\n",
    "Given the ```head``` of a singly linked list, return true if it is a palindrome.\n",
    "\n",
    "Constraints:\n",
    "\n",
    "* The number of nodes in the list is in the range ```[1, 105]```.\n",
    "* ```0 <= Node.val <= 9```\n",
    "\n",
    " \n",
    "Follow up: Could you do it in $O(N)$ time and $O(1)$ space?"
   ]
  },
  {
   "cell_type": "markdown",
   "id": "5ecc6bf2",
   "metadata": {},
   "source": [
    "###"
   ]
  },
  {
   "cell_type": "code",
   "execution_count": null,
   "id": "2e765baa",
   "metadata": {},
   "outputs": [],
   "source": [
    "def isPalindrome(head):\n",
    "    if head.next is None:\n",
    "        return True\n",
    "\n",
    "    array = []\n",
    "    i = 0\n",
    "    curr = head\n",
    "\n",
    "    while curr:\n",
    "        array.append(curr.val)\n",
    "        curr = curr.next\n",
    "#        return array == array[::-1]\n",
    "\n",
    "    while i < len(array)-i-1:\n",
    "        if array[i] != array[len(array)-i-1]:\n",
    "            return False\n",
    "        i += 1\n",
    "    return True"
   ]
  }
 ],
 "metadata": {
  "kernelspec": {
   "display_name": "Python 3 (ipykernel)",
   "language": "python",
   "name": "python3"
  },
  "language_info": {
   "codemirror_mode": {
    "name": "ipython",
    "version": 3
   },
   "file_extension": ".py",
   "mimetype": "text/x-python",
   "name": "python",
   "nbconvert_exporter": "python",
   "pygments_lexer": "ipython3",
   "version": "3.7.3"
  }
 },
 "nbformat": 4,
 "nbformat_minor": 5
}
