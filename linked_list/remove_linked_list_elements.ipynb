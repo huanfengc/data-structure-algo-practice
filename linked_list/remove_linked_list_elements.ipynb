{
 "cells": [
  {
   "cell_type": "markdown",
   "id": "ab84261b",
   "metadata": {},
   "source": [
    "## Remove Linked List Elements [problem](https://leetcode.com/problems/remove-linked-list-elements/)\n",
    "\n",
    "Given the ```head``` of a linked list and an integer ```val```, remove all the nodes of the linked list that has Node.```val == val```, and return the new head.\n",
    "\n",
    "Constraints:\n",
    "\n",
    "* The number of nodes in the list is in the range ```[0, 104]```.\n",
    "* ```1 <= Node.val <= 50```\n",
    "* ```0 <= val <= 50```"
   ]
  },
  {
   "cell_type": "markdown",
   "id": "78b2ce07",
   "metadata": {},
   "source": [
    "### 1. Sentinel node (but I thought it is a simple brute force?)\n",
    "time complexity: $O(N)$, space complexity: $O(1)$."
   ]
  },
  {
   "cell_type": "code",
   "execution_count": 1,
   "id": "bb1ab7df",
   "metadata": {},
   "outputs": [],
   "source": [
    "def removeElements(head, val):\n",
    "    prehead = ListNode(0)\n",
    "\n",
    "    prehead.next = head\n",
    "    curr = prehead\n",
    "\n",
    "    while curr and curr.next:\n",
    "        if curr.next.val == val:\n",
    "            curr.next = curr.next.next\n",
    "        else:\n",
    "            curr = curr.next\n",
    "    return prehead.next"
   ]
  }
 ],
 "metadata": {
  "kernelspec": {
   "display_name": "Python 3 (ipykernel)",
   "language": "python",
   "name": "python3"
  },
  "language_info": {
   "codemirror_mode": {
    "name": "ipython",
    "version": 3
   },
   "file_extension": ".py",
   "mimetype": "text/x-python",
   "name": "python",
   "nbconvert_exporter": "python",
   "pygments_lexer": "ipython3",
   "version": "3.7.3"
  }
 },
 "nbformat": 4,
 "nbformat_minor": 5
}
