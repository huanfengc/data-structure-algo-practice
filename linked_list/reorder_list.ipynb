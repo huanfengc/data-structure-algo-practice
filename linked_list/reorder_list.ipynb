{
 "cells": [
  {
   "cell_type": "markdown",
   "id": "f0777eea",
   "metadata": {},
   "source": [
    "## Reorder List [problem](https://leetcode.com/problems/reorder-list/)\n",
    "\n",
    "You are given the head of a singly linked-list. The list can be represented as:\n",
    "\n",
    "```L0 → L1 → … → Ln - 1 → Ln```\n",
    "\n",
    "Reorder the list to be on the following form:\n",
    "\n",
    "```L0 → Ln → L1 → Ln - 1 → L2 → Ln - 2 → …```\n",
    "\n",
    "You may not modify the values in the list's nodes. Only nodes themselves may be changed.\n",
    "\n",
    "Constraints:\n",
    "\n",
    "* The number of nodes in the list is in the range ```[1, 5 * 104]```.\n",
    "* 1 <= Node.val <= 1000"
   ]
  },
  {
   "cell_type": "markdown",
   "id": "eb26e135",
   "metadata": {},
   "source": [
    "### 1. Find middle node, rever"
   ]
  },
  {
   "cell_type": "code",
   "execution_count": null,
   "id": "d6aa3fbf",
   "metadata": {},
   "outputs": [],
   "source": [
    "def reorderList(head):\n",
    "    \"\"\"\n",
    "    Do not return anything, modify head in-place instead.\n",
    "    \"\"\"\n",
    "\n",
    "    fast = head.next\n",
    "    slow = head\n",
    "    prev = None\n",
    "\n",
    "    while fast and fast.next and slow:\n",
    "        fast = fast.next.next\n",
    "        slow = slow.next\n",
    "    curr = slow.next\n",
    "    slow.next = None\n",
    "\n",
    "    while curr:\n",
    "        tmp = curr.next\n",
    "        curr.next = prev\n",
    "        prev = curr\n",
    "        curr = tmp\n",
    "\n",
    "    curr = head\n",
    "    while curr and prev:\n",
    "        tmp1 = curr.next\n",
    "        tmp2 = prev.next\n",
    "        curr.next = prev\n",
    "        prev.next = tmp1\n",
    "        curr = tmp1\n",
    "        prev = tmp2"
   ]
  }
 ],
 "metadata": {
  "kernelspec": {
   "display_name": "Python 3 (ipykernel)",
   "language": "python",
   "name": "python3"
  },
  "language_info": {
   "codemirror_mode": {
    "name": "ipython",
    "version": 3
   },
   "file_extension": ".py",
   "mimetype": "text/x-python",
   "name": "python",
   "nbconvert_exporter": "python",
   "pygments_lexer": "ipython3",
   "version": "3.7.3"
  }
 },
 "nbformat": 4,
 "nbformat_minor": 5
}
