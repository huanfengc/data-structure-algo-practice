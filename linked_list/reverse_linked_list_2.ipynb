{
 "cells": [
  {
   "cell_type": "markdown",
   "id": "97f09df4",
   "metadata": {},
   "source": [
    "## Reverse Linked List II [problem](https://leetcode.com/problems/reverse-linked-list-ii/)\n",
    "\n",
    "Given the head of a singly linked list and two integers ```left``` and ```right``` where ```left <= right```, reverse the nodes of the list from position ```left``` to position ```right```, and return the reversed list.\n",
    "\n",
    "Constraints:\n",
    "\n",
    "* The number of nodes in the list is n.\n",
    "* 1 <= n <= 500\n",
    "* -500 <= Node.val <= 500\n",
    "* 1 <= left <= right <= n\n",
    "\n",
    "### 1. Iterative\n",
    "time complexity: $O(N)$, space complexity: $O(1)$."
   ]
  },
  {
   "cell_type": "code",
   "execution_count": 1,
   "id": "8d22ca02",
   "metadata": {},
   "outputs": [],
   "source": [
    "def reverseBetween(head, left, right):\n",
    "        \n",
    "    if left == head or head.next is None:\n",
    "        return head\n",
    "\n",
    "    prev = None\n",
    "    curr = head\n",
    "\n",
    "    while left > 1:\n",
    "        prev = curr\n",
    "        curr = curr.next\n",
    "        left -= 1\n",
    "        right -= 1\n",
    "    left_tail = prev\n",
    "    sub_head = curr\n",
    "\n",
    "    while right > 0:\n",
    "        tmp = curr.next\n",
    "        curr.next = prev\n",
    "        prev = curr\n",
    "        curr = tmp\n",
    "        right -= 1\n",
    "    if left_tail:\n",
    "        left_tail.next = prev\n",
    "    else:\n",
    "        head = prev\n",
    "    sub_head.next = curr\n",
    "\n",
    "    return head"
   ]
  }
 ],
 "metadata": {
  "kernelspec": {
   "display_name": "Python 3 (ipykernel)",
   "language": "python",
   "name": "python3"
  },
  "language_info": {
   "codemirror_mode": {
    "name": "ipython",
    "version": 3
   },
   "file_extension": ".py",
   "mimetype": "text/x-python",
   "name": "python",
   "nbconvert_exporter": "python",
   "pygments_lexer": "ipython3",
   "version": "3.7.3"
  }
 },
 "nbformat": 4,
 "nbformat_minor": 5
}
