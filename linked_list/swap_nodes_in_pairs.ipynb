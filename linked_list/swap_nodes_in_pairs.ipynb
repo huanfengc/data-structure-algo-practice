{
 "cells": [
  {
   "cell_type": "markdown",
   "id": "8bb039e7",
   "metadata": {},
   "source": [
    "## Swap Nodes in Pairs [problem](https://leetcode.com/problems/swap-nodes-in-pairs/)\n",
    "\n",
    "Given a linked list, swap every two adjacent nodes and return its head. You must solve the problem without modifying the values in the list's nodes (i.e., only nodes themselves may be changed.)\n",
    "\n",
    "Constraints:\n",
    "\n",
    "* The number of nodes in the list is in the range ```[0, 100]```.\n",
    "* ```0 <= Node.val <= 100```"
   ]
  },
  {
   "cell_type": "markdown",
   "id": "7342593a",
   "metadata": {},
   "source": [
    "time complexity: $$"
   ]
  },
  {
   "cell_type": "code",
   "execution_count": null,
   "id": "7b7cf2cd",
   "metadata": {},
   "outputs": [],
   "source": [
    "def swapPairs(head):\n",
    "\n",
    "    if not (head and head.next):\n",
    "        return head\n",
    "\n",
    "    newhead = head.next\n",
    "    first = head\n",
    "    second = head.next\n",
    "\n",
    "    while second and second.next:\n",
    "        tmp1 = first.next.next\n",
    "        tmp2 = second.next.next\n",
    "        second.next = first\n",
    "        first.next = tmp2 if tmp2 else tmp1\n",
    "        first = tmp1\n",
    "        second = tmp2\n",
    "    if second:\n",
    "        second.next = first\n",
    "        first.next = None\n",
    "\n",
    "    return newhead"
   ]
  }
 ],
 "metadata": {
  "kernelspec": {
   "display_name": "Python 3 (ipykernel)",
   "language": "python",
   "name": "python3"
  },
  "language_info": {
   "codemirror_mode": {
    "name": "ipython",
    "version": 3
   },
   "file_extension": ".py",
   "mimetype": "text/x-python",
   "name": "python",
   "nbconvert_exporter": "python",
   "pygments_lexer": "ipython3",
   "version": "3.7.3"
  }
 },
 "nbformat": 4,
 "nbformat_minor": 5
}
