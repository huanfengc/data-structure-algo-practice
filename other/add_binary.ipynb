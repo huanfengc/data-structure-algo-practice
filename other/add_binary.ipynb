{
 "cells": [
  {
   "cell_type": "markdown",
   "id": "ec4b77bf",
   "metadata": {},
   "source": [
    "## 67. Add Binary [problem](https://leetcode.com/problems/add-binary/)\n",
    "\n",
    "Given two binary strings ```a``` and ```b```, return their sum as a binary string.\n",
    "\n",
    "---\n",
    "\n",
    "**Constraints:**\n",
    "\n",
    "* ```1 <= a.length, b.length <= 10^4```\n",
    "* ```a``` and ```b``` consist only of '```0```' or '```1```' characters.\n",
    "* Each string does not contain leading zeros except for the zero itself.\n",
    "\n",
    "---\n",
    "\n",
    "**Follow-ups: what is the time cpmplexity for ```int()``` and ```bin()```? $O(N)$, $O(N^2)$, O(logN)?**"
   ]
  },
  {
   "cell_type": "markdown",
   "id": "89d944c3",
   "metadata": {},
   "source": [
    "### 1. Bit by bit addition (if can not convert string into integer)\n",
    "* Time complexity: $O(N)$, $N$ is the maximum length between ```a``` and ```b```.\n",
    "* Space complexity: $O(N)$\n",
    "\n",
    "**Same as digit by digit, use ```ord()``` to convert string into unicode code).**"
   ]
  },
  {
   "cell_type": "code",
   "execution_count": 1,
   "id": "a5962bf1",
   "metadata": {},
   "outputs": [],
   "source": [
    "class Solution1:\n",
    "    def addBinary(self, a: str, b: str) -> str:\n",
    "        \"\"\"\n",
    "        Args:\n",
    "            a, b: strings containing only '0' or '1'\n",
    "            \n",
    "        Return:\n",
    "            a string representing the sum of binaries a and b\n",
    "        \"\"\"\n",
    "        \n",
    "        res = []\n",
    "        carry = 0\n",
    "        p1, p2 = len(a) - 1, len(b) - 1\n",
    "        \n",
    "        while p1 >= 0 or p2 >= 0:\n",
    "            n1 = ord(a[p1]) - ord('0') if p1 >= 0 else 0\n",
    "            n2 = ord(b[p2]) - ord('0') if p2 >= 0 else 0\n",
    "            value = (n1 + n2 + carry) % 2\n",
    "            carry = (n1 + n2 + carry) // 2\n",
    "            res.append(value)\n",
    "            p1 -= 1\n",
    "            p2 -= 1\n",
    "        if carry == 1:\n",
    "            res.append(carry)\n",
    "        return ''.join(str(n) for n in res[::-1])"
   ]
  },
  {
   "cell_type": "markdown",
   "id": "27a09b87",
   "metadata": {},
   "source": [
    "### 2. Bit manipulation (if can not use addition operation)\n",
    "* Time complexity: $O(M+N)$, $M$ and $N$ are lengths of ```a``` and ```b```.\n",
    "* Space complexity: $O(max(M, N))$"
   ]
  },
  {
   "cell_type": "code",
   "execution_count": 2,
   "id": "b806f6b3",
   "metadata": {},
   "outputs": [],
   "source": [
    "class Solution2:\n",
    "    def addBinary(self, a: str, b: str) -> str:\n",
    "        \"\"\"\n",
    "        Args:\n",
    "            a, b: strings containing only '0' or '1'\n",
    "            \n",
    "        Return:\n",
    "            a string representing the sum of binaries a and b\n",
    "        \"\"\"\n",
    "        \n",
    "        n1, n2 = int(a, 2), int(b, 2) # this step may cause problems, eg. overflow, in some languages\n",
    "        \n",
    "        while n2:\n",
    "            res = n1 ^ n2 # XOR\n",
    "            carry = (n1 & n2) << 1 # AND and shift one position to the left\n",
    "            n1, n2 = res, carry\n",
    "        # bin() convert an integer into binary (string) starting with '0b'\n",
    "        return bin(n1)[2:]"
   ]
  }
 ],
 "metadata": {
  "kernelspec": {
   "display_name": "Python 3 (ipykernel)",
   "language": "python",
   "name": "python3"
  },
  "language_info": {
   "codemirror_mode": {
    "name": "ipython",
    "version": 3
   },
   "file_extension": ".py",
   "mimetype": "text/x-python",
   "name": "python",
   "nbconvert_exporter": "python",
   "pygments_lexer": "ipython3",
   "version": "3.7.3"
  }
 },
 "nbformat": 4,
 "nbformat_minor": 5
}
