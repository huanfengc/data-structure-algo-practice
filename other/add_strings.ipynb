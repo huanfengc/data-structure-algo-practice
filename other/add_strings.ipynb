{
 "cells": [
  {
   "cell_type": "markdown",
   "id": "b7458daf",
   "metadata": {},
   "source": [
    "## 415. Add Strings [problem](https://leetcode.com/problems/add-strings/)\n",
    "\n",
    "Given two non-negative integers, ```num1``` and ```num2``` represented as string, return the sum of ```num1``` and ```num2``` as a string.\n",
    "\n",
    "**You must solve the problem without using any built-in library for handling large integers (such as BigInteger). You must also not convert the inputs to integers directly.**\n",
    "\n",
    "---\n",
    "\n",
    "**Constraints:**\n",
    "\n",
    "* ```1 <= num1.length, num2.length <= 10^4```\n",
    "* ```num1``` and ```num2``` consist of only digits.\n",
    "* ```num1``` and ```num2``` don't have any leading zeros except for the zero itself."
   ]
  },
  {
   "cell_type": "markdown",
   "id": "4297334e",
   "metadata": {},
   "source": [
    "### 1. Digit-by-digit addition \n",
    "* Time complexity: $O(N)$, $N$ is the max length between ```num1``` and ```num2```.\n",
    "* Space complexity: $O(N)$\n",
    "\n",
    "**Key point: use ```ord()``` to convert string into unicode code.**"
   ]
  },
  {
   "cell_type": "code",
   "execution_count": 1,
   "id": "e2d277df",
   "metadata": {},
   "outputs": [],
   "source": [
    "class Solution1:\n",
    "    def addStrings(self, num1: str, num2: str) -> str:\n",
    "        \"\"\"\n",
    "        Args:\n",
    "            num1, num2: strings containing only digits\n",
    "            \n",
    "        Return:\n",
    "            a string which represents the sum of num1 and num2\n",
    "        \"\"\"\n",
    "        \n",
    "        res = []\n",
    "        carry = 0\n",
    "        p1, p2 = len(num1) - 1, len(num2) - 1\n",
    "        while p1 >= 0 or p2 >= 0:\n",
    "            n1 = ord(num1[p1]) - ord('0')  if p1 >= 0 else 0\n",
    "            n2 = ord(num2[p2]) - ord('0') if p2 >= 0 else 0\n",
    "            value = (n1 + n2 + carry) % 10\n",
    "            carry = (n1 + n2 + carry) // 10\n",
    "            res.append(value)\n",
    "            p1 -= 1\n",
    "            p2 -= 1\n",
    "        if carry == 1:\n",
    "            res.append(carry)\n",
    "        return ''.join(str(n) for n in res[::-1])"
   ]
  }
 ],
 "metadata": {
  "kernelspec": {
   "display_name": "Python 3 (ipykernel)",
   "language": "python",
   "name": "python3"
  },
  "language_info": {
   "codemirror_mode": {
    "name": "ipython",
    "version": 3
   },
   "file_extension": ".py",
   "mimetype": "text/x-python",
   "name": "python",
   "nbconvert_exporter": "python",
   "pygments_lexer": "ipython3",
   "version": "3.7.3"
  }
 },
 "nbformat": 4,
 "nbformat_minor": 5
}
