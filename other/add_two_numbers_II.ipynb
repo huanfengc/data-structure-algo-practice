{
 "cells": [
  {
   "cell_type": "markdown",
   "id": "834974ad",
   "metadata": {},
   "source": [
    "## 445. Add Two Numbers II [problem](https://leetcode.com/problems/add-two-numbers-ii/)\n",
    "\n",
    "You are given two **non-empty** linked lists representing two non-negative integers. The most significant digit comes first and each of their nodes contains a single digit. Add the two numbers and return the sum as a linked list.\n",
    "\n",
    "You may assume the two numbers do not contain any leading zero, except the number ```0``` itself.\n",
    "\n",
    "---\n",
    "\n",
    "**Constraints:**\n",
    "\n",
    "* The number of nodes in each linked list is in the range ```[1, 100]```.\n",
    "* ```0 <= Node.val <= 9```\n",
    "* It is guaranteed that the list represents a number that does not have leading zeros.\n",
    "\n",
    "---\n",
    "\n",
    "**Follow up:** Could you solve it without reversing the input lists?"
   ]
  },
  {
   "cell_type": "markdown",
   "id": "ea153785",
   "metadata": {},
   "source": [
    "### 1. Reverse the linked listed and perform digit-by-digit sum and then reverse again\n",
    "* Time complexity: $O(max(M, N))$, $M$ and $N$ are lengths of two linked lists.\n",
    "* Space complexity: $O(1)$, sum directly saved to the original lists. The output takes $O(max(M, N))$."
   ]
  },
  {
   "cell_type": "code",
   "execution_count": 1,
   "id": "1decd236",
   "metadata": {},
   "outputs": [],
   "source": [
    "# Definition for singly-linked list.\n",
    "class ListNode:\n",
    "    def __init__(self, val=0, next=None):\n",
    "        self.val = val\n",
    "        self.next = next\n",
    "\n",
    "from typing import Optional\n",
    "\n",
    "class Solution:\n",
    "    def addTwoNumbers(self, l1: Optional[ListNode], l2: Optional[ListNode]) -> Optional[ListNode]:\n",
    "        \"\"\"\n",
    "        Args:\n",
    "            l1, l2: linked lists whose values are integers\n",
    "        \n",
    "        Return:\n",
    "            linked list whose values are digit-by-digit sum of l1 and l2\n",
    "        \"\"\"\n",
    "        \n",
    "        reversed_l1 = self.reverseLList(l1)\n",
    "        reversed_l2 = self.reverseLList(l2)\n",
    "        p1, p2 = reversed_l1, reversed_l2\n",
    "        \n",
    "        carry = 0\n",
    "        which_list = 0\n",
    "        while p1 or p2:\n",
    "            if p1 and p2:\n",
    "                sum_digits = p1.val + p2.val + carry\n",
    "                p1.val = p2.val = sum_digits % 10\n",
    "                carry = sum_digits // 10\n",
    "                p1, p2 = p1.next, p2.next\n",
    "            if p1 and (not p2):\n",
    "                which_list = 1\n",
    "                sum_digits = p1.val + carry\n",
    "                p1.val = sum_digits % 10\n",
    "                carry = sum_digits // 10\n",
    "                p1 = p1.next\n",
    "            if (not p1) and p2:\n",
    "                which_list = 2\n",
    "                sum_digits = p2.val + carry\n",
    "                p2.val = sum_digits % 10\n",
    "                carry = sum_digits // 10\n",
    "                p2 = p2.next\n",
    "        \n",
    "        if which_list == 0 or which_list == 1:\n",
    "            res = self.reverseLList(reversed_l1)\n",
    "        else:\n",
    "            res = self.reverseLList(reversed_l2)\n",
    "        if carry == 1:\n",
    "            extra = ListNode(1)\n",
    "            extra.next = res\n",
    "            res = extra\n",
    "        return res\n",
    "            \n",
    "    \n",
    "    def reverseLList(self, head):\n",
    "        prev, curr = None, head\n",
    "        while curr:\n",
    "            tmp = curr.next\n",
    "            curr.next = prev\n",
    "            prev, curr = curr, tmp\n",
    "        return prev"
   ]
  },
  {
   "cell_type": "markdown",
   "id": "5fb34f76",
   "metadata": {},
   "source": [
    "### 2. Simplied Solution 1 by saving summed values and creating new nodes, instead of using ```if```"
   ]
  },
  {
   "cell_type": "code",
   "execution_count": null,
   "id": "d89d3e28",
   "metadata": {},
   "outputs": [],
   "source": []
  }
 ],
 "metadata": {
  "kernelspec": {
   "display_name": "Python 3 (ipykernel)",
   "language": "python",
   "name": "python3"
  },
  "language_info": {
   "codemirror_mode": {
    "name": "ipython",
    "version": 3
   },
   "file_extension": ".py",
   "mimetype": "text/x-python",
   "name": "python",
   "nbconvert_exporter": "python",
   "pygments_lexer": "ipython3",
   "version": "3.7.3"
  }
 },
 "nbformat": 4,
 "nbformat_minor": 5
}
