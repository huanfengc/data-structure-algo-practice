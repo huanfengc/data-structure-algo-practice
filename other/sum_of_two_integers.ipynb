{
 "cells": [
  {
   "cell_type": "markdown",
   "id": "0603a51e",
   "metadata": {},
   "source": [
    "## 371. Sum of Two Integers [problem](https://leetcode.com/problems/sum-of-two-integers/)\n",
    "\n",
    "Given two integers ```a``` and ```b```, return the sum of the two integers without using the operators ```+``` and ```-```.\n",
    "\n",
    "---\n",
    "\n",
    "**Constraints:**\n",
    "\n",
    "* ```-1000 <= a, b <= 1000```"
   ]
  },
  {
   "cell_type": "markdown",
   "id": "ce03d604",
   "metadata": {},
   "source": [
    "### 1. Bit manipulation\n",
    "* Time complexity: $O(1)$, each integer contains 32-bits.\n",
    "* Space complexity: $O(1)$\n",
    "\n",
    "**Key point: reduce the use cases down to two cases.**"
   ]
  },
  {
   "cell_type": "code",
   "execution_count": 1,
   "id": "4e7a186d",
   "metadata": {},
   "outputs": [],
   "source": [
    "class Solution1:\n",
    "    def getSum(self, a: int, b: int) -> int:\n",
    "        \"\"\"\n",
    "        Args:\n",
    "            a, b: integers\n",
    "            \n",
    "        Return:\n",
    "            an integer, ie. sum of a and b\n",
    "        \"\"\"\n",
    "        \n",
    "        x, y = abs(a), abs(b)\n",
    "        if x < y:\n",
    "            return self.getSum(b, a)\n",
    "        \n",
    "        sign = 1 if a > 0 else -1\n",
    "        \n",
    "        if a * b >= 0:\n",
    "            # sum\n",
    "            while y:\n",
    "                res = x ^ y\n",
    "                carry = (x & y) << 1\n",
    "                x, y = res, carry\n",
    "        else:\n",
    "            # subtraction\n",
    "            while y:\n",
    "                res = x ^ y\n",
    "                borrow = (~x & y) << 1\n",
    "                x, y = res, borrow\n",
    "                \n",
    "        return sign * x"
   ]
  }
 ],
 "metadata": {
  "kernelspec": {
   "display_name": "Python 3 (ipykernel)",
   "language": "python",
   "name": "python3"
  },
  "language_info": {
   "codemirror_mode": {
    "name": "ipython",
    "version": 3
   },
   "file_extension": ".py",
   "mimetype": "text/x-python",
   "name": "python",
   "nbconvert_exporter": "python",
   "pygments_lexer": "ipython3",
   "version": "3.7.3"
  }
 },
 "nbformat": 4,
 "nbformat_minor": 5
}
