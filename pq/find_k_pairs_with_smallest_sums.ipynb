{
 "cells": [
  {
   "cell_type": "markdown",
   "id": "c5574a27",
   "metadata": {},
   "source": [
    "## 373. Find K Pairs with Smallest Sums [problem](https://leetcode.com/problems/find-k-pairs-with-smallest-sums/)\n",
    "\n",
    "You are given two integer arrays ```nums1``` and ```nums2``` **sorted in ascending order** and an integer ```k```.\n",
    "\n",
    "Define a pair ```(u, v)``` which consists of one element from the first array and one element from the second array.\n",
    "\n",
    "Return the ```k``` pairs ```(u1, v1)```, ```(u2, v2)```, ..., ```(uk, vk)``` with the smallest sums.\n",
    "\n",
    "---\n",
    "\n",
    "**Constraints:**\n",
    "\n",
    "* ```1 <= nums1.length, nums2.length <= 10^5```\n",
    "* ```-10^9 <= nums1[i], nums2[i] <= 10^9```\n",
    "* ```nums1``` and ```nums2``` both are sorted in ascending order.\n",
    "* ```1 <= k <= 10^4```"
   ]
  },
  {
   "cell_type": "markdown",
   "id": "d5f89c45",
   "metadata": {},
   "source": [
    "### 1. Priority queue (getting the k-smallest pair directly)\n",
    "* Time complexity: $O(KlogK)$\n",
    "* Space complexity: $O(K)$ for heap and hashset."
   ]
  },
  {
   "cell_type": "code",
   "execution_count": 1,
   "id": "b352f629",
   "metadata": {},
   "outputs": [],
   "source": [
    "from typing import List\n",
    "\n",
    "def kSmallestPairs1(nums1: List[int], nums2: List[int], k: int) -> List[List[int]]:\n",
    "    \"\"\"\n",
    "    Args:\n",
    "        nums1: a ascendingly sorted integer array\n",
    "        nums2: a ascendingly sorted integer array\n",
    "        k: number of integer pairs to be returned\n",
    "        \n",
    "    Return:\n",
    "        an array of k integer pairs with the smallest sums\n",
    "    \"\"\"\n",
    "\n",
    "    heap = []\n",
    "    visited = set()\n",
    "    heapq.heapify(heap)\n",
    "    heapq.heappush(heap, (nums1[0] + nums2[0], 0, 0))\n",
    "    visited.add((0, 0))\n",
    "\n",
    "    ret = []\n",
    "    while len(ret) < k and heap: # O(K)\n",
    "        sum, idx1, idx2 = heapq.heappop(heap)\n",
    "        ret.append([nums1[idx1], nums2[idx2]])      \n",
    "\n",
    "        if idx1 + 1 < len(nums1) and (idx1 + 1, idx2) not in visited:\n",
    "            heapq.heappush(heap, (nums1[idx1 + 1] + nums2[idx2], idx1 + 1, idx2)) # O(logK)\n",
    "            visited.add((idx1 + 1, idx2))\n",
    "\n",
    "        if idx2 + 1 < len(nums2) and (idx1, idx2 + 1) not in visited:\n",
    "            heapq.heappush(heap, (nums1[idx1] + nums2[idx2 + 1], idx1, idx2 + 1)) # O(logK)\n",
    "            visited.add((idx1, idx2 + 1))\n",
    "\n",
    "    return ret"
   ]
  },
  {
   "cell_type": "markdown",
   "id": "febbaadc",
   "metadata": {},
   "source": [
    "### 2. Brute force (even though the heap is used)\n",
    "* Time complexity: $N^2logK$\n",
    "* Space complexity: $O(K)$"
   ]
  },
  {
   "cell_type": "code",
   "execution_count": 2,
   "id": "aa428f83",
   "metadata": {},
   "outputs": [],
   "source": [
    "def kSmallestPairs2(nums1: List[int], nums2: List[int], k: int) -> List[List[int]]:\n",
    "\n",
    "    heap = []\n",
    "\n",
    "    for i in range(len(nums1)):\n",
    "        for j in range(len(nums2)):\n",
    "            num1, num2 = nums1[i], nums2[j]\n",
    "            sum = - num1 - num2\n",
    "            if len(heap) < k:\n",
    "                heapq.heappush(heap, (sum, num1, num2))\n",
    "            else:\n",
    "                heapq.heappushpop(heap, (sum, num1, num2))\n",
    "\n",
    "    return [[num1, num2] for sum, num1, num2 in heap]"
   ]
  }
 ],
 "metadata": {
  "kernelspec": {
   "display_name": "Python 3 (ipykernel)",
   "language": "python",
   "name": "python3"
  },
  "language_info": {
   "codemirror_mode": {
    "name": "ipython",
    "version": 3
   },
   "file_extension": ".py",
   "mimetype": "text/x-python",
   "name": "python",
   "nbconvert_exporter": "python",
   "pygments_lexer": "ipython3",
   "version": "3.7.3"
  }
 },
 "nbformat": 4,
 "nbformat_minor": 5
}
