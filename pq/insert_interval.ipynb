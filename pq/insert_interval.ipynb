{
 "cells": [
  {
   "cell_type": "markdown",
   "id": "1b67ca7c",
   "metadata": {},
   "source": [
    "## 57. Insert Interval [problem](https://leetcode.com/problems/insert-interval/)\n",
    "\n",
    "You are given an array of non-overlapping intervals ```intervals``` where ```intervals[i] = [starti, endi]``` represent the start and the end of the ```ith``` interval and intervals is sorted in ascending order by ```starti```. You are also given an interval ```newInterval = [start, end]``` that represents the start and end of another interval.\n",
    "\n",
    "Insert ```newInterval``` into ```intervals``` such that ```intervals``` is still sorted in ascending order by ```starti``` and intervals still **does not have any overlapping intervals** (merge overlapping intervals if necessary).\n",
    "\n",
    "Return ```intervals``` after the insertion.\n",
    "\n",
    "---\n",
    "\n",
    "**Constraints:**\n",
    "\n",
    "* ```0 <= intervals.length <= 10^4```\n",
    "* ```intervals[i].length == 2```\n",
    "* ```0 <= starti <= endi <= 10^5```\n",
    "* ```intervals``` is sorted by ```starti``` in ascending order.\n",
    "* ```newInterval.length == 2```\n",
    "* ```0 <= start <= end <= 10^5```"
   ]
  },
  {
   "cell_type": "markdown",
   "id": "7e2f7544",
   "metadata": {},
   "source": [
    "### 1. Priority queue and sweep line\n",
    "* Time complexity: $O(N)$, $N$ is number of intervals.\n",
    "* Space complexity: $O(N)$\n",
    "\n",
    "**Key point: set ```start``` as ```-1``` and  ```end``` as ```1``` to handle that the starting and ending time could be at the same time and two intervals still need to be merged.**"
   ]
  },
  {
   "cell_type": "code",
   "execution_count": 1,
   "id": "ada86d1b",
   "metadata": {},
   "outputs": [],
   "source": [
    "from typing import List\n",
    "\n",
    "class Solution:\n",
    "    def insert(self, intervals: List[List[int]], newInterval: List[int]) -> List[List[int]]:\n",
    "        \"\"\"\n",
    "        Args:\n",
    "            intervals: list of lists with start and end time pair\n",
    "            newInterval: list of a start and end time pair\n",
    "            \n",
    "        Return:\n",
    "            list of lists of intervals after merging newInterval into intervals\n",
    "        \"\"\"\n",
    "        \n",
    "        heap = []\n",
    "        res = []\n",
    "        \n",
    "        for start, end in intervals + [newInterval]:\n",
    "            # to handle start and end at the same time,\n",
    "            # set start as -1, end as +1\n",
    "            heapq.heappush(heap, (start, -1)) \n",
    "            heapq.heappush(heap, (end, 1))\n",
    "        \n",
    "        count = 0\n",
    "        start = -1\n",
    "        \n",
    "        while heap:\n",
    "            stamp, val = heapq.heappop(heap)\n",
    "            if start == -1:\n",
    "                start = stamp\n",
    "            count += val\n",
    "            if count == 0:\n",
    "                res.append([start, stamp])\n",
    "                start = -1\n",
    "        return res"
   ]
  }
 ],
 "metadata": {
  "kernelspec": {
   "display_name": "Python 3 (ipykernel)",
   "language": "python",
   "name": "python3"
  },
  "language_info": {
   "codemirror_mode": {
    "name": "ipython",
    "version": 3
   },
   "file_extension": ".py",
   "mimetype": "text/x-python",
   "name": "python",
   "nbconvert_exporter": "python",
   "pygments_lexer": "ipython3",
   "version": "3.7.3"
  }
 },
 "nbformat": 4,
 "nbformat_minor": 5
}
