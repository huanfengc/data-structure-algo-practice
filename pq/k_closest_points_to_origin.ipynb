{
 "cells": [
  {
   "cell_type": "markdown",
   "id": "5f8f4e21",
   "metadata": {},
   "source": [
    "## 973. K Closest Points to Origin [problem](https://leetcode.com/problems/k-closest-points-to-origin/)\n",
    "\n",
    "Given an array of points where ```points[i] = [xi, yi]``` represents a point on the X-Y plane and an integer ```k```, return the ```k``` closest points to the origin ```(0, 0)```.\n",
    "\n",
    "The distance between two points on the X-Y plane is the Euclidean distance (i.e., ```(x1 - x2)^2 + (y1 - y2)^2)```.\n",
    "\n",
    "You may return the answer in any order. The answer is guaranteed to be unique (except for the order that it is in).\n",
    "\n",
    "---\n",
    "\n",
    "**Constraints:**\n",
    "\n",
    "* ```1 <= k <= points.length <= 10^4```\n",
    "* ```-10^4 < xi, yi < 10^4```"
   ]
  },
  {
   "cell_type": "markdown",
   "id": "2691c38e",
   "metadata": {},
   "source": [
    "### 1. Sorting (using custom comparator)\n",
    "* Time complexity: $O(NlogN)$\n",
    "* Space complexity: $O(N)$ **(Timsort in Python takes extra space, though it looks sorting in place. How the algorithm works?)**"
   ]
  },
  {
   "cell_type": "code",
   "execution_count": 1,
   "id": "6812a53a",
   "metadata": {},
   "outputs": [],
   "source": [
    "from typing import List\n",
    "\n",
    "def kClosest1(points: List[List[int]], k: int) -> List[List[int]]:\n",
    "    \"\"\"\n",
    "    Args:\n",
    "        points: a list of lists with x, y coordinates\n",
    "        k: the capped number of points which are the closest to the origin\n",
    "        \n",
    "    Return:\n",
    "        a list of k points that are the closest to the origin\n",
    "    \"\"\"\n",
    "\n",
    "    points.sort(key=self.compare)\n",
    "    return points[:k]\n",
    "\n",
    "\n",
    "def compare(point):\n",
    "    return point[0] ** 2 + point[1] ** 2"
   ]
  },
  {
   "cell_type": "markdown",
   "id": "8b489da9",
   "metadata": {},
   "source": [
    "### 2. Priority queue\n",
    "* Time complexity: $O(NlogK)$, $N$ is the number of points, $K$ is the capped number of ```k``` closest points to the origin.\n",
    "* Space complexity: $O(K)$."
   ]
  },
  {
   "cell_type": "code",
   "execution_count": 2,
   "id": "1ff7841a",
   "metadata": {},
   "outputs": [],
   "source": [
    "def kClosest2(points: List[List[int]], k: int) -> List[List[int]]:\n",
    "    \"\"\"\n",
    "    Args:\n",
    "        points: a list of lists with x, y coordinates\n",
    "        k: the capped number of points which are the closest to the origin\n",
    "        \n",
    "    Return:\n",
    "        a list of k points that are the closest to the origin\n",
    "    \"\"\"\n",
    "    \n",
    "#    heap = []        \n",
    "#    for i in range(k):\n",
    "#        dist = -self.dist(points[i])\n",
    "#        heap.append((dist, i))\n",
    "\n",
    "    heap = [(-dist(points[i]), i) for i in range(k)] # '-' because it's min heap in Python   \n",
    "    heapq.heapify(heap) # heapify according to the first element of tuple\n",
    "\n",
    "    for i in range(k, len(points)):\n",
    "        dist = -dist(points[i])\n",
    "        if dist > heap[0][0]:\n",
    "            heapq.heappushpop(heap, (dist, i))\n",
    "    return [points[i] for _, i in heap]\n",
    "\n",
    "\n",
    "def dist(point):\n",
    "    return point[0] ** 2 + point[1] ** 2"
   ]
  },
  {
   "cell_type": "markdown",
   "id": "ebdcbd0a",
   "metadata": {},
   "source": [
    "### 3. QuickSelect (based on QuickSort)\n",
    "* Time complexity: $O(N)$\n",
    "* Space complexity: $O(1)$"
   ]
  },
  {
   "cell_type": "code",
   "execution_count": null,
   "id": "dc092fb3",
   "metadata": {},
   "outputs": [],
   "source": []
  }
 ],
 "metadata": {
  "kernelspec": {
   "display_name": "Python 3 (ipykernel)",
   "language": "python",
   "name": "python3"
  },
  "language_info": {
   "codemirror_mode": {
    "name": "ipython",
    "version": 3
   },
   "file_extension": ".py",
   "mimetype": "text/x-python",
   "name": "python",
   "nbconvert_exporter": "python",
   "pygments_lexer": "ipython3",
   "version": "3.7.3"
  }
 },
 "nbformat": 4,
 "nbformat_minor": 5
}
