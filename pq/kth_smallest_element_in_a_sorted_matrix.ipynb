{
 "cells": [
  {
   "cell_type": "markdown",
   "id": "5bb998c9",
   "metadata": {},
   "source": [
    "## 378. Kth Smallest Element in a Sorted Matrix [problem](https://leetcode.com/problems/kth-smallest-element-in-a-sorted-matrix/)\n",
    "\n",
    "**Similar problems: [No.373 Find K Pairs with Smallest Sums](./find_k_pairs_with_smallest_sums.ipynb)**\n",
    "\n",
    "---\n",
    "\n",
    "Given an ```n x n``` matrix where each of the rows and columns is **sorted in ascending order**, return the ```k```th smallest element in the matrix.\n",
    "\n",
    "Note that it is the ```k```th smallest element in the sorted order, not the ```k```th distinct element.\n",
    "\n",
    "You must find a solution with a memory complexity better than $O(N^2)$.\n",
    "\n",
    "---\n",
    "\n",
    "**Constraints:**\n",
    "\n",
    "* ```n == matrix.length == matrix[i].length```\n",
    "* ```1 <= n <= 300```\n",
    "* ```-10^9 <= matrix[i][j] <= 10^9```\n",
    "* All the rows and columns of matrix are guaranteed to be sorted in non-decreasing order.\n",
    "* ```1 <= k <= n^2```\n",
    "\n",
    "---\n",
    "\n",
    "**Follow-up:**\n",
    "\n",
    "* Could you solve the problem with a constant memory (i.e., $O(1)$ memory complexity)?\n",
    "* Could you solve the problem in $O(N)$ time complexity? "
   ]
  },
  {
   "cell_type": "markdown",
   "id": "8b76d219",
   "metadata": {},
   "source": [
    "### 1. Priority queue\n",
    "* Time complexity: $O(KlogK)$\n",
    "* Space complexity: $O(K)$\n",
    "\n",
    "**Key point: pop from the heap (the smallest in the heap), then immediately push the its right/down neighbors and mark as visited.**"
   ]
  },
  {
   "cell_type": "code",
   "execution_count": 1,
   "id": "97c9aaf7",
   "metadata": {},
   "outputs": [],
   "source": [
    "from typing import List\n",
    "\n",
    "def kthSmallest(matrix: List[List[int]], k: int) -> int:\n",
    "    \"\"\"\n",
    "    Args:\n",
    "        matrix: a 2D integer array, sorted along the rows and columns\n",
    "        k: an integer\n",
    "        \n",
    "    Return:\n",
    "        the kth smallest integer in matrix\n",
    "    \"\"\"\n",
    "\n",
    "    heap = []\n",
    "    visited = set()\n",
    "\n",
    "    heapq.heappush(heap, (matrix[0][0], 0, 0))\n",
    "    visited.add((0, 0))\n",
    "\n",
    "    ret = [] # array is not necessary, can be a variable\n",
    "    while len(ret) < k: # O(K)\n",
    "        num, row, col = heapq.heappop(heap)\n",
    "        ret.append(num)\n",
    "\n",
    "        if row + 1 < len(matrix) and (row + 1, col) not in visited:\n",
    "            heapq.heappush(heap, (matrix[row + 1][col], row + 1, col)) # O(logK)\n",
    "            visited.add((row + 1, col))\n",
    "\n",
    "        if col + 1 < len(matrix[0]) and (row, col + 1) not in visited:\n",
    "            heapq.heappush(heap, (matrix[row][col + 1], row, col + 1)) # O(logK)\n",
    "            visited.add((row, col + 1))\n",
    "\n",
    "    return ret[-1]"
   ]
  }
 ],
 "metadata": {
  "kernelspec": {
   "display_name": "Python 3 (ipykernel)",
   "language": "python",
   "name": "python3"
  },
  "language_info": {
   "codemirror_mode": {
    "name": "ipython",
    "version": 3
   },
   "file_extension": ".py",
   "mimetype": "text/x-python",
   "name": "python",
   "nbconvert_exporter": "python",
   "pygments_lexer": "ipython3",
   "version": "3.7.3"
  }
 },
 "nbformat": 4,
 "nbformat_minor": 5
}
