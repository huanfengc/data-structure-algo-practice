{
 "cells": [
  {
   "cell_type": "markdown",
   "id": "9e06aa7b",
   "metadata": {},
   "source": [
    "## 23. Merge k Sorted Lists [problem](https://leetcode.com/problems/merge-k-sorted-lists/)\n",
    "\n",
    "You are given an array of ```k``` linked-lists lists, each linked-list is sorted in ascending order.\n",
    "\n",
    "Merge all the linked-lists into one sorted linked-list and return it.\n",
    "\n",
    "---\n",
    "\n",
    "**Constraints:**\n",
    "\n",
    "* ```k == lists.length```\n",
    "* ```0 <= k <= 10^4```\n",
    "* ```0 <= lists[i].length <= 500```\n",
    "* ```-10^4 <= lists[i][j] <= 10^4```\n",
    "* ```lists[i]``` is sorted in ascending order.\n",
    "* The sum of ```lists[i].length``` will not exceed ```10^4```."
   ]
  },
  {
   "cell_type": "markdown",
   "id": "03137254",
   "metadata": {},
   "source": [
    "### 1. Priority queue (heap)\n",
    "* Time complexity: $O(NlogK)$, $N$ is the number of all nodes in ```lists``` and $K$ is the number of linked lists in ```lists```.\n",
    "* Space complexity: $O(K)$ for ```heap```, $O(N)$ for the output linkied list."
   ]
  },
  {
   "cell_type": "code",
   "execution_count": 1,
   "id": "b673eecd",
   "metadata": {},
   "outputs": [],
   "source": [
    "from typing import List, Optional\n",
    "\n",
    "# Definition for singly-linked list.\n",
    "class ListNode:\n",
    "    def __init__(self, val=0, next=None):\n",
    "        self.val = val\n",
    "        self.next = next\n",
    "        \n",
    "        \n",
    "class Solution:\n",
    "    def mergeKLists(self, lists: List[Optional[ListNode]]) -> Optional[ListNode]:\n",
    "        \"\"\"\n",
    "        Args:\n",
    "            lists: a list of linked lists\n",
    "            \n",
    "        Return:\n",
    "            a sorted linked list merging all the linked listed in lists\n",
    "        \"\"\"\n",
    "        \n",
    "        dummy = curr = ListNode(0)\n",
    "        heap = []\n",
    "#        heapq.heapify(heap)\n",
    "        \n",
    "        for i, node in enumerate(lists):\n",
    "            if node:\n",
    "                heap.append((node.val, i, node)) # add i to avoid comparing nodes\n",
    "        heapq.heapify(heap)\n",
    "        \n",
    "        while heap:\n",
    "            val, i, node = heapq.heappop(heap)\n",
    "            curr.next = node\n",
    "            curr = curr.next\n",
    "            if node.next:\n",
    "                heapq.heappush(heap, (node.next.val, i, node.next))\n",
    "        return dummy.next   "
   ]
  },
  {
   "cell_type": "markdown",
   "id": "a7c8d947",
   "metadata": {},
   "source": [
    "### 2. Divide and conquer\n",
    "* Time complexity: $O(NlogK)$\n",
    "* Space complexity: $O(1)$"
   ]
  },
  {
   "cell_type": "code",
   "execution_count": null,
   "id": "e5315494",
   "metadata": {},
   "outputs": [],
   "source": []
  }
 ],
 "metadata": {
  "kernelspec": {
   "display_name": "Python 3 (ipykernel)",
   "language": "python",
   "name": "python3"
  },
  "language_info": {
   "codemirror_mode": {
    "name": "ipython",
    "version": 3
   },
   "file_extension": ".py",
   "mimetype": "text/x-python",
   "name": "python",
   "nbconvert_exporter": "python",
   "pygments_lexer": "ipython3",
   "version": "3.7.3"
  }
 },
 "nbformat": 4,
 "nbformat_minor": 5
}
