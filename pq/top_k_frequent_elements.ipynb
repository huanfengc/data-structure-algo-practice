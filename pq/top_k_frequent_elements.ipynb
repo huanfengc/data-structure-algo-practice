{
 "cells": [
  {
   "cell_type": "markdown",
   "id": "e89b5fc8",
   "metadata": {},
   "source": [
    "## 347. Top K Frequent Elements [problem](https://leetcode.com/problems/top-k-frequent-elements/)\n",
    "\n",
    "Given an integer array ```nums``` and an integer ```k```, return the ```k``` most frequent elements. You may return the answer in any order.\n",
    "\n",
    "---\n",
    "\n",
    "**Constraints:**\n",
    "\n",
    "* ```1 <= nums.length <= 10^5```\n",
    "* ```k``` is in the range ```[1, the number of unique elements in the array]```.\n",
    "* It is guaranteed that the answer is **unique**."
   ]
  },
  {
   "cell_type": "markdown",
   "id": "2154de8a",
   "metadata": {},
   "source": [
    "### 1. Priority queue (min heap in Python)\n",
    "* Time complexity: $O(NlogK)$ for scanning the entire array with size $N$ and maintaining the heap with size $K$.\n",
    "* Space complexity: $O(N+K)$ for the map and result array."
   ]
  },
  {
   "cell_type": "code",
   "execution_count": 1,
   "id": "88fb88d3",
   "metadata": {},
   "outputs": [],
   "source": [
    "from typing import List\n",
    "\n",
    "def topKFrequent1(nums: List[int], k: int) -> List[int]:\n",
    "    \"\"\"\n",
    "    Args:\n",
    "        nums: an integer array\n",
    "        k: the number of the most frequent numbers\n",
    "        \n",
    "    Return:\n",
    "        k most frequent numbers in nums\n",
    "    \"\"\"\n",
    "\n",
    "    freq_map = Counter(nums) # O(N)\n",
    "    ret = []\n",
    "#        heapq.heapify(ret)\n",
    "\n",
    "    for num, freq in freq_map.items(): # O(N)\n",
    "        if len(ret) < k:\n",
    "            heapq.heappush(ret, (freq, num))\n",
    "        else:\n",
    "            heapq.heappushpop(ret, (freq, num)) # O(logK)\n",
    "\n",
    "    return [num for freq, num in ret] # O(K)"
   ]
  },
  {
   "cell_type": "markdown",
   "id": "5ce034bf",
   "metadata": {},
   "source": [
    "### 2. QuickSelect\n",
    "* Time complexity: $O(N)$\n",
    "* Space complexity: $O(N)$"
   ]
  },
  {
   "cell_type": "code",
   "execution_count": null,
   "id": "805eec5b",
   "metadata": {},
   "outputs": [],
   "source": []
  }
 ],
 "metadata": {
  "kernelspec": {
   "display_name": "Python 3 (ipykernel)",
   "language": "python",
   "name": "python3"
  },
  "language_info": {
   "codemirror_mode": {
    "name": "ipython",
    "version": 3
   },
   "file_extension": ".py",
   "mimetype": "text/x-python",
   "name": "python",
   "nbconvert_exporter": "python",
   "pygments_lexer": "ipython3",
   "version": "3.7.3"
  }
 },
 "nbformat": 4,
 "nbformat_minor": 5
}
