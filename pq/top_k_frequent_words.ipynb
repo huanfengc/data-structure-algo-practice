{
 "cells": [
  {
   "cell_type": "markdown",
   "id": "232e607d",
   "metadata": {},
   "source": [
    "## 692. Top K Frequent Words [problem](https://leetcode.com/problems/top-k-frequent-words/)\n",
    "\n",
    "Given an array of strings ```words``` and an integer ```k```, return the ```k``` most frequent strings.\n",
    "\n",
    "Return the answer sorted by the frequency from highest to lowest. **Sort the words with the same frequency by their lexicographical order.**\n",
    "\n",
    "---\n",
    "\n",
    "**Constraints:**\n",
    "\n",
    "* ```1 <= words.length <= 500```\n",
    "* ```1 <= words[i] <= 10```\n",
    "* ```words[i]``` consists of lowercase English letters.\n",
    "* ```k``` is in the range ```[1, The number of unique words[i]]```"
   ]
  },
  {
   "cell_type": "markdown",
   "id": "43b554fe",
   "metadata": {},
   "source": [
    "### 1. Priority queue and Custom comparator via User-defined Heap Element (Class)\n",
    "* Time complexity: $O(NlogK)$\n",
    "* Space complexity: $O(N+K)$"
   ]
  },
  {
   "cell_type": "code",
   "execution_count": 1,
   "id": "52bde72e",
   "metadata": {},
   "outputs": [],
   "source": [
    "from typing import List\n",
    "\n",
    "class heapElement:\n",
    "    \"\"\"\n",
    "    heap element, sort based on word frequency, \n",
    "    if the frequency is the same, sort based on the lexicographical order.\n",
    "    \n",
    "    __lt__ and __eq__ method overwrite Python built-in comparator for the heap.\n",
    "    \"\"\"\n",
    "    \n",
    "    def __init__(self, word, freq):\n",
    "        self.word = word\n",
    "        self.freq = freq\n",
    "    \n",
    "    def __lt__(self, other):\n",
    "        if self.freq == other.freq:\n",
    "            return self.word > other.word\n",
    "        return self.freq < other.freq\n",
    "    \n",
    "    def __eq__(self, other):\n",
    "        return self.word == other.word and self.freq == other.freq\n",
    "    \n",
    "\n",
    "class Solution:\n",
    "    def topKFrequent(self, words: List[str], k: int) -> List[str]:\n",
    "        \"\"\"\n",
    "        Args:\n",
    "            words: an array of strings\n",
    "            k: the number of the most frequent words\n",
    "            \n",
    "        Return:\n",
    "            k most frequent words\n",
    "        \"\"\"\n",
    "        \n",
    "        self.word_freq = Counter(words) # O(N)\n",
    "        heap = []\n",
    "        \n",
    "        for word, freq in self.word_freq.items(): # O(N)\n",
    "            if len(heap) < k:\n",
    "                heapq.heappush(heap, ((heapElement(word, freq), word)))\n",
    "            else:\n",
    "                heapq.heappushpop(heap, ((heapElement(word, freq), word))) # O(logK)\n",
    "        \n",
    "        ret = []\n",
    "        for i in range(k): # O(K)\n",
    "            ret.append(heapq.heappop(heap)[1]) # O(logK)\n",
    "        return ret[::-1]"
   ]
  }
 ],
 "metadata": {
  "kernelspec": {
   "display_name": "Python 3 (ipykernel)",
   "language": "python",
   "name": "python3"
  },
  "language_info": {
   "codemirror_mode": {
    "name": "ipython",
    "version": 3
   },
   "file_extension": ".py",
   "mimetype": "text/x-python",
   "name": "python",
   "nbconvert_exporter": "python",
   "pygments_lexer": "ipython3",
   "version": "3.7.3"
  }
 },
 "nbformat": 4,
 "nbformat_minor": 5
}
