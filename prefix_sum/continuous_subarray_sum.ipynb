{
 "cells": [
  {
   "cell_type": "markdown",
   "id": "f9c868b3",
   "metadata": {},
   "source": [
    "## 523. Continuous Subarray Sum [problem](https://leetcode.com/problems/continuous-subarray-sum/)\n",
    "\n",
    "Given an integer array ```nums``` and an integer ```k```, return ```true``` if ```nums``` has a continuous subarray of size at least two whose elements sum up to a multiple of ```k```, or ```false``` otherwise.\n",
    "\n",
    "An integer ```x``` is a multiple of ```k``` if there exists an integer ```n``` such that ```x = n * k```. ```0``` is always a multiple of ```k```.\n",
    "\n",
    "---\n",
    "\n",
    "**Constraints:**\n",
    "\n",
    "* ```1 <= nums.length <= 10^5```\n",
    "* ```0 <= nums[i] <= 10^9```\n",
    "* ```0 <= sum(nums[i]) <= 2^31 - 1```\n",
    "* ```1 <= k <= 2^31 - 1```"
   ]
  },
  {
   "cell_type": "markdown",
   "id": "5dc874f1",
   "metadata": {},
   "source": [
    "### 1. Prefix sum\n",
    "* Time complexity: $O(N)$ for the for-loop.\n",
    "* Space compelxity: $O(N)$ for the hash table"
   ]
  },
  {
   "cell_type": "code",
   "execution_count": 1,
   "id": "66493a93",
   "metadata": {},
   "outputs": [],
   "source": [
    "from typing import List\n",
    "\n",
    "def checkSubarraySum(nums: List[int], k: int) -> bool:\n",
    "    \"\"\"\n",
    "    Args:\n",
    "        nums: an array of integers\n",
    "        k: an integer\n",
    "        \n",
    "    Return:\n",
    "        True if the sum of any subarrary with size larger than 2 is a multiple of k, False otherwise\n",
    "    \"\"\"\n",
    "\n",
    "    hashmap = {0:-1}\n",
    "    running_sum = 0\n",
    "\n",
    "    for i, num in enumerate(nums):\n",
    "        running_sum += num\n",
    "        res = running_sum % k            \n",
    "        if res not in hashmap:\n",
    "            hashmap[res] = i\n",
    "        elif i - hashmap[res] > 1:\n",
    "            return True\n",
    "\n",
    "    return False"
   ]
  }
 ],
 "metadata": {
  "kernelspec": {
   "display_name": "Python 3 (ipykernel)",
   "language": "python",
   "name": "python3"
  },
  "language_info": {
   "codemirror_mode": {
    "name": "ipython",
    "version": 3
   },
   "file_extension": ".py",
   "mimetype": "text/x-python",
   "name": "python",
   "nbconvert_exporter": "python",
   "pygments_lexer": "ipython3",
   "version": "3.7.3"
  }
 },
 "nbformat": 4,
 "nbformat_minor": 5
}
