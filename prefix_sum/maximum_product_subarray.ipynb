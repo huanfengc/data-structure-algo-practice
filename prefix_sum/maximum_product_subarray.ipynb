{
 "cells": [
  {
   "cell_type": "markdown",
   "id": "ef4d3967",
   "metadata": {},
   "source": [
    "## 152. Maximum Product Subarray [problem](https://leetcode.com/problems/maximum-product-subarray/)\n",
    "\n",
    "Given an integer array ```nums```, find a **contiguous non-empty subarray** within the array that has the largest product, and return the product.\n",
    "\n",
    "The test cases are generated so that the answer will fit in a 32-bit integer.\n",
    "\n",
    "**A subarray is a contiguous subsequence of the array.**\n",
    "\n",
    "---\n",
    "\n",
    "**Constraints:**\n",
    "\n",
    "* ```1 <= nums.length <= 2 * 10^4```\n",
    "* ```-10 <= nums[i] <= 10```\n",
    "* The product of any prefix or suffix of nums is guaranteed to fit in a 32-bit integer."
   ]
  },
  {
   "cell_type": "markdown",
   "id": "e879a826",
   "metadata": {},
   "source": [
    "### 1. Dynamic programming\n",
    "* Time complexity: $O(N)$, $N$ is the length of ```nums```.\n",
    "* Space complexity: $O(1)$\n",
    "\n",
    "**Key point: there can be three cases where the largest product of a subarray can be updated: 1) all positive, 2) two negative, 3) interrupted by zero.**"
   ]
  },
  {
   "cell_type": "code",
   "execution_count": 1,
   "id": "fcd22362",
   "metadata": {},
   "outputs": [],
   "source": [
    "from typing import List\n",
    "\n",
    "class Solution1:\n",
    "    def maxProduct(self, nums: List[int]) -> int:\n",
    "        \"\"\"\n",
    "        Args:\n",
    "            nums: an integer array\n",
    "        \n",
    "        Return:\n",
    "            the largest product of a subarray of nums\n",
    "        \"\"\"\n",
    "        \n",
    "        max_product = min_product = nums[0]\n",
    "        res = max_product\n",
    "        \n",
    "        for i in range(1, len(nums)):\n",
    "            num = nums[i]\n",
    "            tmp_max = max(num, max_product * num, min_product * num)\n",
    "            min_product = min(num, max_product * num, min_product * num)\n",
    "            max_product = tmp_max\n",
    "            res = max(res, max_product) # zero can interrupt max chain\n",
    "        return res"
   ]
  }
 ],
 "metadata": {
  "kernelspec": {
   "display_name": "Python 3 (ipykernel)",
   "language": "python",
   "name": "python3"
  },
  "language_info": {
   "codemirror_mode": {
    "name": "ipython",
    "version": 3
   },
   "file_extension": ".py",
   "mimetype": "text/x-python",
   "name": "python",
   "nbconvert_exporter": "python",
   "pygments_lexer": "ipython3",
   "version": "3.7.3"
  }
 },
 "nbformat": 4,
 "nbformat_minor": 5
}
