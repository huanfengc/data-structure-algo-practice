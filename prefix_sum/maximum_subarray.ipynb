{
 "cells": [
  {
   "cell_type": "markdown",
   "id": "9869581f",
   "metadata": {},
   "source": [
    "## 53. Maximum Subarray [problem](https://leetcode.com/problems/maximum-subarray/)\n",
    "\n",
    "Given an integer array ```nums```, find the contiguous subarray (containing at least one number) which has the largest sum and return its sum.\n",
    "\n",
    "**A subarray is a contiguous part of an array.**\n",
    "\n",
    "---\n",
    "\n",
    "**Constraints:**\n",
    "\n",
    "* ```1 <= nums.length <= 10^5```\n",
    "* ```-10^4 <= nums[i] <= 10^4```"
   ]
  },
  {
   "cell_type": "markdown",
   "id": "00d5d302",
   "metadata": {},
   "source": [
    "### 1. Prefix sum\n",
    "* Time complexity: $O(N)$\n",
    "* Space complexity: $O(1)$"
   ]
  },
  {
   "cell_type": "code",
   "execution_count": 1,
   "id": "477c9ccf",
   "metadata": {},
   "outputs": [],
   "source": [
    "from typing import List\n",
    "\n",
    "def maxSubArray(nums: List[int]) -> int:\n",
    "    \"\"\"\n",
    "    Args:\n",
    "        nums: array of integers\n",
    "        \n",
    "    Return:\n",
    "        the maximum sum of a subarray\n",
    "    \"\"\"\n",
    "\n",
    "    running_sum = 0\n",
    "    max_sum = nums[0]\n",
    "    min_sum = 0\n",
    "\n",
    "    for num in nums:\n",
    "        running_sum += num\n",
    "        max_sum = max(max_sum, running_sum - min_sum)\n",
    "        min_sum = min(min_sum, running_sum)\n",
    "    return max_sum"
   ]
  },
  {
   "cell_type": "markdown",
   "id": "679b1db2",
   "metadata": {},
   "source": [
    "### 2. Dynamic programming"
   ]
  },
  {
   "cell_type": "markdown",
   "id": "4d8bdae9",
   "metadata": {},
   "source": [
    "### 3. Divide and conquer"
   ]
  }
 ],
 "metadata": {
  "kernelspec": {
   "display_name": "Python 3 (ipykernel)",
   "language": "python",
   "name": "python3"
  },
  "language_info": {
   "codemirror_mode": {
    "name": "ipython",
    "version": 3
   },
   "file_extension": ".py",
   "mimetype": "text/x-python",
   "name": "python",
   "nbconvert_exporter": "python",
   "pygments_lexer": "ipython3",
   "version": "3.7.3"
  }
 },
 "nbformat": 4,
 "nbformat_minor": 5
}
