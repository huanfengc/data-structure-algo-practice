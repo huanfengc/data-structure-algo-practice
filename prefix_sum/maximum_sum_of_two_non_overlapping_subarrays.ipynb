{
 "cells": [
  {
   "cell_type": "markdown",
   "id": "cd5f282a",
   "metadata": {},
   "source": [
    "## 1031. Maximum Sum of Two Non-Overlapping Subarrays [problem](https://leetcode.com/problems/maximum-sum-of-two-non-overlapping-subarrays/)\n",
    "\n",
    "Given an integer array ```nums``` and two integers ```firstLen``` and ```secondLen```, return the maximum sum of elements in two non-overlapping subarrays with lengths ```firstLen``` and ```secondLen```.\n",
    "\n",
    "The array with length ```firstLen``` could occur before or after the array with length ```secondLen```, but they have to be non-overlapping.\n",
    "\n",
    "A subarray is a contiguous part of an array.\n",
    "\n",
    "---\n",
    "\n",
    "**Constraints:**\n",
    "\n",
    "```1 <= firstLen, secondLen <= 1000```\n",
    "```2 <= firstLen + secondLen <= 1000```\n",
    "```firstLen + secondLen <= nums.length <= 1000```\n",
    "```0 <= nums[i] <= 1000```"
   ]
  },
  {
   "cell_type": "markdown",
   "id": "94d56e8b",
   "metadata": {},
   "source": [
    "### 1. Prefix sum\n",
    "* Time complexity: $O(N)$ for constructing the prefix sum array.\n",
    "* Space complexity: $O(N)$ for the prefix sum array."
   ]
  },
  {
   "cell_type": "code",
   "execution_count": 1,
   "id": "d798661a",
   "metadata": {},
   "outputs": [],
   "source": [
    "from typing import List\n",
    "\n",
    "def maxSumTwoNoOverlap(nums: List[int], firstLen: int, secondLen: int) -> int:\n",
    "    \"\"\"\n",
    "    Args:\n",
    "        nums: an integer array\n",
    "        firstLen, seconLen: two integers, sizes of two subarrays\n",
    "        \n",
    "    Return:\n",
    "        max sum of two non-overlapping subarrays\n",
    "    \"\"\"\n",
    "    \n",
    "    # increasing array size by 1 makes accessing prefix sum more conveniently (true?)\n",
    "    prefixsum = [0] * (len(nums) + 1)\n",
    "    for i in range(1, len(nums) + 1):\n",
    "        prefixsum[i] = prefixsum[i-1] + nums[i-1]\n",
    "\n",
    "    def maxSum(l, m):\n",
    "        maxL = res = 0\n",
    "        for i in range(l + m, len(prefixsum)):\n",
    "            maxL = max(maxL, prefixsum[i-m] - prefixsum[i-m-l])\n",
    "            res = max(res, maxL + prefixsum[i] - prefixsum[i-m])\n",
    "        return res\n",
    "\n",
    "    return max(maxSum(firstLen, secondLen), maxSum(secondLen, firstLen))"
   ]
  },
  {
   "cell_type": "markdown",
   "id": "664e5f16",
   "metadata": {},
   "source": [
    "### 2. Two pointers (reduce the space complexity to $O(1)$ )"
   ]
  },
  {
   "cell_type": "code",
   "execution_count": null,
   "id": "2bde0e9f",
   "metadata": {},
   "outputs": [],
   "source": []
  }
 ],
 "metadata": {
  "kernelspec": {
   "display_name": "Python 3 (ipykernel)",
   "language": "python",
   "name": "python3"
  },
  "language_info": {
   "codemirror_mode": {
    "name": "ipython",
    "version": 3
   },
   "file_extension": ".py",
   "mimetype": "text/x-python",
   "name": "python",
   "nbconvert_exporter": "python",
   "pygments_lexer": "ipython3",
   "version": "3.7.3"
  }
 },
 "nbformat": 4,
 "nbformat_minor": 5
}
