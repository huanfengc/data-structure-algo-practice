{
 "cells": [
  {
   "cell_type": "markdown",
   "id": "3583a37f",
   "metadata": {},
   "source": [
    "## 238. Product of Array Except Self [problem](https://leetcode.com/problems/product-of-array-except-self/)\n",
    "\n",
    "Given an integer array ```nums```, return an array ```answer``` such that ```answer[i]``` is equal to the product of all the elements of nums except ```nums[i]```.\n",
    "\n",
    "The product of any prefix or suffix of nums is guaranteed to fit in a **32-bit integer**.\n",
    "\n",
    "**You must write an algorithm that runs in $O(N)$ time and without using the division operation.**\n",
    "\n",
    "---\n",
    "\n",
    "**Constraints:**\n",
    "\n",
    "* ```2 <= nums.length <= 10^5```\n",
    "* ```-30 <= nums[i] <= 30```\n",
    "* The product of any prefix or suffix of ```nums``` is guaranteed to fit in a 32-bit integer.\n",
    "\n",
    "---\n",
    "\n",
    "**Follow up: Can you solve the problem in $O(1)$ extra space complexity? (The output array does not count as extra space for space complexity analysis.)**"
   ]
  },
  {
   "cell_type": "markdown",
   "id": "49c330f7",
   "metadata": {},
   "source": [
    "### 1. Left and Right cumulative products\n",
    "* Time complexity: $O(N)$\n",
    "* Space compelxity: $O(1)$"
   ]
  },
  {
   "cell_type": "code",
   "execution_count": 1,
   "id": "1e80de17",
   "metadata": {},
   "outputs": [],
   "source": [
    "from typing import List\n",
    "\n",
    "def productExceptSelf(self, nums: List[int]) -> List[int]:\n",
    "    \"\"\"\n",
    "    Args:\n",
    "        nums: an integer array\n",
    "    \n",
    "    Return:\n",
    "        an integer array whose elements are the product of all elements in nums except for itself\n",
    "    \"\"\"\n",
    "\n",
    "    n = len(nums)\n",
    "    ret = [1] * n\n",
    "\n",
    "    for i in range(1, n): # use output array to hold left product\n",
    "        ret[i] = ret[i - 1] * nums[i - 1]\n",
    "\n",
    "    right_product = 1\n",
    "    for i in range(n - 2, -1, -1): # calculate right product on the fly\n",
    "        right_product *= nums[i + 1]\n",
    "        ret[i] = ret[i] * right_product\n",
    "\n",
    "    return ret "
   ]
  },
  {
   "cell_type": "markdown",
   "id": "a242b362",
   "metadata": {},
   "source": [
    "**Here is a more clear version but using extra space:**"
   ]
  },
  {
   "cell_type": "code",
   "execution_count": 2,
   "id": "e0412e0e",
   "metadata": {},
   "outputs": [],
   "source": [
    "def productExceptSelf(self, nums: List[int]) -> List[int]:\n",
    "    \"\"\"\n",
    "    Args:\n",
    "        nums: an integer array\n",
    "    \n",
    "    Return:\n",
    "        an integer array whose elements are the product of all elements in nums except for itself\n",
    "    \"\"\"\n",
    "\n",
    "    n = len(nums)\n",
    "    left_product, right_product = [1] * n, [1] * n\n",
    "\n",
    "    for i in range(1, n):\n",
    "        left_product[i] = left_product[i - 1] * nums[i - 1]\n",
    "\n",
    "    for i in range(n - 2, -1, -1):\n",
    "        right_product[i] = right_product[i + 1] * nums[i + 1]\n",
    "\n",
    "    ret = []\n",
    "    for i in range(n):\n",
    "        ret.append(left_product[i] * right_product[i])\n",
    "    return ret"
   ]
  }
 ],
 "metadata": {
  "kernelspec": {
   "display_name": "Python 3 (ipykernel)",
   "language": "python",
   "name": "python3"
  },
  "language_info": {
   "codemirror_mode": {
    "name": "ipython",
    "version": 3
   },
   "file_extension": ".py",
   "mimetype": "text/x-python",
   "name": "python",
   "nbconvert_exporter": "python",
   "pygments_lexer": "ipython3",
   "version": "3.7.3"
  }
 },
 "nbformat": 4,
 "nbformat_minor": 5
}
