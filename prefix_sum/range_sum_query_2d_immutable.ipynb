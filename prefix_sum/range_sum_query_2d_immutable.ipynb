{
 "cells": [
  {
   "cell_type": "markdown",
   "id": "9f286942",
   "metadata": {},
   "source": [
    "## 304. Range Sum Query 2D - Immutable [problem](https://leetcode.com/problems/range-sum-query-2d-immutable/)\n",
    "\n",
    "Given a 2D matrix ```matrix```, handle multiple queries of the following type:\n",
    "\n",
    "* Calculate the sum of the elements of ```matrix``` inside the rectangle defined by its upper left corner ```(row1, col1)``` and lower right corner ```(row2, col2)```.\n",
    "\n",
    "Implement the ```NumMatrix``` class:\n",
    "\n",
    "* ```NumMatrix(int[][] matrix)``` Initializes the object with the integer matrix ```matrix```.\n",
    "* ```int sumRegion(int row1, int col1, int row2, int col2)``` Returns the sum of the elements of ```matrix``` inside the rectangle defined by its upper left corner ```(row1, col1)``` and lower right corner ```(row2, col2)```.\n",
    "\n",
    "---\n",
    "\n",
    "**Constraints:**\n",
    "\n",
    "* ```m == matrix.length```\n",
    "* ```n == matrix[i].length```\n",
    "* ```1 <= m, n <= 200```\n",
    "* ```-10^5 <= matrix[i][j] <= 10^5```\n",
    "* ```-10^9 <= sum(matrix[i][j]) <= 10^9```\n",
    "* ```0 <= row1 <= row2 < m```\n",
    "* ```0 <= col1 <= col2 < n```\n",
    "* At most ```10^4``` calls will be made to ```sumRegion```."
   ]
  },
  {
   "cell_type": "markdown",
   "id": "6c40699b",
   "metadata": {},
   "source": [
    "### 1. Prefix sum (based on rows of ```matrix```)\n",
    "* Time complexity: $O(M\\times N)$ for creating prefix sum matrix according rows (pre-computation), $O(M)$ for each query of ```sumRegion```.\n",
    "* Space complexity: $O(M\\times N)$ for holding prefix sum matrix."
   ]
  },
  {
   "cell_type": "code",
   "execution_count": 1,
   "id": "c4fe9382",
   "metadata": {},
   "outputs": [],
   "source": [
    "from typing import List\n",
    "\n",
    "class NumMatrix:\n",
    "\n",
    "    def __init__(self, matrix: List[List[int]]):\n",
    "        \"\"\" initialize the matrix and the prefix sum matrix according to rows\n",
    "        Args:\n",
    "            matrix: a 2D integers array\n",
    "        \"\"\"\n",
    "        \n",
    "        self.matrix = matrix\n",
    "        m, n = len(matrix), len(matrix[0])\n",
    "        # initializing the prefix sum matrix as follows, do not make copies by using '*'!\n",
    "        self.prefixSum = [[0 for _ in range(n + 1)] for _ in range(m)] \n",
    "        \n",
    "        for r in range(m):\n",
    "            for c in range(n):\n",
    "                self.prefixSum[r][c + 1] = self.prefixSum[r][c] + matrix[r][c]\n",
    "        \n",
    "\n",
    "    def sumRegion(self, row1: int, col1: int, row2: int, col2: int) -> int:\n",
    "        \"\"\"\n",
    "        Args:\n",
    "            row1, col1: upper left corner of rectangle\n",
    "            row2, col2: lower right corner of rectangle\n",
    "        \n",
    "        Return:\n",
    "            sum of the matrix elements surrouded by the rectangle\n",
    "        \"\"\"\n",
    "        \n",
    "        ret = 0\n",
    "        for i in range(row1, row2 + 1):\n",
    "            ret += self.prefixSum[i][col2 + 1] - self.prefixSum[i][col1]\n",
    "        return ret"
   ]
  },
  {
   "cell_type": "markdown",
   "id": "3f25bc99",
   "metadata": {},
   "source": [
    "### 2. Optimized approach 1 (reduce the time complexity of each query to $O(1)$ )\n",
    "* Time complexity: $O(M\\times N)$ for creating prefix sum matrix according rows (pre-computation), $O(1)$ for each query of ```sumRegion```.\n",
    "* Space complexity: $O(M\\times N)$ for holding prefix sum matrix."
   ]
  },
  {
   "cell_type": "code",
   "execution_count": null,
   "id": "4bccfd86",
   "metadata": {},
   "outputs": [],
   "source": []
  }
 ],
 "metadata": {
  "kernelspec": {
   "display_name": "Python 3 (ipykernel)",
   "language": "python",
   "name": "python3"
  },
  "language_info": {
   "codemirror_mode": {
    "name": "ipython",
    "version": 3
   },
   "file_extension": ".py",
   "mimetype": "text/x-python",
   "name": "python",
   "nbconvert_exporter": "python",
   "pygments_lexer": "ipython3",
   "version": "3.7.3"
  }
 },
 "nbformat": 4,
 "nbformat_minor": 5
}
