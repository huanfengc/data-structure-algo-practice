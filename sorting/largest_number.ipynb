{
 "cells": [
  {
   "cell_type": "markdown",
   "id": "dc91df21",
   "metadata": {},
   "source": [
    "## 179. Largest Number [problem](https://leetcode.com/problems/largest-number/)\n",
    "\n",
    "Given a list of non-negative integers ```nums```, arrange them such that they form the largest number and return it.\n",
    "\n",
    "Since the result may be very large, so you need to **return a string** instead of an integer.\n",
    "\n",
    "---\n",
    "\n",
    "**Constraints:**\n",
    "\n",
    "* ```1 <= nums.length <= 100```"
   ]
  },
  {
   "cell_type": "markdown",
   "id": "c8bb6221",
   "metadata": {},
   "source": [
    "### 1. Sorting (define a comparator)\n",
    "* Time complexity: $O(NlogN)$ for sorting.\n",
    "* Space complexity: $O(N)$ for a copy of sorted array."
   ]
  },
  {
   "cell_type": "code",
   "execution_count": 1,
   "id": "c78dfab5",
   "metadata": {},
   "outputs": [],
   "source": [
    "from typing import List\n",
    "\n",
    "class Solution:\n",
    "    def largestNumber(self, nums: List[int]) -> str:\n",
    "        \"\"\"\n",
    "        Args:\n",
    "            nums: an integer array\n",
    "        \n",
    "        Return:\n",
    "            the largest number (as a string) that can be formed by the numbers in nums\n",
    "        \"\"\"\n",
    "        \n",
    "        for i in range(len(nums)):\n",
    "            nums[i] = str(nums[i])\n",
    "        sorted_nums = sorted(nums, key=Compare)\n",
    "        return sorted_nums\n",
    "        largest_num = ''.join(sorted_nums)\n",
    "        \n",
    "        return '0' if largest_num[0] == '0' else largest_num\n",
    "        \n",
    "        \n",
    "class Compare(str):\n",
    "    def __lt__(x, y):\n",
    "        \"\"\"A comparator based on the number after concatenating\n",
    "        \"\"\"\n",
    "        \n",
    "        return x + y > y + x"
   ]
  }
 ],
 "metadata": {
  "kernelspec": {
   "display_name": "Python 3 (ipykernel)",
   "language": "python",
   "name": "python3"
  },
  "language_info": {
   "codemirror_mode": {
    "name": "ipython",
    "version": 3
   },
   "file_extension": ".py",
   "mimetype": "text/x-python",
   "name": "python",
   "nbconvert_exporter": "python",
   "pygments_lexer": "ipython3",
   "version": "3.7.3"
  }
 },
 "nbformat": 4,
 "nbformat_minor": 5
}
