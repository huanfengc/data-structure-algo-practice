{
 "cells": [
  {
   "cell_type": "markdown",
   "id": "3dc6629f",
   "metadata": {},
   "source": [
    "## Merge Intervals [problem](https://leetcode.com/problems/merge-intervals/)\n",
    "\n",
    "Given an array of ```intervals``` where ```intervals[i] = [starti, endi]```, merge all overlapping intervals, and return an array of the non-overlapping intervals that cover all the intervals in the input.\n",
    "\n",
    "**Constraints:**\n",
    "\n",
    "* ```1 <= intervals.length <= 10^4```\n",
    "* ```intervals[i].length == 2```\n",
    "* ```0 <= starti <= endi <= 10^4```"
   ]
  },
  {
   "cell_type": "markdown",
   "id": "bd745115",
   "metadata": {},
   "source": [
    "### 1. Sorting the intervals based on the lower bounds\n",
    "time complexity: $O(NlogN)$ for sorting; space complexity: **$O(N)$ for Python ```sort()``` method (?)**.\n",
    "\n",
    "**```lambda``` function is used.**"
   ]
  },
  {
   "cell_type": "code",
   "execution_count": 1,
   "id": "9ffe9454",
   "metadata": {},
   "outputs": [],
   "source": [
    "def merge(intervals):\n",
    "\n",
    "    intervals.sort(key = lambda x: x[0])\n",
    "    merged = []\n",
    "\n",
    "    for interval in intervals:\n",
    "        if not merged or ( merged[-1][1] < interval[0] ):\n",
    "            merged.append(interval)\n",
    "        else:\n",
    "            merged[-1][1] = max(merged[-1][1], interval[1])\n",
    "    return merged"
   ]
  }
 ],
 "metadata": {
  "kernelspec": {
   "display_name": "Python 3 (ipykernel)",
   "language": "python",
   "name": "python3"
  },
  "language_info": {
   "codemirror_mode": {
    "name": "ipython",
    "version": 3
   },
   "file_extension": ".py",
   "mimetype": "text/x-python",
   "name": "python",
   "nbconvert_exporter": "python",
   "pygments_lexer": "ipython3",
   "version": "3.7.3"
  }
 },
 "nbformat": 4,
 "nbformat_minor": 5
}
