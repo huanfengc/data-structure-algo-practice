{
 "cells": [
  {
   "cell_type": "markdown",
   "id": "418cd93a",
   "metadata": {},
   "source": [
    "## 75. Sort Colors [problem](https://leetcode.com/problems/sort-colors/)\n",
    "\n",
    "Given an array ```nums``` with ```n``` objects colored red, white, or blue, sort them in-place so that objects of the same color are adjacent, with the colors in the order red, white, and blue.\n",
    "\n",
    "We will use the integers ```0```, ```1```, and ```2``` to represent the color red, white, and blue, respectively.\n",
    "\n",
    "You must solve this problem without using the library's sort function.\n",
    "\n",
    "---\n",
    "\n",
    "**Constraints:**\n",
    "\n",
    "* ```n == nums.length```\n",
    "* ```1 <= n <= 300```\n",
    "* ```nums[i]``` is either ```0```, ```1```, or ```2```."
   ]
  },
  {
   "cell_type": "markdown",
   "id": "0ffd2a5d",
   "metadata": {},
   "source": [
    "### 1. One pass (three pointers)\n",
    "* Time complexity: $O(N)$\n",
    "* Space complexity: $O(1)$"
   ]
  },
  {
   "cell_type": "code",
   "execution_count": 1,
   "id": "570e0edf",
   "metadata": {},
   "outputs": [],
   "source": [
    "from typing import List\n",
    "\n",
    "def sortColors1(nums: List[int]) -> None:\n",
    "    \"\"\"\n",
    "    Do not return anything, modify nums in-place instead.\n",
    "    \"\"\"\n",
    "\n",
    "    red_upper, blue_lower = 0, len(nums) - 1\n",
    "    curr = 0\n",
    "\n",
    "    while curr <= blue_lower: # be careful about the equal sign\n",
    "        if nums[curr] == 0:\n",
    "            nums[curr], nums[red_upper] = nums[red_upper], nums[curr]\n",
    "            curr += 1\n",
    "            red_upper += 1\n",
    "        elif nums[curr] == 1:\n",
    "            curr += 1\n",
    "        else: # curr pointer won't be incredent if meeting a blue position\n",
    "            nums[curr], nums[blue_lower] = nums[blue_lower], nums[curr]\n",
    "            blue_lower -= 1"
   ]
  },
  {
   "cell_type": "markdown",
   "id": "f617b9e2",
   "metadata": {},
   "source": [
    "### 2. Two passes (count the number of red, white, blue and then fill the array)\n",
    "* Time complexity: $O(N)$\n",
    "* Space complexity: $O(1)$"
   ]
  },
  {
   "cell_type": "code",
   "execution_count": null,
   "id": "469e098c",
   "metadata": {},
   "outputs": [],
   "source": []
  }
 ],
 "metadata": {
  "kernelspec": {
   "display_name": "Python 3 (ipykernel)",
   "language": "python",
   "name": "python3"
  },
  "language_info": {
   "codemirror_mode": {
    "name": "ipython",
    "version": 3
   },
   "file_extension": ".py",
   "mimetype": "text/x-python",
   "name": "python",
   "nbconvert_exporter": "python",
   "pygments_lexer": "ipython3",
   "version": "3.7.3"
  }
 },
 "nbformat": 4,
 "nbformat_minor": 5
}
