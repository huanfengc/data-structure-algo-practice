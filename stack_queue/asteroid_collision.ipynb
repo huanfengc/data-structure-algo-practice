{
 "cells": [
  {
   "cell_type": "markdown",
   "id": "d10b0103",
   "metadata": {},
   "source": [
    "## Asteroid Collision [problem](https://leetcode.com/problems/asteroid-collision/)\n",
    "\n",
    "We are given an array ```asteroids``` of integers representing asteroids in a row.\n",
    "\n",
    "For each asteroid, the absolute value represents its size, and the sign represents its direction (positive meaning right, negative meaning left). Each asteroid moves at the same speed.\n",
    "\n",
    "Find out the state of the asteroids after all collisions. If two asteroids meet, the smaller one will explode. If both are the same size, both will explode. Two asteroids moving in the same direction will never meet.\n",
    "\n",
    "Constraints:\n",
    "\n",
    "* ```2 <= asteroids.length <= 104```\n",
    "* ```-1000 <= asteroids[i] <= 1000```\n",
    "* ```asteroids[i] != 0```"
   ]
  },
  {
   "cell_type": "markdown",
   "id": "203db026",
   "metadata": {},
   "source": [
    "### 1. Use stack\n",
    "time complexity: $O(N)$, space complexity: $O(N)$."
   ]
  },
  {
   "cell_type": "code",
   "execution_count": 1,
   "id": "922935c7",
   "metadata": {},
   "outputs": [],
   "source": [
    "def asteroidCollision(asteroids):\n",
    "\n",
    "    stack = []\n",
    "    for new in asteroids:\n",
    "        while stack and new < 0 < stack[-1]:\n",
    "            if stack[-1] == -new:\n",
    "                stack.pop()\n",
    "            elif stack[-1] < -new:\n",
    "                stack.pop()\n",
    "                continue\n",
    "            break # if -new < stack[-1], new explodes.\n",
    "        else:\n",
    "            stack.append(new)\n",
    "    return stack"
   ]
  }
 ],
 "metadata": {
  "kernelspec": {
   "display_name": "Python 3 (ipykernel)",
   "language": "python",
   "name": "python3"
  },
  "language_info": {
   "codemirror_mode": {
    "name": "ipython",
    "version": 3
   },
   "file_extension": ".py",
   "mimetype": "text/x-python",
   "name": "python",
   "nbconvert_exporter": "python",
   "pygments_lexer": "ipython3",
   "version": "3.7.3"
  }
 },
 "nbformat": 4,
 "nbformat_minor": 5
}
