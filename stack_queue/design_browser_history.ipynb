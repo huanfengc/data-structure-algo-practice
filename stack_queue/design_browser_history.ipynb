{
 "cells": [
  {
   "cell_type": "markdown",
   "id": "8b1fe836",
   "metadata": {},
   "source": [
    "## Design Browser History [problem](https://leetcode.com/problems/design-browser-history/)\n",
    "\n",
    "You have a browser of one tab where you start on the ```homepage``` and you can visit another ```url```, get back in the history number of ```steps``` or move forward in the history number of ```steps```.\n",
    "\n",
    "Implement the BrowserHistory class:\n",
    "\n",
    "* ```BrowserHistory(string homepage)``` Initializes the object with the ```homepage``` of the browser.\n",
    "* ```void visit(string url)``` Visits ```url``` from the current page. It clears up all the forward history.\n",
    "* ```string back(int steps)``` Move ```steps``` back in history. If you can only return ```x``` steps in the history and ```steps > x```, you will return only ```x``` steps. Return the current ```url``` after moving back in history at most ```steps```.\n",
    "* ```string forward(int steps)``` Move ```steps``` forward in history. If you can only forward ```x``` steps in the history and ```steps > x```, you will forward only ```x``` steps. Return the current ```url``` after forwarding in history at most ```steps```.\n",
    "\n",
    "**Constraints:**\n",
    "\n",
    "* ```1 <= homepage.length <= 20```\n",
    "* ```1 <= url.length <= 20```\n",
    "* ```1 <= steps <= 100```\n",
    "* ```homepage``` and ```url``` consist of  '.' or lower case English letters.\n",
    "* At most ```5000``` calls will be made to ```visit```, ```back```, and ```forward```.\n",
    "\n"
   ]
  },
  {
   "cell_type": "markdown",
   "id": "56b1207b",
   "metadata": {},
   "source": [
    "### 1. Two Stacks\n",
    "time complexity: $O(N)$ for both ```back``` and ```forward``` (the worst case, $N$ is the total visits), $O(1)$ for initialization and ```visit```, space complexity: $O(N)$."
   ]
  },
  {
   "cell_type": "code",
   "execution_count": 1,
   "id": "1dfaa687",
   "metadata": {},
   "outputs": [],
   "source": [
    "class BrowserHistory:\n",
    "\n",
    "    def __init__(self, homepage: str):\n",
    "        self.home = homepage\n",
    "        self.curr = homepage\n",
    "        self.back_his = []\n",
    "        self.forward_his = []\n",
    "\n",
    "\n",
    "    def visit(self, url: str) -> None:\n",
    "        if self.curr != self.home:\n",
    "            self.back_his.append(self.curr)\n",
    "        self.curr = url\n",
    "        del self.forward_his[:]\n",
    "\n",
    "    def back(self, steps: int) -> str:\n",
    "        if self.curr == self.home:\n",
    "            return self.curr\n",
    "        self.forward_his.append(self.curr)\n",
    "        \n",
    "        if steps > len(self.back_his):\n",
    "            while self.back_his:\n",
    "                self.forward_his.append(self.back_his.pop())\n",
    "            self.curr = self.home\n",
    "        else:\n",
    "            while steps > 1:\n",
    "                self.forward_his.append(self.back_his.pop())\n",
    "                steps -= 1\n",
    "            self.curr = self.back_his.pop()\n",
    "        \n",
    "        return self.curr\n",
    "        \n",
    "    def forward(self, steps: int) -> str:\n",
    "        if self.forward_his:\n",
    "            if self.curr != self.home:\n",
    "                self.back_his.append(self.curr)\n",
    "            steps = min(steps, len(self.forward_his))\n",
    "            while steps > 1:\n",
    "                self.back_his.append(self.forward_his.pop())\n",
    "                steps -= 1\n",
    "            self.curr = self.forward_his.pop()\n",
    "        \n",
    "        return self.curr\n",
    "\n",
    "            \n",
    "\n",
    "# Your BrowserHistory object will be instantiated and called as such:\n",
    "# obj = BrowserHistory(homepage)\n",
    "# obj.visit(url)\n",
    "# param_2 = obj.back(steps)\n",
    "# param_3 = obj.forward(steps)"
   ]
  },
  {
   "cell_type": "markdown",
   "id": "9500b1c6",
   "metadata": {},
   "source": [
    "### 2. Stack and Two Pointers (**have not tried yet**)\n",
    "time complexity: $O(1)$, space complexity: $O(N)$."
   ]
  },
  {
   "cell_type": "code",
   "execution_count": 2,
   "id": "8dbf73f2",
   "metadata": {},
   "outputs": [],
   "source": [
    "class BrowserHistory:\n",
    "\n",
    "    def __init__(self, homepage: str):\n",
    "        self.history = [homepage]\n",
    "        self.curr = 0\n",
    "        self.bound = 0\n",
    "\n",
    "    def visit(self, url: str) -> None:\n",
    "        self.curr += 1\n",
    "        if self.curr == len(self.history):\n",
    "            self.history.append(url)\n",
    "        else:\n",
    "            self.history[self.curr] = url\n",
    "        self.bound = self.curr\n",
    "\n",
    "    def back(self, steps: int) -> str:\n",
    "        self.curr = max(self.curr - steps, 0)\n",
    "        return self.history[self.curr]\n",
    "\n",
    "    def forward(self, steps: int) -> str:\n",
    "        self.curr = min(self.curr + steps, self.bound)\n",
    "        return self.history[self.curr]"
   ]
  }
 ],
 "metadata": {
  "kernelspec": {
   "display_name": "Python 3 (ipykernel)",
   "language": "python",
   "name": "python3"
  },
  "language_info": {
   "codemirror_mode": {
    "name": "ipython",
    "version": 3
   },
   "file_extension": ".py",
   "mimetype": "text/x-python",
   "name": "python",
   "nbconvert_exporter": "python",
   "pygments_lexer": "ipython3",
   "version": "3.7.3"
  }
 },
 "nbformat": 4,
 "nbformat_minor": 5
}
