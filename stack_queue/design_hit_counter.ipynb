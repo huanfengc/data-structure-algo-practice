{
 "cells": [
  {
   "cell_type": "markdown",
   "id": "aff3d54a",
   "metadata": {},
   "source": [
    "## Design Hit Counter [problem](https://leetcode.com/problems/design-hit-counter/)\n",
    "\n",
    "Design a hit counter which counts the number of hits received in the past ```5``` minutes (i.e., the past ```300``` seconds).\n",
    "\n",
    "Your system should accept a ```timestamp``` parameter (in seconds granularity), and you may assume that calls are being made to the system in chronological order (i.e., ```timestamp``` is monotonically increasing). Several hits may arrive roughly at the same time.\n",
    "\n",
    "Implement the HitCounter class:\n",
    "\n",
    "* ```HitCounter()``` Initializes the object of the hit counter system.\n",
    "* ```void hit(int timestamp)``` Records a hit that happened at ```timestamp``` (in seconds). Several hits may happen at the same ```timestamp```.\n",
    "* ```int getHits(int timestamp)``` Returns the number of hits in the past 5 minutes from ```timestamp``` (i.e., the past 300 seconds).\n",
    "\n",
    "**Constraints:**\n",
    "\n",
    "* ```1 <= timestamp <= 2 * 109```\n",
    "* All the calls are being made to the system in chronological order (i.e., ```timestamp``` is monotonically increasing).\n",
    "* At most ```300``` calls will be made to ```hit``` and ```getHits```.\n",
    "\n",
    "**Follow up:** What if the number of hits per second could be huge? Does your design scale?"
   ]
  },
  {
   "cell_type": "markdown",
   "id": "64b09514",
   "metadata": {},
   "source": [
    "### 1. Use Queue\n",
    "time complexity: $O(1)$ for initialization, $O(1)$ for one call to ```hit``` method, the worst case for **one** call to ```getHits``` method is $O(N)$ where $N$ is the total number of ```hit``` (all need to be removed if ```getHits``` after 300 seconds), but in an amortized time complexity $O(1)$ for a single call to ```getHits``` method, space complexity: $O(N)$."
   ]
  },
  {
   "cell_type": "code",
   "execution_count": 1,
   "id": "761aca9a",
   "metadata": {},
   "outputs": [],
   "source": [
    "from collections import deque\n",
    "\n",
    "class HitCounter:\n",
    "\n",
    "    def __init__(self):\n",
    "        self.queue = deque()\n",
    "        \n",
    "\n",
    "    def hit(self, timestamp: int) -> None:\n",
    "        self.queue.append(timestamp)\n",
    "        \n",
    "\n",
    "    def getHits(self, timestamp: int) -> int:\n",
    "        while self.queue and timestamp - self.queue[0] > 299:\n",
    "            self.queue.popleft()\n",
    "        return len(self.queue)\n",
    "    \n",
    "\n",
    "\n",
    "# Your HitCounter object will be instantiated and called as such:\n",
    "# obj = HitCounter()\n",
    "# obj.hit(timestamp)\n",
    "# param_2 = obj.getHits(timestamp)"
   ]
  }
 ],
 "metadata": {
  "kernelspec": {
   "display_name": "Python 3 (ipykernel)",
   "language": "python",
   "name": "python3"
  },
  "language_info": {
   "codemirror_mode": {
    "name": "ipython",
    "version": 3
   },
   "file_extension": ".py",
   "mimetype": "text/x-python",
   "name": "python",
   "nbconvert_exporter": "python",
   "pygments_lexer": "ipython3",
   "version": "3.7.3"
  }
 },
 "nbformat": 4,
 "nbformat_minor": 5
}
