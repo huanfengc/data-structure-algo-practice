{
 "cells": [
  {
   "cell_type": "markdown",
   "id": "3c3520f2",
   "metadata": {},
   "source": [
    "## Evaluate Reverse Polish Notation [problem](https://leetcode.com/problems/evaluate-reverse-polish-notation/)\n",
    "\n",
    "Evaluate the value of an arithmetic expression in Reverse Polish Notation.\n",
    "\n",
    "Valid operators are ```+```, ```-```, ```*```, and ```/```. Each operand may be an integer or another expression.\n",
    "\n",
    "Note that division between two integers should truncate toward zero.\n",
    "\n",
    "It is guaranteed that the given RPN expression is always valid. That means the expression would always evaluate to a result, and there will not be any division by zero operation.\n",
    "\n",
    "Constraints:\n",
    "\n",
    "* ```1 <= tokens.length <= 104```\n",
    "* ```tokens[i]``` is either an operator: ```\"+\"```, ```\"-\"```, ```\"*\"```, or ```\"/\"```, or an integer in the range ```[-200, 200]```.\n"
   ]
  },
  {
   "cell_type": "markdown",
   "id": "12a806e2",
   "metadata": {},
   "source": [
    "### 1. Stack\n",
    "time complexity: $O(N)$, space complexity: $O(N)$."
   ]
  },
  {
   "cell_type": "code",
   "execution_count": null,
   "id": "0a56bb28",
   "metadata": {},
   "outputs": [],
   "source": [
    "def evalRPN(self, tokens: List[str]) -> int:\n",
    "        \n",
    "    sets = {\"+\",\"-\",\"*\",\"/\"}\n",
    "    stack = []\n",
    "\n",
    "    for token in tokens:\n",
    "        if token not in sets:\n",
    "            stack.append(int(token))\n",
    "        else:\n",
    "            a = stack[-2]\n",
    "            b = stack[-1]\n",
    "            if token == \"+\":\n",
    "                new_token = a + b\n",
    "            elif token == \"-\":\n",
    "                new_token = a - b\n",
    "            elif token == \"*\":\n",
    "                new_token = a * b\n",
    "            else:\n",
    "                new_token = int(a / b) \n",
    "\n",
    "            stack.pop()\n",
    "            stack.pop()\n",
    "            stack.append(new_token)\n",
    "\n",
    "    return stack[0]"
   ]
  }
 ],
 "metadata": {
  "kernelspec": {
   "display_name": "Python 3 (ipykernel)",
   "language": "python",
   "name": "python3"
  },
  "language_info": {
   "codemirror_mode": {
    "name": "ipython",
    "version": 3
   },
   "file_extension": ".py",
   "mimetype": "text/x-python",
   "name": "python",
   "nbconvert_exporter": "python",
   "pygments_lexer": "ipython3",
   "version": "3.7.3"
  }
 },
 "nbformat": 4,
 "nbformat_minor": 5
}
