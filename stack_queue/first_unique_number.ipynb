{
 "cells": [
  {
   "cell_type": "markdown",
   "id": "48bccc21",
   "metadata": {},
   "source": [
    "## First Unique Number [problem](https://leetcode.com/problems/first-unique-number/)\n",
    "\n",
    "You have a queue of integers, you need to retrieve the first unique integer in the queue.\n",
    "\n",
    "Implement the FirstUnique class:\n",
    "\n",
    "* ```FirstUnique(int[] nums)``` Initializes the object with the numbers in the queue.\n",
    "* ```int showFirstUnique()``` returns the value of the first unique integer of the queue, and returns -1 if there is no such integer.\n",
    "* ```void add(int value)``` insert value to the queue.\n",
    "\n",
    "Constraints:\n",
    "\n",
    "* ```1 <= nums.length <= 10^5```\n",
    "* ```1 <= nums[i] <= 10^8```\n",
    "* ```1 <= value <= 10^8```\n",
    "* At most ```50000``` calls will be made to ```showFirstUnique``` and ```add```.\n"
   ]
  },
  {
   "cell_type": "markdown",
   "id": "b7fb2a94",
   "metadata": {},
   "source": [
    "### 1. Brute force\n",
    "time complexity: $O(N^2)$, space complexity: $O(N)$."
   ]
  },
  {
   "cell_type": "code",
   "execution_count": 1,
   "id": "66b19397",
   "metadata": {},
   "outputs": [],
   "source": [
    "from collections import deque\n",
    "\n",
    "class FirstUnique:\n",
    "\n",
    "    def __init__(self, nums):\n",
    "        self.queue = deque(nums)\n",
    "        \n",
    "\n",
    "    def showFirstUnique(self):\n",
    "        for num in self.queue:\n",
    "            if self.queue.count(num) == 1:\n",
    "                return num          \n",
    "        return -1\n",
    "\n",
    "\n",
    "    def add(self, value):\n",
    "        self.queue.append(value)\n",
    "            \n",
    "\n",
    "# Your FirstUnique object will be instantiated and called as such:\n",
    "# obj = FirstUnique(nums)\n",
    "# param_1 = obj.showFirstUnique()\n",
    "# obj.add(value)"
   ]
  },
  {
   "cell_type": "markdown",
   "id": "3c06b45e",
   "metadata": {},
   "source": [
    "### 2. Queue (Deque) and Hashmap\n",
    "time complexity: $O(M)$ for initialization ($M$ is the total number of  ```add``` operations), $O(1)$ for ```add``` and ```showFirstUnique``` ([amortized](https://en.wikipedia.org/wiki/Amortized_analysis)), space complexity: $O(N)$, $N$ is the items stored in queue and hashmap."
   ]
  },
  {
   "cell_type": "code",
   "execution_count": 2,
   "id": "27daea17",
   "metadata": {},
   "outputs": [],
   "source": [
    "from collections import deque\n",
    "\n",
    "class FirstUnique:\n",
    "\n",
    "    def __init__(self, nums):\n",
    "        self.queue = deque()\n",
    "        self.isUnique = {}\n",
    "        \n",
    "        for num in nums:\n",
    "            self.add(num)\n",
    "        \n",
    "     \n",
    "    def showFirstUnique(self) -> int:\n",
    "        while self.queue and not self.isUnique[self.queue[0]]:\n",
    "            self.queue.popleft()\n",
    "        \n",
    "        if self.queue:\n",
    "            return self.queue[0]\n",
    "        return -1 \n",
    "    \n",
    "        \n",
    "    def add(self, value: int) -> None:\n",
    "        if value not in self.isUnique:\n",
    "            self.isUnique[value] = True\n",
    "            self.queue.append(value)\n",
    "        elif self.isUnique[value] == True:\n",
    "            self.isUnique[value] = False\n",
    "            \n",
    "            \n",
    "\n",
    "# Your FirstUnique object will be instantiated and called as such:\n",
    "# obj = FirstUnique(nums)\n",
    "# param_1 = obj.showFirstUnique()\n",
    "# obj.add(value)"
   ]
  }
 ],
 "metadata": {
  "kernelspec": {
   "display_name": "Python 3 (ipykernel)",
   "language": "python",
   "name": "python3"
  },
  "language_info": {
   "codemirror_mode": {
    "name": "ipython",
    "version": 3
   },
   "file_extension": ".py",
   "mimetype": "text/x-python",
   "name": "python",
   "nbconvert_exporter": "python",
   "pygments_lexer": "ipython3",
   "version": "3.7.3"
  }
 },
 "nbformat": 4,
 "nbformat_minor": 5
}
