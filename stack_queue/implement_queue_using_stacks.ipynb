{
 "cells": [
  {
   "cell_type": "markdown",
   "id": "958bc1b5",
   "metadata": {},
   "source": [
    "## Implement Queue Using Stacks [problem](https://leetcode.com/problems/implement-queue-using-stacks/)\n",
    "\n",
    "Implement a first in first out (FIFO) queue using only two stacks. The implemented queue should support all the functions of a normal queue (push, peek, pop, and empty).\n",
    "\n",
    "Implement the MyQueue class:\n",
    "\n",
    "* ```void push(int x)``` Pushes element ```x``` to the back of the queue.\n",
    "* ```int pop()``` Removes the element from the front of the queue and returns it.\n",
    "* ```int peek()``` Returns the element at the front of the queue.\n",
    "* ```boolean empty()``` Returns true if the queue is empty, false otherwise.\n",
    "\n",
    "Notes:\n",
    "\n",
    "* You must use only standard operations of a stack, which means only push to top, peek/pop from top, size, and is empty operations are valid.\n",
    "* Depending on your language, the stack may not be supported natively. You may simulate a stack using a list or deque (double-ended queue) as long as you use only a stack's standard operations.\n",
    "\n",
    "Constraints:\n",
    "\n",
    "* ```1 <= x <= 9```\n",
    "* At most 100 calls will be made to ```push```, ```pop, peek, and empty.\n",
    "* All the calls to ```pop``` and ```peek``` are valid.\n",
    "\n",
    "Follow-up: Can you implement the queue such that each operation is amortized O(1) time complexity? In other words, performing n operations will take overall O(n) time even if one of those operations may take longer."
   ]
  },
  {
   "cell_type": "code",
   "execution_count": 1,
   "id": "096e2de0",
   "metadata": {},
   "outputs": [],
   "source": [
    "class MyQueue:\n",
    "\n",
    "    def __init__(self):\n",
    "        self.s1 = []\n",
    "        self.s2 = []\n",
    "\n",
    "    def push(self, x: int) -> None:\n",
    "        self.s1.append(x)\n",
    "\n",
    "    def pop(self) -> int:\n",
    "        if not self.s2:\n",
    "            while self.s1:\n",
    "                self.s2.append(self.s1.pop())\n",
    "            return self.s2.pop()\n",
    "        else:\n",
    "            return self.s2.pop()\n",
    "        \n",
    "    def peek(self) -> int:\n",
    "        if self.s2:\n",
    "            return self.s2[-1]\n",
    "        elif not self.s2 and self.s1:\n",
    "            return self.s1[0]\n",
    "        else:\n",
    "            return None\n",
    "        \n",
    "    def empty(self) -> bool:\n",
    "        return not (self.s1 or self.s2)\n",
    "        \n",
    "\n",
    "# Your MyQueue object will be instantiated and called as such:\n",
    "# obj = MyQueue()\n",
    "# obj.push(x)\n",
    "# param_2 = obj.pop()\n",
    "# param_3 = obj.peek()\n",
    "# param_4 = obj.empty()"
   ]
  }
 ],
 "metadata": {
  "kernelspec": {
   "display_name": "Python 3 (ipykernel)",
   "language": "python",
   "name": "python3"
  },
  "language_info": {
   "codemirror_mode": {
    "name": "ipython",
    "version": 3
   },
   "file_extension": ".py",
   "mimetype": "text/x-python",
   "name": "python",
   "nbconvert_exporter": "python",
   "pygments_lexer": "ipython3",
   "version": "3.7.3"
  }
 },
 "nbformat": 4,
 "nbformat_minor": 5
}
