{
 "cells": [
  {
   "cell_type": "markdown",
   "id": "c16f85e9",
   "metadata": {},
   "source": [
    "## Implement Stack using Queues [problem](https://leetcode.com/problems/implement-stack-using-queues/)\n",
    "\n",
    "Implement a last-in-first-out (LIFO) stack using only two queues. The implemented stack should support all the functions of a normal stack (```push```, ```top```, ```pop```, and ```empty```).\n",
    "\n",
    "Implement the MyStack class:\n",
    "\n",
    "* ```void push(int x)``` Pushes element x to the top of the stack.\n",
    "* ```int pop()``` Removes the element on the top of the stack and returns it.\n",
    "* ```int top()``` Returns the element on the top of the stack.\n",
    "* ```boolean empty()``` Returns true if the stack is empty, ```false``` otherwise.\n",
    "\n",
    "Notes:\n",
    "\n",
    "* You must use only standard operations of a queue, which means that only ```push to back```, ```peek/pop from front```, ```size``` and is ```empty``` operations are valid.\n",
    "* Depending on your language, the queue may not be supported natively. You may simulate a queue using a list or deque (double-ended queue) as long as you use only a queue's standard operations.\n",
    "\n",
    "**Constraints:**\n",
    "\n",
    "* ```1 <= x <= 9```\n",
    "* At most ```100``` calls will be made to ```push```, ```pop```, ```top```, and ```empty```.\n",
    "* All the calls to ```pop``` and ```top``` are valid.\n",
    "\n",
    "**Follow-up:** Can you implement the stack using only one queue?"
   ]
  },
  {
   "cell_type": "markdown",
   "id": "40876a80",
   "metadata": {},
   "source": [
    "### 1. Two Queues\n",
    "time complexity: $O(N)$ for ```pop```, $O(1)$ for the others, space complexity: $O(1)$."
   ]
  },
  {
   "cell_type": "code",
   "execution_count": 1,
   "id": "7e1df5ea",
   "metadata": {},
   "outputs": [],
   "source": [
    "from collections import deque\n",
    "\n",
    "class MyStack:\n",
    "\n",
    "    def __init__(self):\n",
    "        self.queue1 = deque()\n",
    "        self.queue2 = deque()\n",
    "\n",
    "    def push(self, x: int) -> None:\n",
    "        self.queue1.append(x)\n",
    "        \n",
    "\n",
    "    def pop(self) -> int:\n",
    "        if not self.queue1:\n",
    "            return None\n",
    "        while len(self.queue1) > 1:\n",
    "            self.queue2.append(self.queue1.popleft())\n",
    "        top = self.queue1.popleft()\n",
    "        # swap queue1 and queue2 instead of append/popleft\n",
    "        self.queue1, self.queue2 = self.queue2, self.queue1\n",
    "        return top\n",
    "            \n",
    "\n",
    "    def top(self) -> int:\n",
    "        return self.queue1[-1] if self.queue1 else None\n",
    "\n",
    "    def empty(self) -> bool:\n",
    "        return True if len(self.queue1) == 0 else False\n",
    "        \n",
    "\n",
    "\n",
    "# Your MyStack object will be instantiated and called as such:\n",
    "# obj = MyStack()\n",
    "# obj.push(x)\n",
    "# param_2 = obj.pop()\n",
    "# param_3 = obj.top()\n",
    "# param_4 = obj.empty()"
   ]
  },
  {
   "cell_type": "markdown",
   "id": "13768252",
   "metadata": {},
   "source": [
    "### 2. One Queue\n",
    "time complexity: $O(N)$ for ```pop```, $O(1)$ for the others, space complexity: $O(1)$."
   ]
  },
  {
   "cell_type": "code",
   "execution_count": 2,
   "id": "f27d0727",
   "metadata": {},
   "outputs": [],
   "source": [
    "from collections import deque\n",
    "\n",
    "class MyStack:\n",
    "\n",
    "    def __init__(self):\n",
    "        self.queue = deque()\n",
    "\n",
    "    def push(self, x: int) -> None:\n",
    "        self.queue.append(x)\n",
    "        size = len(self.queue)\n",
    "        while size > 1:\n",
    "            self.queue.append(self.queue.popleft())\n",
    "            size -= 1\n",
    "        \n",
    "\n",
    "    def pop(self) -> int:\n",
    "        return self.queue.popleft() if self.queue else None\n",
    "\n",
    "\n",
    "    def top(self) -> int:\n",
    "        return self.queue[0] if self.queue else None\n",
    "\n",
    "    def empty(self) -> bool:\n",
    "        return True if len(self.queue) == 0 else False\n",
    "        \n",
    "\n",
    "\n",
    "# Your MyStack object will be instantiated and called as such:\n",
    "# obj = MyStack()\n",
    "# obj.push(x)\n",
    "# param_2 = obj.pop()\n",
    "# param_3 = obj.top()\n",
    "# param_4 = obj.empty()"
   ]
  }
 ],
 "metadata": {
  "kernelspec": {
   "display_name": "Python 3 (ipykernel)",
   "language": "python",
   "name": "python3"
  },
  "language_info": {
   "codemirror_mode": {
    "name": "ipython",
    "version": 3
   },
   "file_extension": ".py",
   "mimetype": "text/x-python",
   "name": "python",
   "nbconvert_exporter": "python",
   "pygments_lexer": "ipython3",
   "version": "3.7.3"
  }
 },
 "nbformat": 4,
 "nbformat_minor": 5
}
