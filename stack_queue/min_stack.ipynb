{
 "cells": [
  {
   "cell_type": "markdown",
   "id": "9f14f36d",
   "metadata": {},
   "source": [
    "## Min Stack [problem](https://leetcode.com/problems/min-stack/)\n",
    "\n",
    "Design a stack that supports push, pop, top, and retrieving the minimum element in constant time.\n",
    "\n",
    "Implement the MinStack class:\n",
    "\n",
    "* ```MinStack()``` initializes the stack object.\n",
    "* ```void push(int val)``` pushes the element val onto the stack.\n",
    "* ```void pop()``` removes the element on the top of the stack.\n",
    "* ```int top()``` gets the top element of the stack.\n",
    "* ```int getMin()``` retrieves the minimum element in the stack.\n",
    "\n",
    "Constraints:\n",
    "\n",
    "* ```-231 <= val <= 231 - 1```\n",
    "* Methods ```pop```, ```top``` and ```getMin``` operations will always be called on non-empty stacks.\n",
    "* At most ```3 * 104``` calls will be made to ```push```, ```pop```, ```top```, and ```getMin```."
   ]
  },
  {
   "cell_type": "markdown",
   "id": "c2af750f",
   "metadata": {},
   "source": [
    "### 1. Pair\n",
    "time complexity: $O(1)$, space complexity: $O(N)$ for ```push```."
   ]
  },
  {
   "cell_type": "code",
   "execution_count": null,
   "id": "6de6c350",
   "metadata": {},
   "outputs": [],
   "source": [
    "class MinStack1:\n",
    "\n",
    "    def __init__(self):\n",
    "        self.stack = []\n",
    "\n",
    "    def push(self, val: int) -> None:        \n",
    "        if self.stack:\n",
    "            prev_min = self.stack[-1][1]\n",
    "            self.stack.append([val,min(val,prev_min)])        \n",
    "        else:       \n",
    "            self.stack.append([val,val])\n",
    "            \n",
    "    def pop(self) -> None:\n",
    "        self.stack.pop()\n",
    "\n",
    "    def top(self) -> int:\n",
    "        return self.stack[-1][0]\n",
    "\n",
    "    def getMin(self) -> int:\n",
    "        return self.stack[-1][1]\n",
    "\n",
    "\n",
    "# Your MinStack object will be instantiated and called as such:\n",
    "# obj = MinStack()\n",
    "# obj.push(val)\n",
    "# obj.pop()\n",
    "# param_3 = obj.top()\n",
    "# param_4 = obj.getMin()"
   ]
  },
  {
   "cell_type": "markdown",
   "id": "e47397c0",
   "metadata": {},
   "source": [
    "### 2. Two Stacks\n",
    "time complexity: $O()$"
   ]
  },
  {
   "cell_type": "code",
   "execution_count": null,
   "id": "59148bb3",
   "metadata": {},
   "outputs": [],
   "source": [
    "class MinStack2:\n",
    "\n",
    "    def __init__(self):\n",
    "        self.stack = []\n",
    "        self.stack_min = []\n",
    "\n",
    "    def push(self, val: int) -> None:\n",
    "        if not self.stack:\n",
    "            self.stack_min.append(val)\n",
    "        else:\n",
    "            self.stack_min.append(min(val,self.stack_min[-1]))\n",
    "        self.stack.append(val)\n",
    "            \n",
    "    def pop(self) -> None:\n",
    "        self.stack.pop()\n",
    "        self.stack_min.pop()\n",
    "        \n",
    "\n",
    "    def top(self) -> int:\n",
    "        return self.stack[-1]\n",
    "        \n",
    "\n",
    "    def getMin(self) -> int:\n",
    "        return self.stack_min[-1]\n",
    "        \n",
    "\n",
    "# Your MinStack object will be instantiated and called as such:\n",
    "# obj = MinStack()\n",
    "# obj.push(val)\n",
    "# obj.pop()\n",
    "# param_3 = obj.top()\n",
    "# param_4 = obj.getMin()"
   ]
  }
 ],
 "metadata": {
  "kernelspec": {
   "display_name": "Python 3 (ipykernel)",
   "language": "python",
   "name": "python3"
  },
  "language_info": {
   "codemirror_mode": {
    "name": "ipython",
    "version": 3
   },
   "file_extension": ".py",
   "mimetype": "text/x-python",
   "name": "python",
   "nbconvert_exporter": "python",
   "pygments_lexer": "ipython3",
   "version": "3.7.3"
  }
 },
 "nbformat": 4,
 "nbformat_minor": 5
}
