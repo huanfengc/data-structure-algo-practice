{
 "cells": [
  {
   "cell_type": "markdown",
   "id": "e6c2db78",
   "metadata": {},
   "source": [
    "## Minimum Remove to Make Valid Parentheses [problem](https://leetcode.com/problems/minimum-remove-to-make-valid-parentheses/)\n",
    "\n",
    "Given a string s of ```'('``` , ```')'``` and lowercase English characters.\n",
    "\n",
    "Your task is to remove the minimum number of parentheses ( ```'('``` or ```')'```, in any positions ) so that the resulting parentheses string is valid and return any valid string.\n",
    "\n",
    "Formally, a parentheses string is valid if and only if:\n",
    "\n",
    "* It is the empty string, contains only lowercase characters, or\n",
    "* It can be written as ```AB``` (```A``` concatenated with ```B```), where ```A``` and ```B``` are valid strings, or\n",
    "* It can be written as (```A```), where ```A``` is a valid string.\n",
    "\n",
    "\n",
    "**Constraints:**\n",
    "\n",
    "* ```1 <= s.length <= 105```\n",
    "* ```s[i]``` is either ```'('``` , ```')'```, or lowercase English letter.\n"
   ]
  },
  {
   "cell_type": "markdown",
   "id": "9e9cf6f1",
   "metadata": {},
   "source": [
    "### 1. Stack\n",
    "time complexity: $O(N)$, space complexity: $O(N)$."
   ]
  },
  {
   "cell_type": "code",
   "execution_count": 1,
   "id": "4b0f71e1",
   "metadata": {},
   "outputs": [],
   "source": [
    "def minRemoveToMakeValid(self, s: str) -> str:\n",
    "        \n",
    "    remove = []\n",
    "    stack = []\n",
    "\n",
    "    for i, c in enumerate(s):\n",
    "        if c not in \"()\":\n",
    "            continue\n",
    "        elif c == \"(\":\n",
    "            stack.append(i)\n",
    "        elif not stack:\n",
    "            remove.append(i)\n",
    "        else:\n",
    "            stack.pop()\n",
    "\n",
    "    # crucial to convert it into set\n",
    "    # '+' is O(M+N)\n",
    "    remove = set(remove + stack)\n",
    "    result = []\n",
    "    for i, c in enumerate(s):\n",
    "        # for a set / list, 'in' is O(1) / O(N)\n",
    "        if i not in remove:\n",
    "            result.append(c)\n",
    "    return \"\".join(result)"
   ]
  },
  {
   "cell_type": "markdown",
   "id": "eecbe5f4",
   "metadata": {},
   "source": [
    "### 2. My First Accepted Version\n",
    "time complexity: $O(N)$, space complexity: $O(N)$."
   ]
  },
  {
   "cell_type": "code",
   "execution_count": 2,
   "id": "214b4306",
   "metadata": {},
   "outputs": [],
   "source": [
    "def minRemoveToMakeValid(self, s: str) -> str:\n",
    "        \n",
    "    left = \"(\"\n",
    "    right = \")\"\n",
    "    hashmap = {left: 0, right: 0}\n",
    "    stack1 = []\n",
    "    stack2 = []\n",
    "\n",
    "    for c in s:\n",
    "        if c not in hashmap:\n",
    "            stack1.append(c)\n",
    "        elif c == left:\n",
    "            stack1.append(c)\n",
    "            hashmap[left] += 1\n",
    "        else:\n",
    "            if hashmap[left] != 0:\n",
    "                stack1.append(c)\n",
    "                hashmap[left] -= 1\n",
    "\n",
    "    while stack1:\n",
    "        if stack1[-1] == left and hashmap[left] != 0:\n",
    "            stack1.pop()\n",
    "            hashmap[left] -= 1\n",
    "        elif stack1[-1] == left and hashmap[left] == 0:\n",
    "            stack2.append(stack1.pop())\n",
    "        else:\n",
    "            stack2.append(stack1.pop())\n",
    "\n",
    "    while stack2:\n",
    "        stack1.append(stack2.pop())\n",
    "\n",
    "    return \"\".join(stack1)"
   ]
  }
 ],
 "metadata": {
  "kernelspec": {
   "display_name": "Python 3 (ipykernel)",
   "language": "python",
   "name": "python3"
  },
  "language_info": {
   "codemirror_mode": {
    "name": "ipython",
    "version": 3
   },
   "file_extension": ".py",
   "mimetype": "text/x-python",
   "name": "python",
   "nbconvert_exporter": "python",
   "pygments_lexer": "ipython3",
   "version": "3.7.3"
  }
 },
 "nbformat": 4,
 "nbformat_minor": 5
}
