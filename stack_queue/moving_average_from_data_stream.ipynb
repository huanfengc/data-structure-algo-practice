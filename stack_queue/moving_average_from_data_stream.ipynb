{
 "cells": [
  {
   "cell_type": "markdown",
   "id": "e972fec1",
   "metadata": {},
   "source": [
    "## Moving Average from Data Stream [problem](https://leetcode.com/problems/moving-average-from-data-stream/)\n",
    "\n",
    "Given a stream of integers and a window size, calculate the moving average of all integers in the sliding window.\n",
    "\n",
    "Implement the ```MovingAverage``` class:\n",
    "\n",
    "* ```MovingAverage(int size)``` Initializes the object with the size of the window ```size```.\n",
    "* ```double next(int val)``` Returns the moving average of the last ```size``` values of the stream.\n",
    "\n",
    "Constraints:\n",
    "\n",
    "* ```1 <= size <= 1000```\n",
    "* ```-105 <= val <= 105```\n",
    "* At most $10^{4}$ calls will be made to ```next```.\n",
    "\n"
   ]
  },
  {
   "cell_type": "markdown",
   "id": "d011cec2",
   "metadata": {},
   "source": [
    "### 1. Use list\n",
    "time complexity: $O(M)$, $M$ is the window size, space complexity: $O(N)$, $N$ is the list size (growing with the number of ```next``` calls)."
   ]
  },
  {
   "cell_type": "code",
   "execution_count": 1,
   "id": "affcbb21",
   "metadata": {},
   "outputs": [],
   "source": [
    "class MovingAverage1:\n",
    "\n",
    "    def __init__(self, size: int):\n",
    "        self.size = size\n",
    "        self.queue = []\n",
    "\n",
    "    def next(self, val: int) -> float:\n",
    "        queue = self.queue\n",
    "        size = self.size\n",
    "        queue.append(val)\n",
    "        average = sum(queue[-size:]) / min(size,len(queue))\n",
    "        \n",
    "        return average\n",
    "\n",
    "# Your MovingAverage object will be instantiated and called as such:\n",
    "# obj = MovingAverage(size)\n",
    "# param_1 = obj.next(val)"
   ]
  },
  {
   "cell_type": "markdown",
   "id": "f9f0ce5b",
   "metadata": {},
   "source": [
    "### 2. Deque [usage](https://docs.python.org/3/library/collections.html#collections.deque)\n",
    "time complexity: $O(1)$, space complexity: $O(M)$, $M$ is the window size (do not save the whole list)."
   ]
  },
  {
   "cell_type": "code",
   "execution_count": 2,
   "id": "3b0ed798",
   "metadata": {},
   "outputs": [],
   "source": [
    "from collections import deque\n",
    "\n",
    "class MovingAverage2:\n",
    "\n",
    "    def __init__(self, size: int):\n",
    "        self.size = size\n",
    "        self.queue = deque()\n",
    "        self.counts = 0\n",
    "        self.sum = 0\n",
    "\n",
    "    def next(self, val: int) -> float:\n",
    "        self.counts += 1\n",
    "        self.queue.append(val)\n",
    "        tail = self.queue.popleft() if self.counts > self.size else 0\n",
    "        self.sum = self.sum - tail + val # ensure O(1) for sum, sum() takes O(N).\n",
    "        \n",
    "        return self.sum / min(self.size, self.counts)"
   ]
  }
 ],
 "metadata": {
  "kernelspec": {
   "display_name": "Python 3 (ipykernel)",
   "language": "python",
   "name": "python3"
  },
  "language_info": {
   "codemirror_mode": {
    "name": "ipython",
    "version": 3
   },
   "file_extension": ".py",
   "mimetype": "text/x-python",
   "name": "python",
   "nbconvert_exporter": "python",
   "pygments_lexer": "ipython3",
   "version": "3.7.3"
  }
 },
 "nbformat": 4,
 "nbformat_minor": 5
}
