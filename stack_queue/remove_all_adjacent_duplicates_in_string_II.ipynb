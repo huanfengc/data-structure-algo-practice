{
 "cells": [
  {
   "cell_type": "markdown",
   "id": "2a04afcb",
   "metadata": {},
   "source": [
    "## Remove All Adjacent Duplicates in String II [problem](https://leetcode.com/problems/remove-all-adjacent-duplicates-in-string-ii/)\n",
    "\n",
    "You are given a string ```s``` and an integer ```k```, a ```k``` duplicate removal consists of choosing ```k``` adjacent and equal letters from ```s``` and removing them, causing the left and the right side of the deleted substring to concatenate together.\n",
    "\n",
    "We repeatedly make ```k``` duplicate removals on ```s``` until we no longer can.\n",
    "\n",
    "Return the final string after all such duplicate removals have been made. It is guaranteed that the answer is unique.\n",
    "\n",
    "Constraints:\n",
    "\n",
    "* ```1 <= s.length <= 105```\n",
    "* ```2 <= k <= 104```\n",
    "* ```s``` only contains lower case English letters."
   ]
  },
  {
   "cell_type": "markdown",
   "id": "8dbad057",
   "metadata": {},
   "source": [
    "### 1. Stack (letter and counter as a pair)\n",
    "time complexity: $O(N)$, space complexity: $O(N)$."
   ]
  },
  {
   "cell_type": "code",
   "execution_count": 1,
   "id": "d4f211f6",
   "metadata": {},
   "outputs": [],
   "source": [
    "def removeDuplicates(s, k):\n",
    "    stack = []\n",
    "\n",
    "    for l in s:\n",
    "        if not stack:\n",
    "            stack.append([l,1])\n",
    "        elif l == stack[-1][0]:\n",
    "                stack[-1][1] += 1\n",
    "                if stack[-1][1] == k:\n",
    "                    stack.pop()\n",
    "        else:\n",
    "            stack.append([l,1])\n",
    "\n",
    "    return \"\".join(a*b for a,b in stack)"
   ]
  }
 ],
 "metadata": {
  "kernelspec": {
   "display_name": "Python 3 (ipykernel)",
   "language": "python",
   "name": "python3"
  },
  "language_info": {
   "codemirror_mode": {
    "name": "ipython",
    "version": 3
   },
   "file_extension": ".py",
   "mimetype": "text/x-python",
   "name": "python",
   "nbconvert_exporter": "python",
   "pygments_lexer": "ipython3",
   "version": "3.7.3"
  }
 },
 "nbformat": 4,
 "nbformat_minor": 5
}
