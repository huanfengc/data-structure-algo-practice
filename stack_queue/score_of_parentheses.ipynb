{
 "cells": [
  {
   "cell_type": "markdown",
   "id": "e030fca9",
   "metadata": {},
   "source": [
    "## Score of Parentheses [problem](https://leetcode.com/problems/score-of-parentheses/)\n",
    "\n",
    "Given a balanced parentheses string ```s```, return the score of the string.\n",
    "\n",
    "The score of a balanced parentheses string is based on the following rule:\n",
    "\n",
    "* ```\"()\"``` has score ```1```.\n",
    "* ```AB``` has score ```A + B```, where ```A``` and ```B``` are balanced parentheses strings.\n",
    "* ```(A)``` has score ```2 * A```, where ```A``` is a balanced parentheses string.\n",
    "\n",
    "---\n",
    "\n",
    "**Constraints:**\n",
    "\n",
    "* ```2 <= s.length <= 50```\n",
    "* ```s``` consists of only ```'('``` and ```')'```.\n",
    "* ```s``` is a balanced parentheses string.\n",
    "\n",
    "**Follow-up: use the method which takes $O(1)$ space complexity.** "
   ]
  },
  {
   "cell_type": "markdown",
   "id": "30ffe2bd",
   "metadata": {},
   "source": [
    "### 1. Stack\n",
    "* Time complexity: $O(N)$, $N$ is the length of the string ```s```.\n",
    "* Space complexity: $O(N)$"
   ]
  },
  {
   "cell_type": "code",
   "execution_count": 1,
   "id": "8aa5bd4c",
   "metadata": {},
   "outputs": [],
   "source": [
    "def scoreOfParentheses(s: str) -> int:\n",
    "    \"\"\"\n",
    "    Args:\n",
    "        s: a balanced parentheses string\n",
    "        \n",
    "    Return:\n",
    "        the score\n",
    "    \"\"\"\n",
    "\n",
    "    stack = [0]\n",
    "    for c in s:\n",
    "        if c == \"(\":\n",
    "            stack.append(0)\n",
    "        else:\n",
    "            x = stack.pop()\n",
    "            stack[-1] += max(2 * x, 1)\n",
    "            \n",
    "    return stack.pop()"
   ]
  },
  {
   "cell_type": "markdown",
   "id": "25b5c4cb",
   "metadata": {},
   "source": [
    "### 2. Divide and Conquer\n",
    "* Time complexity: $O(N^2)$\n",
    "* Space complexity: $O(N)$"
   ]
  },
  {
   "cell_type": "markdown",
   "id": "f9960f59",
   "metadata": {},
   "source": [
    "### 3. Count Cores\n",
    "* Time complexity: $O(N)$\n",
    "* Space complexity: $O(1)$"
   ]
  }
 ],
 "metadata": {
  "kernelspec": {
   "display_name": "Python 3 (ipykernel)",
   "language": "python",
   "name": "python3"
  },
  "language_info": {
   "codemirror_mode": {
    "name": "ipython",
    "version": 3
   },
   "file_extension": ".py",
   "mimetype": "text/x-python",
   "name": "python",
   "nbconvert_exporter": "python",
   "pygments_lexer": "ipython3",
   "version": "3.7.3"
  }
 },
 "nbformat": 4,
 "nbformat_minor": 5
}
