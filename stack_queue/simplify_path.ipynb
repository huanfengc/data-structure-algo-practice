{
 "cells": [
  {
   "cell_type": "markdown",
   "id": "4afad749",
   "metadata": {},
   "source": [
    "## 71. Simplify Path [problem](https://leetcode.com/problems/simplify-path/)\n",
    "\n",
    "Given a string ```path```, which is an **absolute path** (starting with a slash ```'/'```) to a file or directory in a Unix-style file system, convert it to the simplified canonical path.\n",
    "\n",
    "In a Unix-style file system, a period ```'.'``` refers to the current directory, a double period ```'..'``` refers to the directory up a level, and any multiple consecutive slashes (i.e. ```'//'```) are treated as a single slash ```'/'```. For this problem, any other format of periods such as ```'...'``` are treated as file/directory names.\n",
    "\n",
    "The **canonical path** should have the following format:\n",
    "\n",
    "* The path starts with a single slash ```'/'```.\n",
    "* Any two directories are separated by a single slash ```'/'```.\n",
    "* The path does not end with a trailing ```'/'```.\n",
    "* The path only contains the directories on the path from the root directory to the target file or directory (i.e., no period ```'.'``` or double period ```'..'```)\n",
    "\n",
    "Return the simplified **canonical path**.\n",
    "\n",
    "---\n",
    "\n",
    "**Constraints:**\n",
    "\n",
    "* ```1 <= path.length <= 3000```\n",
    "* ```path``` consists of English letters, digits, period ```'.'```, slash ```'/'``` or ```'_'```.\n",
    "* ```path``` is a valid absolute Unix path."
   ]
  },
  {
   "cell_type": "markdown",
   "id": "a2306a02",
   "metadata": {},
   "source": [
    "### 1. Use stack and string manipulations\n",
    "* Time complexity: $O(N)$, $N$ is the size of the given string ```path```.\n",
    "* Space complexity: $O(N)$"
   ]
  },
  {
   "cell_type": "code",
   "execution_count": 1,
   "id": "ce50e4ac",
   "metadata": {},
   "outputs": [],
   "source": [
    "class Solution:\n",
    "    def simplifyPath(self, path: str) -> str:\n",
    "        \"\"\"\n",
    "        Args:\n",
    "            path: a string (an absolute path)\n",
    "        \n",
    "        Return:\n",
    "            a string, the corresponding canonical path to the given absolute path\n",
    "        \"\"\"\n",
    "        \n",
    "        stack = []\n",
    "        for p in path.split(\"/\"):\n",
    "            if p == \"..\":\n",
    "                if stack:\n",
    "                    stack.pop()\n",
    "            elif p and p != \".\": # skip '.' and redundant '/'\n",
    "                stack.append(p)\n",
    "        return \"/\" + \"/\".join(stack)"
   ]
  }
 ],
 "metadata": {
  "kernelspec": {
   "display_name": "Python 3 (ipykernel)",
   "language": "python",
   "name": "python3"
  },
  "language_info": {
   "codemirror_mode": {
    "name": "ipython",
    "version": 3
   },
   "file_extension": ".py",
   "mimetype": "text/x-python",
   "name": "python",
   "nbconvert_exporter": "python",
   "pygments_lexer": "ipython3",
   "version": "3.7.3"
  }
 },
 "nbformat": 4,
 "nbformat_minor": 5
}
