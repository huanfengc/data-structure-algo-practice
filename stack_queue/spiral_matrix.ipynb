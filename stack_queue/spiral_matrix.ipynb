{
 "cells": [
  {
   "cell_type": "markdown",
   "id": "4e4d5986",
   "metadata": {},
   "source": [
    "## 54. Spiral Matrix [problem](https://leetcode.com/problems/spiral-matrix/)\n",
    "\n",
    "Given an ```m x n``` matrix, return all elements of the matrix in spiral order.\n",
    "\n",
    "---\n",
    "\n",
    "**Constraints:**\n",
    "\n",
    "* ```m == matrix.length```\n",
    "* ```n == matrix[i].length```\n",
    "* ```1 <= m, n <= 10```\n",
    "* ```-100 <= matrix[i][j] <= 100```\n",
    "\n",
    "---"
   ]
  },
  {
   "cell_type": "markdown",
   "id": "a4e2e339",
   "metadata": {},
   "source": [
    "### 1. Update the boundaries\n",
    "* Time complexity: $O(M\\times N)$, $M$ and $N$ are the rows and columns of matrix.\n",
    "* Space complexity: $O(1)$, no extra space is used."
   ]
  },
  {
   "cell_type": "code",
   "execution_count": 1,
   "id": "647692f1",
   "metadata": {},
   "outputs": [],
   "source": [
    "from typing import List\n",
    "\n",
    "def spiralOrder(self, matrix: List[List[int]]) -> List[int]:\n",
    "    \"\"\"\n",
    "    Args:\n",
    "        matrix: a 2-D matrix containing integers\n",
    "        \n",
    "    Return:\n",
    "        a list of integers given by traversing the matrix in spiral direction\n",
    "    \"\"\"\n",
    "\n",
    "    rows, cols = len(matrix), len(matrix[0])\n",
    "    left, right = 0, cols - 1\n",
    "    up, down = 0, rows - 1\n",
    "    ret = []\n",
    "\n",
    "    while len(ret) < rows * cols:\n",
    "\n",
    "        # traverse from left to right\n",
    "        for col in range(left, right + 1):\n",
    "            ret.append(matrix[up][col])\n",
    "\n",
    "        # traverse from up to down\n",
    "        for row in range(up + 1, down + 1):\n",
    "            ret.append(matrix[row][right])\n",
    "\n",
    "        # traverse from right to left\n",
    "        if up != down:\n",
    "            for col in range(right - 1, left - 1, -1):\n",
    "                ret.append(matrix[down][col])\n",
    "\n",
    "        # traverse from down to up\n",
    "        if left != right:\n",
    "            for row in range(down - 1, up, -1):\n",
    "                ret.append(matrix[row][left])\n",
    "\n",
    "        left +=1\n",
    "        right -= 1\n",
    "        up += 1\n",
    "        down -= 1\n",
    "\n",
    "    return ret"
   ]
  },
  {
   "cell_type": "markdown",
   "id": "7d1e8c04",
   "metadata": {},
   "source": [
    "### 2. Use queue (seems complicated (which is not necessary)?)"
   ]
  },
  {
   "cell_type": "markdown",
   "id": "8d4a570e",
   "metadata": {},
   "source": [
    "### 3. Mark the visited spots (whenever meet a visited spot, change direction)"
   ]
  }
 ],
 "metadata": {
  "kernelspec": {
   "display_name": "Python 3 (ipykernel)",
   "language": "python",
   "name": "python3"
  },
  "language_info": {
   "codemirror_mode": {
    "name": "ipython",
    "version": 3
   },
   "file_extension": ".py",
   "mimetype": "text/x-python",
   "name": "python",
   "nbconvert_exporter": "python",
   "pygments_lexer": "ipython3",
   "version": "3.7.3"
  }
 },
 "nbformat": 4,
 "nbformat_minor": 5
}
