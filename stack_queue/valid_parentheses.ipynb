{
 "cells": [
  {
   "cell_type": "markdown",
   "id": "fbecc84b",
   "metadata": {},
   "source": [
    "## Valid Parentheses [problem](https://leetcode.com/problems/valid-parentheses/)\n",
    "\n",
    "Given a string ```s``` containing just the characters ```'('```, ```')'```, ```'{'```, ```'}'```, ```'['``` and ```']'```, determine if the input string is valid.\n",
    "\n",
    "An input string is valid if:\n",
    "\n",
    "1. Open brackets must be closed by the same type of brackets.\n",
    "2. Open brackets must be closed in the correct order.\n",
    "\n",
    "Constraints:\n",
    "\n",
    "* ```1 <= s.length <= 104```\n",
    "* ```s``` consists of parentheses only ```'()[]{}'```."
   ]
  },
  {
   "cell_type": "markdown",
   "id": "be19f6f4",
   "metadata": {},
   "source": [
    "### 1. Stack\n",
    "time complexity: $O(N)$, space complexity: $O(N)$."
   ]
  },
  {
   "cell_type": "code",
   "execution_count": 1,
   "id": "95c7bd66",
   "metadata": {},
   "outputs": [],
   "source": [
    "def isValid(self, s: str) -> bool:\n",
    "\n",
    "    stack = []\n",
    "    hashmap = {\")\":\"(\",\"]\":\"[\",\"}\":\"{\"}\n",
    "\n",
    "    for char in s:\n",
    "        if char in hashmap:\n",
    "            top = stack.pop() if stack else '#'\n",
    "            if hashmap[char] != top:\n",
    "                return False\n",
    "        else:\n",
    "            stack.append(char)\n",
    "\n",
    "    return not stack"
   ]
  }
 ],
 "metadata": {
  "kernelspec": {
   "display_name": "Python 3 (ipykernel)",
   "language": "python",
   "name": "python3"
  },
  "language_info": {
   "codemirror_mode": {
    "name": "ipython",
    "version": 3
   },
   "file_extension": ".py",
   "mimetype": "text/x-python",
   "name": "python",
   "nbconvert_exporter": "python",
   "pygments_lexer": "ipython3",
   "version": "3.7.3"
  }
 },
 "nbformat": 4,
 "nbformat_minor": 5
}
