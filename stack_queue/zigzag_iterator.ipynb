{
 "cells": [
  {
   "cell_type": "markdown",
   "id": "8ce5414e",
   "metadata": {},
   "source": [
    "## Zigzag Iterator [problem](https://leetcode.com/problems/zigzag-iterator/)\n",
    "\n",
    "Given two vectors of integers ```v1``` and ```v2```, implement an iterator to return their elements alternately.\n",
    "\n",
    "Implement the ZigzagIterator class:\n",
    "\n",
    "* ```ZigzagIterator(List<int> v1, List<int> v2)``` initializes the object with the two vectors v1 and v2.\n",
    "* ```boolean hasNext()``` returns true if the iterator still has elements, and false otherwise.\n",
    "* ```int next()``` returns the current element of the iterator and moves the iterator to the next element.\n",
    "\n",
    "**Constraints:**\n",
    "\n",
    "* ```0 <= v1.length, v2.length <= 1000```\n",
    "* ```1 <= v1.length + v2.length <= 2000```\n",
    "* ```-231 <= v1[i], v2[i] <= 231 - 1```\n",
    "\n",
    "**Follow up:** What if you are given ```k``` vectors? How well can your code be extended to such cases?\n",
    "\n",
    "Clarification for the follow-up question:\n",
    "\n",
    "The \"Zigzag\" order is not clearly defined and is ambiguous for ```k > 2``` cases. If \"Zigzag\" does not look right to you, replace \"Zigzag\" with \"Cyclic\"."
   ]
  },
  {
   "cell_type": "markdown",
   "id": "47a463ec",
   "metadata": {},
   "source": [
    "### 1. Two deques and 'a pointer'\n",
    "time complexity: $O(N)$ for initialization ($N$ is total number of elements in the vectors), $O(1)$ for both ```next``` and ```hasNext```, space complexity: $O(N)$, storing vectors in deques."
   ]
  },
  {
   "cell_type": "code",
   "execution_count": 1,
   "id": "933ac6b8",
   "metadata": {},
   "outputs": [],
   "source": [
    "from collections import deque\n",
    "\n",
    "class ZigzagIterator:\n",
    "    def __init__(self, v1, v2):\n",
    "        self.queue1 = deque(v1)\n",
    "        self.queue2 = deque(v2)\n",
    "        self.isQueue1 = True\n",
    "\n",
    "    def next(self) -> int:\n",
    "        if self.queue1 and self.isQueue1:\n",
    "            self.isQueue1 = False\n",
    "            return self.queue1.popleft()      \n",
    "        elif self.queue2 and (not self.isQueue1):\n",
    "            self.isQueue1 = True\n",
    "            return self.queue2.popleft()  \n",
    "        elif not self.queue1 and self.queue2:\n",
    "            return self.queue2.popleft()\n",
    "            self.isQueue1 = False\n",
    "        elif self.queue1 and (not self.queue2):\n",
    "            self.isQueue1 = True\n",
    "            return self.queue1.popleft()\n",
    "\n",
    "    def hasNext(self) -> bool:\n",
    "        return (self.queue1 or self.queue2)\n",
    "\n",
    "        \n",
    "\n",
    "# Your ZigzagIterator object will be instantiated and called as such:\n",
    "# i, v = ZigzagIterator(v1, v2), []\n",
    "# while i.hasNext(): v.append(i.next())"
   ]
  }
 ],
 "metadata": {
  "kernelspec": {
   "display_name": "Python 3 (ipykernel)",
   "language": "python",
   "name": "python3"
  },
  "language_info": {
   "codemirror_mode": {
    "name": "ipython",
    "version": 3
   },
   "file_extension": ".py",
   "mimetype": "text/x-python",
   "name": "python",
   "nbconvert_exporter": "python",
   "pygments_lexer": "ipython3",
   "version": "3.7.3"
  }
 },
 "nbformat": 4,
 "nbformat_minor": 5
}
