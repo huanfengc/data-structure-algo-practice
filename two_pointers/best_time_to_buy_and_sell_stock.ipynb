{
 "cells": [
  {
   "cell_type": "markdown",
   "id": "722da963",
   "metadata": {},
   "source": [
    "## Best Time to Buy and Sell Stock [problem](https://leetcode.com/problems/best-time-to-buy-and-sell-stock/)\n",
    "\n",
    "You are given an array ```prices``` where ```prices[i]``` is the price of a given stock on the ```i```th day.\n",
    "\n",
    "You want to maximize your profit by choosing a single day to buy one stock and choosing a **different day** in the future to sell that stock.\n",
    "\n",
    "Return the maximum profit you can achieve from this transaction. If you cannot achieve any profit, return ```0```.\n",
    "\n",
    "**Constraints:**\n",
    "\n",
    "* ```1 <= prices.length <= 10^5```\n",
    "* ```0 <= prices[i] <= 10^4```"
   ]
  },
  {
   "cell_type": "markdown",
   "id": "b940ca47",
   "metadata": {},
   "source": [
    "### 1. Two Pointers\n",
    "time complexity: $O(N)$; space complexity: $O(1)$."
   ]
  },
  {
   "cell_type": "code",
   "execution_count": 1,
   "id": "dff21c57",
   "metadata": {},
   "outputs": [],
   "source": [
    "def maxProfit1(prices):\n",
    "\n",
    "    lowest = float(\"inf\")\n",
    "    gain = 0\n",
    "\n",
    "    for i in range(len(prices)):\n",
    "        if prices[i] < lowest:\n",
    "            lowest = prices[i]\n",
    "        elif prices[i] - lowest > gain:\n",
    "            gain = prices[i] - lowest\n",
    "    return gain"
   ]
  },
  {
   "cell_type": "markdown",
   "id": "39d9c975",
   "metadata": {},
   "source": [
    "### Rewriting based on the same idea"
   ]
  },
  {
   "cell_type": "code",
   "execution_count": 2,
   "id": "181a8b31",
   "metadata": {},
   "outputs": [],
   "source": [
    "def maxProfit2(prices: list) -> int:\n",
    "        \n",
    "        lowprice = float(\"inf\")\n",
    "        maxgain = 0\n",
    "        \n",
    "        for price in prices:\n",
    "            lowprice = min(lowprice, price)\n",
    "            maxgain = max(maxgain, price - lowprice)\n",
    "        return maxgain"
   ]
  },
  {
   "cell_type": "markdown",
   "id": "d8411c01",
   "metadata": {},
   "source": [
    "### 2. Brute Force\n",
    "time complexity: $O(N^2)$; space complexity: $O(1)$."
   ]
  },
  {
   "cell_type": "code",
   "execution_count": 3,
   "id": "3f75a849",
   "metadata": {},
   "outputs": [],
   "source": [
    "def maxProfit3(prices):\n",
    "\n",
    "    gain = 0\n",
    "    for i in range(len(prices)-1):\n",
    "        for j in range(i+1, len(prices)):\n",
    "            gain = max(gain, prices[j] - prices[i])\n",
    "\n",
    "    return gain"
   ]
  }
 ],
 "metadata": {
  "kernelspec": {
   "display_name": "Python 3 (ipykernel)",
   "language": "python",
   "name": "python3"
  },
  "language_info": {
   "codemirror_mode": {
    "name": "ipython",
    "version": 3
   },
   "file_extension": ".py",
   "mimetype": "text/x-python",
   "name": "python",
   "nbconvert_exporter": "python",
   "pygments_lexer": "ipython3",
   "version": "3.7.3"
  }
 },
 "nbformat": 4,
 "nbformat_minor": 5
}
