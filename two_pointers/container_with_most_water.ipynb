{
 "cells": [
  {
   "cell_type": "markdown",
   "id": "a5909fe7",
   "metadata": {},
   "source": [
    "## Container With Most Water [problem](https://leetcode.com/problems/container-with-most-water/)\n",
    "\n",
    "You are given an integer array ```height``` of length ```n```. There are ```n``` vertical lines drawn such that the two endpoints of the ith line are ```(i, 0)``` and ```(i, height[i])```.\n",
    "\n",
    "Find two lines that together with the x-axis form a container, such that the container contains the most water.\n",
    "\n",
    "Return the **maximum** amount of water a container can store.\n",
    "\n",
    "**Notice** that you may not slant the container.\n",
    "\n",
    "**Constraints:**\n",
    "\n",
    "* ```n == height.length```\n",
    "* ```2 <= n <= 10^5```\n",
    "* ```0 <= height[i] <= 10^4```"
   ]
  },
  {
   "cell_type": "markdown",
   "id": "e3cc2d95",
   "metadata": {},
   "source": [
    "### 1. Two Pointers\n",
    "time complexity: $O(N)$; space compelxity: $O(1)$."
   ]
  },
  {
   "cell_type": "code",
   "execution_count": 1,
   "id": "35b93dfb",
   "metadata": {},
   "outputs": [],
   "source": [
    "def maxArea(height):\n",
    "\n",
    "    length = len(height)\n",
    "    # do not need actually\n",
    "#    if length == 2:\n",
    "#        return min(height)\n",
    "\n",
    "    left, right, maximum = 0, length - 1, 0\n",
    "    while left < right:\n",
    "        curr = min(height[left], height[right])\n",
    "        curr = curr * (right - left)\n",
    "        maximum = max(maximum, curr)\n",
    "        # move the shorter one,\n",
    "        # since a longer one needed to compasente the reduction of width\n",
    "        if height[left] < height[right]:\n",
    "            left += 1\n",
    "        else:\n",
    "            right -= 1\n",
    "\n",
    "    return maximum"
   ]
  },
  {
   "cell_type": "markdown",
   "id": "005c0344",
   "metadata": {},
   "source": [
    "### 2. Brute Force\n",
    "time complexity: $O(N^2)$, two loops to compare all possible pairs; space complexity: $O(1)$."
   ]
  }
 ],
 "metadata": {
  "kernelspec": {
   "display_name": "Python 3 (ipykernel)",
   "language": "python",
   "name": "python3"
  },
  "language_info": {
   "codemirror_mode": {
    "name": "ipython",
    "version": 3
   },
   "file_extension": ".py",
   "mimetype": "text/x-python",
   "name": "python",
   "nbconvert_exporter": "python",
   "pygments_lexer": "ipython3",
   "version": "3.7.3"
  }
 },
 "nbformat": 4,
 "nbformat_minor": 5
}
