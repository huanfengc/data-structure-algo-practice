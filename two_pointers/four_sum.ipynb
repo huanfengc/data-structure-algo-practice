{
 "cells": [
  {
   "cell_type": "markdown",
   "id": "2906ed8e",
   "metadata": {},
   "source": [
    "## 4Sum [problem](https://leetcode.com/problems/4sum/)\n",
    "\n",
    "Given an array ```nums``` of ```n``` integers, return an array of all the unique quadruplets ```[nums[a], nums[b], nums[c], nums[d]]``` such that:\n",
    "\n",
    "* ```0 <= a, b, c, d < n```\n",
    "* ```a```, ```b```, ```c```, and ```d``` are distinct.\n",
    "* ```nums[a] + nums[b] + nums[c] + nums[d] == target```\n",
    "\n",
    "You may return the answer in any order.\n",
    "\n",
    "**Constraints:**\n",
    "\n",
    "* ```1 <= nums.length <= 200```\n",
    "* ```-10^9 <= nums[i] <= 10^9```\n",
    "* ```-10^9 <= target <= 10^9```"
   ]
  },
  {
   "cell_type": "markdown",
   "id": "4f111f77",
   "metadata": {},
   "source": [
    "### 1. Two Pointers (based on Two Sum)\n",
    "time complexity: $O(N^3)$, since there are two loops (nested) and ```twoSum``` takes linear time complexity; space complexity: $O(N)$, Python built-in ```sort()``` uses Timsort which takes $O(N)$ space complexity **(still needs to be checked, I haven't had a close look at the Timsort immplementation)**."
   ]
  },
  {
   "cell_type": "code",
   "execution_count": 1,
   "id": "6ca72924",
   "metadata": {},
   "outputs": [],
   "source": [
    "def fourSum(nums, target):\n",
    "    ans = []\n",
    "    size = len(nums)\n",
    "    if size < 4:\n",
    "        return ans\n",
    "    elif size == 4 and sum(nums) != target:\n",
    "        return ans\n",
    "\n",
    "    nums.sort()\n",
    "    i = 0\n",
    "    while i < size -3:\n",
    "        j = i + 1\n",
    "        while j < size - 2:\n",
    "            ans = self.twoSum(i, j, nums, target, ans)\n",
    "            j += 1\n",
    "            while j < size -2 and nums[j] == nums[j - 1]:\n",
    "                j += 1\n",
    "        i += 1\n",
    "        while i < size - 3 and nums[i] == nums[i - 1]:\n",
    "            i += 1\n",
    "\n",
    "    return ans\n",
    "\n",
    "\n",
    "def twoSum(i, j, nums, target, ans):\n",
    "    left, right = j + 1, len(nums) - 1\n",
    "    while left < right:\n",
    "        total = nums[i] + nums[j] + nums[left] + nums[right]\n",
    "        if total == target:\n",
    "            ans.append([nums[i], nums[j], nums[left], nums[right]])\n",
    "            left += 1\n",
    "            right -= 1\n",
    "            while left < right and nums[left] == nums[left - 1]:\n",
    "                left += 1\n",
    "        elif total > target:\n",
    "            right -= 1\n",
    "        else:\n",
    "            left += 1\n",
    "    return ans"
   ]
  }
 ],
 "metadata": {
  "kernelspec": {
   "display_name": "Python 3 (ipykernel)",
   "language": "python",
   "name": "python3"
  },
  "language_info": {
   "codemirror_mode": {
    "name": "ipython",
    "version": 3
   },
   "file_extension": ".py",
   "mimetype": "text/x-python",
   "name": "python",
   "nbconvert_exporter": "python",
   "pygments_lexer": "ipython3",
   "version": "3.7.3"
  }
 },
 "nbformat": 4,
 "nbformat_minor": 5
}
