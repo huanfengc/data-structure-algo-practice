{
 "cells": [
  {
   "cell_type": "markdown",
   "id": "0bafc864",
   "metadata": {},
   "source": [
    "## Longest Palindromic Substring [problem](https://leetcode.com/problems/longest-palindromic-substring/)\n",
    "\n",
    "Given a string ```s```, return **the longest palindromic substring** in ```s```.\n",
    "\n",
    "**Constraints:**\n",
    "\n",
    "* ```1 <= s.length <= 1000```\n",
    "* ```s``` consist of only digits and English letters."
   ]
  },
  {
   "cell_type": "markdown",
   "id": "a68b35bb",
   "metadata": {},
   "source": [
    "### 1. Two Pointers (repeating for each character in ```s```)\n",
    "time complexity: $O(N^2)$; space complexity: $O(1)$."
   ]
  },
  {
   "cell_type": "code",
   "execution_count": 1,
   "id": "501e0161",
   "metadata": {},
   "outputs": [],
   "source": [
    "def longestPalindrome1(self, s: str) -> str:\n",
    "\n",
    "    n = len(s)\n",
    "    maxlength = 1\n",
    "    maxstart = length = 0\n",
    "\n",
    "    for i in range(n):\n",
    "        left, right = i-1, i\n",
    "        while right < n and s[i] == s[right]:\n",
    "            right += 1\n",
    "        while left >= 0 and right < n and s[left] == s[right]:\n",
    "            left -= 1\n",
    "            right += 1\n",
    "            \n",
    "        # current left and right shouldn't be included.\n",
    "        length = right - left + 1 - 2 \n",
    "\n",
    "        if length > maxlength:\n",
    "            maxlength = length\n",
    "            maxstart = left + 1\n",
    "            \n",
    "    return s[maxstart: maxstart + maxlength]"
   ]
  },
  {
   "cell_type": "markdown",
   "id": "8f0cab00",
   "metadata": {},
   "source": [
    "### 2. Dynamic Programming"
   ]
  },
  {
   "cell_type": "code",
   "execution_count": null,
   "id": "c806ed5f",
   "metadata": {},
   "outputs": [],
   "source": []
  }
 ],
 "metadata": {
  "kernelspec": {
   "display_name": "Python 3 (ipykernel)",
   "language": "python",
   "name": "python3"
  },
  "language_info": {
   "codemirror_mode": {
    "name": "ipython",
    "version": 3
   },
   "file_extension": ".py",
   "mimetype": "text/x-python",
   "name": "python",
   "nbconvert_exporter": "python",
   "pygments_lexer": "ipython3",
   "version": "3.7.3"
  }
 },
 "nbformat": 4,
 "nbformat_minor": 5
}
