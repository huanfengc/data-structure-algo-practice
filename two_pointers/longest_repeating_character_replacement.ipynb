{
 "cells": [
  {
   "cell_type": "markdown",
   "id": "94626e09",
   "metadata": {},
   "source": [
    "## Longest Repeating Character Replacement [problem](https://leetcode.com/problems/longest-repeating-character-replacement/)\n",
    "\n",
    "You are given a string ```s``` and an integer ```k```. You can choose any character of the string and change it to any other uppercase English character. You can perform this operation at most ```k``` times.\n",
    "\n",
    "Return the length of the longest substring containing the same letter you can get after performing the above operations.\n",
    "\n",
    "**Constraints:**\n",
    "\n",
    "* ```1 <= s.length <= 10^5```\n",
    "* ```s``` consists of only uppercase English letters.\n",
    "* ```0 <= k <= s.length```"
   ]
  },
  {
   "cell_type": "markdown",
   "id": "314dbed6",
   "metadata": {},
   "source": [
    "### 1. Two Pointers\n",
    "time complexity: $O(N)$; space complexity: $O(1)$, since there are only 26 uppercase letters at most.\n",
    "\n",
    "**key point: the sliding window only expands, never shrinks.**"
   ]
  },
  {
   "cell_type": "code",
   "execution_count": 1,
   "id": "c8d24d1d",
   "metadata": {},
   "outputs": [],
   "source": [
    "from collections import Counter\n",
    "def characterReplacement(s: str, k: int) -> int:\n",
    "\n",
    "    maxf = start = 0\n",
    "    count = Counter()\n",
    "\n",
    "    for i in range(len(s)):\n",
    "        count[s[i]] += 1\n",
    "        maxf = max(maxf, count[s[i]])\n",
    "\n",
    "        if i - start + 1 > k + maxf:\n",
    "            count[s[start]] -= 1\n",
    "            start += 1\n",
    "    return len(s) - start"
   ]
  },
  {
   "cell_type": "code",
   "execution_count": 2,
   "id": "990082a1",
   "metadata": {},
   "outputs": [],
   "source": [
    "a = characterReplacement('ABCDBA', 1)"
   ]
  },
  {
   "cell_type": "code",
   "execution_count": 3,
   "id": "8b67c7be",
   "metadata": {},
   "outputs": [
    {
     "data": {
      "text/plain": [
       "2"
      ]
     },
     "execution_count": 3,
     "metadata": {},
     "output_type": "execute_result"
    }
   ],
   "source": [
    "a"
   ]
  }
 ],
 "metadata": {
  "kernelspec": {
   "display_name": "Python 3 (ipykernel)",
   "language": "python",
   "name": "python3"
  },
  "language_info": {
   "codemirror_mode": {
    "name": "ipython",
    "version": 3
   },
   "file_extension": ".py",
   "mimetype": "text/x-python",
   "name": "python",
   "nbconvert_exporter": "python",
   "pygments_lexer": "ipython3",
   "version": "3.7.3"
  }
 },
 "nbformat": 4,
 "nbformat_minor": 5
}
