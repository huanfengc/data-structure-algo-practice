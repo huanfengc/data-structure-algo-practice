{
 "cells": [
  {
   "cell_type": "markdown",
   "id": "d01849cf",
   "metadata": {},
   "source": [
    "## 395. Longest Substring with At Least K Repeating Characters [problem](https://leetcode.com/problems/longest-substring-with-at-least-k-repeating-characters/)\n",
    "\n",
    "Given a string ```s``` and an integer ```k```, return the length of the longest substring of ```s``` such that the frequency of each character in this substring is greater than or equal to ```k```.\n",
    "\n",
    "---\n",
    "\n",
    "**Constraints:**\n",
    "\n",
    "* ```1 <= s.length <= 10^4```\n",
    "* ```s``` consists of only lowercase English letters.\n",
    "* ```1 <= k <= 10^5```"
   ]
  },
  {
   "cell_type": "markdown",
   "id": "6c5a490c",
   "metadata": {},
   "source": [
    "### 1. Two pointers (sliding window)\n",
    "* Time complexity:\n",
    "* Space complexity:"
   ]
  },
  {
   "cell_type": "code",
   "execution_count": null,
   "id": "ec234fee",
   "metadata": {},
   "outputs": [],
   "source": []
  },
  {
   "cell_type": "markdown",
   "id": "c8f4421d",
   "metadata": {},
   "source": [
    "### 2. Divide and Conquer\n",
    "* Time complexity: $O(N^2)$ for the worst case, ie. splitting at each index.\n",
    "* Space complexity: $O(N)$ for the call stack of recursion."
   ]
  },
  {
   "cell_type": "code",
   "execution_count": 1,
   "id": "7baab216",
   "metadata": {},
   "outputs": [],
   "source": [
    "def longestSubstring(s: str, k: int) -> int:\n",
    "    return helper(s, 0, len(s), k)\n",
    "\n",
    "\n",
    "def helper(s, start, end, k):\n",
    "    \"\"\"\n",
    "    Args:\n",
    "        s: the given string\n",
    "        start: the starting position of substring\n",
    "        end: the ending position of subtring (exclusive)\n",
    "        k: least repeating frequency of each character of substring\n",
    "    \n",
    "    Return:\n",
    "        the longest length of substring satisfying the requirement (see above)\n",
    "    \"\"\"\n",
    "    \n",
    "    if end < k:\n",
    "        return 0\n",
    "    countmap = Counter(s[start:end])\n",
    "\n",
    "    for mid in range(start, end):\n",
    "        if countmap[s[mid]] >= k:\n",
    "            continue\n",
    "#            midnext = mid + 1\n",
    "#            while midnext < end and countmap[midnext] < k:\n",
    "#                midnext += 1\n",
    "        return max(self.helper(s, start, mid, k), self.helper(s, mid + 1, end, k))\n",
    "\n",
    "    return end - start"
   ]
  }
 ],
 "metadata": {
  "kernelspec": {
   "display_name": "Python 3 (ipykernel)",
   "language": "python",
   "name": "python3"
  },
  "language_info": {
   "codemirror_mode": {
    "name": "ipython",
    "version": 3
   },
   "file_extension": ".py",
   "mimetype": "text/x-python",
   "name": "python",
   "nbconvert_exporter": "python",
   "pygments_lexer": "ipython3",
   "version": "3.7.3"
  }
 },
 "nbformat": 4,
 "nbformat_minor": 5
}
