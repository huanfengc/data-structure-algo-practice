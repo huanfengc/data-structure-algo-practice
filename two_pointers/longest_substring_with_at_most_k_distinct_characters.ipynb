{
 "cells": [
  {
   "cell_type": "markdown",
   "id": "d79e59e8",
   "metadata": {},
   "source": [
    "## Longest Substring with At Most K Distinct Characters [problem](https://leetcode.com/problems/longest-substring-with-at-most-k-distinct-characters/)\n",
    "\n",
    "**Almost the same problem as [#159 (k=2)](https://leetcode.com/problems/longest-substring-with-at-most-two-distinct-characters/), except that the time complexity is a bit subtle.**\n",
    "\n",
    "Given a string ```s``` and an integer ```k```, return the length of the longest substring of ```s``` that contains **at most ```k``` distinct characters**.\n",
    "\n",
    "**Constraints:**\n",
    "\n",
    "* ```1 <= s.length <= 5 * 10^4```\n",
    "* ```0 <= k <= 50```"
   ]
  },
  {
   "cell_type": "markdown",
   "id": "cc22eba7",
   "metadata": {},
   "source": [
    "### 1. Two Pointers (Sliding Window)\n",
    "time complexity: $O(kN)$ if ```s``` has ```N``` different characters (the worst case), $O(N)$ for the best case when ```s``` has ```k``` different characters; space complexity: $O(k)$ **(Given the constraints, it is $O(1)$ right?)**"
   ]
  },
  {
   "cell_type": "code",
   "execution_count": 1,
   "id": "b9566530",
   "metadata": {},
   "outputs": [],
   "source": [
    "def lengthOfLongestSubstringKDistinct(s: str, k: int) -> int:\n",
    "\n",
    "    left = right = maxsub = 0\n",
    "    hashmap = {}\n",
    "\n",
    "    for right in range(len(s)):\n",
    "        hashmap[s[right]] = right\n",
    "        if len(hashmap) > k:\n",
    "            left = min(hashmap.values()) + 1\n",
    "            del hashmap[s[left-1]]\n",
    "        maxsub = max(maxsub, right - left + 1)\n",
    "    return maxsub"
   ]
  }
 ],
 "metadata": {
  "kernelspec": {
   "display_name": "Python 3 (ipykernel)",
   "language": "python",
   "name": "python3"
  },
  "language_info": {
   "codemirror_mode": {
    "name": "ipython",
    "version": 3
   },
   "file_extension": ".py",
   "mimetype": "text/x-python",
   "name": "python",
   "nbconvert_exporter": "python",
   "pygments_lexer": "ipython3",
   "version": "3.7.3"
  }
 },
 "nbformat": 4,
 "nbformat_minor": 5
}
