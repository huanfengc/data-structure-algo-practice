{
 "cells": [
  {
   "cell_type": "markdown",
   "id": "d12b0a9f",
   "metadata": {},
   "source": [
    "## Longest Substring with At Most Two Distinct Characters [problem](https://leetcode.com/problems/longest-substring-with-at-most-two-distinct-characters/)\n",
    "\n",
    "Given a string ```s```, return the length of the longest substring that contains **at most two distinct characters**.\n",
    "\n",
    "**Constraints:**\n",
    "\n",
    "* ```1 <= s.length <= 10^5```\n",
    "* ```s``` consists of English letters."
   ]
  },
  {
   "cell_type": "markdown",
   "id": "6a31b250",
   "metadata": {},
   "source": [
    "### 1. Two Pointers (Sliding Window)\n",
    "time complexity: $O(N)$; space compelexity: $O(1)$."
   ]
  },
  {
   "cell_type": "code",
   "execution_count": 1,
   "id": "d91f5f1e",
   "metadata": {},
   "outputs": [],
   "source": [
    "def lengthOfLongestSubstringTwoDistinct(s: str) -> int:\n",
    "\n",
    "    left = right = maxsub = 0\n",
    "    hashmap = {}\n",
    "\n",
    "    for right in range(len(s)):\n",
    "        # value is the index of the last appearance\n",
    "        hashmap[s[right]] = right\n",
    "        if len(hashmap) > 2:\n",
    "            # not delete the character appeared first,\n",
    "            # but delete the character ends last, ie. \n",
    "            left = min(hashmap.values()) + 1\n",
    "            del hashmap[s[left-1]]\n",
    "        maxsub = max(maxsub, right - left + 1)\n",
    "    return maxsub"
   ]
  }
 ],
 "metadata": {
  "kernelspec": {
   "display_name": "Python 3 (ipykernel)",
   "language": "python",
   "name": "python3"
  },
  "language_info": {
   "codemirror_mode": {
    "name": "ipython",
    "version": 3
   },
   "file_extension": ".py",
   "mimetype": "text/x-python",
   "name": "python",
   "nbconvert_exporter": "python",
   "pygments_lexer": "ipython3",
   "version": "3.7.3"
  }
 },
 "nbformat": 4,
 "nbformat_minor": 5
}
