{
 "cells": [
  {
   "cell_type": "markdown",
   "id": "bff5df42",
   "metadata": {},
   "source": [
    "## Longest Substring Without Repeating Characters [problem](https://leetcode.com/problems/longest-substring-without-repeating-characters/)\n",
    "\n",
    "Given a string ```s```, find the length of the longest **substring** without repeating characters.\n",
    "\n",
    "**Constraints:**\n",
    "\n",
    "* ```0 <= s.length <= 5 * 10^4```\n",
    "* ```s``` consists of English letters, digits, symbols and spaces.b"
   ]
  },
  {
   "cell_type": "markdown",
   "id": "df86de28",
   "metadata": {},
   "source": [
    "### 1. Two Pointers (sliding window)\n",
    "time complexity: $O(N)$, $N$ is the length of ```s```; space complexity: $O(M)$, $M$ is the size of the character set, **but isn't it $O(1)$? since there are total 26 alphabets**."
   ]
  },
  {
   "cell_type": "code",
   "execution_count": 1,
   "id": "4ffb9f92",
   "metadata": {},
   "outputs": [],
   "source": [
    "def lengthOfLongestSubstring(s):\n",
    "\n",
    "    i = maximum = 0\n",
    "    hashmap = {}\n",
    "\n",
    "    for j, c in enumerate(s):\n",
    "        if c in hashmap:\n",
    "            maximum = max(maximum, j - i)\n",
    "            # be careful about some cases, eg. [a, b, b, a]\n",
    "            i = max(i, hashmap[c] + 1)\n",
    "        hashmap[c] = j\n",
    "\n",
    "    maximum = max(maximum, len(s) - i)\n",
    "    return maximum"
   ]
  }
 ],
 "metadata": {
  "kernelspec": {
   "display_name": "Python 3 (ipykernel)",
   "language": "python",
   "name": "python3"
  },
  "language_info": {
   "codemirror_mode": {
    "name": "ipython",
    "version": 3
   },
   "file_extension": ".py",
   "mimetype": "text/x-python",
   "name": "python",
   "nbconvert_exporter": "python",
   "pygments_lexer": "ipython3",
   "version": "3.7.3"
  }
 },
 "nbformat": 4,
 "nbformat_minor": 5
}
