{
 "cells": [
  {
   "cell_type": "markdown",
   "id": "04e3e224",
   "metadata": {},
   "source": [
    "## Max Consecutive Ones III [problem](https://leetcode.com/problems/max-consecutive-ones-iii/)\n",
    "\n",
    "Given a binary array ```nums``` and an integer ```k```, return the maximum number of consecutive ```1```'s in the array if you can flip at most ```k``` ```0```'s.\n",
    "\n",
    "**Constraints:**\n",
    "\n",
    "* ```1 <= nums.length <= 10^5```\n",
    "* ```nums[i]``` is either ```0``` or ```1.```\n",
    "* ```0 <= k <= nums.length```"
   ]
  },
  {
   "cell_type": "markdown",
   "id": "ff144a17",
   "metadata": {},
   "source": [
    "### 1. Two Pointers (Sliding Window)\n",
    "time complexity: $O(N)$; space complexity: $O(1)$, but a Hash table is used, still need extra space. See 2 how to avoid using Hash table."
   ]
  },
  {
   "cell_type": "code",
   "execution_count": 1,
   "id": "07de620d",
   "metadata": {},
   "outputs": [],
   "source": [
    "from collections import Counter\n",
    "def longestOnes1(nums, k):\n",
    "    \n",
    "    i = 0\n",
    "    count = Counter()\n",
    "\n",
    "    for j in range(len(nums)):\n",
    "        count[nums[j]] += 1\n",
    "        if j - i + 1 > count[1] + k:\n",
    "            count[nums[i]] -= 1\n",
    "            i += 1\n",
    "    return len(nums) - i"
   ]
  },
  {
   "cell_type": "markdown",
   "id": "795f2f0e",
   "metadata": {},
   "source": [
    "### 2. Two Pointers (Sliding Window, without using Hash table/ Counter)\n",
    "time complexity: $O(N)$; space complexity: $O(1)$."
   ]
  },
  {
   "cell_type": "code",
   "execution_count": 2,
   "id": "26221263",
   "metadata": {},
   "outputs": [],
   "source": [
    "def longestOnes2(nums: list, k: int) -> int:\n",
    "\n",
    "    left = 0\n",
    "\n",
    "    for right in range(len(nums)):\n",
    "        # k is the maximum number of zeros allowed in the sliding window.\n",
    "        k -= 1 - nums[right]\n",
    "        if k < 0:\n",
    "            # increment left bound, increment k if it was a zero.\n",
    "            k += 1 - nums[left]\n",
    "            left += 1\n",
    "\n",
    "    return right - left + 1"
   ]
  }
 ],
 "metadata": {
  "kernelspec": {
   "display_name": "Python 3 (ipykernel)",
   "language": "python",
   "name": "python3"
  },
  "language_info": {
   "codemirror_mode": {
    "name": "ipython",
    "version": 3
   },
   "file_extension": ".py",
   "mimetype": "text/x-python",
   "name": "python",
   "nbconvert_exporter": "python",
   "pygments_lexer": "ipython3",
   "version": "3.7.3"
  }
 },
 "nbformat": 4,
 "nbformat_minor": 5
}
