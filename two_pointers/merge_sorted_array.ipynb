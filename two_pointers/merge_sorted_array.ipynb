{
 "cells": [
  {
   "cell_type": "markdown",
   "id": "b4cda175",
   "metadata": {},
   "source": [
    "## Merge Sorted Array [problem](https://leetcode.com/problems/merge-sorted-array/)\n",
    "\n",
    "You are given two integer arrays ```nums1``` and ```nums2```, sorted in non-decreasing order, and two integers ```m``` and ```n```, representing the number of elements in ```nums1``` and ```nums2``` respectively.\n",
    "\n",
    "Merge ```nums1``` and ```nums2``` into a single array sorted in non-decreasing order.\n",
    "\n",
    "The final sorted array should not be returned by the function, but instead be stored inside the array ```nums1```. To accommodate this, ```nums1``` has a length of ```m + n```, where the first ```m``` elements denote the elements that should be merged, and the last ```n``` elements are set to ```0``` and should be ignored. ```nums2``` has a length of ```n```.\n",
    "\n",
    "**Constraints:**\n",
    "\n",
    "* ```nums1.length == m + n```\n",
    "* ```nums2.length == n```\n",
    "* ```0 <= m, n <= 200```\n",
    "* ```1 <= m + n <= 200```\n",
    "* ```-10^9 <= nums1[i], nums2[j] <= 10^9```\n",
    "\n",
    "**Follow up:** Can you come up with an algorithm that runs in $O(M+N)$ time?"
   ]
  },
  {
   "cell_type": "markdown",
   "id": "9ab0de3b",
   "metadata": {},
   "source": [
    "### 1. Merge and Sort\n",
    "time complexity: $O((M+N)log(M+N))$, from sorting; space complexity: $O(M+N)$, also from sorting (built in Python)."
   ]
  },
  {
   "cell_type": "code",
   "execution_count": 1,
   "id": "a83a8ec4",
   "metadata": {},
   "outputs": [],
   "source": [
    "def merge1(nums1, m, nums2, n):\n",
    "    \"\"\"\n",
    "    Do not return anything, modify nums1 in-place instead.\n",
    "    \"\"\"\n",
    "\n",
    "    for i in range(m, m+n):\n",
    "        nums1[i] = nums2[i-m]\n",
    "    nums1.sort()"
   ]
  },
  {
   "cell_type": "markdown",
   "id": "1a2da533",
   "metadata": {},
   "source": [
    "### 2. Two Pointers\n",
    "time complexity: $O(M+N)$; space complexity: $O(M+N)$, since an extra array ```ans``` is used."
   ]
  },
  {
   "cell_type": "code",
   "execution_count": 2,
   "id": "51a17d0e",
   "metadata": {},
   "outputs": [],
   "source": [
    "def merge2(nums1, m, nums2, n):\n",
    "    \"\"\"\n",
    "    Do not return anything, modify nums1 in-place instead.\n",
    "    \"\"\"\n",
    "\n",
    "    nums1_copy = nums1[0:m]\n",
    "    p1 = p2 = 0\n",
    "\n",
    "    for p in range( m + n ):\n",
    "        if p2 >= n or ( p1 < m and nums1_copy[p1] <= nums2[p2] ): # the order matters (???)\n",
    "            nums1[p] = nums1_copy[p1]\n",
    "            p1 += 1\n",
    "        else:\n",
    "            nums1[p] = nums2[p2]\n",
    "            p2 += 1"
   ]
  },
  {
   "cell_type": "markdown",
   "id": "4e066656",
   "metadata": {},
   "source": [
    "### 3. Two Pointers \n",
    "time complexity: $O(M+N)$; space complexity: $O(1)$, since merged from the end of ```nums1```."
   ]
  },
  {
   "cell_type": "code",
   "execution_count": 3,
   "id": "2c65862f",
   "metadata": {},
   "outputs": [],
   "source": [
    "def merge3(nums1, m, nums2, n):\n",
    "    \"\"\"\n",
    "    Do not return anything, modify nums1 in-place instead.\n",
    "    \"\"\"\n",
    "\n",
    "    p1, p2, p = m - 1, n - 1, m + n - 1\n",
    "    while p > -1:\n",
    "        if p2 < 0: # no elements left in nums2, done\n",
    "            break\n",
    "        if nums1[p1] >= nums2[p2] and p1 >= 0:\n",
    "            nums1[p] = nums1[p1]\n",
    "            p1 -= 1\n",
    "        else:\n",
    "            nums1[p] = nums2[p2]\n",
    "            p2 -= 1\n",
    "        p -= 1"
   ]
  }
 ],
 "metadata": {
  "kernelspec": {
   "display_name": "Python 3 (ipykernel)",
   "language": "python",
   "name": "python3"
  },
  "language_info": {
   "codemirror_mode": {
    "name": "ipython",
    "version": 3
   },
   "file_extension": ".py",
   "mimetype": "text/x-python",
   "name": "python",
   "nbconvert_exporter": "python",
   "pygments_lexer": "ipython3",
   "version": "3.7.3"
  }
 },
 "nbformat": 4,
 "nbformat_minor": 5
}
