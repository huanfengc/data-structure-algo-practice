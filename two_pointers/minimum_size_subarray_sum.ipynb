{
 "cells": [
  {
   "cell_type": "markdown",
   "id": "7a13f3e7",
   "metadata": {},
   "source": [
    "## 209. Minimum Size Subarray Sum [problem](https://leetcode.com/problems/minimum-size-subarray-sum/)\n",
    "\n",
    "Given an array of positive integers ```nums``` and a positive integer ```target```, return the minimal length of a contiguous subarray ```[numsl, numsl+1, ..., numsr-1, numsr]``` of which the sum is greater than or equal to ```target```. If there is no such subarray, return ```0``` instead.\n",
    "\n",
    "---\n",
    "\n",
    "**Constraints:**\n",
    "\n",
    "* ```1 <= target <= 10^9```\n",
    "* ```1 <= nums.length <= 10^5```\n",
    "* ```1 <= nums[i] <= 10^4```\n",
    "\n",
    "---\n",
    "\n",
    "**Follow up: If you have figured out the O(n) solution, try coding another solution of which the time complexity is O(n log(n)).**"
   ]
  },
  {
   "cell_type": "markdown",
   "id": "398faed9",
   "metadata": {},
   "source": [
    "### 1. Two pointers (sliding window)\n",
    "* Time complexity: $O(N)$\n",
    "* Space complexity: $O(1)$"
   ]
  },
  {
   "cell_type": "code",
   "execution_count": 1,
   "id": "64136d3d",
   "metadata": {},
   "outputs": [],
   "source": [
    "from typing import List\n",
    "\n",
    "class Solution1:\n",
    "    def minSubArrayLen(self, target: int, nums: List[int]) -> int:\n",
    "        \"\"\"\n",
    "        Args:\n",
    "            target: an integer\n",
    "            nums: an integer array\n",
    "        \n",
    "        Return:\n",
    "            the minimum size of a subarray whose sum is target\n",
    "        \"\"\"\n",
    "        \n",
    "        n = len(nums)\n",
    "        min_size = float(\"inf\")\n",
    "        sum = 0\n",
    "\n",
    "        p1 = 0\n",
    "        for p2 in range(n):\n",
    "            sum += nums[p2]\n",
    "            while sum >= target:\n",
    "                min_size = min(min_size, p2 - p1 + 1)\n",
    "                sum -= nums[p1]\n",
    "                p1 += 1\n",
    "#            if p1 == p2 and sum >= target:\n",
    "#                return 1\n",
    "        return min_size if min_size != float(\"inf\") else 0"
   ]
  },
  {
   "cell_type": "markdown",
   "id": "070320be",
   "metadata": {},
   "source": [
    "### 2. Binary search\n",
    "* Time complexity: $O(NlogN)$\n",
    "* Space complexity: $O(N)$"
   ]
  },
  {
   "cell_type": "code",
   "execution_count": null,
   "id": "f7caeda7",
   "metadata": {},
   "outputs": [],
   "source": []
  }
 ],
 "metadata": {
  "kernelspec": {
   "display_name": "Python 3 (ipykernel)",
   "language": "python",
   "name": "python3"
  },
  "language_info": {
   "codemirror_mode": {
    "name": "ipython",
    "version": 3
   },
   "file_extension": ".py",
   "mimetype": "text/x-python",
   "name": "python",
   "nbconvert_exporter": "python",
   "pygments_lexer": "ipython3",
   "version": "3.7.3"
  }
 },
 "nbformat": 4,
 "nbformat_minor": 5
}
