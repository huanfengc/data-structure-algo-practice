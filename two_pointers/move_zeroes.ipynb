{
 "cells": [
  {
   "cell_type": "markdown",
   "id": "67243f60",
   "metadata": {},
   "source": [
    "## Move Zeroes [problem](https://leetcode.com/problems/move-zeroes/)\n",
    "\n",
    "Given an integer array ```nums```, move all ```0```'s to the end of it while maintaining the relative order of the non-zero elements.\n",
    "\n",
    "**Note that you must do this in-place without making a copy of the array.**\n",
    "\n",
    "**Constraints:**\n",
    "\n",
    "* ```1 <= nums.length <= 10^4```\n",
    "* ```-2^31 <= nums[i] <= 2^31 - 1```"
   ]
  },
  {
   "cell_type": "markdown",
   "id": "0acad513",
   "metadata": {},
   "source": [
    "### 1. Two Pointers\n",
    "time complexitu: $O(N)$; space complexity: $O(1)$."
   ]
  },
  {
   "cell_type": "code",
   "execution_count": 1,
   "id": "c9558f87",
   "metadata": {},
   "outputs": [],
   "source": [
    "def moveZeroes(nums):\n",
    "    \"\"\"\n",
    "    Do not return anything, modify nums in-place instead.\n",
    "    \"\"\"\n",
    "    # slow pointer i tracking 0s\n",
    "    # fast pointer j tracking non-0s\n",
    "    i = 0 \n",
    "    for j in range(len(nums)):\n",
    "        if nums[i] == 0 and nums[j] != 0:\n",
    "            nums[i], nums[j] = nums[j], nums[i]\n",
    "        if nums[i] != 0:\n",
    "            i += 1"
   ]
  }
 ],
 "metadata": {
  "kernelspec": {
   "display_name": "Python 3 (ipykernel)",
   "language": "python",
   "name": "python3"
  },
  "language_info": {
   "codemirror_mode": {
    "name": "ipython",
    "version": 3
   },
   "file_extension": ".py",
   "mimetype": "text/x-python",
   "name": "python",
   "nbconvert_exporter": "python",
   "pygments_lexer": "ipython3",
   "version": "3.7.3"
  }
 },
 "nbformat": 4,
 "nbformat_minor": 5
}
