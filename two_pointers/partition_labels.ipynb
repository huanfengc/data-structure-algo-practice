{
 "cells": [
  {
   "cell_type": "markdown",
   "id": "d89424c3",
   "metadata": {},
   "source": [
    "## Partition Labels [problem](https://leetcode.com/problems/partition-labels/)\n",
    "\n",
    "You are given a string ```s```. We want to partition the string into as many parts as possible so that each letter appears in at most one part.\n",
    "\n",
    "Note that the partition is done so that after concatenating all the parts in order, the resultant string should be ```s```.\n",
    "\n",
    "Return a list of integers representing the size of these parts.\n",
    "\n",
    "**Constraints:**\n",
    "\n",
    "* ```1 <= s.length <= 500```\n",
    "* ```s``` consists of lowercase English letters."
   ]
  },
  {
   "cell_type": "markdown",
   "id": "19429cfb",
   "metadata": {},
   "source": [
    "### 1. Two Pointers (Greedy)\n",
    "time complexity: $O(N)$; space complexity: $O(1)$, since the number of keys in Hash table is finite (up to 26 lowercase English letters)."
   ]
  },
  {
   "cell_type": "code",
   "execution_count": 1,
   "id": "5c643427",
   "metadata": {},
   "outputs": [],
   "source": [
    "def partitionLabels(s: str) -> list:\n",
    "\n",
    "    last = {c: i for i, c in enumerate(s)}\n",
    "    start = j = 0\n",
    "    ans = []\n",
    "\n",
    "    for i, c in enumerate(s):\n",
    "        j = max(j, last[c])\n",
    "        if i == j:\n",
    "            ans.append(j - start + 1)\n",
    "            start = i + 1\n",
    "    return ans"
   ]
  }
 ],
 "metadata": {
  "kernelspec": {
   "display_name": "Python 3 (ipykernel)",
   "language": "python",
   "name": "python3"
  },
  "language_info": {
   "codemirror_mode": {
    "name": "ipython",
    "version": 3
   },
   "file_extension": ".py",
   "mimetype": "text/x-python",
   "name": "python",
   "nbconvert_exporter": "python",
   "pygments_lexer": "ipython3",
   "version": "3.7.3"
  }
 },
 "nbformat": 4,
 "nbformat_minor": 5
}
