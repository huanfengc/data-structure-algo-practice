{
 "cells": [
  {
   "cell_type": "markdown",
   "id": "2aaa7640",
   "metadata": {},
   "source": [
    "## Remove Duplicates from Sorted Array [problem](https://leetcode.com/problems/remove-duplicates-from-sorted-array/)\n",
    "\n",
    "Given an integer array ```nums``` sorted in non-decreasing order, remove the duplicates in-place such that each unique element appears only once. The relative order of the elements should be kept the same.\n",
    "\n",
    "Since it is impossible to change the length of the array in some languages, you must instead have the result be placed in the first part of the array ```nums```. More formally, if there are k elements after removing the duplicates, then the first ```k``` elements of ```nums``` should hold the final result. It does not matter what you leave beyond the first ```k``` elements.\n",
    "\n",
    "Return ```k``` after placing the final result in the first ```k``` slots of ```nums```.\n",
    "\n",
    "**Do not allocate extra space for another array. You must do this by modifying the input array in-place with O(1) extra memory.**\n",
    "\n",
    "**Constraints:**\n",
    "\n",
    "* ```1 <= nums.length <= 3 * 10^4```\n",
    "* ```-100 <= nums[i] <= 100```\n",
    "* ```nums``` is sorted in **non-decreasing** order."
   ]
  },
  {
   "cell_type": "markdown",
   "id": "ff8800d3",
   "metadata": {},
   "source": [
    "### 1. Two Pointers\n",
    "time complexity: $O(N)$; space complexity: $O(1)$."
   ]
  },
  {
   "cell_type": "code",
   "execution_count": 1,
   "id": "0ea9c774",
   "metadata": {},
   "outputs": [],
   "source": [
    "def removeDuplicates(nums):\n",
    "    # slow and faster pointers\n",
    "    i, j = 0, 1\n",
    "\n",
    "    for j in range(len(nums)):\n",
    "        if nums[i] != nums[j]:\n",
    "            i += 1\n",
    "            nums[i] = nums[j]\n",
    "\n",
    "    return i + 1 # since 0-indexed"
   ]
  }
 ],
 "metadata": {
  "kernelspec": {
   "display_name": "Python 3 (ipykernel)",
   "language": "python",
   "name": "python3"
  },
  "language_info": {
   "codemirror_mode": {
    "name": "ipython",
    "version": 3
   },
   "file_extension": ".py",
   "mimetype": "text/x-python",
   "name": "python",
   "nbconvert_exporter": "python",
   "pygments_lexer": "ipython3",
   "version": "3.7.3"
  }
 },
 "nbformat": 4,
 "nbformat_minor": 5
}
