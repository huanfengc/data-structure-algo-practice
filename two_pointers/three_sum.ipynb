{
 "cells": [
  {
   "cell_type": "markdown",
   "id": "bdd244c5",
   "metadata": {},
   "source": [
    "## 3Sum [problem](https://leetcode.com/problems/3sum/)\n",
    "\n",
    "Given an integer array ```nums```, return all the triplets ```[nums[i], nums[j], nums[k]]``` such that ```i != j```, ```i != k```, and ```j != k```, and ```nums[i] + nums[j] + nums[k] == 0```.\n",
    "\n",
    "Notice that the solution set must not contain duplicate triplets.\n",
    "\n",
    "**Constraints:**\n",
    "\n",
    "* ```0 <= nums.length <= 3000```\n",
    "* ```-10^5 <= nums[i] <= 10^5```\n",
    "\n",
    "**Skipping the duplicates is the key, be careful.**"
   ]
  },
  {
   "cell_type": "markdown",
   "id": "ddf12468",
   "metadata": {},
   "source": [
    "### 1. Two Pointers and Two Sum\n",
    "time complexity: $O(N^2)$, space complexity: $O(N)$.\n",
    "\n",
    "**The Python built-in method ```sort()``` uses Timsort algorithm which takes $O(N)$ space complexity** (need to be double checked)."
   ]
  },
  {
   "cell_type": "code",
   "execution_count": 1,
   "id": "4d1a10f7",
   "metadata": {},
   "outputs": [],
   "source": [
    "def threeSum(nums):\n",
    "\n",
    "    if len(nums) <= 2:\n",
    "        return []\n",
    "    elif len(nums) == 3:\n",
    "        return [nums] if sum(nums) == 0 else []\n",
    "\n",
    "    ans = []\n",
    "    nums.sort() # sorting takes O(NlogN) time complexity.\n",
    "    for i in range(len(nums)):\n",
    "        # because nums is sorted\n",
    "        if nums[i] > 0:\n",
    "            break\n",
    "        # double-counting needs to be avoided\n",
    "        # both here and in twoSum \n",
    "        if i == 0 or nums[i-1] != nums[i]:\n",
    "            self.twoSum(nums, i, ans)\n",
    "    return ans\n",
    "\n",
    "\n",
    "def twoSum(nums, i, ans):\n",
    "    left, right = i + 1, len(nums) - 1\n",
    "\n",
    "    while left < right:\n",
    "        sum = nums[i] + nums[left] + nums[right]\n",
    "        if sum == 0:\n",
    "            ans.append([nums[i], nums[left], nums[right]])\n",
    "            left += 1\n",
    "            right -= 0\n",
    "            while left < right and nums[left] == nums[left-1]:\n",
    "                left += 1\n",
    "        elif sum > 0:\n",
    "            right -= 1\n",
    "        else:\n",
    "            left += 1"
   ]
  },
  {
   "cell_type": "markdown",
   "id": "1b9f4c1f",
   "metadata": {},
   "source": [
    "### 2. Hashset and Two Sum\n",
    "time complexity: $O(N^2)$, space compelexity: $O(N)$.\n",
    "\n",
    "It seems this one is a bit slower than the one using two pointers, event though the time complexity looks the same."
   ]
  },
  {
   "cell_type": "code",
   "execution_count": 2,
   "id": "73cf2943",
   "metadata": {},
   "outputs": [],
   "source": [
    "def threeSum2(nums):\n",
    "\n",
    "    if len(nums) <= 2:\n",
    "        return []\n",
    "    elif len(nums) == 3:\n",
    "        return [nums] if sum(nums) == 0 else []\n",
    "\n",
    "    ans = []\n",
    "    nums.sort()\n",
    "    for i in range(len(nums)):\n",
    "        # because nums is sorted\n",
    "        if nums[i] > 0:\n",
    "            break\n",
    "        # double-counting needs to be avoided\n",
    "        # both here and in twoSum \n",
    "        if i == 0 or nums[i-1] != nums[i]:\n",
    "            self.twoSum(nums, i, ans)\n",
    "    return ans\n",
    "\n",
    "\n",
    "def twoSum2(nums, i, ans):\n",
    "\n",
    "    hashset = set()\n",
    "    j = i + 1\n",
    "    while j < len(nums):\n",
    "        complement = - nums[i] - nums[j]\n",
    "        if complement in hashset:\n",
    "            ans.append([nums[i], nums[j], complement])\n",
    "            while j+1 < len(nums) and nums[j] == nums[j+1]:\n",
    "                j += 1\n",
    "        hashset.add(nums[j])\n",
    "        j += 1"
   ]
  },
  {
   "cell_type": "markdown",
   "id": "b6b7a98e",
   "metadata": {},
   "source": [
    "### 3. No Sort"
   ]
  },
  {
   "cell_type": "code",
   "execution_count": null,
   "id": "0db29ffc",
   "metadata": {},
   "outputs": [],
   "source": []
  }
 ],
 "metadata": {
  "kernelspec": {
   "display_name": "Python 3 (ipykernel)",
   "language": "python",
   "name": "python3"
  },
  "language_info": {
   "codemirror_mode": {
    "name": "ipython",
    "version": 3
   },
   "file_extension": ".py",
   "mimetype": "text/x-python",
   "name": "python",
   "nbconvert_exporter": "python",
   "pygments_lexer": "ipython3",
   "version": "3.7.3"
  }
 },
 "nbformat": 4,
 "nbformat_minor": 5
}
