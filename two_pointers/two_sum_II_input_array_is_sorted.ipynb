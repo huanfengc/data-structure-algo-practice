{
 "cells": [
  {
   "cell_type": "markdown",
   "id": "8b558ebc",
   "metadata": {},
   "source": [
    "## Two Sum II - Input Array Is Sorted [problem](https://leetcode.com/problems/two-sum-ii-input-array-is-sorted/)\n",
    "\n",
    "Given a 1-indexed array of integers ```numbers``` that is already sorted in non-decreasing order, find two numbers such that they add up to a specific target number. Let these two numbers be ```numbers[index1]``` and ```numbers[index2]``` where ```1 <= index1 < index2 <= numbers.length```.\n",
    "\n",
    "Return the indices of the two numbers, ```index1``` and ```index2```, added by one as an integer array ```[index1, index2]``` of length 2.\n",
    "\n",
    "The tests are generated such that there is exactly one solution. You may not use the same element twice.\n",
    "\n",
    "**Your solution must use only constant extra space.**\n",
    "\n",
    "**Constraints:**\n",
    "\n",
    "* ```2 <= numbers.length <= 3 * 10^4```\n",
    "* ```-1000 <= numbers[i] <= 1000```\n",
    "* ```numbers``` is sorted in non-decreasing order.\n",
    "* ```-1000 <= target <= 1000```\n",
    "* The tests are generated such that there is exactly one solution."
   ]
  },
  {
   "cell_type": "markdown",
   "id": "f00b8d14",
   "metadata": {},
   "source": [
    "### 1. Two Pointers \n",
    "time complexity: $O(N)$, space complexity: $O(1)$."
   ]
  },
  {
   "cell_type": "code",
   "execution_count": 1,
   "id": "95a75fe8",
   "metadata": {},
   "outputs": [],
   "source": [
    "def twoSum1(numbers, target):\n",
    "    left, right = 0, len(numbers) - 1\n",
    "\n",
    "    while left < right:\n",
    "        res = numbers[left] + numbers[right]\n",
    "        if res == target:\n",
    "            return [left+1, right+1]\n",
    "        # these two conditions make use of the 'sorted' array.\n",
    "        elif res > target:\n",
    "            right -= 1\n",
    "        else:\n",
    "            left += 1"
   ]
  },
  {
   "cell_type": "markdown",
   "id": "e9f78259",
   "metadata": {},
   "source": [
    "### 2. Binary Search\n",
    "time complexity: $O(NlogN)$, space complexity: $O(1)$."
   ]
  },
  {
   "cell_type": "code",
   "execution_count": 2,
   "id": "9bbe3c10",
   "metadata": {},
   "outputs": [],
   "source": [
    "def twoSum2(numbers, target):\n",
    "\n",
    "    for i in range(len(numbers) - 1):\n",
    "        left = i + 1\n",
    "        right = len(numbers) - 1\n",
    "        res = target - numbers[i]\n",
    "\n",
    "        while left < right:\n",
    "            mid = left + (right - left) // 2\n",
    "            if numbers[mid] > res:\n",
    "                right = mid\n",
    "            elif numbers[mid] < res:\n",
    "                left = mid + 1\n",
    "            else:\n",
    "                return [i+1, mid+1]\n",
    "        if numbers[left] == res:\n",
    "            return [i+1, left+1]"
   ]
  }
 ],
 "metadata": {
  "kernelspec": {
   "display_name": "Python 3 (ipykernel)",
   "language": "python",
   "name": "python3"
  },
  "language_info": {
   "codemirror_mode": {
    "name": "ipython",
    "version": 3
   },
   "file_extension": ".py",
   "mimetype": "text/x-python",
   "name": "python",
   "nbconvert_exporter": "python",
   "pygments_lexer": "ipython3",
   "version": "3.7.3"
  }
 },
 "nbformat": 4,
 "nbformat_minor": 5
}
