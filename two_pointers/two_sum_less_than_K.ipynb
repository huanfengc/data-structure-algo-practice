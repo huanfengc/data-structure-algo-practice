{
 "cells": [
  {
   "cell_type": "markdown",
   "id": "771e172d",
   "metadata": {},
   "source": [
    "## Two Sum Less Than K [problem](https://leetcode.com/problems/two-sum-less-than-k/)\n",
    "\n",
    "Given an array ```nums``` of integers and integer ```k```, return the maximum ```sum``` such that there exists ```i < j``` with ```nums[i] + nums[j] = sum``` and ```sum < k```. If no ```i```, ```j``` exist satisfying this equation, return ```-1```.\n",
    "\n",
    "**Constraints:**\n",
    "\n",
    "* ```1 <= nums.length <= 100```\n",
    "* ```1 <= nums[i] <= 1000```\n",
    "* ```1 <= k <= 2000```"
   ]
  },
  {
   "cell_type": "markdown",
   "id": "9cae3ee2",
   "metadata": {},
   "source": [
    "### 1. Sorting and Two Pointers\n",
    "time complexity: $O(NlogN)$ (sorting), if the array has already been sorted, then $O(N)$; space complexity: $O(N)$, depending the sorting algorithm language uses."
   ]
  },
  {
   "cell_type": "code",
   "execution_count": 1,
   "id": "da9b0cd1",
   "metadata": {},
   "outputs": [],
   "source": [
    "def twoSumLessThanK(nums: list, k: int) -> int:\n",
    "\n",
    "    left, right, maxsum = 0, len(nums) - 1, -1\n",
    "    nums.sort()\n",
    "\n",
    "    while left < right:\n",
    "        sum = nums[left] + nums[right]\n",
    "        if sum >= k:\n",
    "            right -= 1\n",
    "        else:\n",
    "            # be careful here\n",
    "            maxsum = max(maxsum, sum)\n",
    "            left += 1\n",
    "    return maxsum"
   ]
  }
 ],
 "metadata": {
  "kernelspec": {
   "display_name": "Python 3 (ipykernel)",
   "language": "python",
   "name": "python3"
  },
  "language_info": {
   "codemirror_mode": {
    "name": "ipython",
    "version": 3
   },
   "file_extension": ".py",
   "mimetype": "text/x-python",
   "name": "python",
   "nbconvert_exporter": "python",
   "pygments_lexer": "ipython3",
   "version": "3.7.3"
  }
 },
 "nbformat": 4,
 "nbformat_minor": 5
}
