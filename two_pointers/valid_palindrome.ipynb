{
 "cells": [
  {
   "cell_type": "markdown",
   "id": "99e8b28a",
   "metadata": {},
   "source": [
    "## Valid Palindrome [problem](https://leetcode.com/problems/valid-palindrome/)\n",
    "\n",
    "A phrase is a palindrome if, after converting all uppercase letters into lowercase letters and removing all non-alphanumeric characters, it reads the same forward and backward. Alphanumeric characters include letters and numbers.\n",
    "\n",
    "Given a string ```s```, return ```true``` if it is a palindrome, or ```false``` otherwise.\n",
    "\n",
    "**Constraints:**\n",
    "\n",
    "* ```1 <= s.length <= 2 * 10^5```\n",
    "* ```s``` consists only of printable ASCII characters."
   ]
  },
  {
   "cell_type": "markdown",
   "id": "1d81b8fe",
   "metadata": {},
   "source": [
    "### 1. Use ```isalnum()``` on String\n",
    "time complexity: $O(N)$, space complexity: $O(1)$."
   ]
  },
  {
   "cell_type": "code",
   "execution_count": 1,
   "id": "de64919d",
   "metadata": {},
   "outputs": [],
   "source": [
    "def isPalindrome1(s):\n",
    "    left, right = 0, len(s) - 1\n",
    "\n",
    "    while left < right:\n",
    "        # 'left < right' is also needed in the inner loop\n",
    "        while left < right and not s[left].isalnum():\n",
    "            left += 1\n",
    "        while left < right and not s[right].isalnum():\n",
    "            right -= 1\n",
    "        if s[left].lower() != s[right].lower():\n",
    "            return False\n",
    "        left += 1\n",
    "        right -= 1\n",
    "    return True"
   ]
  },
  {
   "cell_type": "markdown",
   "id": "d5f30fde",
   "metadata": {},
   "source": [
    "### 2. Convert into List\n",
    "time complexity: $O(N)$, space complexity: $O(N)$."
   ]
  },
  {
   "cell_type": "code",
   "execution_count": 2,
   "id": "9d7dbf93",
   "metadata": {},
   "outputs": [],
   "source": [
    "def isPalindrome2(s):\n",
    "    if not s :\n",
    "        return True\n",
    "\n",
    "    check = []\n",
    "    for c in s:\n",
    "        if c.isalpha() or c.isnumeric():\n",
    "            check.append(c.lower())\n",
    "\n",
    "    left, right = 0, len(s) - 1\n",
    "    while left < right:\n",
    "        if check[left] != check[right]:\n",
    "            return False\n",
    "        left += 1\n",
    "        right -= 1\n",
    "    return True"
   ]
  }
 ],
 "metadata": {
  "kernelspec": {
   "display_name": "Python 3 (ipykernel)",
   "language": "python",
   "name": "python3"
  },
  "language_info": {
   "codemirror_mode": {
    "name": "ipython",
    "version": 3
   },
   "file_extension": ".py",
   "mimetype": "text/x-python",
   "name": "python",
   "nbconvert_exporter": "python",
   "pygments_lexer": "ipython3",
   "version": "3.7.3"
  }
 },
 "nbformat": 4,
 "nbformat_minor": 5
}
