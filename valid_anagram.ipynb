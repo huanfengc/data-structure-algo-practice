{
 "cells": [
  {
   "cell_type": "markdown",
   "id": "127e5172",
   "metadata": {},
   "source": [
    "## Valid Anagram [problem](https://leetcode.com/problems/valid-anagram/)\n",
    "\n",
    "Given two strings ```s``` and ```t```, return true if ```t``` is an anagram of ```s```, and false otherwise.\n",
    "\n",
    "An Anagram is a word or phrase formed by rearranging the letters of a different word or phrase, typically using all the original letters exactly once.\n",
    "\n",
    "**Follow up:** What if the inputs contain Unicode characters? How would you adapt your solution to such a case?"
   ]
  },
  {
   "cell_type": "code",
   "execution_count": 1,
   "id": "4444f3af",
   "metadata": {},
   "outputs": [],
   "source": [
    "# test case\n",
    "s = 'dog'\n",
    "t = 'god'"
   ]
  },
  {
   "cell_type": "markdown",
   "id": "755c3db6",
   "metadata": {},
   "source": [
    "### 1. Hash table"
   ]
  },
  {
   "cell_type": "code",
   "execution_count": 2,
   "id": "0ed70226",
   "metadata": {},
   "outputs": [],
   "source": [
    "def isAnagram1(s: str, t: str) -> bool:\n",
    "    \n",
    "    if len(s) != len(t):\n",
    "        return False\n",
    "    \n",
    "    hashmap = {}\n",
    "    for s_char in s:\n",
    "        if s_char in hashmap:\n",
    "            hashmap[s_char] += 1\n",
    "        else:\n",
    "            hashmap[s_char] = 1\n",
    "    for t_char in t:\n",
    "        if t_char not in hashmap:\n",
    "            return false\n",
    "        else:\n",
    "            hashmap[t_char] -= 1\n",
    "            if hashmap[t_char] < 0:\n",
    "                return False\n",
    "#    for ele in hashmap:\n",
    "#        if hashmap[ele] != 0:\n",
    "#            return False\n",
    "    return True"
   ]
  },
  {
   "cell_type": "code",
   "execution_count": 3,
   "id": "79a32cab",
   "metadata": {},
   "outputs": [
    {
     "data": {
      "text/plain": [
       "True"
      ]
     },
     "execution_count": 3,
     "metadata": {},
     "output_type": "execute_result"
    }
   ],
   "source": [
    "isAnagram1(s,t)"
   ]
  },
  {
   "cell_type": "markdown",
   "id": "79cb8661",
   "metadata": {},
   "source": [
    "### 2. Comparing sorted strings"
   ]
  },
  {
   "cell_type": "code",
   "execution_count": 4,
   "id": "79b0e6ae",
   "metadata": {},
   "outputs": [],
   "source": [
    "def isAnagram2(s: str, t: str) -> bool:\n",
    "    if len(s) != len(t):\n",
    "        return False        \n",
    "    return sorted(s) == sorted(t)"
   ]
  },
  {
   "cell_type": "code",
   "execution_count": 5,
   "id": "b3648831",
   "metadata": {},
   "outputs": [
    {
     "data": {
      "text/plain": [
       "True"
      ]
     },
     "execution_count": 5,
     "metadata": {},
     "output_type": "execute_result"
    }
   ],
   "source": [
    "isAnagram2(s,t)"
   ]
  },
  {
   "cell_type": "markdown",
   "id": "1e08f5a9",
   "metadata": {},
   "source": [
    "### 3. Counting occurrence of characters"
   ]
  },
  {
   "cell_type": "code",
   "execution_count": 6,
   "id": "04f1ed8c",
   "metadata": {},
   "outputs": [],
   "source": [
    "from collections import Counter\n",
    "def isAnagram3(s: str, t: str) -> bool:\n",
    "    if len(s) != len(t):\n",
    "        return False\n",
    "    return Counter(s) == Counter(t)"
   ]
  },
  {
   "cell_type": "code",
   "execution_count": 7,
   "id": "d83a9d3e",
   "metadata": {},
   "outputs": [
    {
     "data": {
      "text/plain": [
       "True"
      ]
     },
     "execution_count": 7,
     "metadata": {},
     "output_type": "execute_result"
    }
   ],
   "source": [
    "isAnagram3(s,t)"
   ]
  },
  {
   "cell_type": "code",
   "execution_count": null,
   "id": "ce710d94",
   "metadata": {},
   "outputs": [],
   "source": []
  }
 ],
 "metadata": {
  "kernelspec": {
   "display_name": "Python 3 (ipykernel)",
   "language": "python",
   "name": "python3"
  },
  "language_info": {
   "codemirror_mode": {
    "name": "ipython",
    "version": 3
   },
   "file_extension": ".py",
   "mimetype": "text/x-python",
   "name": "python",
   "nbconvert_exporter": "python",
   "pygments_lexer": "ipython3",
   "version": "3.7.3"
  }
 },
 "nbformat": 4,
 "nbformat_minor": 5
}
